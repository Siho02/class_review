{
 "cells": [
  {
   "cell_type": "code",
   "execution_count": null,
   "metadata": {},
   "outputs": [],
   "source": []
  },
  {
   "cell_type": "code",
   "execution_count": 17,
   "metadata": {},
   "outputs": [
    {
     "name": "stdout",
     "output_type": "stream",
     "text": [
      "0.08405923843383789\n"
     ]
    }
   ],
   "source": [
    "import time \n",
    "\n",
    "start_time = time.time()\n",
    "\n",
    "a = list(range(100000))\n",
    "a2 = list()\n",
    "\n",
    "for i in a:\n",
    "    a2.append(i**2)\n",
    "\n",
    "end_time = time.time()\n",
    "fin = end_time - start_time\n",
    "\n",
    "print(fin)"
   ]
  },
  {
   "cell_type": "code",
   "execution_count": 18,
   "metadata": {},
   "outputs": [
    {
     "name": "stdout",
     "output_type": "stream",
     "text": [
      "0.013004064559936523\n"
     ]
    }
   ],
   "source": [
    "# 1차개선 \n",
    "start_time = time.time()\n",
    "\n",
    "a2= list()\n",
    "a2.append([i*2 for i in range(100000)])\n",
    "    \n",
    "end_time = time.time()\n",
    "fin = end_time - start_time\n",
    "\n",
    "print(fin)\n"
   ]
  },
  {
   "cell_type": "code",
   "execution_count": 19,
   "metadata": {},
   "outputs": [
    {
     "name": "stdout",
     "output_type": "stream",
     "text": [
      "0.001998424530029297\n"
     ]
    }
   ],
   "source": [
    "# 2차개선 - map() 사용해서 연산과 메모리 관리하기\n",
    "start_time = time.time()\n",
    "\n",
    "a2= list()\n",
    "a2 = map(lambda v : v**2, range(100000))\n",
    "\n",
    "end_time = time.time()\n",
    "\n",
    "fin = end_time - start_time\n",
    "print(fin)"
   ]
  },
  {
   "cell_type": "code",
   "execution_count": 20,
   "metadata": {},
   "outputs": [
    {
     "name": "stdout",
     "output_type": "stream",
     "text": [
      "0.06004643440246582\n"
     ]
    }
   ],
   "source": [
    "start_time = time.time()\n",
    "\n",
    "a2= []\n",
    "a2.append(list(map(lambda v : v**2, range(100000))))\n",
    "          \n",
    "end_time = time.time()\n",
    "\n",
    "fin = end_time - start_time\n",
    "          \n",
    "print(fin)"
   ]
  },
  {
   "cell_type": "code",
   "execution_count": null,
   "metadata": {},
   "outputs": [],
   "source": []
  }
 ],
 "metadata": {
  "kernelspec": {
   "display_name": "Python 3",
   "language": "python",
   "name": "python3"
  },
  "language_info": {
   "codemirror_mode": {
    "name": "ipython",
    "version": 3
   },
   "file_extension": ".py",
   "mimetype": "text/x-python",
   "name": "python",
   "nbconvert_exporter": "python",
   "pygments_lexer": "ipython3",
   "version": "3.8.3"
  }
 },
 "nbformat": 4,
 "nbformat_minor": 4
}
