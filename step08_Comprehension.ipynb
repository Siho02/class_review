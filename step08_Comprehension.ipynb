{
 "cells": [
  {
   "cell_type": "markdown",
   "metadata": {
    "id": "pgcfDW85qPYD"
   },
   "source": [
    "<!--NAVIGATION-->\n",
    "\n",
    "\n",
    "[[step07. 함수 학습 page로 이동](step07Function.ipynb) ] | [[step09.예외 처리 학습 page로 이동](step09_1Exception.ipynb) ] | "
   ]
  },
  {
   "cell_type": "markdown",
   "metadata": {
    "id": "KEuYXoCzqPYN"
   },
   "source": [
    "### 컴프리헨션\n",
    "\n",
    "1. 리스트, 세트, 딕셔너리 내에서 실행 할 수 있는 한 줄 for문\n",
    "- 리스트 컴프리헨션, 세트 컴프리헨션, 딕셔너리 컴프리헨션라고 함\n",
    "- 컴프리헨션 : 내장, 내포의 의미"
   ]
  },
  {
   "cell_type": "code",
   "execution_count": null,
   "metadata": {
    "id": "1t_jW3uWqPYP"
   },
   "outputs": [],
   "source": [
    "# 0~9까지 제곱하는 로직\n",
    "\n",
    "datas = []\n",
    "\n",
    "for x in range(10):\n",
    "    datas.append(x**2)"
   ]
  },
  {
   "cell_type": "code",
   "execution_count": null,
   "metadata": {
    "id": "FyRGQmo1qPYQ",
    "outputId": "083ca48e-82af-4019-fbdd-aeedc43098c9"
   },
   "outputs": [
    {
     "data": {
      "text/plain": [
       "[0, 1, 4, 9, 16, 25, 36, 49, 64, 81]"
      ]
     },
     "execution_count": 76,
     "metadata": {
      "tags": []
     },
     "output_type": "execute_result"
    }
   ],
   "source": [
    "datas"
   ]
  },
  {
   "cell_type": "code",
   "execution_count": 5,
   "metadata": {
    "id": "Tmtq7kL-qPYS",
    "outputId": "2ca8e003-45e4-4330-af81-6982b627513b"
   },
   "outputs": [
    {
     "data": {
      "text/plain": [
       "[0, 1, 4, 9, 16, 25, 36, 49, 64, 81]"
      ]
     },
     "execution_count": 5,
     "metadata": {},
     "output_type": "execute_result"
    }
   ],
   "source": [
    "datas = [i**2 for i in range(10)]\n",
    "\n",
    "datas"
   ]
  },
  {
   "cell_type": "code",
   "execution_count": 3,
   "metadata": {
    "id": "Oa-ewDDrqPYS",
    "outputId": "459be834-e7e0-4392-8bd9-4b94d17ffddd"
   },
   "outputs": [
    {
     "data": {
      "text/plain": [
       "[2, 3, 4, 5, 6, 7]"
      ]
     },
     "execution_count": 3,
     "metadata": {},
     "output_type": "execute_result"
    }
   ],
   "source": [
    "# 0~5까지 반복해서 순차적으로 +2를 한 결과값들을 하나의 list에 저장 후 출력\n",
    "data2 = [i+2 for i in range(6)]\n",
    "\n",
    "data2"
   ]
  },
  {
   "cell_type": "code",
   "execution_count": null,
   "metadata": {
    "id": "GF00rAESqPYT"
   },
   "outputs": [],
   "source": []
  },
  {
   "cell_type": "markdown",
   "metadata": {
    "id": "rKP9QjtcqPYT"
   },
   "source": [
    "**조건식 추가**"
   ]
  },
  {
   "cell_type": "markdown",
   "metadata": {
    "id": "vsNpIzfeqPYU"
   },
   "source": [
    "0~5까지의 데이터 중 양수인 경우만 +2를 해서 list에 저장 및 출력하기"
   ]
  },
  {
   "cell_type": "code",
   "execution_count": null,
   "metadata": {
    "id": "6xdKQiRVqPYU",
    "outputId": "32db48d3-596c-487f-f0ef-e347a593919f"
   },
   "outputs": [
    {
     "data": {
      "text/plain": [
       "[2, 4, 6]"
      ]
     },
     "execution_count": 79,
     "metadata": {
      "tags": []
     },
     "output_type": "execute_result"
    }
   ],
   "source": [
    "# 일반 코드\n",
    "\n",
    "datas2 =[]\n",
    "\n",
    "for v in range(6):\n",
    "    if v%2 == 0:\n",
    "        datas2.append(v+2)\n",
    "        \n",
    "datas2"
   ]
  },
  {
   "cell_type": "code",
   "execution_count": 8,
   "metadata": {
    "id": "K621SSIWqPYV",
    "outputId": "3ebcfcfd-6868-4e8f-e1bb-f7948de2cd06"
   },
   "outputs": [
    {
     "data": {
      "text/plain": [
       "[2, 4, 6]"
      ]
     },
     "execution_count": 8,
     "metadata": {},
     "output_type": "execute_result"
    }
   ],
   "source": [
    "# comprehension 적용 코드\n",
    "\n",
    "datas2 = [i+2 for i in range(6) if i%2==0]\n",
    "\n",
    "datas2"
   ]
  },
  {
   "cell_type": "code",
   "execution_count": null,
   "metadata": {
    "id": "9qBJdnaTqPYV"
   },
   "outputs": [],
   "source": []
  },
  {
   "cell_type": "code",
   "execution_count": null,
   "metadata": {
    "id": "oWs37NGUqPYW",
    "outputId": "68001c2b-4a5e-495e-b81c-bfcc8923ad2f"
   },
   "outputs": [
    {
     "data": {
      "text/plain": [
       "[(1, 3), (1, 4), (2, 3), (2, 1), (2, 4), (3, 1), (3, 4)]"
      ]
     },
     "execution_count": 82,
     "metadata": {
      "tags": []
     },
     "output_type": "execute_result"
    }
   ],
   "source": [
    "# list에 튜플 생성해서 저장하는 로직\n",
    "combs = []\n",
    "\n",
    "for x in [1, 2, 3]:\n",
    "    for y in [3, 1, 4]:\n",
    "        if x != y:\n",
    "            combs.append((x, y))\n",
    "            \n",
    "combs       "
   ]
  },
  {
   "cell_type": "code",
   "execution_count": 10,
   "metadata": {
    "id": "3wRCERoGqPYW",
    "outputId": "59563194-85b3-47af-b429-a2cd4521dd69"
   },
   "outputs": [
    {
     "data": {
      "text/plain": [
       "[(1, 3), (1, 4), (2, 3), (2, 1), (2, 4), (3, 1), (3, 4)]"
      ]
     },
     "execution_count": 10,
     "metadata": {},
     "output_type": "execute_result"
    }
   ],
   "source": [
    "# comprehension \n",
    "\n",
    "combs2 = [(x,y) for x in [1,2,3] for y in [3,1,4] if x!=y]\n",
    "\n",
    "combs2"
   ]
  },
  {
   "cell_type": "code",
   "execution_count": null,
   "metadata": {
    "id": "9V9iUwaAqPYX"
   },
   "outputs": [],
   "source": []
  },
  {
   "cell_type": "markdown",
   "metadata": {
    "id": "zq0D6BM0qPYX"
   },
   "source": [
    "- 딕셔너리와 세트에도 리스트 컴프리헨션에 해당하는 문법 존재"
   ]
  },
  {
   "cell_type": "code",
   "execution_count": null,
   "metadata": {
    "id": "_tP7OC0RqPYX",
    "outputId": "b8ce78c8-c6c3-4a97-9531-9fb4ddf6c2de"
   },
   "outputs": [
    {
     "name": "stdout",
     "output_type": "stream",
     "text": [
      "<class 'dict'>\n",
      "{1: 'one', 2: 'two'}\n",
      "one\n"
     ]
    }
   ],
   "source": [
    "# {key:value, ... } - dict 구조에 comprehension 적용해 보기\n",
    "'''\n",
    "() : 불변인 튜플\n",
    "[] : list는 데이터 타입과 무관하게 혼용해서 다 수용\n",
    "[(1, 'one'), (2, 'two')] : 튜플들을 보유한 리스트\n",
    "\n",
    "이 리스트로 딕셔너리 생성\n",
    "'''\n",
    "data = {x:y for x, y in [(1, 'one'), (2, 'two')]}\n",
    "\n",
    "print(type(data))\n",
    "print(data)\n",
    "print(data[1])"
   ]
  },
  {
   "cell_type": "code",
   "execution_count": null,
   "metadata": {
    "id": "CGcnDBDVqPYY"
   },
   "outputs": [],
   "source": [
    "v = {1:2, 2:3, 3:4}"
   ]
  },
  {
   "cell_type": "code",
   "execution_count": null,
   "metadata": {
    "id": "F5dXh_iYqPYZ",
    "outputId": "660412b0-8c0e-4c60-81c0-940bf08f10ed"
   },
   "outputs": [
    {
     "data": {
      "text/plain": [
       "dict"
      ]
     },
     "execution_count": 85,
     "metadata": {
      "tags": []
     },
     "output_type": "execute_result"
    }
   ],
   "source": [
    "type(v)"
   ]
  },
  {
   "cell_type": "code",
   "execution_count": 15,
   "metadata": {
    "id": "SQU2W_USqPYZ",
    "scrolled": true
   },
   "outputs": [
    {
     "name": "stdout",
     "output_type": "stream",
     "text": [
      "{1: 2, 2: 3, 3: 4}\n",
      "<class 'dict'>\n"
     ]
    }
   ],
   "source": [
    "data = {x : x+1 for x in range(1,4)}\n",
    "print(data)\n",
    "print(type(data))"
   ]
  },
  {
   "cell_type": "code",
   "execution_count": null,
   "metadata": {
    "id": "d4EFMOIdqPYZ"
   },
   "outputs": [],
   "source": []
  },
  {
   "cell_type": "markdown",
   "metadata": {
    "id": "n69mHDmGqPYa"
   },
   "source": [
    "- 딕셔너리와 세트에 적용한 컴프리헨션"
   ]
  },
  {
   "cell_type": "code",
   "execution_count": 41,
   "metadata": {
    "id": "bYV6DNZBqPYa",
    "outputId": "b517fde2-1f83-4b9c-fd30-1c366dcc4f90"
   },
   "outputs": [
    {
     "name": "stdout",
     "output_type": "stream",
     "text": [
      "[90, 80, 70]\n",
      "{80, 90, 70}\n"
     ]
    }
   ],
   "source": [
    "score = {'A' : 90, 'B' : 80, 'C' : 70}\n",
    "rank_dict = {rank : name for rank, name in score.items()}\n",
    "\n",
    "score_list = [value for value in score.values()]\n",
    "score_set = {val for val in score.values()}\n",
    "print(score_list)\n",
    "print(score_set)"
   ]
  },
  {
   "cell_type": "code",
   "execution_count": 48,
   "metadata": {
    "id": "5S5wabwEqPYa",
    "outputId": "e8184054-b196-4008-d8cc-e7b4b5161276"
   },
   "outputs": [
    {
     "name": "stdout",
     "output_type": "stream",
     "text": [
      "<zip object at 0x00000084F0C17480>\n",
      "[(1, 4), (2, 5), (3, 6)]\n",
      "(1, 4)\n"
     ]
    }
   ],
   "source": [
    "# zip 함수를 사용한 list들의 데이터를 활용하는 방법\n",
    "x = [1, 2, 3]\n",
    "y = [4, 5, 6]\n",
    "\n",
    "zipped = zip(x,y)\n",
    "print(zipped)\n",
    "\n",
    "zip2 = list(zipped)\n",
    "\n",
    "print(zip2)\n",
    "print(zip2[0])"
   ]
  },
  {
   "cell_type": "code",
   "execution_count": 69,
   "metadata": {},
   "outputs": [
    {
     "name": "stdout",
     "output_type": "stream",
     "text": [
      "zip(x,y) =  <zip object at 0x00000084F0C1D600>\n",
      "list(zip(x,y)) =  [(1, 4), (2, 5), (3, 6)]\n",
      "zip(*zip(x,y)) =  <zip object at 0x00000084F0C1D600>\n",
      "list(zip(*zip(x,y))) =  [(1, 2, 3), (4, 5, 6)]\n",
      "x2 =  (1, 2, 3)\n",
      "y2 =  (4, 5, 6)\n"
     ]
    },
    {
     "data": {
      "text/plain": [
       "True"
      ]
     },
     "execution_count": 69,
     "metadata": {},
     "output_type": "execute_result"
    }
   ],
   "source": [
    "x2, y2 = zip(*zip(x,y))\n",
    "print(\"zip(x,y) = \", zip(x,y))\n",
    "print(\"list(zip(x,y)) = \", list(zip(x,y)))\n",
    "\n",
    "print(\"zip(*zip(x,y)) = \", zip(*zip(x,y)))\n",
    "print(\"list(zip(*zip(x,y))) = \", list(zip(*zip(x,y))))\n",
    "print(\"x2 = \", x2)\n",
    "print(\"y2 = \", y2)\n",
    "\n",
    "\n",
    "\n",
    "x==list(x2) and y==list(y2)"
   ]
  },
  {
   "cell_type": "code",
   "execution_count": 73,
   "metadata": {},
   "outputs": [
    {
     "name": "stdout",
     "output_type": "stream",
     "text": [
      "([1, 2, 3],) <class 'list'> <class 'tuple'>\n",
      "([4, 5, 6],)\n"
     ]
    }
   ],
   "source": [
    "# zip 함수를 사용한 list들의 데이터를 활용하는 방법\n",
    "x = [1, 2, 3]\n",
    "y = [4, 5, 6]\n",
    "\n",
    "x2, y2 = zip(([1,2,3], [4,5,6]))\n",
    "print(x2, type(x), type(x2))\n",
    "print(y2)\n"
   ]
  },
  {
   "cell_type": "code",
   "execution_count": 57,
   "metadata": {},
   "outputs": [
    {
     "name": "stdout",
     "output_type": "stream",
     "text": [
      "[(1, 4), (2, 5), (3, 6)]\n",
      "[(1, 2, 3), (4, 5, 6)]\n"
     ]
    }
   ],
   "source": [
    "\n"
   ]
  },
  {
   "cell_type": "code",
   "execution_count": 75,
   "metadata": {
    "id": "PzPlhOtmqPYb"
   },
   "outputs": [
    {
     "name": "stdout",
     "output_type": "stream",
     "text": [
      "[0, 1, 4, 9, 16, 25, 36, 49, 64, 81]\n"
     ]
    }
   ],
   "source": [
    "# ? 함축( value * value 식이 수행되는 로직 개발)\n",
    "# 데이터 값 : 0~9까지 (0*0, 1*1, 2*2,...)\n",
    "\n",
    "num_list = [idx*idx for idx in range(10)]\n",
    "print(num_list)"
   ]
  },
  {
   "cell_type": "code",
   "execution_count": 78,
   "metadata": {
    "id": "Gl6FaP6qqPYb",
    "outputId": "e2c86f9c-6856-4959-ad40-19bc4a6aaae4"
   },
   "outputs": [
    {
     "name": "stdout",
     "output_type": "stream",
     "text": [
      "[0, 4, 16, 36, 64]\n"
     ]
    }
   ],
   "source": [
    "#? 앞단 예제의 결과중에 짝수값만으로 새로운 list 구성해서 출력하기\n",
    "\n",
    "even_list = [data for data in num_list if data%2 == 0 ]\n",
    "\n",
    "print(even_list)"
   ]
  },
  {
   "cell_type": "code",
   "execution_count": null,
   "metadata": {
    "id": "y4ya7VFmqPYc",
    "outputId": "45972d59-a827-4c0c-9d33-a7636f5446ee"
   },
   "outputs": [
    {
     "name": "stdout",
     "output_type": "stream",
     "text": [
      "0 4 16 36 64 "
     ]
    }
   ],
   "source": [
    "for v in range(10):\n",
    "    if v%2 == 0:\n",
    "        print(v*v, end=' ')"
   ]
  },
  {
   "cell_type": "code",
   "execution_count": 105,
   "metadata": {
    "id": "OrRq94qlqPYc"
   },
   "outputs": [
    {
     "name": "stdout",
     "output_type": "stream",
     "text": [
      "[10, 11, 12]\n",
      "[11, 12, 13]\n",
      "[12, 13, 14]\n",
      "[[10, 11, 12], [11, 12, 13], [12, 13, 14]]\n"
     ]
    }
   ],
   "source": [
    "# 결과치가 다음과 같을 경우 어떻게 함축 표현식을 만들어야 하는지?\n",
    "# [ [10, 11, 12], [13, 14, 15], [16, 17, 18] ]\n",
    "\n",
    "# 제시된 데이터 : [10, 11, 12] 과 [0, 1, 2]\n",
    "\n",
    "data1 = [10, 11, 12]\n",
    "data2 = [0, 1, 2]\n",
    "lst2 = []\n",
    "for idx1 in data1 :\n",
    "    lst = []\n",
    "    for idx2 in data2 :\n",
    "        lst.append(idx1+ idx2)\n",
    "    print(lst)\n",
    "    lst2.append(lst)    \n",
    "\n",
    "print(lst2)"
   ]
  },
  {
   "cell_type": "code",
   "execution_count": 134,
   "metadata": {},
   "outputs": [
    {
     "name": "stdout",
     "output_type": "stream",
     "text": [
      "[10, 11, 12]\n",
      "[0, 1, 2]\n",
      "[[10, 11, 12], [13, 14, 15], [16, 17, 18]]\n",
      "[[10, 11, 12], [13, 14, 15], [16, 17, 18]]\n"
     ]
    }
   ],
   "source": [
    "data1 = [10,11,12]\n",
    "data2 = [0,1,2]\n",
    "lst = [idx1 for idx1 in data1]\n",
    "print(lst)\n",
    "lst2 = [idx2 for idx2 in data2]\n",
    "print(lst2)\n",
    "lst3 = [[idx1*3+idx2 for idx2 in data1] for idx1 in data2]\n",
    "lst4 = [[v1*3 + v2 for v2 in data1] for v1 in data2]\n",
    "print(lst3)\n",
    "print(lst4)"
   ]
  },
  {
   "cell_type": "markdown",
   "metadata": {
    "id": "8TPzkY0NqPYd"
   },
   "source": [
    "**미션 - comprehension 문법으로 변경하기**"
   ]
  },
  {
   "cell_type": "code",
   "execution_count": null,
   "metadata": {
    "id": "KrcN5BhqqPYd",
    "outputId": "dd9ede5e-a8d7-4f84-ea48-f88a9191d222"
   },
   "outputs": [
    {
     "name": "stdout",
     "output_type": "stream",
     "text": [
      "[121, 242, 252, 252, 272, 464, 272, 323, 252, 414, 323, 494, 252, 525, 242, 484, 616, 414, 575, 696, 525, 575, 494, 676, 616, 464, 696]\n"
     ]
    }
   ],
   "source": [
    "eve = []\n",
    "for i in range(10, 30):\n",
    "    for j in range(10, 30):\n",
    "        a = i * j\n",
    "        if str(a) == str(a)[::-1]:\n",
    "            eve.append(a)\n",
    "print(eve)"
   ]
  },
  {
   "cell_type": "code",
   "execution_count": 122,
   "metadata": {
    "id": "XAKiHT5CqPYd"
   },
   "outputs": [
    {
     "name": "stdout",
     "output_type": "stream",
     "text": [
      "[121, 242, 252, 252, 272, 464, 272, 323, 252, 414, 323, 494, 252, 525, 242, 484, 616, 414, 575, 696, 525, 575, 494, 676, 616, 464, 696]\n"
     ]
    }
   ],
   "source": [
    "eve1 = [i*j for i in range(10,30) for j in range(10,30) if str(i*j) == str(i*j)[::-1]]\n",
    "print(eve1)"
   ]
  },
  {
   "cell_type": "markdown",
   "metadata": {
    "id": "68OgFs8ZqPYe"
   },
   "source": [
    "**미션 : 제시된 코드와 동일한 로직의 comprehension 구성하기**"
   ]
  },
  {
   "cell_type": "code",
   "execution_count": 179,
   "metadata": {
    "id": "dWV2btFgqPYe",
    "outputId": "9da7f805-b873-4b78-c277-c0211788a28e"
   },
   "outputs": [
    {
     "name": "stdout",
     "output_type": "stream",
     "text": [
      "[1, 3, 5]\n"
     ]
    }
   ],
   "source": [
    "\n",
    "reference = [1, 2, 3, 4, 5, 6]\n",
    "\n",
    "output = []\n",
    "\n",
    "for number in reference:\n",
    "    if number % 2 == 0:\n",
    "        prev_num = number-1  # calculate previous number\n",
    "        output.append(prev_num)  # append to the list\n",
    "\n",
    "print(output)\n"
   ]
  },
  {
   "cell_type": "code",
   "execution_count": 136,
   "metadata": {
    "id": "HTsdg5IEqPYf"
   },
   "outputs": [
    {
     "name": "stdout",
     "output_type": "stream",
     "text": [
      "[1, 3, 5]\n"
     ]
    }
   ],
   "source": [
    "ref = [1,2,3,4,5,6]\n",
    "output = [num-1 for num in ref if num%2 == 0]\n",
    "print(output)"
   ]
  },
  {
   "cell_type": "markdown",
   "metadata": {
    "id": "AHqDXYEJqPYf"
   },
   "source": [
    "**미션 : 제시된 반복문등을 분석 하고 comprehension 문법 적용해서 결과에 맞게 구성하기**"
   ]
  },
  {
   "cell_type": "code",
   "execution_count": 144,
   "metadata": {
    "colab": {
     "base_uri": "https://localhost:8080/"
    },
    "executionInfo": {
     "elapsed": 3039,
     "status": "ok",
     "timestamp": 1621529049220,
     "user": {
      "displayName": "김혜경",
      "photoUrl": "https://lh3.googleusercontent.com/a-/AOh14Ghj6yCOWfas3c-RFEZg9yZi0Y8GAll6IHR_nygo=s64",
      "userId": "05956990831563294642"
     },
     "user_tz": -540
    },
    "id": "hlpG75pXqPYf",
    "outputId": "eed76e10-5e31-4ebd-e5be-a11e4f648d55"
   },
   "outputs": [
    {
     "name": "stdout",
     "output_type": "stream",
     "text": [
      "encore\n",
      "playdata\n",
      "교육\n",
      "4차 산업 인재상\n",
      "----- split() -----\n",
      "['encore']\n",
      "['playdata']\n",
      "['교육']\n",
      "['4차', '산업', '인재상']\n",
      "----- list에 저장 -----\n",
      "[['encore'], ['playdata'], ['교육'], ['4차', '산업', '인재상']]\n"
     ]
    }
   ],
   "source": [
    "list_string = ['encore', 'playdata', '교육', '4차 산업 인재상']\n",
    "\n",
    "for word in list_string:\n",
    "    print(word)\n",
    "    \n",
    "print(\"----- split() -----\")\n",
    "    \n",
    "for word in list_string:\n",
    "    print(word.split())\n",
    "    \n",
    "    \n",
    "print('----- list에 저장 -----')\n",
    "list = []\n",
    "for word in list_string:\n",
    "    list.append(word.split())\n",
    "    \n",
    "print(list)"
   ]
  },
  {
   "cell_type": "code",
   "execution_count": 148,
   "metadata": {
    "id": "6bkLq2nIqPYg"
   },
   "outputs": [
    {
     "name": "stdout",
     "output_type": "stream",
     "text": [
      "['encore', 'playdata', '교육', '4차 산업 인재상']\n",
      "[['encore'], ['playdata'], ['교육'], ['4차', '산업', '인재상']]\n"
     ]
    }
   ],
   "source": [
    "list_string = ['encore', 'playdata', '교육', '4차 산업 인재상']\n",
    "wordd = [word for word in list_string]\n",
    "print(wordd)\n",
    "\n",
    "word_split_save = [data.split() for data in [word for word in list_string]]\n",
    "print(word_split_save)"
   ]
  },
  {
   "cell_type": "markdown",
   "metadata": {
    "id": "3nkp4oQsqPYg"
   },
   "source": [
    "**미션 : 제시된 데이터를 활용하여 철자 길이가 4이상인 경우의 데이터에 한해서만 문자열의 첫 글자만 대문자로 및 출력**"
   ]
  },
  {
   "cell_type": "code",
   "execution_count": 195,
   "metadata": {
    "id": "gmCbaXttqPYg"
   },
   "outputs": [
    {
     "name": "stdout",
     "output_type": "stream",
     "text": [
      "['Encore', 'Playdata', 'Sw응용&분석']\n"
     ]
    }
   ],
   "source": [
    "words = ['encore', 'playdata', 'sw응용&분석', 'hi']\n",
    "words_4_up = [data[0].upper()+data[1:] for data in [data for data in words if len(data)>3] ]\n",
    "print(words_4_up)\n"
   ]
  },
  {
   "cell_type": "markdown",
   "metadata": {
    "id": "a-GyAnsDqPYh"
   },
   "source": [
    "slicing 기술 적용해서 sw응용&분석 유지하는 코드"
   ]
  },
  {
   "cell_type": "code",
   "execution_count": 181,
   "metadata": {
    "id": "de-mPS41qPYh"
   },
   "outputs": [
    {
     "name": "stdout",
     "output_type": "stream",
     "text": [
      "Encore\n",
      "Playdata\n",
      "Sw응용&분석\n",
      "['encore', 'playdata', 'sw응용&분석']\n"
     ]
    }
   ],
   "source": [
    "words = ['encore', 'playdata', 'sw응용&분석', 'hi']\n",
    "words_4 = []\n",
    "for data in words :\n",
    "    if len(data) > 3 :\n",
    "        words_4.append(data)\n",
    "\n",
    "for idx in range(len(words_4)) :\n",
    "    print(words_4[idx][0].upper()+words_4[idx][1:])\n",
    "print(words_4)\n",
    "    \n",
    "    "
   ]
  },
  {
   "cell_type": "code",
   "execution_count": null,
   "metadata": {
    "id": "VZslKUVLqPYh"
   },
   "outputs": [],
   "source": []
  }
 ],
 "metadata": {
  "colab": {
   "name": "step08Comprehension.ipynb",
   "provenance": []
  },
  "kernelspec": {
   "display_name": "Python 3",
   "language": "python",
   "name": "python3"
  },
  "language_info": {
   "codemirror_mode": {
    "name": "ipython",
    "version": 3
   },
   "file_extension": ".py",
   "mimetype": "text/x-python",
   "name": "python",
   "nbconvert_exporter": "python",
   "pygments_lexer": "ipython3",
   "version": "3.8.3"
  }
 },
 "nbformat": 4,
 "nbformat_minor": 1
}
