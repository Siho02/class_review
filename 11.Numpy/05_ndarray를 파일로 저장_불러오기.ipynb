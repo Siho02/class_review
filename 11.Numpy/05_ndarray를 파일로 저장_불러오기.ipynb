{
 "cells": [
  {
   "cell_type": "markdown",
   "metadata": {},
   "source": [
    "# 배열을 파일에 저장 및 불러오기\n",
    "- ## 바이너리 파일로 저장/불러오기\n",
    "    - ### np.save(\"파일경로\", 배열)\n",
    "        - 배열을 raw 바이너리 형식으로 저장한다. (압축하지 않은)\n",
    "        - 파일명에 확장자로 npy를 붙인다. (무조건 붙인다. abc.xxx 해도 abc.xxx.npy 로 저장)\n",
    "    - ### np.load(\"파일경로\") \n",
    "        - 파일에 저장된 배열을 불러온다.\n",
    "    - ### np.savez(\"파일경로\", 이름=배열, 이름=배열, ...)\n",
    "        - 여러개의 배열을 저장할 때 사용\n",
    "        - 파일명에 확장자로 npz가 붙는다.\n",
    "        - 내부적으로 압축해서 저장한다.\n",
    "        - load() 함수로 불러오면 저장된 배열목록이 반환 된다. 저장시 지정한 이름을 이용해 조회 \n",
    "- ## 텍스트 파일로 저장하고 불러오기\n",
    "    - ### savetxt(\"파일경로\", 배열 [, delimiter='공백') \n",
    "        - 텍스트 형태로 저장.\n",
    "        - 각 원소는 공백을 기준으로 나뉘며 delimiter 속성으로 구분자를 지정할 수 있다. (delimiter생략시 공백)\n",
    "        - 1차원과 2차원 배열만 저장 가능하다. (3차원 이상은 저장이 안된다.)\n",
    "    - ### loadtxt(\"파일경로\" [,dtype=float, delimiter=공백)"
   ]
  },
  {
   "cell_type": "code",
   "execution_count": 1,
   "metadata": {},
   "outputs": [],
   "source": [
    "import numpy as np"
   ]
  },
  {
   "cell_type": "code",
   "execution_count": 2,
   "metadata": {},
   "outputs": [
    {
     "name": "stdout",
     "output_type": "stream",
     "text": [
      "(5,) (3, 3, 5) (5, 10)\n"
     ]
    }
   ],
   "source": [
    "a = np.array([1,10,5,7,20])\n",
    "b = np.ones(shape = (3,3,5))\n",
    "c = np.random.normal(10,2, size=(5,10))\n",
    "print(a.shape, b.shape, c.shape)"
   ]
  },
  {
   "cell_type": "code",
   "execution_count": 3,
   "metadata": {},
   "outputs": [],
   "source": [
    "#binary 파일에 배열을 저장\n",
    "# 한파일에 하나의 배열 저장 - save(경로, 배열)\n",
    "# 경로 : 상대 경로 / 절대 경로\n",
    "np.save(\"new_dir/array_a\", a)\n",
    "np.save(\"new_dir/array_b.npy\", b)\n",
    "np.save(\"new_dir/array.c\", c)"
   ]
  },
  {
   "cell_type": "code",
   "execution_count": 4,
   "metadata": {},
   "outputs": [
    {
     "name": "stdout",
     "output_type": "stream",
     "text": [
      "[ 1 10  5  7 20] [[[1. 1. 1. 1. 1.]\n",
      "  [1. 1. 1. 1. 1.]\n",
      "  [1. 1. 1. 1. 1.]]\n",
      "\n",
      " [[1. 1. 1. 1. 1.]\n",
      "  [1. 1. 1. 1. 1.]\n",
      "  [1. 1. 1. 1. 1.]]\n",
      "\n",
      " [[1. 1. 1. 1. 1.]\n",
      "  [1. 1. 1. 1. 1.]\n",
      "  [1. 1. 1. 1. 1.]]] [[10.7038627  13.88291041 12.5942298   8.71956134  8.47441458  6.79524802\n",
      "  10.59929534 13.23411595 13.46909517  9.53799973]\n",
      " [11.93456555  7.69155811 11.60238565 12.37780093 10.64567764  8.42520171\n",
      "   8.33153623 14.19274849  8.39307698  6.89455053]\n",
      " [ 9.87290208 11.74379487  7.79599379  9.8077243   6.81725071  8.37521055\n",
      "   7.66635887  8.69569845 12.51943736 12.5027761 ]\n",
      " [ 9.82015874 14.01817795 11.75903037  6.38757121  8.29739235  8.55049946\n",
      "   9.68321717 10.00490429  9.44478431 10.29717024]\n",
      " [ 7.58297106  8.53215521  7.6814349   9.83104409 11.31498712  9.52077204\n",
      "   9.8876127   3.92731077 10.3635461  11.0910163 ]]\n"
     ]
    }
   ],
   "source": [
    "#불러오기(load) - Load\n",
    "a2 = np.load('new_dir/array_a.npy')\n",
    "b2 = np.load('new_dir/array_b.npy')\n",
    "c2 = np.load('new_dir/array.c.npy')\n",
    "print(a2, b2, c2)"
   ]
  },
  {
   "cell_type": "code",
   "execution_count": 5,
   "metadata": {},
   "outputs": [],
   "source": [
    "# 한파일에 여러개 배열 - savez(경로, 이름1=배열, 이름2=배열, ...)\n",
    "np.savez(\"new_dir/array\", a_array = a, b_array = b, c_array = c)"
   ]
  },
  {
   "cell_type": "code",
   "execution_count": 6,
   "metadata": {},
   "outputs": [
    {
     "data": {
      "text/plain": [
       "<numpy.lib.npyio.NpzFile at 0x4b0b119730>"
      ]
     },
     "execution_count": 6,
     "metadata": {},
     "output_type": "execute_result"
    }
   ],
   "source": [
    "arrays = np.load('new_dir/array.npz')\n",
    "arrays"
   ]
  },
  {
   "cell_type": "code",
   "execution_count": 7,
   "metadata": {},
   "outputs": [
    {
     "data": {
      "text/plain": [
       "['a_array', 'b_array', 'c_array']"
      ]
     },
     "execution_count": 7,
     "metadata": {},
     "output_type": "execute_result"
    }
   ],
   "source": [
    "#배열들의 이름을 조회\n",
    "arrays.files"
   ]
  },
  {
   "cell_type": "code",
   "execution_count": 8,
   "metadata": {},
   "outputs": [
    {
     "data": {
      "text/plain": [
       "array([ 1, 10,  5,  7, 20])"
      ]
     },
     "execution_count": 8,
     "metadata": {},
     "output_type": "execute_result"
    }
   ],
   "source": [
    "# 각 배열을 조회 - index 연산자 사용\n",
    "a3 = arrays['a_array']\n",
    "b3 = arrays['b_array']\n",
    "c3 = arrays['c_array']\n",
    "a3"
   ]
  },
  {
   "cell_type": "code",
   "execution_count": 9,
   "metadata": {},
   "outputs": [
    {
     "data": {
      "text/plain": [
       "((3, 3, 5), (5, 10))"
      ]
     },
     "execution_count": 9,
     "metadata": {},
     "output_type": "execute_result"
    }
   ],
   "source": [
    "b3.shape, c3.shape"
   ]
  },
  {
   "cell_type": "code",
   "execution_count": 10,
   "metadata": {},
   "outputs": [],
   "source": [
    "#text파일로 저장 >> CSV. 1차원, 2차원 배열만 저장 가능\n",
    "# savetxt(), Loadtxt()"
   ]
  },
  {
   "cell_type": "code",
   "execution_count": 11,
   "metadata": {},
   "outputs": [],
   "source": [
    "np.savetxt('new_dir/a.csv', a)"
   ]
  },
  {
   "cell_type": "code",
   "execution_count": 15,
   "metadata": {},
   "outputs": [],
   "source": [
    "a4 = np.loadtxt('new_dir/a.csv', dtype = np.int)"
   ]
  },
  {
   "cell_type": "code",
   "execution_count": 16,
   "metadata": {},
   "outputs": [
    {
     "data": {
      "text/plain": [
       "array([ 1, 10,  5,  7, 20])"
      ]
     },
     "execution_count": 16,
     "metadata": {},
     "output_type": "execute_result"
    }
   ],
   "source": [
    "a4"
   ]
  },
  {
   "cell_type": "code",
   "execution_count": 18,
   "metadata": {},
   "outputs": [
    {
     "name": "stdout",
     "output_type": "stream",
     "text": [
      "(3, 3, 5)\n"
     ]
    },
    {
     "ename": "TypeError",
     "evalue": "_savetxt_dispatcher() missing 1 required positional argument: 'X'",
     "output_type": "error",
     "traceback": [
      "\u001b[1;31m---------------------------------------------------------------------------\u001b[0m",
      "\u001b[1;31mTypeError\u001b[0m                                 Traceback (most recent call last)",
      "\u001b[1;32m<ipython-input-18-a43eeb9ed450>\u001b[0m in \u001b[0;36m<module>\u001b[1;34m\u001b[0m\n\u001b[0;32m      1\u001b[0m \u001b[0mprint\u001b[0m\u001b[1;33m(\u001b[0m\u001b[0mb\u001b[0m\u001b[1;33m.\u001b[0m\u001b[0mshape\u001b[0m\u001b[1;33m)\u001b[0m\u001b[1;33m\u001b[0m\u001b[1;33m\u001b[0m\u001b[0m\n\u001b[1;32m----> 2\u001b[1;33m \u001b[0mnp\u001b[0m\u001b[1;33m.\u001b[0m\u001b[0msavetxt\u001b[0m\u001b[1;33m(\u001b[0m\u001b[1;34m'new_dir/b.csv'\u001b[0m\u001b[1;33m)\u001b[0m   \u001b[1;31m#1차원, 2차원만 저장 가능\u001b[0m\u001b[1;33m\u001b[0m\u001b[1;33m\u001b[0m\u001b[0m\n\u001b[0m",
      "\u001b[1;32m<__array_function__ internals>\u001b[0m in \u001b[0;36msavetxt\u001b[1;34m(*args, **kwargs)\u001b[0m\n",
      "\u001b[1;31mTypeError\u001b[0m: _savetxt_dispatcher() missing 1 required positional argument: 'X'"
     ]
    }
   ],
   "source": [
    "print(b.shape)\n",
    "np.savetxt('new_dir/b.csv')   #1차원, 2차원만 저장 가능"
   ]
  },
  {
   "cell_type": "code",
   "execution_count": 19,
   "metadata": {},
   "outputs": [
    {
     "name": "stdout",
     "output_type": "stream",
     "text": [
      "(5, 10)\n"
     ]
    }
   ],
   "source": [
    "print(c.shape)\n",
    "np.savetxt('new_dir/c.csv', c)"
   ]
  },
  {
   "cell_type": "code",
   "execution_count": 20,
   "metadata": {},
   "outputs": [],
   "source": [
    "np.savetxt('new_dir/c2.csv', c, delimiter=',')\n"
   ]
  },
  {
   "cell_type": "code",
   "execution_count": 21,
   "metadata": {},
   "outputs": [
    {
     "data": {
      "text/plain": [
       "array([[10.7038627 , 13.88291041, 12.5942298 ,  8.71956134,  8.47441458,\n",
       "         6.79524802, 10.59929534, 13.23411595, 13.46909517,  9.53799973],\n",
       "       [11.93456555,  7.69155811, 11.60238565, 12.37780093, 10.64567764,\n",
       "         8.42520171,  8.33153623, 14.19274849,  8.39307698,  6.89455053],\n",
       "       [ 9.87290208, 11.74379487,  7.79599379,  9.8077243 ,  6.81725071,\n",
       "         8.37521055,  7.66635887,  8.69569845, 12.51943736, 12.5027761 ],\n",
       "       [ 9.82015874, 14.01817795, 11.75903037,  6.38757121,  8.29739235,\n",
       "         8.55049946,  9.68321717, 10.00490429,  9.44478431, 10.29717024],\n",
       "       [ 7.58297106,  8.53215521,  7.6814349 ,  9.83104409, 11.31498712,\n",
       "         9.52077204,  9.8876127 ,  3.92731077, 10.3635461 , 11.0910163 ]])"
      ]
     },
     "execution_count": 21,
     "metadata": {},
     "output_type": "execute_result"
    }
   ],
   "source": [
    "c4 = np.loadtxt('new_dir/c.csv')\n",
    "c4"
   ]
  },
  {
   "cell_type": "code",
   "execution_count": 22,
   "metadata": {},
   "outputs": [
    {
     "ename": "ValueError",
     "evalue": "could not convert string to float: '1.070386270116484084e+01,1.388291041158211492e+01,1.259422980420552740e+01,8.719561338993541355e+00,8.474414578444928736e+00,6.795248017577639743e+00,1.059929533814633018e+01,1.323411595114440331e+01,1.346909517005628310e+01,9.537999728104995967e+00'",
     "output_type": "error",
     "traceback": [
      "\u001b[1;31m---------------------------------------------------------------------------\u001b[0m",
      "\u001b[1;31mValueError\u001b[0m                                Traceback (most recent call last)",
      "\u001b[1;32m<ipython-input-22-64a047d3422a>\u001b[0m in \u001b[0;36m<module>\u001b[1;34m\u001b[0m\n\u001b[1;32m----> 1\u001b[1;33m \u001b[0mc5\u001b[0m \u001b[1;33m=\u001b[0m \u001b[0mnp\u001b[0m\u001b[1;33m.\u001b[0m\u001b[0mloadtxt\u001b[0m\u001b[1;33m(\u001b[0m\u001b[1;34m'new_dir/c2.csv'\u001b[0m\u001b[1;33m)\u001b[0m\u001b[1;33m\u001b[0m\u001b[1;33m\u001b[0m\u001b[0m\n\u001b[0m",
      "\u001b[1;32m~\\anaconda3\\lib\\site-packages\\numpy\\lib\\npyio.py\u001b[0m in \u001b[0;36mloadtxt\u001b[1;34m(fname, dtype, comments, delimiter, converters, skiprows, usecols, unpack, ndmin, encoding, max_rows)\u001b[0m\n\u001b[0;32m   1157\u001b[0m         \u001b[1;31m# converting the data\u001b[0m\u001b[1;33m\u001b[0m\u001b[1;33m\u001b[0m\u001b[1;33m\u001b[0m\u001b[0m\n\u001b[0;32m   1158\u001b[0m         \u001b[0mX\u001b[0m \u001b[1;33m=\u001b[0m \u001b[1;32mNone\u001b[0m\u001b[1;33m\u001b[0m\u001b[1;33m\u001b[0m\u001b[0m\n\u001b[1;32m-> 1159\u001b[1;33m         \u001b[1;32mfor\u001b[0m \u001b[0mx\u001b[0m \u001b[1;32min\u001b[0m \u001b[0mread_data\u001b[0m\u001b[1;33m(\u001b[0m\u001b[0m_loadtxt_chunksize\u001b[0m\u001b[1;33m)\u001b[0m\u001b[1;33m:\u001b[0m\u001b[1;33m\u001b[0m\u001b[1;33m\u001b[0m\u001b[0m\n\u001b[0m\u001b[0;32m   1160\u001b[0m             \u001b[1;32mif\u001b[0m \u001b[0mX\u001b[0m \u001b[1;32mis\u001b[0m \u001b[1;32mNone\u001b[0m\u001b[1;33m:\u001b[0m\u001b[1;33m\u001b[0m\u001b[1;33m\u001b[0m\u001b[0m\n\u001b[0;32m   1161\u001b[0m                 \u001b[0mX\u001b[0m \u001b[1;33m=\u001b[0m \u001b[0mnp\u001b[0m\u001b[1;33m.\u001b[0m\u001b[0marray\u001b[0m\u001b[1;33m(\u001b[0m\u001b[0mx\u001b[0m\u001b[1;33m,\u001b[0m \u001b[0mdtype\u001b[0m\u001b[1;33m)\u001b[0m\u001b[1;33m\u001b[0m\u001b[1;33m\u001b[0m\u001b[0m\n",
      "\u001b[1;32m~\\anaconda3\\lib\\site-packages\\numpy\\lib\\npyio.py\u001b[0m in \u001b[0;36mread_data\u001b[1;34m(chunk_size)\u001b[0m\n\u001b[0;32m   1085\u001b[0m \u001b[1;33m\u001b[0m\u001b[0m\n\u001b[0;32m   1086\u001b[0m             \u001b[1;31m# Convert each value according to its column and store\u001b[0m\u001b[1;33m\u001b[0m\u001b[1;33m\u001b[0m\u001b[1;33m\u001b[0m\u001b[0m\n\u001b[1;32m-> 1087\u001b[1;33m             \u001b[0mitems\u001b[0m \u001b[1;33m=\u001b[0m \u001b[1;33m[\u001b[0m\u001b[0mconv\u001b[0m\u001b[1;33m(\u001b[0m\u001b[0mval\u001b[0m\u001b[1;33m)\u001b[0m \u001b[1;32mfor\u001b[0m \u001b[1;33m(\u001b[0m\u001b[0mconv\u001b[0m\u001b[1;33m,\u001b[0m \u001b[0mval\u001b[0m\u001b[1;33m)\u001b[0m \u001b[1;32min\u001b[0m \u001b[0mzip\u001b[0m\u001b[1;33m(\u001b[0m\u001b[0mconverters\u001b[0m\u001b[1;33m,\u001b[0m \u001b[0mvals\u001b[0m\u001b[1;33m)\u001b[0m\u001b[1;33m]\u001b[0m\u001b[1;33m\u001b[0m\u001b[1;33m\u001b[0m\u001b[0m\n\u001b[0m\u001b[0;32m   1088\u001b[0m \u001b[1;33m\u001b[0m\u001b[0m\n\u001b[0;32m   1089\u001b[0m             \u001b[1;31m# Then pack it according to the dtype's nesting\u001b[0m\u001b[1;33m\u001b[0m\u001b[1;33m\u001b[0m\u001b[1;33m\u001b[0m\u001b[0m\n",
      "\u001b[1;32m~\\anaconda3\\lib\\site-packages\\numpy\\lib\\npyio.py\u001b[0m in \u001b[0;36m<listcomp>\u001b[1;34m(.0)\u001b[0m\n\u001b[0;32m   1085\u001b[0m \u001b[1;33m\u001b[0m\u001b[0m\n\u001b[0;32m   1086\u001b[0m             \u001b[1;31m# Convert each value according to its column and store\u001b[0m\u001b[1;33m\u001b[0m\u001b[1;33m\u001b[0m\u001b[1;33m\u001b[0m\u001b[0m\n\u001b[1;32m-> 1087\u001b[1;33m             \u001b[0mitems\u001b[0m \u001b[1;33m=\u001b[0m \u001b[1;33m[\u001b[0m\u001b[0mconv\u001b[0m\u001b[1;33m(\u001b[0m\u001b[0mval\u001b[0m\u001b[1;33m)\u001b[0m \u001b[1;32mfor\u001b[0m \u001b[1;33m(\u001b[0m\u001b[0mconv\u001b[0m\u001b[1;33m,\u001b[0m \u001b[0mval\u001b[0m\u001b[1;33m)\u001b[0m \u001b[1;32min\u001b[0m \u001b[0mzip\u001b[0m\u001b[1;33m(\u001b[0m\u001b[0mconverters\u001b[0m\u001b[1;33m,\u001b[0m \u001b[0mvals\u001b[0m\u001b[1;33m)\u001b[0m\u001b[1;33m]\u001b[0m\u001b[1;33m\u001b[0m\u001b[1;33m\u001b[0m\u001b[0m\n\u001b[0m\u001b[0;32m   1088\u001b[0m \u001b[1;33m\u001b[0m\u001b[0m\n\u001b[0;32m   1089\u001b[0m             \u001b[1;31m# Then pack it according to the dtype's nesting\u001b[0m\u001b[1;33m\u001b[0m\u001b[1;33m\u001b[0m\u001b[1;33m\u001b[0m\u001b[0m\n",
      "\u001b[1;32m~\\anaconda3\\lib\\site-packages\\numpy\\lib\\npyio.py\u001b[0m in \u001b[0;36mfloatconv\u001b[1;34m(x)\u001b[0m\n\u001b[0;32m    792\u001b[0m         \u001b[1;32mif\u001b[0m \u001b[1;34m'0x'\u001b[0m \u001b[1;32min\u001b[0m \u001b[0mx\u001b[0m\u001b[1;33m:\u001b[0m\u001b[1;33m\u001b[0m\u001b[1;33m\u001b[0m\u001b[0m\n\u001b[0;32m    793\u001b[0m             \u001b[1;32mreturn\u001b[0m \u001b[0mfloat\u001b[0m\u001b[1;33m.\u001b[0m\u001b[0mfromhex\u001b[0m\u001b[1;33m(\u001b[0m\u001b[0mx\u001b[0m\u001b[1;33m)\u001b[0m\u001b[1;33m\u001b[0m\u001b[1;33m\u001b[0m\u001b[0m\n\u001b[1;32m--> 794\u001b[1;33m         \u001b[1;32mreturn\u001b[0m \u001b[0mfloat\u001b[0m\u001b[1;33m(\u001b[0m\u001b[0mx\u001b[0m\u001b[1;33m)\u001b[0m\u001b[1;33m\u001b[0m\u001b[1;33m\u001b[0m\u001b[0m\n\u001b[0m\u001b[0;32m    795\u001b[0m \u001b[1;33m\u001b[0m\u001b[0m\n\u001b[0;32m    796\u001b[0m     \u001b[0mtyp\u001b[0m \u001b[1;33m=\u001b[0m \u001b[0mdtype\u001b[0m\u001b[1;33m.\u001b[0m\u001b[0mtype\u001b[0m\u001b[1;33m\u001b[0m\u001b[1;33m\u001b[0m\u001b[0m\n",
      "\u001b[1;31mValueError\u001b[0m: could not convert string to float: '1.070386270116484084e+01,1.388291041158211492e+01,1.259422980420552740e+01,8.719561338993541355e+00,8.474414578444928736e+00,6.795248017577639743e+00,1.059929533814633018e+01,1.323411595114440331e+01,1.346909517005628310e+01,9.537999728104995967e+00'"
     ]
    }
   ],
   "source": [
    "c5 = np.loadtxt('new_dir/c2.csv')"
   ]
  },
  {
   "cell_type": "code",
   "execution_count": 24,
   "metadata": {},
   "outputs": [
    {
     "data": {
      "text/plain": [
       "array([[10.7038627 , 13.88291041, 12.5942298 ,  8.71956134,  8.47441458,\n",
       "         6.79524802, 10.59929534, 13.23411595, 13.46909517,  9.53799973],\n",
       "       [11.93456555,  7.69155811, 11.60238565, 12.37780093, 10.64567764,\n",
       "         8.42520171,  8.33153623, 14.19274849,  8.39307698,  6.89455053],\n",
       "       [ 9.87290208, 11.74379487,  7.79599379,  9.8077243 ,  6.81725071,\n",
       "         8.37521055,  7.66635887,  8.69569845, 12.51943736, 12.5027761 ],\n",
       "       [ 9.82015874, 14.01817795, 11.75903037,  6.38757121,  8.29739235,\n",
       "         8.55049946,  9.68321717, 10.00490429,  9.44478431, 10.29717024],\n",
       "       [ 7.58297106,  8.53215521,  7.6814349 ,  9.83104409, 11.31498712,\n",
       "         9.52077204,  9.8876127 ,  3.92731077, 10.3635461 , 11.0910163 ]])"
      ]
     },
     "execution_count": 24,
     "metadata": {},
     "output_type": "execute_result"
    }
   ],
   "source": [
    "c5 = np.loadtxt('new_dir/c2.csv', delimiter=',')\n",
    "c5"
   ]
  },
  {
   "cell_type": "code",
   "execution_count": null,
   "metadata": {},
   "outputs": [],
   "source": [
    "c"
   ]
  }
 ],
 "metadata": {
  "kernelspec": {
   "display_name": "Python 3",
   "language": "python",
   "name": "python3"
  },
  "language_info": {
   "codemirror_mode": {
    "name": "ipython",
    "version": 3
   },
   "file_extension": ".py",
   "mimetype": "text/x-python",
   "name": "python",
   "nbconvert_exporter": "python",
   "pygments_lexer": "ipython3",
   "version": "3.8.3"
  },
  "toc": {
   "base_numbering": 1,
   "nav_menu": {},
   "number_sections": true,
   "sideBar": true,
   "skip_h1_title": false,
   "title_cell": "Table of Contents",
   "title_sidebar": "Contents",
   "toc_cell": false,
   "toc_position": {},
   "toc_section_display": true,
   "toc_window_display": false
  },
  "varInspector": {
   "cols": {
    "lenName": 16,
    "lenType": 16,
    "lenVar": 40
   },
   "kernels_config": {
    "python": {
     "delete_cmd_postfix": "",
     "delete_cmd_prefix": "del ",
     "library": "var_list.py",
     "varRefreshCmd": "print(var_dic_list())"
    },
    "r": {
     "delete_cmd_postfix": ") ",
     "delete_cmd_prefix": "rm(",
     "library": "var_list.r",
     "varRefreshCmd": "cat(var_dic_list()) "
    }
   },
   "types_to_exclude": [
    "module",
    "function",
    "builtin_function_or_method",
    "instance",
    "_Feature"
   ],
   "window_display": false
  }
 },
 "nbformat": 4,
 "nbformat_minor": 2
}
