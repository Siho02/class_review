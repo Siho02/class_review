{
 "cells": [
  {
   "cell_type": "markdown",
   "metadata": {},
   "source": [
    "# TFRecord\n",
    "- https://www.tensorflow.org/tutorials/load_data/tfrecord\n",
    "- Tensorflow에서 제공하는 데이터셋을 저장방식.\n",
    "    - 데이터 양이 많을 경우 이를 Binary로 Seralization(직렬화)하여 하나의 파일로 저장하고 있다가, 이를 다시 읽어 들여  처리하면 처리속도를 향상시킬 수 있다. Tensorflow에서 이를 위해서 데이터 셋을 Protocol Buffer 형태로 Serialization을 수행해서 저장할 수 있는 TFRecords 파일 포맷 형태를 지원한다. \n",
    "    - tf.train.Example 클래스를 이용해서 {“string” : tf.train.Feature} 의 딕셔너리 형태로 데이터들을 TFRecords 파일에 저장할 수 있다.\n",
    "- tf.train.Example\n",
    "    - 하나의 데이터를 TFRecord에 저장하기 위해 변환하는 클래스. 하나의 데이터를 tf.train.Example 의 객체로 변환해서 저장한다.\n",
    "- tf.train.Feature\n",
    "    - 하나의 데이터를 구성하는 속성(feature)들을 변환하는 클래스.\n",
    "    - tf.train.Feature는 다음 세가지 타입을 지원한다.\n",
    "        - tf.train.BytesList – string, byte 타입을 변환\n",
    "        - tf.train.FloatList –  float(float32), double(float64) 타입을 변환\n",
    "        - tf.train.Int64List – bool, enum, int32, uint32, int64, uint64 타입을 변환\n",
    "- tf.tran.Example의 형태\n",
    "```python\n",
    "{\n",
    "    \"feature명\":tf.train.Feature타입객체,\n",
    "    \"feature명\":tf.train.Feature타입객체,\n",
    "    ...\n",
    "}\n",
    "```\n",
    "> - **직렬화(Serialization):** 메모리에 저장된 다양한 타입의 값을 디스크(네트워크)에 저장할 수 있는 상태로 변환하는 것.\n",
    "> - **binary data:** 디스크에 저장되는 0, 1로 구성된 데이터"
   ]
  },
  {
   "cell_type": "code",
   "execution_count": 1,
   "metadata": {
    "ExecuteTime": {
     "end_time": "2021-09-15T05:04:36.212363Z",
     "start_time": "2021-09-15T05:04:29.955191Z"
    }
   },
   "outputs": [],
   "source": [
    "import tensorflow as tf\n",
    "import numpy as np "
   ]
  },
  {
   "cell_type": "code",
   "execution_count": 3,
   "metadata": {
    "ExecuteTime": {
     "end_time": "2021-09-15T05:05:24.614617Z",
     "start_time": "2021-09-15T05:05:24.605630Z"
    }
   },
   "outputs": [],
   "source": [
    "def _bytes_feature(value):\n",
    "    \"\"\"\n",
    "    bytes string, bytes(이진파일) 타입의 value를 받아서 BytesList로 변환하는 함수\n",
    "    \"\"\"\n",
    "    if isinstance(value, type(tf.constant(0))):\n",
    "        value = value.numpy() #BytesList는 EagerTensor타입은 변환할 수 없기 때문에 ndarray로 변환\n",
    "    return tf.train.Feature(bytes_list=tf.train.BytesList(value = [value]))    \n",
    "\n",
    "def _float_feature(value):\n",
    "    \"\"\"\n",
    "    float타입의 value를 받아서 FloatList 변환 하는 함수\n",
    "    \"\"\"\n",
    "    return tf.train.Feature(float_list = tf.train.FloatList(value = [value]))\n",
    "\n",
    "\n",
    "def _int64_feature(value):\n",
    "    \"\"\"\n",
    "    int, uint, bool 타입의 value를 받아서 Int64List로 변환하는 함수\n",
    "    \"\"\"\n",
    "    return tf.train.Feature(int64_list = tf.train.Int64List(value = [value]))\n",
    "    pass"
   ]
  },
  {
   "cell_type": "code",
   "execution_count": 4,
   "metadata": {},
   "outputs": [
    {
     "name": "stdout",
     "output_type": "stream",
     "text": [
      "<class 'tensorflow.core.example.feature_pb2.Feature'>\n"
     ]
    },
    {
     "data": {
      "text/plain": [
       "int64_list {\n",
       "  value: 30\n",
       "}"
      ]
     },
     "execution_count": 4,
     "metadata": {},
     "output_type": "execute_result"
    }
   ],
   "source": [
    "v = 30\n",
    "r = _int64_feature(v)\n",
    "print(type(r))\n",
    "r"
   ]
  },
  {
   "cell_type": "code",
   "execution_count": 5,
   "metadata": {},
   "outputs": [
    {
     "name": "stdout",
     "output_type": "stream",
     "text": [
      "<class 'tensorflow.core.example.feature_pb2.Feature'>\n"
     ]
    },
    {
     "data": {
      "text/plain": [
       "float_list {\n",
       "  value: 5.730000019073486\n",
       "}"
      ]
     },
     "execution_count": 5,
     "metadata": {},
     "output_type": "execute_result"
    }
   ],
   "source": [
    "v = 5.73\n",
    "r = _float_feature(v)\n",
    "print(type(r))\n",
    "r"
   ]
  },
  {
   "cell_type": "code",
   "execution_count": 7,
   "metadata": {},
   "outputs": [
    {
     "data": {
      "text/plain": [
       "bytes_list {\n",
       "  value: \"abc\"\n",
       "}"
      ]
     },
     "execution_count": 7,
     "metadata": {},
     "output_type": "execute_result"
    }
   ],
   "source": [
    "v = b\"abc\" #bytes str (문자열 : str객체, byte str : unicode)\n",
    "_bytes_feature(v)"
   ]
  },
  {
   "cell_type": "code",
   "execution_count": 8,
   "metadata": {},
   "outputs": [
    {
     "data": {
      "text/plain": [
       "bytes_list {\n",
       "  value: \"test\"\n",
       "}"
      ]
     },
     "execution_count": 8,
     "metadata": {},
     "output_type": "execute_result"
    }
   ],
   "source": [
    "v = 'test'\n",
    "v2 = v.encode('utf-8')\n",
    "_bytes_feature(v2)"
   ]
  },
  {
   "cell_type": "code",
   "execution_count": 11,
   "metadata": {},
   "outputs": [
    {
     "data": {
      "text/plain": [
       "(bytes, bytes, bytes)"
      ]
     },
     "execution_count": 11,
     "metadata": {},
     "output_type": "execute_result"
    }
   ],
   "source": [
    "with open('capture_images/two-ea04e07e-16a0-11ec-9092-b886876ad90e.jpg', 'rb') as f:\n",
    "    img = f.read()\n",
    "type(img), type(v2), type(b'abc')\n"
   ]
  },
  {
   "cell_type": "code",
   "execution_count": 12,
   "metadata": {},
   "outputs": [
    {
     "data": {
      "text/plain": [
       "tensorflow.core.example.feature_pb2.Feature"
      ]
     },
     "execution_count": 12,
     "metadata": {},
     "output_type": "execute_result"
    }
   ],
   "source": [
    "r = _bytes_feature(img)\n",
    "type(r)"
   ]
  },
  {
   "cell_type": "code",
   "execution_count": null,
   "metadata": {},
   "outputs": [],
   "source": []
  },
  {
   "cell_type": "code",
   "execution_count": null,
   "metadata": {},
   "outputs": [],
   "source": []
  },
  {
   "cell_type": "code",
   "execution_count": null,
   "metadata": {},
   "outputs": [],
   "source": []
  },
  {
   "cell_type": "code",
   "execution_count": null,
   "metadata": {},
   "outputs": [],
   "source": []
  },
  {
   "cell_type": "markdown",
   "metadata": {},
   "source": [
    "### Feature 직렬화\n",
    "- .SerializeToString()\n",
    "    - proto 메세지를 bytes(binary string)로 직렬화\n",
    "    - Example을 tfrecord로 출력하기 전에 변환해야 한다."
   ]
  },
  {
   "cell_type": "code",
   "execution_count": 13,
   "metadata": {},
   "outputs": [
    {
     "data": {
      "text/plain": [
       "float_list {\n",
       "  value: 0.23399999737739563\n",
       "}"
      ]
     },
     "execution_count": 13,
     "metadata": {},
     "output_type": "execute_result"
    }
   ],
   "source": [
    "f = _float_feature(0.234)\n",
    "f\n"
   ]
  },
  {
   "cell_type": "code",
   "execution_count": 14,
   "metadata": {},
   "outputs": [
    {
     "data": {
      "text/plain": [
       "b'\\x12\\x06\\n\\x04\\xb2\\x9do>'"
      ]
     },
     "execution_count": 14,
     "metadata": {},
     "output_type": "execute_result"
    }
   ],
   "source": [
    "f.SerializeToString()"
   ]
  },
  {
   "cell_type": "code",
   "execution_count": null,
   "metadata": {},
   "outputs": [],
   "source": []
  },
  {
   "cell_type": "markdown",
   "metadata": {},
   "source": [
    "# TFRecord 저장 예제"
   ]
  },
  {
   "cell_type": "markdown",
   "metadata": {},
   "source": [
    "### tf.train.Example 생성 및 직렬화(Serialize)\n",
    "1. 각 관측값의 Feature들 하나하나는 위의 함수 중 하나를 사용하여 3 가지 호환 유형 중 하나를 포함하는 tf.train.Feature 로 변환(인코딩)되어야 한다.\n",
    "2. Feature이름 문자열에 1번에서 에서 생성 된 인코딩 된 기능 값으로 딕셔너리를 생성한다.\n",
    "3. 2 단계에서 생성 된 맵은 Features 메시지 로 변환한다.\n"
   ]
  },
  {
   "cell_type": "code",
   "execution_count": 34,
   "metadata": {},
   "outputs": [
    {
     "data": {
      "text/plain": [
       "array([b'tiger', b'cat', b'tiger', b'tiger', b'cat', b'dog', b'tiger',\n",
       "       b'dog', b'tiger', b'tiger', b'tiger', b'cat', b'dog', b'tiger',\n",
       "       b'dog', b'dog', b'cat', b'dog', b'dog', b'cat', b'dog', b'cat',\n",
       "       b'dog', b'cat', b'cat', b'tiger', b'cat', b'tiger', b'dog',\n",
       "       b'tiger', b'dog', b'tiger', b'dog', b'tiger', b'dog', b'tiger',\n",
       "       b'tiger', b'cat', b'tiger', b'tiger', b'tiger', b'cat', b'tiger',\n",
       "       b'tiger', b'cat', b'dog', b'cat', b'tiger', b'dog', b'dog',\n",
       "       b'tiger', b'dog', b'tiger', b'tiger', b'dog', b'tiger', b'tiger',\n",
       "       b'dog', b'cat', b'cat', b'dog', b'cat', b'tiger', b'cat', b'dog',\n",
       "       b'dog', b'tiger', b'tiger', b'cat', b'dog', b'dog', b'cat', b'dog',\n",
       "       b'dog', b'tiger', b'tiger', b'tiger', b'tiger', b'dog', b'cat',\n",
       "       b'dog', b'cat', b'dog', b'cat', b'dog', b'dog', b'cat', b'cat',\n",
       "       b'tiger', b'dog', b'dog', b'dog', b'tiger', b'cat', b'dog',\n",
       "       b'tiger', b'cat', b'cat', b'dog', b'tiger', b'dog', b'tiger',\n",
       "       b'cat', b'dog', b'tiger', b'cat', b'cat', b'dog', b'cat', b'tiger',\n",
       "       b'dog', b'cat', b'dog', b'tiger', b'tiger', b'dog', b'dog', b'cat',\n",
       "       b'tiger', b'tiger', b'tiger', b'tiger', b'tiger', b'dog', b'tiger',\n",
       "       b'cat', b'cat', b'cat', b'cat', b'tiger', b'cat', b'tiger',\n",
       "       b'tiger', b'tiger', b'cat', b'tiger', b'tiger', b'cat', b'tiger',\n",
       "       b'cat', b'cat', b'cat', b'tiger', b'dog', b'tiger', b'tiger',\n",
       "       b'cat', b'dog', b'tiger', b'cat', b'cat', b'tiger', b'cat', b'dog',\n",
       "       b'cat', b'tiger', b'dog', b'tiger', b'dog', b'cat', b'cat',\n",
       "       b'tiger', b'cat', b'dog', b'tiger', b'dog', b'cat', b'dog',\n",
       "       b'tiger', b'cat', b'tiger', b'cat', b'cat', b'cat', b'dog', b'cat',\n",
       "       b'cat', b'tiger', b'dog', b'cat', b'dog', b'cat', b'cat', b'tiger',\n",
       "       b'tiger', b'tiger', b'dog', b'dog', b'cat', b'dog', b'dog', b'dog',\n",
       "       b'tiger', b'dog', b'tiger', b'dog', b'dog', b'tiger', b'dog',\n",
       "       b'dog', b'dog', b'dog', b'cat', b'dog', b'dog', b'cat', b'tiger',\n",
       "       b'tiger', b'cat', b'cat', b'dog', b'cat', b'tiger', b'dog', b'dog',\n",
       "       b'cat', b'tiger', b'tiger', b'tiger', b'dog', b'tiger', b'tiger',\n",
       "       b'dog', b'tiger', b'cat', b'cat', b'tiger', b'tiger', b'cat',\n",
       "       b'cat', b'dog', b'cat', b'tiger', b'dog', b'tiger', b'cat',\n",
       "       b'tiger', b'tiger', b'dog', b'dog', b'tiger', b'dog', b'dog',\n",
       "       b'tiger', b'dog', b'dog', b'tiger', b'dog', b'cat', b'dog', b'cat',\n",
       "       b'tiger', b'dog', b'dog', b'tiger', b'tiger', b'cat', b'cat',\n",
       "       b'dog', b'cat', b'dog', b'dog', b'dog', b'cat', b'tiger', b'dog',\n",
       "       b'cat', b'cat', b'cat', b'cat', b'tiger', b'cat', b'dog', b'dog',\n",
       "       b'dog', b'dog', b'cat', b'cat', b'dog', b'tiger', b'dog', b'tiger',\n",
       "       b'tiger', b'tiger', b'tiger', b'tiger', b'tiger', b'tiger', b'cat',\n",
       "       b'dog', b'tiger', b'tiger', b'cat', b'cat', b'cat', b'tiger',\n",
       "       b'dog', b'cat', b'cat', b'dog', b'cat', b'tiger', b'dog', b'dog',\n",
       "       b'cat', b'dog', b'tiger', b'cat', b'tiger', b'dog', b'tiger',\n",
       "       b'dog', b'tiger', b'cat', b'dog', b'dog', b'dog', b'dog', b'dog',\n",
       "       b'cat', b'tiger', b'tiger', b'dog', b'dog', b'tiger', b'cat',\n",
       "       b'tiger', b'dog', b'dog', b'dog', b'dog', b'dog', b'tiger', b'cat',\n",
       "       b'cat', b'cat', b'cat', b'dog', b'cat', b'dog', b'tiger', b'cat',\n",
       "       b'cat', b'cat', b'dog', b'dog', b'tiger', b'tiger', b'dog', b'cat',\n",
       "       b'dog', b'tiger', b'tiger', b'dog', b'tiger', b'cat', b'dog',\n",
       "       b'cat', b'dog', b'tiger', b'cat', b'cat', b'cat', b'tiger', b'cat',\n",
       "       b'dog', b'cat', b'tiger', b'dog', b'dog', b'cat', b'tiger',\n",
       "       b'tiger', b'tiger', b'cat', b'tiger', b'dog', b'tiger', b'cat',\n",
       "       b'dog', b'tiger', b'tiger', b'cat', b'tiger', b'dog', b'tiger',\n",
       "       b'tiger', b'dog', b'cat', b'dog', b'dog', b'cat', b'dog', b'cat',\n",
       "       b'dog', b'dog', b'tiger', b'cat', b'dog', b'cat', b'dog', b'cat',\n",
       "       b'dog', b'tiger', b'cat', b'dog', b'tiger', b'dog', b'dog',\n",
       "       b'tiger', b'tiger', b'cat', b'tiger', b'tiger', b'tiger', b'tiger',\n",
       "       b'cat', b'cat', b'cat', b'tiger', b'cat', b'tiger', b'dog',\n",
       "       b'tiger', b'cat', b'cat', b'tiger', b'dog', b'dog', b'cat',\n",
       "       b'tiger', b'tiger', b'tiger', b'cat', b'tiger', b'tiger', b'dog',\n",
       "       b'tiger', b'tiger', b'cat', b'dog', b'cat', b'tiger', b'dog',\n",
       "       b'cat', b'tiger', b'dog', b'dog', b'cat', b'cat', b'dog', b'tiger',\n",
       "       b'cat', b'tiger', b'dog', b'dog', b'dog', b'tiger', b'dog', b'cat',\n",
       "       b'dog', b'tiger', b'cat', b'cat', b'dog', b'tiger', b'cat',\n",
       "       b'tiger', b'cat', b'cat', b'dog', b'tiger', b'cat', b'dog',\n",
       "       b'tiger', b'dog', b'cat', b'tiger', b'cat', b'cat', b'cat', b'dog',\n",
       "       b'cat', b'dog', b'dog', b'cat', b'dog', b'tiger', b'tiger',\n",
       "       b'tiger', b'dog', b'cat', b'tiger', b'tiger', b'cat', b'dog',\n",
       "       b'dog', b'dog', b'cat', b'tiger', b'tiger', b'tiger', b'tiger',\n",
       "       b'dog', b'dog', b'tiger', b'tiger', b'cat', b'cat', b'dog', b'cat',\n",
       "       b'dog', b'tiger', b'tiger', b'cat', b'dog', b'cat', b'cat', b'dog',\n",
       "       b'tiger', b'cat', b'cat', b'dog', b'dog', b'cat', b'dog', b'cat',\n",
       "       b'tiger', b'tiger', b'cat', b'tiger', b'dog', b'tiger', b'cat',\n",
       "       b'cat', b'cat', b'tiger', b'dog', b'dog', b'tiger', b'dog', b'cat',\n",
       "       b'cat', b'tiger', b'dog', b'dog', b'tiger', b'dog', b'cat', b'cat',\n",
       "       b'tiger', b'dog', b'cat', b'cat', b'cat', b'dog', b'dog', b'tiger',\n",
       "       b'dog', b'tiger', b'tiger', b'dog', b'tiger', b'tiger', b'tiger',\n",
       "       b'dog', b'tiger', b'cat', b'tiger', b'tiger', b'tiger', b'tiger',\n",
       "       b'dog', b'cat', b'dog', b'cat', b'tiger', b'tiger', b'dog', b'dog',\n",
       "       b'dog', b'cat', b'dog', b'tiger', b'tiger', b'tiger', b'cat',\n",
       "       b'tiger', b'dog', b'tiger', b'cat', b'cat', b'dog', b'dog',\n",
       "       b'tiger', b'dog', b'tiger', b'dog', b'cat', b'dog', b'cat', b'cat',\n",
       "       b'dog', b'tiger', b'tiger', b'tiger', b'cat', b'cat', b'dog',\n",
       "       b'cat', b'cat', b'dog', b'cat', b'tiger', b'tiger', b'dog', b'dog',\n",
       "       b'tiger', b'dog', b'tiger', b'dog', b'dog', b'tiger', b'cat',\n",
       "       b'cat', b'tiger', b'dog', b'tiger', b'cat', b'dog', b'tiger',\n",
       "       b'dog', b'tiger', b'dog', b'dog', b'tiger', b'dog', b'dog', b'cat',\n",
       "       b'cat', b'tiger', b'cat', b'tiger', b'tiger', b'tiger', b'dog',\n",
       "       b'tiger', b'cat', b'dog', b'cat', b'tiger', b'dog', b'cat', b'dog',\n",
       "       b'cat', b'dog', b'tiger', b'cat', b'dog', b'cat', b'cat', b'dog',\n",
       "       b'dog', b'tiger', b'tiger', b'cat', b'tiger', b'cat', b'cat',\n",
       "       b'cat', b'dog', b'dog', b'dog', b'dog', b'dog', b'cat', b'tiger',\n",
       "       b'tiger', b'cat', b'dog', b'tiger', b'dog', b'tiger', b'tiger',\n",
       "       b'tiger', b'tiger', b'tiger', b'dog', b'tiger', b'dog', b'tiger',\n",
       "       b'dog', b'tiger', b'cat', b'tiger', b'tiger', b'tiger', b'tiger',\n",
       "       b'dog', b'dog', b'tiger', b'tiger', b'cat', b'cat', b'dog', b'dog',\n",
       "       b'dog', b'tiger', b'dog', b'dog', b'dog', b'tiger', b'dog', b'dog',\n",
       "       b'dog', b'dog', b'dog', b'dog', b'dog', b'cat', b'cat', b'tiger',\n",
       "       b'cat', b'dog', b'dog', b'tiger', b'dog', b'tiger', b'tiger',\n",
       "       b'cat', b'dog', b'tiger', b'tiger', b'dog', b'cat', b'dog', b'cat',\n",
       "       b'tiger', b'tiger', b'dog', b'tiger', b'tiger', b'tiger', b'cat',\n",
       "       b'dog', b'cat', b'dog', b'cat', b'tiger', b'cat', b'dog', b'dog',\n",
       "       b'cat', b'cat', b'tiger', b'tiger', b'dog', b'cat', b'dog', b'cat',\n",
       "       b'tiger', b'cat', b'cat', b'tiger', b'tiger', b'dog', b'dog',\n",
       "       b'dog', b'cat', b'cat', b'dog', b'dog', b'dog', b'cat', b'dog',\n",
       "       b'dog', b'tiger', b'cat', b'dog', b'tiger', b'dog', b'dog', b'cat',\n",
       "       b'dog', b'cat', b'cat', b'dog', b'dog', b'cat', b'tiger', b'dog',\n",
       "       b'tiger', b'tiger', b'cat', b'dog', b'cat', b'cat', b'tiger',\n",
       "       b'tiger', b'tiger', b'cat', b'dog', b'cat', b'tiger', b'cat',\n",
       "       b'tiger', b'tiger', b'dog', b'tiger', b'dog', b'tiger', b'tiger',\n",
       "       b'dog', b'dog', b'tiger', b'cat', b'tiger', b'tiger', b'dog',\n",
       "       b'tiger', b'dog', b'dog', b'cat', b'tiger', b'tiger', b'dog',\n",
       "       b'tiger', b'tiger', b'tiger', b'dog', b'cat', b'dog', b'dog',\n",
       "       b'dog', b'tiger', b'dog', b'cat', b'tiger', b'tiger', b'dog',\n",
       "       b'cat', b'dog', b'tiger', b'tiger', b'dog', b'tiger', b'cat',\n",
       "       b'dog', b'dog', b'cat', b'cat', b'dog', b'dog', b'tiger', b'cat',\n",
       "       b'tiger', b'tiger', b'tiger', b'cat', b'tiger', b'dog', b'cat',\n",
       "       b'tiger', b'tiger', b'tiger', b'tiger', b'dog', b'cat', b'cat',\n",
       "       b'dog', b'dog', b'dog', b'dog', b'cat', b'dog', b'dog', b'cat',\n",
       "       b'dog', b'tiger', b'dog', b'tiger', b'cat', b'tiger', b'cat',\n",
       "       b'tiger', b'tiger', b'dog', b'dog', b'dog', b'dog', b'cat', b'cat',\n",
       "       b'tiger', b'tiger', b'dog', b'dog', b'tiger', b'cat', b'cat',\n",
       "       b'tiger', b'cat', b'tiger', b'cat', b'dog', b'tiger', b'tiger',\n",
       "       b'cat', b'tiger', b'tiger', b'dog', b'dog', b'dog', b'dog',\n",
       "       b'tiger', b'tiger', b'tiger', b'dog', b'cat', b'cat', b'dog',\n",
       "       b'tiger', b'cat', b'dog', b'cat', b'tiger', b'tiger', b'cat',\n",
       "       b'tiger', b'tiger', b'cat', b'tiger', b'tiger', b'tiger', b'tiger',\n",
       "       b'cat', b'cat', b'dog', b'cat', b'tiger', b'cat', b'dog', b'dog',\n",
       "       b'dog', b'cat', b'tiger', b'cat', b'tiger', b'cat', b'cat', b'cat',\n",
       "       b'cat', b'cat', b'cat', b'dog', b'dog', b'tiger', b'dog', b'dog',\n",
       "       b'cat', b'dog', b'cat', b'dog', b'dog', b'dog', b'cat', b'tiger',\n",
       "       b'cat', b'tiger', b'tiger', b'tiger', b'tiger', b'dog', b'cat',\n",
       "       b'dog', b'tiger', b'cat', b'tiger', b'dog', b'tiger', b'tiger',\n",
       "       b'cat', b'cat', b'cat', b'cat', b'cat', b'tiger', b'cat', b'tiger',\n",
       "       b'cat', b'tiger', b'tiger', b'tiger', b'tiger', b'cat', b'tiger',\n",
       "       b'cat', b'cat', b'tiger', b'tiger', b'cat'], dtype='|S5')"
      ]
     },
     "execution_count": 34,
     "metadata": {},
     "output_type": "execute_result"
    }
   ],
   "source": [
    "N_DATA = 1000 #1000개의 데이터 포인트를 생성\n",
    "\n",
    "#TFRecord에 저장할 가상의 DataSet을 생성\n",
    "#bool\n",
    "feature0 = np.random.choice([False, True], N_DATA)\n",
    "#int\n",
    "feature1 = np.random.randint(0,5, N_DATA)\n",
    "#float\n",
    "feature2 = np.random.normal(size = N_DATA)\n",
    "#str\n",
    "s_list = [b'cat', b'dog', b'tiger']\n",
    "feature3 = np.random.choice(s_list, N_DATA)\n",
    "\n",
    "feature0.shape, feature1.shape, feature2.shape, feature3.shape\n",
    "feature3"
   ]
  },
  {
   "cell_type": "code",
   "execution_count": 35,
   "metadata": {},
   "outputs": [],
   "source": [
    "def _serialize_example(f0, f1, f2, f3):\n",
    "    '''\n",
    "    1개의 tf.train.Example을 생성한 뒤에 Serialize해서(파일로 출력할 수 있는 상태로 변환) 반환하는 함수\n",
    "    [매개변수] \n",
    "        f0, f1, f2, f3 : 속성값들\n",
    "    '''\n",
    "    feature = {\n",
    "        'feature0' : _int64_feature(f0),\n",
    "        'feature1' : _float_feature(f1),\n",
    "        'feature2' : _float_feature(f2),\n",
    "        'feature3' : _bytes_feature(f3),\n",
    "    }\n",
    "    example = tf.train.Example(features = tf.train.Features(feature = feature))\n",
    "    return example.SerializeToString()"
   ]
  },
  {
   "cell_type": "code",
   "execution_count": null,
   "metadata": {},
   "outputs": [],
   "source": []
  },
  {
   "cell_type": "code",
   "execution_count": null,
   "metadata": {},
   "outputs": [],
   "source": []
  },
  {
   "cell_type": "markdown",
   "metadata": {},
   "source": [
    "### 출력 처리\n",
    "- \\_bytes_feature() , \\_float_feature() , \\_int64_feature() 중 하나를 사용하여 tf.train.Feature로 각각의 값을 변환한 뒤 tf.train.Example 메시지를 만든다.\n",
    "- serializeToString()을 이용해 binary string 으로 변환한다.\n",
    "- tf.io.TFRecordWriter를 이용해 출력한다."
   ]
  },
  {
   "cell_type": "code",
   "execution_count": 36,
   "metadata": {},
   "outputs": [],
   "source": [
    "import os\n",
    "tf_dir = 'sample_tfrecord'\n",
    "if not os.path.isdir(tf_dir):\n",
    "    os.mkdir(tf_dir)"
   ]
  },
  {
   "cell_type": "code",
   "execution_count": 37,
   "metadata": {},
   "outputs": [
    {
     "name": "stdout",
     "output_type": "stream",
     "text": [
      "sample_tfrecord\\data.tfr\n"
     ]
    }
   ],
   "source": [
    "tfr_file_path = os.path.join(tf_dir, 'data.tfr') #파일경로 : sample_tfrecord / data.tfr #확장자 : tfr, record, tfrecord\n",
    "print(tfr_file_path)"
   ]
  },
  {
   "cell_type": "code",
   "execution_count": 38,
   "metadata": {},
   "outputs": [],
   "source": [
    "#TFRecordWriter 생성 - 출력 Stream 객체\n",
    "tf_writer = tf.io.TFRecordWriter(tfr_file_path)"
   ]
  },
  {
   "cell_type": "code",
   "execution_count": 39,
   "metadata": {},
   "outputs": [],
   "source": [
    "#출력 작업\n",
    "for data in zip(feature0, feature1, feature2, feature3):\n",
    "    #print(data)\n",
    "    example_serialized = _serialize_example(bool(data[0]), data[1], data[2], data[3]) #넘파이의 boolean과 파이썬의 boolean은 차이가 있어서 파이썬의 boolean타입으로 변경\n",
    "    tf_writer.write(example_serialized)\n",
    "    \n",
    "tf_writer.close()"
   ]
  },
  {
   "cell_type": "code",
   "execution_count": null,
   "metadata": {},
   "outputs": [],
   "source": []
  },
  {
   "cell_type": "code",
   "execution_count": null,
   "metadata": {},
   "outputs": [],
   "source": []
  },
  {
   "cell_type": "code",
   "execution_count": null,
   "metadata": {},
   "outputs": [],
   "source": []
  },
  {
   "cell_type": "markdown",
   "metadata": {},
   "source": [
    "# TFRecord파일 읽기 및 역직렬화(Deserialize)\n",
    "- tfrecord 파일로 저장된 직렬화된 데이터를 읽어 들어와서 feature들을 parsing\n",
    "- tf.data.TFRecordDataset를 이용해 읽는다."
   ]
  },
  {
   "cell_type": "code",
   "execution_count": 40,
   "metadata": {},
   "outputs": [
    {
     "data": {
      "text/plain": [
       "features {\n",
       "  feature {\n",
       "    key: \"feature0\"\n",
       "    value {\n",
       "      int64_list {\n",
       "        value: 0\n",
       "      }\n",
       "    }\n",
       "  }\n",
       "  feature {\n",
       "    key: \"feature1\"\n",
       "    value {\n",
       "      float_list {\n",
       "        value: 1.0\n",
       "      }\n",
       "    }\n",
       "  }\n",
       "  feature {\n",
       "    key: \"feature2\"\n",
       "    value {\n",
       "      float_list {\n",
       "        value: 1.2264212369918823\n",
       "      }\n",
       "    }\n",
       "  }\n",
       "  feature {\n",
       "    key: \"feature3\"\n",
       "    value {\n",
       "      bytes_list {\n",
       "        value: \"cat\"\n",
       "      }\n",
       "    }\n",
       "  }\n",
       "}"
      ]
     },
     "execution_count": 40,
     "metadata": {},
     "output_type": "execute_result"
    }
   ],
   "source": [
    "# bytes >> Example\n",
    "tf.train.Example.FromString(example_serialized) #역직렬화\n"
   ]
  },
  {
   "cell_type": "code",
   "execution_count": 52,
   "metadata": {},
   "outputs": [],
   "source": [
    "def _parse_example(serialized_example):\n",
    "    '''\n",
    "    직렬화된(tfrecord에 저장된) example을 받아서 feature들을 추출하여 반환하는 함수\n",
    "    [매개변수]\n",
    "        serialized_example : bytes - 값을 추출할 직렬화된 example\n",
    "    '''\n",
    "    \n",
    "    #example에서 읽어온 feature들을 저장할 dictionary\n",
    "    #'저장할 때 지정한 featurename' : FixedLenFeature(빈 feature)\n",
    "    features = {\n",
    "        'feature0' : tf.io.FixedLenFeature([], tf.int64),\n",
    "        'feature1' : tf.io.FixedLenFeature([], tf.float32),\n",
    "        'feature2' : tf.io.FixedLenFeature([], tf.float32),\n",
    "        'feature3' : tf.io.FixedLenFeature([], tf.string)\n",
    "    }\n",
    "    \n",
    "    parsed_example = tf.io.parse_single_example(serialized_example, features)\n",
    "    \n",
    "    f0 = tf.cast(parsed_example['feature0'], tf.bool)\n",
    "    f1 = tf.cast(parsed_example['feature1'], tf.float32)\n",
    "    f2 = tf.cast(parsed_example['feature2'], tf.float32)\n",
    "    f3 = tf.cast(parsed_example['feature3'], tf.string)\n",
    "    \n",
    "    return f0, f1, f2, f3"
   ]
  },
  {
   "cell_type": "code",
   "execution_count": 54,
   "metadata": {},
   "outputs": [],
   "source": [
    "# TFRecord 파일에서 읽기 작업\n",
    "dataset = tf.data.TFRecordDataset(tfr_file_path).map(_parse_example)\n"
   ]
  },
  {
   "cell_type": "code",
   "execution_count": 55,
   "metadata": {},
   "outputs": [
    {
     "name": "stdout",
     "output_type": "stream",
     "text": [
      "tf.Tensor(True, shape=(), dtype=bool) tf.Tensor(3.0, shape=(), dtype=float32) tf.Tensor(-0.47516176, shape=(), dtype=float32) tf.Tensor(b'tiger', shape=(), dtype=string)\n",
      "tf.Tensor(False, shape=(), dtype=bool) tf.Tensor(3.0, shape=(), dtype=float32) tf.Tensor(-0.6182045, shape=(), dtype=float32) tf.Tensor(b'cat', shape=(), dtype=string)\n",
      "tf.Tensor(False, shape=(), dtype=bool) tf.Tensor(3.0, shape=(), dtype=float32) tf.Tensor(-0.070995085, shape=(), dtype=float32) tf.Tensor(b'tiger', shape=(), dtype=string)\n"
     ]
    }
   ],
   "source": [
    "for f0, f1, f2, f3 in dataset.take(3):\n",
    "    print(f0, f1, f2, f3)"
   ]
  },
  {
   "cell_type": "code",
   "execution_count": null,
   "metadata": {},
   "outputs": [],
   "source": []
  },
  {
   "cell_type": "code",
   "execution_count": null,
   "metadata": {},
   "outputs": [],
   "source": []
  },
  {
   "cell_type": "code",
   "execution_count": null,
   "metadata": {},
   "outputs": [],
   "source": []
  }
 ],
 "metadata": {
  "kernelspec": {
   "display_name": "Python 3 (ipykernel)",
   "language": "python",
   "name": "python3"
  },
  "language_info": {
   "codemirror_mode": {
    "name": "ipython",
    "version": 3
   },
   "file_extension": ".py",
   "mimetype": "text/x-python",
   "name": "python",
   "nbconvert_exporter": "python",
   "pygments_lexer": "ipython3",
   "version": "3.8.11"
  },
  "toc": {
   "base_numbering": 1,
   "nav_menu": {},
   "number_sections": true,
   "sideBar": true,
   "skip_h1_title": false,
   "title_cell": "Table of Contents",
   "title_sidebar": "Contents",
   "toc_cell": false,
   "toc_position": {},
   "toc_section_display": true,
   "toc_window_display": false
  },
  "varInspector": {
   "cols": {
    "lenName": 16,
    "lenType": 16,
    "lenVar": 40
   },
   "kernels_config": {
    "python": {
     "delete_cmd_postfix": "",
     "delete_cmd_prefix": "del ",
     "library": "var_list.py",
     "varRefreshCmd": "print(var_dic_list())"
    },
    "r": {
     "delete_cmd_postfix": ") ",
     "delete_cmd_prefix": "rm(",
     "library": "var_list.r",
     "varRefreshCmd": "cat(var_dic_list()) "
    }
   },
   "types_to_exclude": [
    "module",
    "function",
    "builtin_function_or_method",
    "instance",
    "_Feature"
   ],
   "window_display": false
  }
 },
 "nbformat": 4,
 "nbformat_minor": 4
}
