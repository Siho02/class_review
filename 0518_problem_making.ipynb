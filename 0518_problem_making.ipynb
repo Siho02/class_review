{
 "cells": [
  {
   "cell_type": "code",
   "execution_count": 9,
   "metadata": {},
   "outputs": [],
   "source": [
    "# 입력할 횟수를 입력 받은 후 이름과 나이를 입력 받는다.\n",
    "# while문을 이용하여 이름과 나이를 리스트에 입력 받고 zip을 이용하여 딕셔너리 형태로 반환한다!\n",
    "# 다음 셀은 예시입니다.\n",
    "\n",
    "def name_age_job_insert2(**kwargs) :\n",
    "    \n",
    "    while #statement :\n",
    "    \n",
    "        \n",
    "\n",
    "    \n",
    "    return dictionary\n",
    "\n",
    "    "
   ]
  },
  {
   "cell_type": "code",
   "execution_count": 11,
   "metadata": {},
   "outputs": [
    {
     "name": "stdout",
     "output_type": "stream",
     "text": [
      "입력할 횟수를 입력하세요 : 3\n",
      "이름을 입력하세요 : amy\n",
      "나이를 입력하세요 : 13\n",
      "이름을 입력하세요 : bill\n",
      "나이를 입력하세요 : 35\n",
      "이름을 입력하세요 : claus\n",
      "나이를 입력하세요 : 23\n"
     ]
    },
    {
     "data": {
      "text/plain": [
       "{'amy': 13, 'bill': 35, 'claus': 23}"
      ]
     },
     "execution_count": 11,
     "metadata": {},
     "output_type": "execute_result"
    }
   ],
   "source": [
    "name_age_job_insert2()"
   ]
  },
  {
   "cell_type": "code",
   "execution_count": 10,
   "metadata": {},
   "outputs": [],
   "source": [
    "## 연산자 '+, -, *, /, %'와 두개의 정수를 입력받아 각각 '더하기, 빼기, 곱하기, 나누기, 나머지'를 구하는 함수를 구현하라\n",
    "## 만약 위의 다섯개에 해당하지 않는 경우, '연산자가 올바르지 않습니다'를 출력하라\n",
    "## 다음 셀은 예시이다.\n",
    "\n",
    "def calculus() :\n",
    "    value = 0 \n",
    "    \n",
    "    return value"
   ]
  },
  {
   "cell_type": "code",
   "execution_count": 12,
   "metadata": {},
   "outputs": [
    {
     "name": "stdout",
     "output_type": "stream",
     "text": [
      "4\n",
      "2\n"
     ]
    }
   ],
   "source": [
    "print(calculus('+',1,3))\n",
    "print(calculus('%',56,3))"
   ]
  },
  {
   "cell_type": "code",
   "execution_count": 43,
   "metadata": {},
   "outputs": [
    {
     "data": {
      "text/plain": [
       "4"
      ]
     },
     "execution_count": 43,
     "metadata": {},
     "output_type": "execute_result"
    }
   ],
   "source": [
    "## 다음 주어진 fruits라는 리스트 중 데이터값이 \"딸기\"인 경우 1, 그 외의 경우 0으로 변환한 lst라는 리스트를 만들어 출력하고\n",
    "## (map과 lambda 함수를 이용)\n",
    "## 딸기가 나오는 횟수를 출력하라(reduce와 lambda 함수를 이용)\n",
    "\n",
    "from functools import reduce\n",
    "\n",
    "fruits = [\"사과\", \"배\", \"바나나\", \"딸기\", \"바나나\", \"사과\", \"배\", \"망고\", \"망고\", \"사과\", \"사과\"]\n",
    "\n"
   ]
  },
  {
   "cell_type": "code",
   "execution_count": null,
   "metadata": {},
   "outputs": [],
   "source": []
  }
 ],
 "metadata": {
  "kernelspec": {
   "display_name": "Python 3",
   "language": "python",
   "name": "python3"
  },
  "language_info": {
   "codemirror_mode": {
    "name": "ipython",
    "version": 3
   },
   "file_extension": ".py",
   "mimetype": "text/x-python",
   "name": "python",
   "nbconvert_exporter": "python",
   "pygments_lexer": "ipython3",
   "version": "3.8.3"
  }
 },
 "nbformat": 4,
 "nbformat_minor": 4
}
