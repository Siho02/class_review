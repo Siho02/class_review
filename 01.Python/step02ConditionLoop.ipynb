{
 "cells": [
  {
   "cell_type": "markdown",
   "metadata": {
    "id": "niLpGsx9R06B"
   },
   "source": [
    "<!--NAVIGATION-->\n",
    "\n",
    "\n",
    "[[step01. 기본 연산 학습 page로 이동](step01Calculation.ipynb) ]   |   [[step03_1. 데이터 타입 학습 page로 이동](step03_1DataType.ipynb) ]"
   ]
  },
  {
   "cell_type": "markdown",
   "metadata": {
    "id": "bwhZBiyRR06H"
   },
   "source": [
    "## 조건문 & 반복문을 이용한 프로그램 응용력 향상하기\n",
    "\n",
    "1. 연산자\n",
    "> 1. = : 오른쪽의 데이터를 왼쪽에 대입(할당) 연산자\n",
    "> 2. == : 동등비교 연산자\n",
    "> 3. != : 부정 연산자\n",
    "\n",
    "\n",
    "2. 조건식\n",
    "> 1. pass : 아무것도 실행하지 않음, 단순히 실행할 코드가 없다는 의미\n",
    "> 2. continue : 해당 로직을 제외하고 다음 loop 실행하란 의미\n",
    "\n",
    "3. 반복문 : 동일한 명령문을 여러번 실행\n",
    "> 1. for : 정해진 횟수만큼  반복하는 구조<br>\n",
    "> 2. while : 어떤 조건이 만족되는 동안, 반복을 계속하는 구조"
   ]
  },
  {
   "cell_type": "markdown",
   "metadata": {
    "id": "SGdtCzfWsesp"
   },
   "source": [
    "4. 키워드\n",
    "> 1. def - 사용자 정의 함수를 만들겠다는 선언구 \n",
    "> 2. return - 함수 내부에서 해당 함수를 호출한 곳으로 값을 돌려주는 키워드\n",
    "> 3. if / elif / else - 조건식\n",
    "> 4. True / False - boolean 표현\n",
    "\n",
    "\n"
   ]
  },
  {
   "cell_type": "code",
   "execution_count": null,
   "metadata": {
    "id": "bSFXEulAR06K"
   },
   "outputs": [],
   "source": [
    "'''\n",
    "조건문\n",
    "1. 조건이 true인 경우에만 하는 상황\n",
    "\n",
    "2. 조건이 true인 경우와 false 경우 실행되는 로직이 명확히 구분되어야 할 상황\n",
    "\n",
    "3. 조건이 여러개인 경우의 상황\n",
    "\n",
    "\n",
    "---\n",
    "1. 로그인 인증 \n",
    "  id/pw 둘다 인증\n",
    "    경우의 수 1 - id와 pw 비교시 id도 true 그리고 pw도 true    O\n",
    "    경우의 수 2 - id는 true 또는 pw는 true   (id가 true 이거나 또는 pw가 true 즉 둘중에 하나만 true 여도 되는 상황을 표현) X\n",
    "\n",
    "    경우의 수 3 - id는 true 그리고 pw는 false     X\n",
    "    경우의 수 4 - id는 false 그리고 pw는 true     X\n",
    "    경우의 수 5 - id는 false 그리고 pw는 false    X\n",
    "\n",
    "2. 의사 코드\n",
    "  말로 하는 코딩\n",
    "  말로 하는 로직의 흐름을 서술하는 형식 의사 코드\n",
    "  문법은 고려하지 않음 표현\n",
    "\n",
    "  경우의 수 1 : \n",
    "  만약에 id가 true라면           if id==True:\n",
    "    pw가 true인지 비교              if pw==True\n",
    "\n",
    "  \n",
    "  경우의 수 2 : \n",
    "    만약에 id가 true이고  pw가 true인지 비교          if id==True and pw==True\n",
    "\n",
    "  경우의 수 3  - 부적합\n",
    "     만약에 id가 true 또는  pw가 true인지 비교 \n",
    "    if id==True 개별 문장\n",
    "    if pw==True 개별 문장\n",
    "    ....\n",
    "\n",
    "'''"
   ]
  },
  {
   "cell_type": "code",
   "execution_count": null,
   "metadata": {
    "colab": {
     "base_uri": "https://localhost:8080/"
    },
    "id": "VRiKnJ7ubIK_",
    "outputId": "0406ad08-4e6c-4579-941b-0f5d6e9332d2"
   },
   "outputs": [
    {
     "name": "stdout",
     "output_type": "stream",
     "text": [
      "True인 경우만 실행\n"
     ]
    }
   ],
   "source": [
    "# True인 경우만 고려하는 단일 조건식\n",
    "if True:\n",
    "  print(\"True인 경우만 실행\")\n"
   ]
  },
  {
   "cell_type": "code",
   "execution_count": null,
   "metadata": {
    "colab": {
     "base_uri": "https://localhost:8080/"
    },
    "id": "UqYvn28kbRPq",
    "outputId": "3be166e0-758b-4b37-85c7-fdcd71b94a80"
   },
   "outputs": [
    {
     "name": "stdout",
     "output_type": "stream",
     "text": [
      "True인 경우만 실행\n"
     ]
    }
   ],
   "source": [
    "if 'a' == 'a':\n",
    "  print(\"True인 경우만 실행\")"
   ]
  },
  {
   "cell_type": "code",
   "execution_count": null,
   "metadata": {
    "id": "M-IQRgbFbd33"
   },
   "outputs": [],
   "source": [
    "if 'a' != 'a':\n",
    "  print(\"True인 경우만 실행\")"
   ]
  },
  {
   "cell_type": "code",
   "execution_count": null,
   "metadata": {
    "colab": {
     "base_uri": "https://localhost:8080/"
    },
    "id": "M0P11kIBbixb",
    "outputId": "7103ed83-4476-40f0-c124-ae591b1fa57d"
   },
   "outputs": [
    {
     "name": "stdout",
     "output_type": "stream",
     "text": [
      "조건식이 False인 경우만 실행\n"
     ]
    }
   ],
   "source": [
    "# True인 경우와 false 경우를 고려하는 조건식\n",
    "# if else\n",
    "# :  콜론이라 읽음    , 콤마    ; 세미콜론\n",
    "if 'a' != 'a':\n",
    "  print(\"True인 경우만 실행\")\n",
    "else:\n",
    "  print(\"조건식이 False인 경우만 실행\")"
   ]
  },
  {
   "cell_type": "code",
   "execution_count": null,
   "metadata": {
    "colab": {
     "base_uri": "https://localhost:8080/"
    },
    "id": "Wo42mfqPb1dQ",
    "outputId": "a433254a-2f7d-4b26-bfde-d791b9efdb68"
   },
   "outputs": [
    {
     "name": "stdout",
     "output_type": "stream",
     "text": [
      "10보다 작거나 같다\n"
     ]
    }
   ],
   "source": [
    "# 다중 조건식\n",
    "# if / elif / else\n",
    "a = 10\n",
    "\n",
    "if a < 5:  \n",
    "  print(\"5보다 작다\") \n",
    "elif a <= 10 :\n",
    "  print(\"10보다 작거나 같다\") \n",
    "else:\n",
    "  print(\"이도저도 아니더라\")"
   ]
  },
  {
   "cell_type": "code",
   "execution_count": null,
   "metadata": {
    "colab": {
     "base_uri": "https://localhost:8080/"
    },
    "id": "d7_4cOitfNDd",
    "outputId": "1dc7e2f1-29ff-4586-d1f8-e7abee6326ac"
   },
   "outputs": [
    {
     "name": "stdout",
     "output_type": "stream",
     "text": [
      "10보다 작거나 같다\n"
     ]
    }
   ],
   "source": [
    "# python 에서 기능을 재사용 할수 있게 구현하는 함수 개발\n",
    "# def 함수명( [new데이터 받을수 있는 문법 공간] ):\n",
    "#   함수 로직\n",
    "#   [결과값 반환 로직]\n",
    "\n",
    "def my_fun(a):\n",
    "  if a < 5:  \n",
    "    print(\"5보다 작다\") \n",
    "  elif a <= 10 :\n",
    "    print(\"10보다 작거나 같다\") \n",
    "  else:\n",
    "    print(\"이도저도 아니더라\")\n",
    "\n",
    "my_fun(10)"
   ]
  },
  {
   "cell_type": "code",
   "execution_count": null,
   "metadata": {
    "colab": {
     "base_uri": "https://localhost:8080/"
    },
    "id": "l4WB9Y-pfGLR",
    "outputId": "1c58be11-fab5-4c10-d65a-657ba45259da"
   },
   "outputs": [
    {
     "name": "stdout",
     "output_type": "stream",
     "text": [
      "5보다 작다\n"
     ]
    }
   ],
   "source": [
    "my_fun(3)"
   ]
  },
  {
   "cell_type": "code",
   "execution_count": null,
   "metadata": {
    "id": "UvBC3aIzkPPG"
   },
   "outputs": [],
   "source": [
    "# ???  실시간 입력되는 데이터는 문자열, playdata 라는 문자열에 한해서만 encore 출력되게 만들기\n",
    "\n",
    "def edu_name(msg):\n",
    "  if msg == 'playdata':\n",
    "    print('encore')\n",
    "  else:\n",
    "    print('틀렸어') "
   ]
  },
  {
   "cell_type": "code",
   "execution_count": null,
   "metadata": {
    "colab": {
     "base_uri": "https://localhost:8080/"
    },
    "executionInfo": {
     "elapsed": 970,
     "status": "ok",
     "timestamp": 1620873758595,
     "user": {
      "displayName": "김혜경",
      "photoUrl": "https://lh3.googleusercontent.com/a-/AOh14Ghj6yCOWfas3c-RFEZg9yZi0Y8GAll6IHR_nygo=s64",
      "userId": "05956990831563294642"
     },
     "user_tz": -540
    },
    "id": "5ACxF4YFkrJa",
    "outputId": "5f89cce9-4236-4967-fce7-666719a85576"
   },
   "outputs": [
    {
     "name": "stdout",
     "output_type": "stream",
     "text": [
      "틀렸어\n"
     ]
    }
   ],
   "source": [
    "edu_name('encore')    # 틀렸어 출력 "
   ]
  },
  {
   "cell_type": "code",
   "execution_count": null,
   "metadata": {
    "colab": {
     "base_uri": "https://localhost:8080/"
    },
    "executionInfo": {
     "elapsed": 1157,
     "status": "ok",
     "timestamp": 1620873760412,
     "user": {
      "displayName": "김혜경",
      "photoUrl": "https://lh3.googleusercontent.com/a-/AOh14Ghj6yCOWfas3c-RFEZg9yZi0Y8GAll6IHR_nygo=s64",
      "userId": "05956990831563294642"
     },
     "user_tz": -540
    },
    "id": "c5swHqTaksMr",
    "outputId": "a42f5ad1-9b86-4663-a282-16971ede7aa9"
   },
   "outputs": [
    {
     "name": "stdout",
     "output_type": "stream",
     "text": [
      "encore\n"
     ]
    }
   ],
   "source": [
    "edu_name('playdata')   # encore 출력"
   ]
  },
  {
   "cell_type": "code",
   "execution_count": null,
   "metadata": {
    "id": "2BbqYjQ5kuoJ"
   },
   "outputs": [],
   "source": [
    "def edu_name2(msg):\n",
    "  if msg == 'playdata':\n",
    "    return 'encore'\n",
    "  else:\n",
    "    return '틀렸어'"
   ]
  },
  {
   "cell_type": "code",
   "execution_count": null,
   "metadata": {
    "colab": {
     "base_uri": "https://localhost:8080/"
    },
    "executionInfo": {
     "elapsed": 1285,
     "status": "ok",
     "timestamp": 1620874031214,
     "user": {
      "displayName": "김혜경",
      "photoUrl": "https://lh3.googleusercontent.com/a-/AOh14Ghj6yCOWfas3c-RFEZg9yZi0Y8GAll6IHR_nygo=s64",
      "userId": "05956990831563294642"
     },
     "user_tz": -540
    },
    "id": "1x4Rgz9PnfAQ",
    "outputId": "86f104f9-0f16-4fc8-d515-d383ac78ce64"
   },
   "outputs": [
    {
     "name": "stdout",
     "output_type": "stream",
     "text": [
      "반환된 결과값 틀렸어\n"
     ]
    }
   ],
   "source": [
    "# 함수 실행 결과값을 받아서 새로운 문자열 조합해서 출력 \n",
    "# + 기호의 기능 두가지\n",
    "# + : 산술 연산의 더하기 / 데이터들 결합 \n",
    "\n",
    "# 결합 연산자\n",
    "\n",
    "print(\"반환된 결과값 \" + edu_name2('encore')) "
   ]
  },
  {
   "cell_type": "code",
   "execution_count": null,
   "metadata": {
    "id": "l0R-LZn3paNa"
   },
   "outputs": [],
   "source": []
  },
  {
   "cell_type": "markdown",
   "metadata": {
    "id": "eDxo9XY9oHo2"
   },
   "source": [
    "```\n",
    "  ` : 백틱 이라 읽음\n",
    "  \n",
    "  print(\"반환된 결과값 \" + edu_name2('encore')) \n",
    "\n",
    "  1. print() : 콘솔창에 출력하는 기능의 내장 함수\n",
    "  2. eud_name2() : python 사용하는 개발자를 [python 언어] 사용자가 구현한 함수 (사용자 정의 함수)\n",
    "\n",
    "  3. 실행 순서\n",
    "    print() 호출(call) -> \"반환된 결과값 \" 문자열이 메모리에 생성 -> + 실행 시작 -> edu_name2('encore') 호출 시작 -> encore 문자열 생성 -> 실행 edu_name2 실행 -> 결과값이 반환되어 옴 -> + 연산자가 결과값 결합 -> print() 실행 즉 출력 마무리 \n",
    "```"
   ]
  },
  {
   "cell_type": "code",
   "execution_count": null,
   "metadata": {
    "id": "gWfuhbqWnusu"
   },
   "outputs": [],
   "source": [
    "# ??? 두개의 데이터 받아서 더한 결과값을 반환(return)하는 더하기(산술연산 + ) 함수 만들기\n",
    "\n",
    "def my_sum(v1, v2):\n",
    "  return v1 + v2   # return 이 기능의 함수를 호출한 곳으로 값을 전달하는 기능의 키워드"
   ]
  },
  {
   "cell_type": "code",
   "execution_count": null,
   "metadata": {
    "colab": {
     "base_uri": "https://localhost:8080/"
    },
    "executionInfo": {
     "elapsed": 915,
     "status": "ok",
     "timestamp": 1620875087514,
     "user": {
      "displayName": "김혜경",
      "photoUrl": "https://lh3.googleusercontent.com/a-/AOh14Ghj6yCOWfas3c-RFEZg9yZi0Y8GAll6IHR_nygo=s64",
      "userId": "05956990831563294642"
     },
     "user_tz": -540
    },
    "id": "gvY-PuvpnthU",
    "outputId": "b2f1c6c1-1da5-4910-872f-3749f91b9256"
   },
   "outputs": [
    {
     "name": "stdout",
     "output_type": "stream",
     "text": [
      "30\n"
     ]
    }
   ],
   "source": [
    "# 다수의 데이터들은 , 가 구분자\n",
    "# 두개의 메모리 필요\n",
    "print(my_sum(10, 20))   # 30"
   ]
  },
  {
   "cell_type": "code",
   "execution_count": null,
   "metadata": {
    "colab": {
     "base_uri": "https://localhost:8080/"
    },
    "executionInfo": {
     "elapsed": 764,
     "status": "ok",
     "timestamp": 1620875090278,
     "user": {
      "displayName": "김혜경",
      "photoUrl": "https://lh3.googleusercontent.com/a-/AOh14Ghj6yCOWfas3c-RFEZg9yZi0Y8GAll6IHR_nygo=s64",
      "userId": "05956990831563294642"
     },
     "user_tz": -540
    },
    "id": "Z7acPrIyniui",
    "outputId": "3f58ab7f-e098-483b-b19a-e40751f60d2b"
   },
   "outputs": [
    {
     "name": "stdout",
     "output_type": "stream",
     "text": [
      "120\n"
     ]
    }
   ],
   "source": [
    "print(my_sum(100, 20))   # 120"
   ]
  },
  {
   "cell_type": "code",
   "execution_count": null,
   "metadata": {
    "id": "NiYQ6jGRr6IN"
   },
   "outputs": [],
   "source": [
    "def my_sum(v1, v2):\n",
    "  v1 + v2  # 더하기만 하고 끝남 즉 이 함수 기능을 통해서 더한 결과값을 활용하기 위해 다른 곳에서 호출한 경우 더한 결과값 못받음"
   ]
  },
  {
   "cell_type": "markdown",
   "metadata": {
    "id": "72FLtN4WsMQ8"
   },
   "source": []
  },
  {
   "cell_type": "code",
   "execution_count": null,
   "metadata": {
    "id": "YAmFuSecd76M"
   },
   "outputs": [],
   "source": [
    "# 입력하는 id값(실시간 가변적인 동적 데이터)을 받아서 로직 수행 후 검증한 결과값을 client에게 반환\n",
    "# client 는 데이터를 입력 ->server에 전송\n",
    "# server는 데이터를 받고 -> 검증 -> 인증 결과값을 client에게 응답(출력, 결과 리턴)\n",
    "\n",
    "\n",
    "데이터 받고 - 받을수 가변적인 문법\n",
    "처리하고  - 조건 비교\n",
    "리턴 - return \n",
    "\n",
    "여러명이 요청하는 로직 - 재사용성 고려\n",
    "필요시 마다 호출 - 이름\n",
    "\n",
    "\n",
    "def 이름(데이터 받는 영역):\n",
    "\n",
    "  if ...:  \n",
    "  elif ... :\n",
    "  else:\n",
    "\n",
    "  return 결과값;\n",
    "\n",
    "\n"
   ]
  },
  {
   "cell_type": "markdown",
   "metadata": {
    "id": "U5WE-8TUsLX0"
   },
   "source": []
  },
  {
   "cell_type": "code",
   "execution_count": null,
   "metadata": {
    "id": "sllct2KvdiZO"
   },
   "outputs": [],
   "source": []
  },
  {
   "cell_type": "markdown",
   "metadata": {
    "id": "rI57zoE7R06L"
   },
   "source": [
    "**미션1. 윤년  프로그램을 통한 연산자 및 조건식 이해하기**\n",
    "\n",
    "- 4로 나누어 떨어지는 년도 : 값 % 4이 0    \n",
    "- 그 중 100으로 나누어 떨어지는 년도는 윤년이 아님 : 값 % 100 의 0과 비교\n",
    "- 400으로 나누어 떨어지는 년도는 무조건 윤년 : 1+2 또는 3번째 조건식 비교( 값 % 400와 0 비교)"
   ]
  },
  {
   "cell_type": "code",
   "execution_count": 1,
   "metadata": {
    "id": "jWOyxx2yHUiT"
   },
   "outputs": [
    {
     "name": "stdout",
     "output_type": "stream",
     "text": [
      "년도를 입력하세요 : 5200\n",
      "5200 년은 윤년입니다.\n"
     ]
    }
   ],
   "source": [
    "year = int(input(\"년도를 입력하세요 : \"))\n",
    "\n",
    "def year_check(year) :\n",
    "    if year % 4 == 0 :    ##year가 4의 배우시면(가정)\n",
    "        if year % 100 == 0 and year % 400 != 0 :\n",
    "            print(year,\"년은 윤년이 아닙니다.\")\n",
    "        else : \n",
    "            print(year,\"년은 윤년입니다.\")\n",
    "    else : \n",
    "        print(year,\"년은 윤년이 아닙니다\")\n",
    "\n",
    "year_check(year)"
   ]
  },
  {
   "cell_type": "code",
   "execution_count": null,
   "metadata": {
    "id": "p5RndAGxR06M"
   },
   "outputs": [],
   "source": []
  },
  {
   "cell_type": "markdown",
   "metadata": {
    "id": "2Mip93stR06N"
   },
   "source": [
    "**미션2. 문자열의 중간 문자를 추출해 보기**\n",
    "\n",
    "문자열의 중앙에 있는 문자를 출력한다. 예를 들어서 문자열이 \"weekday\"이라면 중앙의 문자는 \"k\"가 된다.<br>\n",
    "하지만 만약 문자열이 짝수개의 문자를 가지고 있다면 중앙의 2개의 글자를 출력한다.<br>\n",
    "예를 들어서 \"string\" 문자열에서는 \"ri\"를 반환한다. "
   ]
  },
  {
   "cell_type": "code",
   "execution_count": 3,
   "metadata": {
    "id": "0-a10Gc3R06O"
   },
   "outputs": [
    {
     "name": "stdout",
     "output_type": "stream",
     "text": [
      "문자열을 입력하세요 : star\n",
      "ta\n"
     ]
    }
   ],
   "source": [
    "string = input(\"문자열을 입력하세요 : \")\n",
    "length = len(string)\n",
    "\n",
    "if len(string) % 2 == 0 :\n",
    "    print(string[length // 2 -1  : length // 2 + 1])\n",
    "else : \n",
    "    print(string[len(string)//2])\n",
    "    \n",
    "\n"
   ]
  },
  {
   "cell_type": "markdown",
   "metadata": {
    "id": "4NUEtnh_R06P"
   },
   "source": [
    "**미션3. 임금 계산해 보기**\n",
    "\n",
    "사용자에게 근무 시간과 시간당 임금을 물어보고, 주당 근무 시간이 40시간을 넘으면 1.5배의 임금을 지급해야 한다고 가정할 경우<br> \n",
    "이번주에 받는 총임금을 계산하는 프로그램을 만들어 보자"
   ]
  },
  {
   "cell_type": "code",
   "execution_count": 5,
   "metadata": {
    "id": "n4Na5-oSR06Q"
   },
   "outputs": [
    {
     "name": "stdout",
     "output_type": "stream",
     "text": [
      "근무 시간을 입력하세요 : 43.5\n",
      "시간 당 임금을 입력하세요 : 2.8\n",
      "182.7\n"
     ]
    }
   ],
   "source": [
    "labor_hour = float(input(\"근무 시간을 입력하세요 : \"))\n",
    "wage_per_hour = float(input(\"시간 당 임금을 입력하세요 : \"))\n",
    "\n",
    "if labor_hour > 40 :\n",
    "    wage = labor_hour * wage_per_hour * 1.5\n",
    "else :\n",
    "    wage = labor_hour * wage_per_hour\n",
    "\n",
    "print(wage)"
   ]
  },
  {
   "cell_type": "markdown",
   "metadata": {
    "id": "cCgIbH_4R06R"
   },
   "source": [
    "## 반복문"
   ]
  },
  {
   "cell_type": "code",
   "execution_count": 11,
   "metadata": {
    "id": "StR5vBqsR06S"
   },
   "outputs": [
    {
     "name": "stdout",
     "output_type": "stream",
     "text": [
      "0 1 2 3 4 5 6 7 8 9 10 11 12 13 14 15 16 17 18 19 20 21 22 23 24 25 26 27 28 29 30 31 32 33 34 35 36 37 38 39 40 41 42 43 44 45 46 47 48 49 50 51 52 53 54 55 56 57 58 59 60 61 62 63 64 65 66 67 68 69 70 71 72 73 74 75 76 77 78 79 80 81 82 83 84 85 86 87 88 89 90 91 92 93 94 95 96 97 98 99 100 "
     ]
    }
   ],
   "source": [
    "for i in range(101) :\n",
    "    print(i,end=' ')"
   ]
  },
  {
   "cell_type": "markdown",
   "metadata": {
    "id": "9gtlf8i1R06T"
   },
   "source": [
    "**미션 - 숫자로 pyramid 만들기**\n",
    "\n",
    "- 중첩 for문과 range() 함수 활용"
   ]
  },
  {
   "cell_type": "code",
   "execution_count": 8,
   "metadata": {
    "id": "tIsj6fX9R06U"
   },
   "outputs": [
    {
     "name": "stdout",
     "output_type": "stream",
     "text": [
      "피라미드의 층을 입력하세요 : 5\n",
      "1 \n",
      "2 2 \n",
      "3 3 3 \n",
      "4 4 4 4 \n",
      "5 5 5 5 5 \n"
     ]
    }
   ],
   "source": [
    "floor = int(input(\"피라미드의 층을 입력하세요 : \"))\n",
    "\n",
    "for i in range(1, floor+1) :\n",
    "    for j in range(i) :\n",
    "        print(i, end=' ')\n",
    "    print(\"\")"
   ]
  },
  {
   "cell_type": "code",
   "execution_count": 22,
   "metadata": {},
   "outputs": [
    {
     "name": "stdout",
     "output_type": "stream",
     "text": [
      "피라미드의 층 수를 입력하세요 : 6\n",
      "1\t\n",
      "\n",
      "2\t3\t\n",
      "\n",
      "4\t5\t6\t\n",
      "\n",
      "7\t8\t9\t10\t\n",
      "\n",
      "11\t12\t13\t14\t15\t\n",
      "\n",
      "16\t17\t18\t19\t20\t21\t\n",
      "\n",
      "22\t23\t24\t25\t26\t\n",
      "\n",
      "27\t28\t29\t30\t\n",
      "\n",
      "31\t32\t33\t\n",
      "\n",
      "34\t35\t\n",
      "\n",
      "36\t\n",
      "\n"
     ]
    }
   ],
   "source": [
    "num = int(input(\"피라미드의 층 수를 입력하세요 : \"))\n",
    "\n",
    "line_num = num*2 -1 \n",
    "pyramid_num = 1 \n",
    "\n",
    "for line_idx in range(line_num) :\n",
    "    \n",
    "    if line_idx < line_num // 2 :\n",
    "        for idx in range(line_idx+1) :\n",
    "            print(pyramid_num, end = \"\\t\")\n",
    "            pyramid_num += 1\n",
    "            \n",
    "    else : \n",
    "        for idx in range(line_num - line_idx) :\n",
    "            print(pyramid_num, end = \"\\t\")\n",
    "            pyramid_num += 1\n",
    "    \n",
    "    print(\"\\n\")\n",
    "\n"
   ]
  },
  {
   "cell_type": "markdown",
   "metadata": {
    "id": "kOMwwTGMR06V"
   },
   "source": [
    "**미션- 팩토리얼 계산하기**\n",
    ">반복문을 활용하여 팩토리얼 계산해 보기<br>\n",
    "for문과 while문을 활용하여 각각 만들어 보기<br>\n",
    "팩토리얼 n!은 1~n까지의 정수를 모두 곱한 것을 의미한다<br>\n",
    "n! = 1*2*3*...(n-1)*n\n",
    "\n",
    ">힌트 : range() 함수를 이용"
   ]
  },
  {
   "cell_type": "code",
   "execution_count": 29,
   "metadata": {
    "id": "UyA4IcErR06W"
   },
   "outputs": [
    {
     "data": {
      "text/plain": [
       "120"
      ]
     },
     "execution_count": 29,
     "metadata": {},
     "output_type": "execute_result"
    }
   ],
   "source": [
    "def factorial_for(num) :\n",
    "    value = 1 \n",
    "    for i in range(1,num+1) :\n",
    "        value *= i\n",
    "    \n",
    "    return value\n",
    "\n",
    "factorial_for(5)"
   ]
  },
  {
   "cell_type": "code",
   "execution_count": 30,
   "metadata": {},
   "outputs": [
    {
     "data": {
      "text/plain": [
       "6"
      ]
     },
     "execution_count": 30,
     "metadata": {},
     "output_type": "execute_result"
    }
   ],
   "source": [
    "def factorial_while(num) :\n",
    "    value = 1\n",
    "    i=1 \n",
    "    \n",
    "    while i < num+1 :\n",
    "        value *= i\n",
    "        i += 1\n",
    "\n",
    "    return value\n",
    "\n",
    "factorial_while(3)"
   ]
  },
  {
   "cell_type": "markdown",
   "metadata": {
    "id": "l30fK4b3R06X"
   },
   "source": [
    "**미션-계좌번호 처리하기**\n",
    "\n",
    "> 인터넷 뱅킹을 사용하다보면 계좌번호를 입력할 때, \"312-02-1234567\"과 사용자로부터 \"-\"가 포함된 계좌 번호를 받아서 \"-\"을 삭제한 문자열을 만들어보자. \n"
   ]
  },
  {
   "cell_type": "code",
   "execution_count": 24,
   "metadata": {
    "id": "vWAjdQTdR06Y"
   },
   "outputs": [
    {
     "name": "stdout",
     "output_type": "stream",
     "text": [
      "계좌번호를 입력하세요 :110-373-402707\n",
      "110373402707"
     ]
    }
   ],
   "source": [
    "acc_num = str(input(\"계좌번호를 입력하세요 :\"))\n",
    "new_acc = list()\n",
    "\n",
    "def New_acc(acc_num) :\n",
    "    for i in range(len(acc_num)) :\n",
    "        if acc_num[i] != '-' :\n",
    "            new_acc.append(acc_num[i])\n",
    "    for i in range(len(new_acc)) :\n",
    "        print(new_acc[i],sep='',end='')    \n",
    "    \n",
    "\n",
    "New_acc(acc_num)"
   ]
  },
  {
   "cell_type": "code",
   "execution_count": 28,
   "metadata": {},
   "outputs": [
    {
     "name": "stdout",
     "output_type": "stream",
     "text": [
      "계좌 번호를 입력하세요 : 110-373-402\n",
      "110373402"
     ]
    }
   ],
   "source": [
    "account = input(\"계좌 번호를 입력하세요 : \")\n",
    "\n",
    "def new_account(serial_num) :\n",
    "    for i in serial_num : \n",
    "        if i != '-' :\n",
    "            print(i, end = '')\n",
    "        \n",
    "new_account(account)\n",
    "            \n",
    "    "
   ]
  },
  {
   "cell_type": "markdown",
   "metadata": {
    "id": "XslKMc1cR06Z"
   },
   "source": [
    "**미션 - 알파벳, 숫자, 스페이스의 처리**\n",
    "\n",
    "> 문자열을 조사하여서 알파벳 문자의 개수, 숫자의 개수, 스페이스의 개수를 출력하는 프로그램을 작성하라"
   ]
  },
  {
   "cell_type": "code",
   "execution_count": 27,
   "metadata": {
    "id": "Bolhbr2QR06Z"
   },
   "outputs": [
    {
     "name": "stdout",
     "output_type": "stream",
     "text": [
      "문자열을 입력하세요 : hello I am 13 years old\n",
      "5 18\n"
     ]
    }
   ],
   "source": [
    "string = input(\"문자열을 입력하세요 : \")\n",
    "\n",
    "def number_of(string) :\n",
    "    alp = 0 \n",
    "    num = 0\n",
    "    space = 0\n",
    "    for i in range(len(string)) :\n",
    "        if string[i] == ' ' :\n",
    "            space += 1 \n",
    "        elif string[i]\n",
    "        elif type(string[i]) == str and string[i] != ' ':\n",
    "            alp += 1 \n",
    "            \n",
    "        \n",
    "    print(space, alp)\n",
    "\n",
    "number_of(string)\n",
    "\n",
    "        "
   ]
  },
  {
   "cell_type": "code",
   "execution_count": 47,
   "metadata": {},
   "outputs": [
    {
     "name": "stdout",
     "output_type": "stream",
     "text": [
      "문자열 입력 : hello 13\n",
      "스페이스, 숫자, 알파벳 개수 :  1 2 5\n"
     ]
    }
   ],
   "source": [
    "string = input(\"문자열 입력 : \")\n",
    "\n",
    "def num_of_str(string) :\n",
    "    alphabet = 0\n",
    "    num = 0\n",
    "    space = 0\n",
    "    \n",
    "    for data in string : \n",
    "        if data.isalpha() :\n",
    "            alphabet += 1 \n",
    "        elif data.isdigit() :\n",
    "            num += 1 \n",
    "        elif data.isspace() :\n",
    "            space += 1\n",
    "    \n",
    "    print(\"스페이스, 숫자, 알파벳 개수 : \", space, num, alphabet)\n",
    "    \n",
    "    \n",
    "num_of_str(string)"
   ]
  },
  {
   "cell_type": "markdown",
   "metadata": {
    "id": "Qzgg-UUGR06a"
   },
   "source": [
    "**실행 결과와 비교해 보면서 분석해 보기**"
   ]
  },
  {
   "cell_type": "code",
   "execution_count": null,
   "metadata": {
    "id": "-4-exbJSR06b",
    "outputId": "36315d99-c99a-4eff-91ea-13482533e3f6"
   },
   "outputs": [
    {
     "name": "stdout",
     "output_type": "stream",
     "text": [
      "3 4 5\n",
      "4 3 5\n",
      "5 12 13\n",
      "6 8 10\n",
      "7 24 25\n",
      "8 6 10\n",
      "8 15 17\n",
      "9 12 15\n",
      "9 40 41\n",
      "10 24 26\n",
      "11 60 61\n",
      "12 5 13\n",
      "12 9 15\n",
      "12 16 20\n",
      "12 35 37\n",
      "13 84 85\n",
      "14 48 50\n",
      "15 8 17\n",
      "15 20 25\n",
      "15 36 39\n",
      "16 12 20\n",
      "16 30 34\n",
      "16 63 65\n",
      "18 24 30\n",
      "18 80 82\n",
      "20 15 25\n",
      "20 21 29\n",
      "20 48 52\n",
      "21 20 29\n",
      "21 28 35\n",
      "21 72 75\n",
      "24 7 25\n",
      "24 10 26\n",
      "24 18 30\n",
      "24 32 40\n",
      "24 45 51\n",
      "24 70 74\n",
      "25 60 65\n",
      "27 36 45\n",
      "28 21 35\n",
      "28 45 53\n",
      "28 96 100\n",
      "30 16 34\n",
      "30 40 50\n",
      "30 72 78\n",
      "32 24 40\n",
      "32 60 68\n",
      "33 44 55\n",
      "33 56 65\n",
      "35 12 37\n",
      "35 84 91\n",
      "36 15 39\n",
      "36 27 45\n",
      "36 48 60\n",
      "36 77 85\n",
      "39 52 65\n",
      "39 80 89\n",
      "40 9 41\n",
      "40 30 50\n",
      "40 42 58\n",
      "40 75 85\n",
      "42 40 58\n",
      "42 56 70\n",
      "44 33 55\n",
      "45 24 51\n",
      "45 28 53\n",
      "45 60 75\n",
      "48 14 50\n",
      "48 20 52\n",
      "48 36 60\n",
      "48 55 73\n",
      "48 64 80\n",
      "51 68 85\n",
      "52 39 65\n",
      "54 72 90\n",
      "55 48 73\n",
      "56 33 65\n",
      "56 42 70\n",
      "57 76 95\n",
      "60 11 61\n",
      "60 25 65\n",
      "60 32 68\n",
      "60 45 75\n",
      "60 63 87\n",
      "60 80 100\n",
      "63 16 65\n",
      "63 60 87\n",
      "64 48 80\n",
      "65 72 97\n",
      "68 51 85\n",
      "70 24 74\n",
      "72 21 75\n",
      "72 30 78\n",
      "72 54 90\n",
      "72 65 97\n",
      "75 40 85\n",
      "76 57 95\n",
      "77 36 85\n",
      "80 18 82\n",
      "80 39 89\n",
      "80 60 100\n",
      "84 13 85\n",
      "84 35 91\n",
      "96 28 100\n"
     ]
    }
   ],
   "source": [
    "for a in range(1, 101, 1):\n",
    "    for b in range(1, 101, 1):\n",
    "        for c in range(1, 101, 1):\n",
    "            if( (a*a+b*b)==c*c ):\n",
    "                print(a, b, c)"
   ]
  },
  {
   "cell_type": "code",
   "execution_count": null,
   "metadata": {
    "id": "GN9-i5-vR06d"
   },
   "outputs": [],
   "source": []
  }
 ],
 "metadata": {
  "colab": {
   "collapsed_sections": [],
   "name": "step02ConditionLoop.ipynb",
   "provenance": []
  },
  "kernelspec": {
   "display_name": "Python 3",
   "language": "python",
   "name": "python3"
  },
  "language_info": {
   "codemirror_mode": {
    "name": "ipython",
    "version": 3
   },
   "file_extension": ".py",
   "mimetype": "text/x-python",
   "name": "python",
   "nbconvert_exporter": "python",
   "pygments_lexer": "ipython3",
   "version": "3.8.3"
  }
 },
 "nbformat": 4,
 "nbformat_minor": 1
}
