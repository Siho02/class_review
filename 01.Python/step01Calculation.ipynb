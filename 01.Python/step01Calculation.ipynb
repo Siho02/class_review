{
 "cells": [
  {
   "cell_type": "markdown",
   "metadata": {
    "id": "wXiK-mGyDVsV"
   },
   "source": [
    "<!--NAVIGATION-->\n",
    "[[step02. 조건문 & 반복문 학습 page로 이동](step02ConditionLoop.ipynb) ]"
   ]
  },
  {
   "cell_type": "markdown",
   "metadata": {
    "id": "Y2NRszRiUhAU"
   },
   "source": [
    "\n",
    "\n",
    "1.   type() \n",
    "\n",
    "- 기능(함수) 호출해서 사용, 내장 함수 \n",
    "- 함수 사용해서 데이터의 타입 확인 \n",
    "- python 타입 : int(정수) / float(실수) / str(문자열)\n",
    "- 정수를 연산한 결과는 무조건 float 타입의 결과 반환\n",
    "\n",
    "2.   항목 추가\n",
    "\n",
    "- \n"
   ]
  },
  {
   "cell_type": "markdown",
   "metadata": {
    "id": "wCplQvbkDVsm"
   },
   "source": [
    "## 파이썬을 계산기 처럼 이용하기\n",
    "\n",
    "- 사칙연산\n",
    "- 거듭 제곱과 나머지\n",
    "- 과학적 표기법\n",
    "- 논리 연산 및 비교 연산"
   ]
  },
  {
   "cell_type": "markdown",
   "metadata": {
    "id": "iuIDjwLDDVso"
   },
   "source": [
    "1. 사칙연산"
   ]
  },
  {
   "cell_type": "code",
   "execution_count": null,
   "metadata": {
    "colab": {
     "base_uri": "https://localhost:8080/"
    },
    "executionInfo": {
     "elapsed": 720,
     "status": "ok",
     "timestamp": 1620868686722,
     "user": {
      "displayName": "김혜경",
      "photoUrl": "https://lh3.googleusercontent.com/a-/AOh14Ghj6yCOWfas3c-RFEZg9yZi0Y8GAll6IHR_nygo=s64",
      "userId": "05956990831563294642"
     },
     "user_tz": -540
    },
    "id": "UwtFyUJUDVsp",
    "outputId": "d23e696b-828e-4c46-a8fc-48edd11dc2fc"
   },
   "outputs": [
    {
     "data": {
      "text/plain": [
       "2"
      ]
     },
     "execution_count": 6,
     "metadata": {
      "tags": []
     },
     "output_type": "execute_result"
    }
   ],
   "source": [
    "1+1"
   ]
  },
  {
   "cell_type": "code",
   "execution_count": null,
   "metadata": {
    "colab": {
     "base_uri": "https://localhost:8080/"
    },
    "executionInfo": {
     "elapsed": 699,
     "status": "ok",
     "timestamp": 1620868713523,
     "user": {
      "displayName": "김혜경",
      "photoUrl": "https://lh3.googleusercontent.com/a-/AOh14Ghj6yCOWfas3c-RFEZg9yZi0Y8GAll6IHR_nygo=s64",
      "userId": "05956990831563294642"
     },
     "user_tz": -540
    },
    "id": "Vh8InpuDTWBy",
    "outputId": "c68fa904-48c1-4a70-84c7-ac017c038196"
   },
   "outputs": [
    {
     "data": {
      "text/plain": [
       "1.0"
      ]
     },
     "execution_count": 7,
     "metadata": {
      "tags": []
     },
     "output_type": "execute_result"
    }
   ],
   "source": [
    "3/3"
   ]
  },
  {
   "cell_type": "code",
   "execution_count": null,
   "metadata": {
    "colab": {
     "base_uri": "https://localhost:8080/"
    },
    "executionInfo": {
     "elapsed": 680,
     "status": "ok",
     "timestamp": 1620868717100,
     "user": {
      "displayName": "김혜경",
      "photoUrl": "https://lh3.googleusercontent.com/a-/AOh14Ghj6yCOWfas3c-RFEZg9yZi0Y8GAll6IHR_nygo=s64",
      "userId": "05956990831563294642"
     },
     "user_tz": -540
    },
    "id": "NmffzBftTclJ",
    "outputId": "b7a44397-a9f9-4a32-afe5-3e5b08e9e1e9"
   },
   "outputs": [
    {
     "data": {
      "text/plain": [
       "1.5"
      ]
     },
     "execution_count": 8,
     "metadata": {
      "tags": []
     },
     "output_type": "execute_result"
    }
   ],
   "source": [
    "3/2"
   ]
  },
  {
   "cell_type": "code",
   "execution_count": null,
   "metadata": {
    "colab": {
     "base_uri": "https://localhost:8080/"
    },
    "executionInfo": {
     "elapsed": 732,
     "status": "ok",
     "timestamp": 1620868761726,
     "user": {
      "displayName": "김혜경",
      "photoUrl": "https://lh3.googleusercontent.com/a-/AOh14Ghj6yCOWfas3c-RFEZg9yZi0Y8GAll6IHR_nygo=s64",
      "userId": "05956990831563294642"
     },
     "user_tz": -540
    },
    "id": "iHXi7tSYTddB",
    "outputId": "1a59dbec-def9-413d-a63b-774b98e61685"
   },
   "outputs": [
    {
     "data": {
      "text/plain": [
       "str"
      ]
     },
     "execution_count": 9,
     "metadata": {
      "tags": []
     },
     "output_type": "execute_result"
    }
   ],
   "source": [
    "# type 확인\n",
    "type(\"string\")"
   ]
  },
  {
   "cell_type": "code",
   "execution_count": null,
   "metadata": {
    "colab": {
     "base_uri": "https://localhost:8080/"
    },
    "executionInfo": {
     "elapsed": 775,
     "status": "ok",
     "timestamp": 1620868804036,
     "user": {
      "displayName": "김혜경",
      "photoUrl": "https://lh3.googleusercontent.com/a-/AOh14Ghj6yCOWfas3c-RFEZg9yZi0Y8GAll6IHR_nygo=s64",
      "userId": "05956990831563294642"
     },
     "user_tz": -540
    },
    "id": "F5lDWbUwToVb",
    "outputId": "65392179-fd10-4faa-b40f-de3fa196d49d"
   },
   "outputs": [
    {
     "data": {
      "text/plain": [
       "float"
      ]
     },
     "execution_count": 10,
     "metadata": {
      "tags": []
     },
     "output_type": "execute_result"
    }
   ],
   "source": [
    "type(3/3)  # 나누기"
   ]
  },
  {
   "cell_type": "code",
   "execution_count": null,
   "metadata": {
    "colab": {
     "base_uri": "https://localhost:8080/"
    },
    "executionInfo": {
     "elapsed": 695,
     "status": "ok",
     "timestamp": 1620868822117,
     "user": {
      "displayName": "김혜경",
      "photoUrl": "https://lh3.googleusercontent.com/a-/AOh14Ghj6yCOWfas3c-RFEZg9yZi0Y8GAll6IHR_nygo=s64",
      "userId": "05956990831563294642"
     },
     "user_tz": -540
    },
    "id": "ghs3xNoSTyqK",
    "outputId": "171f7298-8251-4ba0-e4bf-c28622c79599"
   },
   "outputs": [
    {
     "data": {
      "text/plain": [
       "int"
      ]
     },
     "execution_count": 11,
     "metadata": {
      "tags": []
     },
     "output_type": "execute_result"
    }
   ],
   "source": [
    "type(2+3)"
   ]
  },
  {
   "cell_type": "code",
   "execution_count": null,
   "metadata": {
    "colab": {
     "base_uri": "https://localhost:8080/"
    },
    "executionInfo": {
     "elapsed": 783,
     "status": "ok",
     "timestamp": 1620869278285,
     "user": {
      "displayName": "김혜경",
      "photoUrl": "https://lh3.googleusercontent.com/a-/AOh14Ghj6yCOWfas3c-RFEZg9yZi0Y8GAll6IHR_nygo=s64",
      "userId": "05956990831563294642"
     },
     "user_tz": -540
    },
    "id": "O5--o8JQVka4",
    "outputId": "a7b5a625-6062-4851-9e93-5b796d1eea61"
   },
   "outputs": [
    {
     "data": {
      "text/plain": [
       "2"
      ]
     },
     "execution_count": 13,
     "metadata": {
      "tags": []
     },
     "output_type": "execute_result"
    }
   ],
   "source": [
    "# 나누고 난 나머지 - %[모듈러스 연산자라 읽음]\n",
    "5%3"
   ]
  },
  {
   "cell_type": "code",
   "execution_count": null,
   "metadata": {
    "colab": {
     "base_uri": "https://localhost:8080/"
    },
    "executionInfo": {
     "elapsed": 735,
     "status": "ok",
     "timestamp": 1620869199324,
     "user": {
      "displayName": "김혜경",
      "photoUrl": "https://lh3.googleusercontent.com/a-/AOh14Ghj6yCOWfas3c-RFEZg9yZi0Y8GAll6IHR_nygo=s64",
      "userId": "05956990831563294642"
     },
     "user_tz": -540
    },
    "id": "SYJN9d4BT3Fq",
    "outputId": "8951682d-8d3d-4332-b6d4-023139ba9a11"
   },
   "outputs": [
    {
     "data": {
      "text/plain": [
       "1"
      ]
     },
     "execution_count": 12,
     "metadata": {
      "tags": []
     },
     "output_type": "execute_result"
    }
   ],
   "source": [
    "# 나누고 난 나머지를 제거하는 연산자 : 나누기 연산자\n",
    "5//3"
   ]
  },
  {
   "cell_type": "code",
   "execution_count": null,
   "metadata": {
    "colab": {
     "base_uri": "https://localhost:8080/"
    },
    "executionInfo": {
     "elapsed": 674,
     "status": "ok",
     "timestamp": 1620869346220,
     "user": {
      "displayName": "김혜경",
      "photoUrl": "https://lh3.googleusercontent.com/a-/AOh14Ghj6yCOWfas3c-RFEZg9yZi0Y8GAll6IHR_nygo=s64",
      "userId": "05956990831563294642"
     },
     "user_tz": -540
    },
    "id": "sHrnuQ56VTK0",
    "outputId": "8fb89dd8-11d7-4cdb-dc79-40ed2b984028"
   },
   "outputs": [
    {
     "data": {
      "text/plain": [
       "1"
      ]
     },
     "execution_count": 14,
     "metadata": {
      "tags": []
     },
     "output_type": "execute_result"
    }
   ],
   "source": [
    "5%3\n",
    "5//3"
   ]
  },
  {
   "cell_type": "code",
   "execution_count": null,
   "metadata": {
    "colab": {
     "base_uri": "https://localhost:8080/"
    },
    "executionInfo": {
     "elapsed": 758,
     "status": "ok",
     "timestamp": 1620869363272,
     "user": {
      "displayName": "김혜경",
      "photoUrl": "https://lh3.googleusercontent.com/a-/AOh14Ghj6yCOWfas3c-RFEZg9yZi0Y8GAll6IHR_nygo=s64",
      "userId": "05956990831563294642"
     },
     "user_tz": -540
    },
    "id": "fAtA6dESV3C1",
    "outputId": "a6c01f47-ee80-4663-eed5-e2a937506bcb"
   },
   "outputs": [
    {
     "name": "stdout",
     "output_type": "stream",
     "text": [
      "2\n",
      "1\n"
     ]
    }
   ],
   "source": [
    "print(5%3)\n",
    "print(5//3)"
   ]
  },
  {
   "cell_type": "markdown",
   "metadata": {
    "id": "hnjGMRHDDVsr"
   },
   "source": [
    "2. 거듭제곱"
   ]
  },
  {
   "cell_type": "markdown",
   "metadata": {
    "id": "mie3pgTGDVsr"
   },
   "source": [
    "3. 과학적 표기법"
   ]
  },
  {
   "cell_type": "code",
   "execution_count": null,
   "metadata": {
    "colab": {
     "base_uri": "https://localhost:8080/"
    },
    "executionInfo": {
     "elapsed": 690,
     "status": "ok",
     "timestamp": 1620869441881,
     "user": {
      "displayName": "김혜경",
      "photoUrl": "https://lh3.googleusercontent.com/a-/AOh14Ghj6yCOWfas3c-RFEZg9yZi0Y8GAll6IHR_nygo=s64",
      "userId": "05956990831563294642"
     },
     "user_tz": -540
    },
    "id": "94m6Ntt_DVsr",
    "outputId": "f8dc92e1-bf30-432d-aaf7-d198075b0fc3"
   },
   "outputs": [
    {
     "data": {
      "text/plain": [
       "300000000"
      ]
     },
     "execution_count": 16,
     "metadata": {
      "tags": []
     },
     "output_type": "execute_result"
    }
   ],
   "source": [
    "3 * 10**8"
   ]
  },
  {
   "cell_type": "code",
   "execution_count": null,
   "metadata": {
    "colab": {
     "base_uri": "https://localhost:8080/"
    },
    "executionInfo": {
     "elapsed": 763,
     "status": "ok",
     "timestamp": 1620869465819,
     "user": {
      "displayName": "김혜경",
      "photoUrl": "https://lh3.googleusercontent.com/a-/AOh14Ghj6yCOWfas3c-RFEZg9yZi0Y8GAll6IHR_nygo=s64",
      "userId": "05956990831563294642"
     },
     "user_tz": -540
    },
    "id": "k6w89ByMWOZ5",
    "outputId": "e4c6405d-30d2-41a9-e8cf-57ad14e11d14"
   },
   "outputs": [
    {
     "data": {
      "text/plain": [
       "300000000.0"
      ]
     },
     "execution_count": 17,
     "metadata": {
      "tags": []
     },
     "output_type": "execute_result"
    }
   ],
   "source": [
    "3e8"
   ]
  },
  {
   "cell_type": "markdown",
   "metadata": {
    "id": "6CWBFJQrDVss"
   },
   "source": [
    "4. 논리 연산과 비교 연산\n",
    "> 자바의 true/false 소문자 키워드 <br>\n",
    "> 파이썬 True/False 키워드"
   ]
  },
  {
   "cell_type": "code",
   "execution_count": null,
   "metadata": {
    "colab": {
     "base_uri": "https://localhost:8080/"
    },
    "executionInfo": {
     "elapsed": 813,
     "status": "ok",
     "timestamp": 1620869593653,
     "user": {
      "displayName": "김혜경",
      "photoUrl": "https://lh3.googleusercontent.com/a-/AOh14Ghj6yCOWfas3c-RFEZg9yZi0Y8GAll6IHR_nygo=s64",
      "userId": "05956990831563294642"
     },
     "user_tz": -540
    },
    "id": "iwweufsyDVst",
    "outputId": "5165f4da-466e-40b6-f0a8-634035700202"
   },
   "outputs": [
    {
     "name": "stdout",
     "output_type": "stream",
     "text": [
      "유재석\n"
     ]
    }
   ],
   "source": [
    "# = : 할당 연산자 / 대입 연산자\n",
    "name = \"유재석\"\n",
    "print(name)"
   ]
  },
  {
   "cell_type": "code",
   "execution_count": null,
   "metadata": {
    "colab": {
     "base_uri": "https://localhost:8080/"
    },
    "executionInfo": {
     "elapsed": 705,
     "status": "ok",
     "timestamp": 1620869620761,
     "user": {
      "displayName": "김혜경",
      "photoUrl": "https://lh3.googleusercontent.com/a-/AOh14Ghj6yCOWfas3c-RFEZg9yZi0Y8GAll6IHR_nygo=s64",
      "userId": "05956990831563294642"
     },
     "user_tz": -540
    },
    "id": "K8-kDdQZWzVJ",
    "outputId": "73cfc0b0-8140-47e7-c5c1-aaa508a61536"
   },
   "outputs": [
    {
     "name": "stdout",
     "output_type": "stream",
     "text": [
      "True\n"
     ]
    }
   ],
   "source": [
    "# == : 동등 비교 연산자 - 값이 동일할 경우 True\n",
    "# != : 부정 연산자 - 값이 다를 경우에 True\n",
    "\n",
    "# 실행순서 : 1==1 비교 -> print()\n",
    "print(1 == 1)"
   ]
  },
  {
   "cell_type": "code",
   "execution_count": null,
   "metadata": {
    "colab": {
     "base_uri": "https://localhost:8080/"
    },
    "executionInfo": {
     "elapsed": 722,
     "status": "ok",
     "timestamp": 1620869690243,
     "user": {
      "displayName": "김혜경",
      "photoUrl": "https://lh3.googleusercontent.com/a-/AOh14Ghj6yCOWfas3c-RFEZg9yZi0Y8GAll6IHR_nygo=s64",
      "userId": "05956990831563294642"
     },
     "user_tz": -540
    },
    "id": "oo0q5JLAW6EZ",
    "outputId": "e8138084-4b1c-42a5-be69-ff1f7a62be31"
   },
   "outputs": [
    {
     "name": "stdout",
     "output_type": "stream",
     "text": [
      "False\n"
     ]
    }
   ],
   "source": [
    "print(1 != 1)"
   ]
  },
  {
   "cell_type": "code",
   "execution_count": null,
   "metadata": {
    "colab": {
     "base_uri": "https://localhost:8080/"
    },
    "executionInfo": {
     "elapsed": 694,
     "status": "ok",
     "timestamp": 1620869822460,
     "user": {
      "displayName": "김혜경",
      "photoUrl": "https://lh3.googleusercontent.com/a-/AOh14Ghj6yCOWfas3c-RFEZg9yZi0Y8GAll6IHR_nygo=s64",
      "userId": "05956990831563294642"
     },
     "user_tz": -540
    },
    "id": "MfO9-CM3XLBw",
    "outputId": "4761c3ea-23bb-4637-e840-6647373366ed"
   },
   "outputs": [
    {
     "name": "stdout",
     "output_type": "stream",
     "text": [
      "False\n"
     ]
    }
   ],
   "source": [
    "# 문자열 타입 비교\n",
    "print(\"a\" == \"A\")"
   ]
  },
  {
   "cell_type": "code",
   "execution_count": null,
   "metadata": {
    "colab": {
     "base_uri": "https://localhost:8080/"
    },
    "executionInfo": {
     "elapsed": 915,
     "status": "ok",
     "timestamp": 1620869838971,
     "user": {
      "displayName": "김혜경",
      "photoUrl": "https://lh3.googleusercontent.com/a-/AOh14Ghj6yCOWfas3c-RFEZg9yZi0Y8GAll6IHR_nygo=s64",
      "userId": "05956990831563294642"
     },
     "user_tz": -540
    },
    "id": "HTR0sx1qXrT5",
    "outputId": "4fe8e7e3-a991-4979-9cc6-5e8e566cc107"
   },
   "outputs": [
    {
     "name": "stdout",
     "output_type": "stream",
     "text": [
      "True\n"
     ]
    }
   ],
   "source": [
    "print(\"a\" == \"a\")"
   ]
  },
  {
   "cell_type": "code",
   "execution_count": null,
   "metadata": {
    "id": "x1YzR97ZXvSx"
   },
   "outputs": [],
   "source": []
  },
  {
   "cell_type": "code",
   "execution_count": null,
   "metadata": {
    "id": "6OnxipmXXuR_"
   },
   "outputs": [],
   "source": []
  },
  {
   "cell_type": "code",
   "execution_count": null,
   "metadata": {
    "id": "1VhoKYuEIXVL"
   },
   "outputs": [],
   "source": []
  },
  {
   "cell_type": "code",
   "execution_count": null,
   "metadata": {
    "colab": {
     "base_uri": "https://localhost:8080/"
    },
    "executionInfo": {
     "elapsed": 693,
     "status": "ok",
     "timestamp": 1620869531292,
     "user": {
      "displayName": "김혜경",
      "photoUrl": "https://lh3.googleusercontent.com/a-/AOh14Ghj6yCOWfas3c-RFEZg9yZi0Y8GAll6IHR_nygo=s64",
      "userId": "05956990831563294642"
     },
     "user_tz": -540
    },
    "id": "GVma0YWLIqgl",
    "outputId": "5df82295-b028-401a-f60b-758ecb069798"
   },
   "outputs": [
    {
     "data": {
      "text/plain": [
       "<module 'keyword' from '/usr/lib/python3.7/keyword.py'>"
      ]
     },
     "execution_count": 19,
     "metadata": {
      "tags": []
     },
     "output_type": "execute_result"
    }
   ],
   "source": [
    "import keyword\n",
    "\n",
    "keyword"
   ]
  },
  {
   "cell_type": "code",
   "execution_count": null,
   "metadata": {
    "id": "oqlb50P0WkOw"
   },
   "outputs": [],
   "source": []
  }
 ],
 "metadata": {
  "colab": {
   "collapsed_sections": [],
   "name": "step01Calculation.ipynb",
   "provenance": []
  },
  "kernelspec": {
   "display_name": "Python 3",
   "language": "python",
   "name": "python3"
  },
  "language_info": {
   "codemirror_mode": {
    "name": "ipython",
    "version": 3
   },
   "file_extension": ".py",
   "mimetype": "text/x-python",
   "name": "python",
   "nbconvert_exporter": "python",
   "pygments_lexer": "ipython3",
   "version": "3.8.3"
  }
 },
 "nbformat": 4,
 "nbformat_minor": 1
}
