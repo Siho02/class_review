{
 "cells": [
  {
   "cell_type": "markdown",
   "metadata": {},
   "source": [
    "<!--NAVIGATION-->\n",
    "\n",
    "\n",
    "[[step06. 변수 학습 page로 이동](step06VariableOperators.ipynb) ] | [[step08.comprehension 학습 page로 이동](step08Comprehension.ipynb) ]"
   ]
  },
  {
   "cell_type": "markdown",
   "metadata": {},
   "source": [
    "**기호가 의미하는 횟수**\n",
    "\n",
    "1. 아무것도 없음 : 무조건 한번\n",
    "2. \\+ : 1번 ~ 무한번을 의미\n",
    "3. \\* : 0번 ~ 무한번을 의미\n",
    "4. ? : 0번 or 1번을 의미"
   ]
  },
  {
   "cell_type": "markdown",
   "metadata": {},
   "source": [
    "### 함수 구현의 다양한 문법 \n",
    "\n",
    "- 인수(argument) - 호출 프로그램에 의하여 함수에 전달되는 값\n",
    "- 매개변수(parameter) - 인수값을 전달받는 변수\n",
    "\n",
    "--------------------------------------------------------\n",
    "\n",
    "- 디폴트 인수 : 함수의 매개 변수가 기본값 보유\n",
    "- 키워드 인수 : 인수들 앞에 키워드를 두어 인수 구분\n",
    "- 임의의 인수 목록 : 인자의 개수가 정해지지 않은 가변 인수를 전달\n",
    "- 람다 함수 : 이름이 없는 한줄짜리 함수(식을 함수처럼 표현, 대부분의 프로그램 언어가 갖고 있음)"
   ]
  },
  {
   "cell_type": "markdown",
   "metadata": {},
   "source": [
    "- ctrl + shift + = : cell 구분 단축키 "
   ]
  },
  {
   "cell_type": "code",
   "execution_count": 3,
   "metadata": {},
   "outputs": [
    {
     "name": "stdout",
     "output_type": "stream",
     "text": [
      "(1, 2) <class 'tuple'>\n"
     ]
    }
   ],
   "source": [
    "# 반환값이 여러개도 가능\n",
    "\n",
    "def f1():\n",
    "    return 1, 2\n",
    "\n",
    "print(f1(), type(f1()))"
   ]
  },
  {
   "cell_type": "code",
   "execution_count": 4,
   "metadata": {},
   "outputs": [
    {
     "name": "stdout",
     "output_type": "stream",
     "text": [
      "a 2 <class 'str'> <class 'int'>\n"
     ]
    }
   ],
   "source": [
    "def f2():\n",
    "    return 'a', 2\n",
    "\n",
    "v1, v2 = f2()\n",
    "print(v1, v2, type(v1), type(v2))"
   ]
  },
  {
   "cell_type": "markdown",
   "metadata": {},
   "source": [
    "### 1. 디폴트(default) 인수"
   ]
  },
  {
   "cell_type": "code",
   "execution_count": 7,
   "metadata": {},
   "outputs": [
    {
     "name": "stdout",
     "output_type": "stream",
     "text": [
      "amy 10\n",
      "bill 20\n"
     ]
    }
   ],
   "source": [
    "# 매개변수 기본 초기화값 활용하는 함수\n",
    "# 호출 : 함수명(값1), 함수명(값1, 값2)\n",
    "\n",
    "def func1(name, age = 10) :\n",
    "    print(name, age)\n",
    "    \n",
    "func1('amy')\n",
    "func1('bill', 20)\n"
   ]
  },
  {
   "cell_type": "code",
   "execution_count": null,
   "metadata": {},
   "outputs": [],
   "source": []
  },
  {
   "cell_type": "markdown",
   "metadata": {},
   "source": [
    "### 2. 키워드 인수\n",
    "\n",
    "- **kwargs : keyword argument 줄임말\n",
    "- **kwargs : 키워드=특정값 형태로호출"
   ]
  },
  {
   "cell_type": "code",
   "execution_count": 9,
   "metadata": {},
   "outputs": [],
   "source": [
    "def fun2(x, y, z):\n",
    "    return x * y + z    "
   ]
  },
  {
   "cell_type": "code",
   "execution_count": 10,
   "metadata": {},
   "outputs": [
    {
     "data": {
      "text/plain": [
       "5"
      ]
     },
     "execution_count": 10,
     "metadata": {},
     "output_type": "execute_result"
    }
   ],
   "source": [
    "fun2(1, 2, 3)"
   ]
  },
  {
   "cell_type": "code",
   "execution_count": 11,
   "metadata": {},
   "outputs": [
    {
     "data": {
      "text/plain": [
       "10"
      ]
     },
     "execution_count": 11,
     "metadata": {},
     "output_type": "execute_result"
    }
   ],
   "source": [
    "fun2(x=2, y=3, z=4)"
   ]
  },
  {
   "cell_type": "code",
   "execution_count": 12,
   "metadata": {},
   "outputs": [
    {
     "data": {
      "text/plain": [
       "14"
      ]
     },
     "execution_count": 12,
     "metadata": {},
     "output_type": "execute_result"
    }
   ],
   "source": [
    "fun2(z=2, y=3, x=4)"
   ]
  },
  {
   "cell_type": "code",
   "execution_count": 22,
   "metadata": {},
   "outputs": [],
   "source": [
    "# **kwargs 사용\n",
    "def fun3(**kwargs) :\n",
    "    print(type(kwargs))\n",
    "    print(kwargs)\n",
    "    print(kwargs['x'])\n",
    "    print(kwargs.items())"
   ]
  },
  {
   "cell_type": "code",
   "execution_count": 23,
   "metadata": {},
   "outputs": [
    {
     "name": "stdout",
     "output_type": "stream",
     "text": [
      "<class 'dict'>\n",
      "{'x': 10, 'y': 20, 'z': 30}\n",
      "10\n",
      "dict_items([('x', 10), ('y', 20), ('z', 30)])\n"
     ]
    }
   ],
   "source": [
    "fun3(x=10, y=20, z=30)"
   ]
  },
  {
   "cell_type": "code",
   "execution_count": 38,
   "metadata": {},
   "outputs": [],
   "source": [
    "# **kwargs 사용 + 반복문과 items()\n",
    "'''\n",
    "def fun4(**kwargs) :\n",
    "    for key in kwargs :\n",
    "        print(key, kwargs[key], sep = \" : \")\n",
    "'''\n",
    "'''\n",
    "def fun4(**kwargs) :\n",
    "    for key in [('x', 10), ('y', 20), ('z', 30)] :\n",
    "        print(key)\n",
    "'''\n",
    "\n",
    "def fun4(**kwargs) :\n",
    "    for key, value in kwargs.items() :\n",
    "        print(key, value, sep=\" : \")"
   ]
  },
  {
   "cell_type": "code",
   "execution_count": 39,
   "metadata": {
    "scrolled": true
   },
   "outputs": [
    {
     "name": "stdout",
     "output_type": "stream",
     "text": [
      "x : 10\n",
      "y : 20\n",
      "z : 30\n"
     ]
    }
   ],
   "source": [
    "fun4(x=10, y=20, z=30)"
   ]
  },
  {
   "cell_type": "markdown",
   "metadata": {},
   "source": [
    "### 3. 임의의 인수\n",
    "\n",
    "- *를 사용할 경우 인수는 튜퓰 형식\n",
    "- 가변인자 활용"
   ]
  },
  {
   "cell_type": "code",
   "execution_count": 40,
   "metadata": {},
   "outputs": [],
   "source": [
    "def fun3(*args, sep='-') :\n",
    "    print(sep.join(args))    # '-'.join(args)와 결과 같음"
   ]
  },
  {
   "cell_type": "code",
   "execution_count": 42,
   "metadata": {},
   "outputs": [
    {
     "name": "stdout",
     "output_type": "stream",
     "text": [
      "a-b-c\n"
     ]
    }
   ],
   "source": [
    "fun3('a', 'b','c')"
   ]
  },
  {
   "cell_type": "markdown",
   "metadata": {},
   "source": [
    "random() :0 이상 1 미만\n",
    "\n",
    "randrange() : 1에서 6까지의 정수 중 하나를 무작위로 반환"
   ]
  },
  {
   "cell_type": "markdown",
   "metadata": {},
   "source": [
    "**미션-\n",
    "일회용 패스워드 생성기를 이용하여서 3개의 패스워드를 생성하여 출력하는 프로그램을 작성해 보기**\n",
    "\n",
    "출력 예시 : \n",
    "    \n",
    "ouuc4c <br>\n",
    "uuahtp <br>\n",
    "79s6oz <br>"
   ]
  },
  {
   "cell_type": "code",
   "execution_count": 82,
   "metadata": {},
   "outputs": [
    {
     "name": "stdout",
     "output_type": "stream",
     "text": [
      "NOns3W\n",
      "Y2tiiE\n",
      "NhcMTH\n"
     ]
    }
   ],
   "source": [
    "password_alp = 'abcdefghijklmnopqrstuvwxyzABCDEFGHIJKLMNOPQRSTUVWXYZ1234567890'\n",
    "\n",
    "import random \n",
    "\n",
    "#random.random() : 0~1 사이의 임의의 float\n",
    "#random.randragne(int) : 0~int-1까지 임의의 숫자 출력 \n",
    "\n",
    "'''\n",
    "for idx in range(3) :\n",
    "    for idx2 in range(6) :\n",
    "        print(password_alp[random.randrange(len(password_alp))],end='')\n",
    "    print()\n",
    "'''\n",
    "\n",
    "def generate_pass() :\n",
    "    alp = 'abcdefghijklmnopqrstuvwxyzABCDEFGHIJKLMNOPQRSTUVWXYZ1234567890'\n",
    "    pwd = ''\n",
    "    \n",
    "    for i in range(6) :\n",
    "        index = random.randrange(len(alp))\n",
    "        pwd += alp[index]\n",
    "    \n",
    "    return pwd\n",
    "\n",
    "print(generate_pass())\n",
    "print(generate_pass())\n",
    "print(generate_pass())"
   ]
  },
  {
   "cell_type": "markdown",
   "metadata": {},
   "source": [
    "### 4. 람다 함수\n",
    "\n",
    "- 이름없이 정의된 익명함수 \n",
    "- 매개변수 제한이 없음, 단 하나의 값만 반환\n",
    "- 함수의 반환, 변수의 데이터값으로 사용 가능\n",
    "- list의 sort의 key속성의 값으로도 사용 가능(실전 응용)\n",
    "- 문법 :<br>\n",
    "lambda 인자[,..] : 표현식(수식)\n"
   ]
  },
  {
   "cell_type": "code",
   "execution_count": 101,
   "metadata": {},
   "outputs": [
    {
     "name": "stdout",
     "output_type": "stream",
     "text": [
      "summ(100) =  110\n",
      "sum2(10,40) =  50\n"
     ]
    }
   ],
   "source": [
    "summ = lambda x : x+10\n",
    "print(\"summ(100) = \", summ(100))\n",
    "\n",
    "sum2 = lambda x,y : x+y\n",
    "print(\"sum2(10,40) = \", sum2(10,40))"
   ]
  },
  {
   "cell_type": "code",
   "execution_count": 102,
   "metadata": {},
   "outputs": [
    {
     "name": "stdout",
     "output_type": "stream",
     "text": [
      "None\n"
     ]
    }
   ],
   "source": [
    "mylist=[1, 5, 3, 9, 8, 4, 2]\n",
    "print(mylist.sort())"
   ]
  },
  {
   "cell_type": "code",
   "execution_count": 2,
   "metadata": {},
   "outputs": [
    {
     "data": {
      "text/plain": [
       "[1, 2, 3, 4, 5, 8, 9]"
      ]
     },
     "execution_count": 2,
     "metadata": {},
     "output_type": "execute_result"
    }
   ],
   "source": [
    "mylist"
   ]
  },
  {
   "cell_type": "code",
   "execution_count": 105,
   "metadata": {},
   "outputs": [
    {
     "data": {
      "text/plain": [
       "[('kim', 23, 100), ('lee', 27, 99), ('park', 43, 102)]"
      ]
     },
     "execution_count": 105,
     "metadata": {},
     "output_type": "execute_result"
    }
   ],
   "source": [
    "mylist2 = [('kim', 23, 100), ('lee', 27, 99), ('park', 43, 102)]\n",
    "mylist2"
   ]
  },
  {
   "cell_type": "code",
   "execution_count": 106,
   "metadata": {},
   "outputs": [
    {
     "data": {
      "text/plain": [
       "[('lee', 27, 99), ('kim', 23, 100), ('park', 43, 102)]"
      ]
     },
     "execution_count": 106,
     "metadata": {},
     "output_type": "execute_result"
    }
   ],
   "source": [
    "mylist2.sort(key=lambda a : a[2])\n",
    "mylist2"
   ]
  },
  {
   "cell_type": "code",
   "execution_count": 108,
   "metadata": {},
   "outputs": [
    {
     "name": "stdout",
     "output_type": "stream",
     "text": [
      "[('kim', 23, 100), ('lee', 27, 99), ('park', 43, 102)]\n",
      "[('park', 43, 102), ('lee', 27, 99), ('kim', 23, 100)]\n"
     ]
    }
   ],
   "source": [
    "mylist2 = [('kim', 23, 100), ('lee', 27, 99), ('park', 43, 102)]\n",
    "mylist2.sort(key=lambda a : a[0])\n",
    "print(mylist2)\n",
    "\n",
    "mylist2.sort(key=lambda a : a[0], reverse=True)\n",
    "print(mylist2)"
   ]
  },
  {
   "cell_type": "code",
   "execution_count": 118,
   "metadata": {},
   "outputs": [
    {
     "name": "stdout",
     "output_type": "stream",
     "text": [
      "spam\n",
      "egg\n",
      "ham\n",
      "['egg', 'Ham', 'Spam']\n"
     ]
    }
   ],
   "source": [
    "# 대소문자 구분없이 sort 함수로 정렬 \n",
    "# 람다 사용해서 소문자로 변경해서 정렬 \n",
    "# lower()\n",
    "mylist3 = ['Spam', 'egg', 'Ham']\n",
    "\n",
    "for data in mylist3 :\n",
    "    print(data.lower())\n",
    "\n",
    "mylist3.sort(key = lambda x : x.lower())    \n",
    "print(mylist3)"
   ]
  },
  {
   "cell_type": "code",
   "execution_count": 119,
   "metadata": {},
   "outputs": [
    {
     "name": "stdout",
     "output_type": "stream",
     "text": [
      "['Ham', 'Spam', 'egg']\n"
     ]
    }
   ],
   "source": [
    "mylist3 = ['Spam', 'egg', 'Ham']\n",
    "mylist3.sort()\n",
    "print(mylist3)"
   ]
  },
  {
   "cell_type": "code",
   "execution_count": 38,
   "metadata": {},
   "outputs": [
    {
     "data": {
      "text/plain": [
       "['one', 'three', 'two']"
      ]
     },
     "execution_count": 38,
     "metadata": {},
     "output_type": "execute_result"
    }
   ],
   "source": [
    "mydict1 = {'one':1, 'two':2, 'three':3}\n",
    "sorted(mydict1)"
   ]
  },
  {
   "cell_type": "code",
   "execution_count": null,
   "metadata": {},
   "outputs": [],
   "source": []
  },
  {
   "cell_type": "markdown",
   "metadata": {},
   "source": [
    "### 5. map() 함수\n",
    "\n",
    "- 다수의 데이터에 공통된 로직을 일괄 처리, 가능한 기능의 함수\n",
    "- 사용 방법 : map(기능함수 or lambda식, 첫번째 parameter로 입력된 기능 사용할 데이터 \n",
    "- 문법 : map(함수, 리스트)\n",
    "- 시퀀스의 모든 항목에 함수를 적용한 결과 리스트 반환\n",
    "- "
   ]
  },
  {
   "cell_type": "code",
   "execution_count": 120,
   "metadata": {},
   "outputs": [
    {
     "data": {
      "text/plain": [
       "[1, 4, 9, 16, 25, 36, 49, 64, 81, 100]"
      ]
     },
     "execution_count": 120,
     "metadata": {},
     "output_type": "execute_result"
    }
   ],
   "source": [
    "def cube(x):\n",
    "    return x**2\n",
    "\n",
    "list(map(cube, range(1, 11)))\n",
    "\n"
   ]
  },
  {
   "cell_type": "code",
   "execution_count": 132,
   "metadata": {},
   "outputs": [
    {
     "data": {
      "text/plain": [
       "[1, 4, 9, 16, 25, 36, 49, 64, 81, 100]"
      ]
     },
     "execution_count": 132,
     "metadata": {},
     "output_type": "execute_result"
    }
   ],
   "source": [
    "list(map(lambda x : x**2, range(1,11)))"
   ]
  },
  {
   "cell_type": "code",
   "execution_count": 129,
   "metadata": {},
   "outputs": [
    {
     "name": "stdout",
     "output_type": "stream",
     "text": [
      "<map object at 0x0000009C9D1E1550>\n",
      "apple\n",
      "mange\n",
      "pineapple\n",
      "[5, 5, 9]\n"
     ]
    }
   ],
   "source": [
    "def my_func(a) :\n",
    "    print(a)\n",
    "    return len(a)\n",
    "\n",
    "\n",
    "x = map(my_func, ('apple', 'mange', 'pineapple'))\n",
    "print(x)\n",
    "print(list(x))"
   ]
  },
  {
   "cell_type": "code",
   "execution_count": 130,
   "metadata": {},
   "outputs": [
    {
     "name": "stdout",
     "output_type": "stream",
     "text": [
      "<map object at 0x0000009C9D0AD5B0>\n",
      "apple\n",
      "mange\n",
      "pineapple\n",
      "[5, 5, 9]\n"
     ]
    }
   ],
   "source": [
    "def my_func(a) :\n",
    "    print(a)\n",
    "    return len(a)\n",
    "\n",
    "lst = ['apple', 'mange', 'pineapple']\n",
    "\n",
    "x = map(my_func, lst)\n",
    "print(x)\n",
    "print(list(x))"
   ]
  },
  {
   "cell_type": "code",
   "execution_count": 131,
   "metadata": {},
   "outputs": [
    {
     "data": {
      "text/plain": [
       "[5, 5, 9]"
      ]
     },
     "execution_count": 131,
     "metadata": {},
     "output_type": "execute_result"
    }
   ],
   "source": [
    "list(map( lambda n : len(n), lst))"
   ]
  },
  {
   "cell_type": "code",
   "execution_count": 58,
   "metadata": {},
   "outputs": [
    {
     "name": "stdout",
     "output_type": "stream",
     "text": [
      "0\n",
      "1\n",
      "4\n",
      "9\n",
      "16\n"
     ]
    }
   ],
   "source": [
    "for i in range(5):\n",
    "    print(i**2)"
   ]
  },
  {
   "cell_type": "code",
   "execution_count": null,
   "metadata": {},
   "outputs": [],
   "source": []
  },
  {
   "cell_type": "markdown",
   "metadata": {},
   "source": [
    "### 6. reduce() 함수\n",
    "- 주로 집계용으로 사용\n",
    "- 사용을 위해서는 functools 모듈 선언"
   ]
  },
  {
   "cell_type": "code",
   "execution_count": 133,
   "metadata": {},
   "outputs": [
    {
     "name": "stdout",
     "output_type": "stream",
     "text": [
      "15\n"
     ]
    }
   ],
   "source": [
    "from functools import reduce\n",
    "\n",
    "data = reduce(lambda x, y: x+y, [1, 2, 3, 4, 5])\n",
    "print(data)\n",
    "\n"
   ]
  },
  {
   "cell_type": "code",
   "execution_count": 134,
   "metadata": {},
   "outputs": [
    {
     "data": {
      "text/plain": [
       "15"
      ]
     },
     "execution_count": 134,
     "metadata": {},
     "output_type": "execute_result"
    }
   ],
   "source": [
    "#상단 reduce에 사용된 lambda의 로직을 단순 python 문법으로 개발한 코드\n",
    "\n",
    "def userReduce():\n",
    "    datas = [1,2,3,4,5]\n",
    "    result = 0 \n",
    "    \n",
    "    for i in range(len(datas)) :\n",
    "        result += datas[i]\n",
    "    \n",
    "    return result\n",
    "\n",
    "userReduce()"
   ]
  },
  {
   "cell_type": "markdown",
   "metadata": {},
   "source": [
    "### 7. filter()\n",
    "\n",
    "- 데이터의 일부만 착출 가능한 기능의 즉 필터링 기능의 함수\n",
    "- 시퀀스의 항목들 중 함수 조건이 True인 항목만 추출\n",
    "- 문법 : filter(함수 or 람다, (필터링 당할)리스트 또는 데이터들)\n"
   ]
  },
  {
   "cell_type": "code",
   "execution_count": 135,
   "metadata": {},
   "outputs": [
    {
     "data": {
      "text/plain": [
       "[0, 1, 2, 3, 4]"
      ]
     },
     "execution_count": 135,
     "metadata": {},
     "output_type": "execute_result"
    }
   ],
   "source": [
    "list(filter(lambda x : x < 5 , range(10)))"
   ]
  },
  {
   "cell_type": "code",
   "execution_count": 136,
   "metadata": {},
   "outputs": [
    {
     "data": {
      "text/plain": [
       "[True, True, True, True, True, False, False, False, False, False]"
      ]
     },
     "execution_count": 136,
     "metadata": {},
     "output_type": "execute_result"
    }
   ],
   "source": [
    "list(map(lambda x : x < 5 , range(10)))"
   ]
  },
  {
   "cell_type": "markdown",
   "metadata": {},
   "source": [
    "**미션** : (123,) 값이 출력될 수 있도록 ? 부분 완성하세요"
   ]
  },
  {
   "cell_type": "code",
   "execution_count": 138,
   "metadata": {},
   "outputs": [],
   "source": [
    "list2 = (10,22,37,41,100,123,29)  "
   ]
  },
  {
   "cell_type": "code",
   "execution_count": 148,
   "metadata": {},
   "outputs": [
    {
     "name": "stdout",
     "output_type": "stream",
     "text": [
      "(123,)\n",
      "(123,)\n"
     ]
    }
   ],
   "source": [
    "print(tuple(filter(lambda x : x%3 == 0, list2)))\n",
    "print(tuple(filter(lambda x : x > 100, list2)))\n"
   ]
  },
  {
   "cell_type": "markdown",
   "metadata": {},
   "source": [
    "### 8. Collection 함수\n",
    "\n",
    "- 순서값과 요소값을 한번에 구하는 내장 함수\n",
    "- 기본 for문을 활용해서 학생 순번에 맞게 list 점수 출력\n",
    "- enumerate() 활용해서 순서와 요소값을 한번에 튜플로 반환"
   ]
  },
  {
   "cell_type": "code",
   "execution_count": 2,
   "metadata": {},
   "outputs": [
    {
     "name": "stdout",
     "output_type": "stream",
     "text": [
      "1번 학생의 성적 :  80\n",
      "2번 학생의 성적 :  30\n",
      "3번 학생의 성적 :  70\n",
      "4번 학생의 성적 :  85\n",
      "5번 학생의 성적 :  90\n"
     ]
    }
   ],
   "source": [
    "score = [80, 30, 70, 85, 90]\n",
    "\n",
    "for no in range(len(score)):\n",
    "    print(str(no+1) + '번 학생의 성적 : ', score[no])"
   ]
  },
  {
   "cell_type": "code",
   "execution_count": 6,
   "metadata": {},
   "outputs": [
    {
     "name": "stdout",
     "output_type": "stream",
     "text": [
      "1 번 학생의 성적 :  80\n",
      "1 번 학생의 성적 :  80\n",
      "2 번 학생의 성적 :  30\n",
      "2 번 학생의 성적 :  30\n",
      "3 번 학생의 성적 :  70\n",
      "3 번 학생의 성적 :  70\n",
      "4 번 학생의 성적 :  85\n",
      "4 번 학생의 성적 :  85\n",
      "5 번 학생의 성적 :  90\n",
      "5 번 학생의 성적 :  90\n"
     ]
    }
   ],
   "source": [
    "score = [80, 30, 70, 85, 90]\n",
    "\n",
    "for i, v in enumerate(score) :\n",
    "    print(i+1, '번 학생의 성적 : ', v)\n",
    "    print(str(i+1), '번 학생의 성적 : ', v)"
   ]
  },
  {
   "cell_type": "code",
   "execution_count": 1,
   "metadata": {},
   "outputs": [
    {
     "name": "stdout",
     "output_type": "stream",
     "text": [
      "[(0, 'spring'), (1, 'summer'), (2, 'fall'), (3, 'winter')]\n",
      "[(1, 'spring'), (2, 'summer'), (3, 'fall'), (4, 'winter')]\n"
     ]
    }
   ],
   "source": [
    "seasons=['spring', 'summer', 'fall', 'winter']\n",
    "print(list(enumerate(seasons)))\n",
    "\n",
    "print(list(enumerate(seasons, start = 1)))"
   ]
  },
  {
   "cell_type": "code",
   "execution_count": 2,
   "metadata": {},
   "outputs": [
    {
     "name": "stdout",
     "output_type": "stream",
     "text": [
      "0 spring\n",
      "1 summer\n",
      "2 fall\n",
      "3 winter\n"
     ]
    }
   ],
   "source": [
    "for i, v in enumerate(seasons) :\n",
    "    print(i, v)"
   ]
  },
  {
   "cell_type": "code",
   "execution_count": null,
   "metadata": {},
   "outputs": [],
   "source": []
  }
 ],
 "metadata": {
  "kernelspec": {
   "display_name": "Python 3",
   "language": "python",
   "name": "python3"
  },
  "language_info": {
   "codemirror_mode": {
    "name": "ipython",
    "version": 3
   },
   "file_extension": ".py",
   "mimetype": "text/x-python",
   "name": "python",
   "nbconvert_exporter": "python",
   "pygments_lexer": "ipython3",
   "version": "3.8.3"
  }
 },
 "nbformat": 4,
 "nbformat_minor": 2
}
