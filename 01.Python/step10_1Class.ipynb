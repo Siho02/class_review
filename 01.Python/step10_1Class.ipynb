{
 "cells": [
  {
   "cell_type": "markdown",
   "metadata": {},
   "source": [
    "### python을 활용한 객체지향 프로그래밍 개발 기술 학습\n",
    "\n",
    "**주요 용어**\n",
    "\n",
    "1. class : 객체(데이터들을 묶어서 하나의 단위로 관리하는 실제 사용 가능한 메모리 상의 영역(덩어리))을 사용 가능하게 해주는 설계도\n",
    "    - 붕어빵과 붕어빵틀 = 객체와 class\n",
    "2. object : 메모리에 사용가능하게 생성된 데이터 조합\n",
    "3. 객체 지향 프로그램 방식의 주 목적\n",
    "    - 클래스를 설계 후 데이터 표현을 위한 재사용\n",
    "    - 건축 설계도(class) / 건축한 아파트들(instance)"
   ]
  },
  {
   "cell_type": "code",
   "execution_count": 3,
   "metadata": {},
   "outputs": [],
   "source": [
    "## class - 다수의 데이터값을 보유할 수 있는 프로그램 구조\n",
    "## 자바스크립트, 자바라는 프로그램 언어에 동일한 개발 형식\n",
    "\n",
    "class Person:\n",
    "    \n",
    "    #특별한 메소드 - 생성자(객체 생성시에 호출되는 기능)\n",
    "    def __init__(self, name, age):\n",
    "        self.name = name\n",
    "        self.age = age"
   ]
  },
  {
   "cell_type": "code",
   "execution_count": 5,
   "metadata": {},
   "outputs": [
    {
     "name": "stdout",
     "output_type": "stream",
     "text": [
      "John\n",
      "36\n",
      "Amy\n",
      "14\n"
     ]
    }
   ],
   "source": [
    "p1 = Person(\"John\", 36)\n",
    "\n",
    "print(p1.name)\n",
    "print(p1.age)\n",
    "\n",
    "p2 = Person(\"Amy\", 14)\n",
    "print(p2.name)\n",
    "print(p2.age)"
   ]
  },
  {
   "cell_type": "code",
   "execution_count": 30,
   "metadata": {},
   "outputs": [],
   "source": [
    "class Student : \n",
    "    def __init__(self, name, grade, no, ) :\n",
    "        self.name = name\n",
    "        self.grade = grade\n",
    "        self.no = no\n",
    "    \n",
    "    def get_name(self) :\n",
    "        return self.name\n",
    "    \n",
    "    def change_name(self, new_name) :\n",
    "        self.name = new_name"
   ]
  },
  {
   "cell_type": "code",
   "execution_count": 31,
   "metadata": {},
   "outputs": [
    {
     "name": "stdout",
     "output_type": "stream",
     "text": [
      "Amy 1st 20171234\n",
      "Bill 2 20181333\n"
     ]
    }
   ],
   "source": [
    "s1 = Student(\"Amy\", '1st', 20171234)\n",
    "s2 = Student(\"Bill\", 2 , 20181333)\n",
    "\n",
    "print(s1.name, s1.grade, s1.no)\n",
    "print(s2.name, s2.grade, s2.no)"
   ]
  },
  {
   "cell_type": "code",
   "execution_count": 34,
   "metadata": {},
   "outputs": [
    {
     "name": "stdout",
     "output_type": "stream",
     "text": [
      "Amy\n",
      "김희애\n"
     ]
    }
   ],
   "source": [
    "print(s1.get_name())\n",
    "s1.change_name('김희애')\n",
    "print(s1.get_name())"
   ]
  },
  {
   "cell_type": "code",
   "execution_count": 33,
   "metadata": {},
   "outputs": [
    {
     "data": {
      "text/plain": [
       "'Amy'"
      ]
     },
     "execution_count": 33,
     "metadata": {},
     "output_type": "execute_result"
    }
   ],
   "source": [
    "s1.name"
   ]
  },
  {
   "cell_type": "code",
   "execution_count": null,
   "metadata": {},
   "outputs": [],
   "source": []
  }
 ],
 "metadata": {
  "kernelspec": {
   "display_name": "Python 3",
   "language": "python",
   "name": "python3"
  },
  "language_info": {
   "codemirror_mode": {
    "name": "ipython",
    "version": 3
   },
   "file_extension": ".py",
   "mimetype": "text/x-python",
   "name": "python",
   "nbconvert_exporter": "python",
   "pygments_lexer": "ipython3",
   "version": "3.8.3"
  }
 },
 "nbformat": 4,
 "nbformat_minor": 4
}
