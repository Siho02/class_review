{
 "cells": [
  {
   "cell_type": "code",
   "execution_count": 1,
   "id": "bc6700eb",
   "metadata": {},
   "outputs": [],
   "source": [
    "# django shell 환경설정\n",
    "import os\n",
    "import django\n",
    "os.environ['DJANGO_SETTINGS_MODULE'] = 'config.settings'\n",
    "os.environ['DJANGO_ALLOW_ASYNC_UNSAFE'] = 'true'\n",
    "\n",
    "django.setup()"
   ]
  },
  {
   "cell_type": "markdown",
   "id": "3adbb7a6",
   "metadata": {},
   "source": [
    "# Paginator 클래스\n",
    "- 전체 페이징 처리를 관리하는 클래스\n",
    "- 전체 데이터관련 정보, 각 페이지당 보여줄 데이터의 정보 등을 제공\n",
    "- ListView에서 paginate_by를 설정하면 자동으로 생성되어 context data에 저장된다.\n",
    "\n",
    "# Page 클래스\n",
    "- 한페이지에대한 데이터를 관리\n",
    "- Paginator가 생성해서 제공.\n",
    "- iterable 타입. 원소로 데이터를 제공\n",
    "- Page객체.object_list 속성: 페이지가 가진 데이터들을 List로 반환"
   ]
  },
  {
   "cell_type": "markdown",
   "id": "93fc0828",
   "metadata": {},
   "source": [
    "## Post 데이터를 추가"
   ]
  },
  {
   "cell_type": "code",
   "execution_count": 2,
   "id": "3e67b599",
   "metadata": {},
   "outputs": [],
   "source": [
    "data_list = list(\"0123456789abcdefghijklmnopqrstuvwxyzABCDEFGHIJKLMNOPQRSTUVWXYZ\")"
   ]
  },
  {
   "cell_type": "code",
   "execution_count": 17,
   "id": "2e438445",
   "metadata": {},
   "outputs": [],
   "source": [
    "from board.models import Post, Category\n",
    "\n",
    "cate = Category(pk = 1)\n",
    "\n",
    "\n",
    "Post.objects.all().count()\n",
    "\n",
    "# 352\n",
    "for i in range(352):\n",
    "    post = Post(title = f'제목 - {i}', content=f\"내용{i}\\n내용{i+1}\\n빠보야\", category = cate)\n",
    "    post.save()"
   ]
  },
  {
   "cell_type": "code",
   "execution_count": null,
   "id": "c26bb674",
   "metadata": {},
   "outputs": [],
   "source": []
  },
  {
   "cell_type": "code",
   "execution_count": 7,
   "id": "39a0e529",
   "metadata": {},
   "outputs": [],
   "source": [
    "from django.core.paginator import Paginator"
   ]
  },
  {
   "cell_type": "code",
   "execution_count": 48,
   "id": "5b793dbc",
   "metadata": {},
   "outputs": [],
   "source": [
    "# paginator 생성\n",
    "pn = Paginator(data_list, 5) #데이터 목록, 한페이지 당 데이터수(paginate_by 설정한 값)"
   ]
  },
  {
   "cell_type": "code",
   "execution_count": 49,
   "id": "cc0802f6",
   "metadata": {},
   "outputs": [
    {
     "name": "stdout",
     "output_type": "stream",
     "text": [
      "전체 데이터 수 :  62\n",
      "총 페이지 수 :  13\n",
      "시작페이지, 끝 페이지+1 :  range(1, 14)\n"
     ]
    }
   ],
   "source": [
    "print('전체 데이터 수 : ', pn.count)\n",
    "print('총 페이지 수 : ', pn.num_pages)\n",
    "print(\"시작페이지, 끝 페이지+1 : \", pn.page_range)"
   ]
  },
  {
   "cell_type": "code",
   "execution_count": 50,
   "id": "555aff83",
   "metadata": {},
   "outputs": [
    {
     "name": "stdout",
     "output_type": "stream",
     "text": [
      "1\t2\t3\t4\t5\t6\t7\t8\t9\t10\t11\t12\t13\t"
     ]
    }
   ],
   "source": [
    "for p in pn.page_range:\n",
    "    print(p, end='\\t')"
   ]
  },
  {
   "cell_type": "code",
   "execution_count": 51,
   "id": "18f3d080",
   "metadata": {},
   "outputs": [
    {
     "name": "stdout",
     "output_type": "stream",
     "text": [
      "<class 'django.core.paginator.Page'> <Page 1 of 13>\n",
      "<Page 10 of 13>\n"
     ]
    }
   ],
   "source": [
    "page1 = pn.page(1)\n",
    "print(type(page1), page1)\n",
    "print(pn.page(10))    "
   ]
  },
  {
   "cell_type": "code",
   "execution_count": 52,
   "id": "7c2645bc",
   "metadata": {},
   "outputs": [
    {
     "name": "stdout",
     "output_type": "stream",
     "text": [
      "0\n",
      "1\n",
      "2\n",
      "3\n",
      "4\n"
     ]
    }
   ],
   "source": [
    "for data in page1:\n",
    "    print(data)"
   ]
  },
  {
   "cell_type": "code",
   "execution_count": 53,
   "id": "fd439cc0",
   "metadata": {},
   "outputs": [
    {
     "name": "stdout",
     "output_type": "stream",
     "text": [
      "J\n",
      "K\n",
      "L\n",
      "M\n",
      "N\n"
     ]
    }
   ],
   "source": [
    "for data in pn.page(10):\n",
    "    print(data)"
   ]
  },
  {
   "cell_type": "code",
   "execution_count": 54,
   "id": "599233af",
   "metadata": {},
   "outputs": [
    {
     "name": "stdout",
     "output_type": "stream",
     "text": [
      "['0', '1', '2', '3', '4']\n"
     ]
    }
   ],
   "source": [
    "#페이지가 가진 데이터를 리스트로 반환\n",
    "page1_list = page1.object_list\n",
    "print(page1_list)"
   ]
  },
  {
   "cell_type": "code",
   "execution_count": 55,
   "id": "d053f1e9",
   "metadata": {},
   "outputs": [],
   "source": [
    "#함수형 View로 List 처리 구현\n",
    "#url?page=번호 : 페이지 번호 qeurystring = 요청파라미터\n",
    "def list_view(request):\n",
    "    page_no = request.GET.get('page',1)\n",
    "    pn = Paginator(Model.objects.all(), 5)\n",
    "    page = pn.page(page_no)\n",
    "    # additionally : 페이지링크를 위한 값들 조회 >> context_data로 전달\n",
    "    return render(request, '템플릿 경로', {'object_list':page})"
   ]
  },
  {
   "cell_type": "code",
   "execution_count": null,
   "id": "3d84ac0a",
   "metadata": {},
   "outputs": [],
   "source": []
  },
  {
   "cell_type": "code",
   "execution_count": null,
   "id": "8ab214bd",
   "metadata": {},
   "outputs": [],
   "source": []
  },
  {
   "cell_type": "code",
   "execution_count": null,
   "id": "e63543c1",
   "metadata": {},
   "outputs": [],
   "source": []
  },
  {
   "cell_type": "code",
   "execution_count": null,
   "id": "4339d9d9",
   "metadata": {},
   "outputs": [],
   "source": []
  },
  {
   "cell_type": "markdown",
   "id": "e6b65836",
   "metadata": {},
   "source": [
    "## 이전/다음 페이지 유무\n",
    "- Page.has_previous() / Page.has_next()\n",
    "- 1페이지: 이전페이지? X, 다음페이지? O\n",
    "- 13페이지: 이전? O, 다음페이지? X\n",
    "- 10페이지: 이전페이지? O, 다음페이지? O"
   ]
  },
  {
   "cell_type": "code",
   "execution_count": 56,
   "id": "0139d67a",
   "metadata": {},
   "outputs": [],
   "source": [
    "page1 = pn.page(1)\n",
    "page10 = pn.page(10)\n",
    "page13 = pn.page(13)"
   ]
  },
  {
   "cell_type": "code",
   "execution_count": 57,
   "id": "ae74e035",
   "metadata": {},
   "outputs": [
    {
     "name": "stdout",
     "output_type": "stream",
     "text": [
      "page1 - False - True\n",
      "page10 - True - True\n",
      "page13 - True - False\n"
     ]
    }
   ],
   "source": [
    "print('page1', page1.has_previous(), page1.has_next(), sep=' - ')\n",
    "print('page10', page10.has_previous(), page10.has_next(), sep=' - ')\n",
    "print('page13', page13.has_previous(), page13.has_next(), sep=' - ')"
   ]
  },
  {
   "cell_type": "code",
   "execution_count": null,
   "id": "5ede1f8c",
   "metadata": {},
   "outputs": [],
   "source": []
  },
  {
   "cell_type": "markdown",
   "id": "97d01906",
   "metadata": {},
   "source": [
    "## 현재/이전/다음페이지 번호 조회\n",
    "- Page.number : 현재 페이지 번호\n",
    "- Page.previous_page_number(): 이전 페이지 번호\n",
    "- Page.next_page_number(): 다음 페이지 번호"
   ]
  },
  {
   "cell_type": "code",
   "execution_count": 58,
   "id": "4b6f06a1",
   "metadata": {},
   "outputs": [
    {
     "name": "stdout",
     "output_type": "stream",
     "text": [
      "page number :  1\n",
      "this page is first page!\n",
      "next page number : 2\n"
     ]
    }
   ],
   "source": [
    "print('page number : ', page1.number)\n",
    "if page1.has_previous():\n",
    "    print('prev page number : ', page1.previous_page_number())\n",
    "else:\n",
    "    print('this page is first page!')\n",
    "    \n",
    "if page1.has_next():\n",
    "    print('next page number :', page1.next_page_number())\n",
    "else:\n",
    "    print('this page is last page!')"
   ]
  },
  {
   "cell_type": "code",
   "execution_count": 59,
   "id": "c8bc84e2",
   "metadata": {},
   "outputs": [
    {
     "name": "stdout",
     "output_type": "stream",
     "text": [
      "page number :  10\n",
      "prev page number :  9\n",
      "next page number : 11\n"
     ]
    }
   ],
   "source": [
    "print('page number : ', page10.number)\n",
    "if page10.has_previous():\n",
    "    print('prev page number : ', page10.previous_page_number())\n",
    "else:\n",
    "    print('this page is first page!')\n",
    "    \n",
    "if page10.has_next():\n",
    "    print('next page number :', page10.next_page_number())\n",
    "else:\n",
    "    print('this page is last page!')"
   ]
  },
  {
   "cell_type": "code",
   "execution_count": 60,
   "id": "74c5bf69",
   "metadata": {},
   "outputs": [
    {
     "name": "stdout",
     "output_type": "stream",
     "text": [
      "page number :  13\n",
      "prev page number :  12\n",
      "this page is last page!\n"
     ]
    }
   ],
   "source": [
    "print('page number : ', page13.number)\n",
    "if page13.has_previous():\n",
    "    print('prev page number : ', page13.previous_page_number())\n",
    "else:\n",
    "    print('this page is first page!')\n",
    "    \n",
    "if page13.has_next():\n",
    "    print('next page number :', page13.next_page_number())\n",
    "else:\n",
    "    print('this page is last page!')"
   ]
  },
  {
   "cell_type": "markdown",
   "id": "7263d082",
   "metadata": {},
   "source": [
    "## 각 페이지별 데이터 조회"
   ]
  },
  {
   "cell_type": "code",
   "execution_count": 61,
   "id": "26258bce",
   "metadata": {
    "scrolled": true
   },
   "outputs": [
    {
     "data": {
      "text/plain": [
       "['0',\n",
       " '1',\n",
       " '2',\n",
       " '3',\n",
       " '4',\n",
       " '5',\n",
       " '6',\n",
       " '7',\n",
       " '8',\n",
       " '9',\n",
       " 'a',\n",
       " 'b',\n",
       " 'c',\n",
       " 'd',\n",
       " 'e',\n",
       " 'f',\n",
       " 'g',\n",
       " 'h',\n",
       " 'i',\n",
       " 'j',\n",
       " 'k',\n",
       " 'l',\n",
       " 'm',\n",
       " 'n',\n",
       " 'o',\n",
       " 'p',\n",
       " 'q',\n",
       " 'r',\n",
       " 's',\n",
       " 't',\n",
       " 'u',\n",
       " 'v',\n",
       " 'w',\n",
       " 'x',\n",
       " 'y',\n",
       " 'z',\n",
       " 'A',\n",
       " 'B',\n",
       " 'C',\n",
       " 'D',\n",
       " 'E',\n",
       " 'F',\n",
       " 'G',\n",
       " 'H',\n",
       " 'I',\n",
       " 'J',\n",
       " 'K',\n",
       " 'L',\n",
       " 'M',\n",
       " 'N',\n",
       " 'O',\n",
       " 'P',\n",
       " 'Q',\n",
       " 'R',\n",
       " 'S',\n",
       " 'T',\n",
       " 'U',\n",
       " 'V',\n",
       " 'W',\n",
       " 'X',\n",
       " 'Y',\n",
       " 'Z']"
      ]
     },
     "execution_count": 61,
     "metadata": {},
     "output_type": "execute_result"
    }
   ],
   "source": [
    "data_list"
   ]
  },
  {
   "cell_type": "code",
   "execution_count": 62,
   "id": "3757f3a0",
   "metadata": {},
   "outputs": [
    {
     "name": "stdout",
     "output_type": "stream",
     "text": [
      "1 페이지\n",
      "0,1,2,3,4,5,6,7,8,9,\n",
      "\n",
      "2 페이지\n",
      "a,b,c,d,e,f,g,h,i,j,\n",
      "\n",
      "3 페이지\n",
      "k,l,m,n,o,p,q,r,s,t,\n",
      "\n",
      "4 페이지\n",
      "u,v,w,x,y,z,A,B,C,D,\n",
      "\n",
      "5 페이지\n",
      "E,F,G,H,I,J,K,L,M,N,\n",
      "\n",
      "6 페이지\n",
      "O,P,Q,R,S,T,U,V,W,X,\n",
      "\n",
      "7 페이지\n",
      "Y,Z,\n",
      "\n"
     ]
    }
   ],
   "source": [
    "pn = Paginator(data_list, 10)\n",
    "for page_no in pn.page_range:\n",
    "    print(f\"{page_no} 페이지\")\n",
    "    for data in pn.page(page_no):\n",
    "        print(data, end=',')\n",
    "    print('\\n')"
   ]
  },
  {
   "cell_type": "code",
   "execution_count": null,
   "id": "fd9cb6cb",
   "metadata": {},
   "outputs": [],
   "source": []
  },
  {
   "cell_type": "code",
   "execution_count": null,
   "id": "0f45ac35",
   "metadata": {},
   "outputs": [],
   "source": []
  },
  {
   "cell_type": "code",
   "execution_count": null,
   "id": "4a269737",
   "metadata": {},
   "outputs": [],
   "source": []
  },
  {
   "cell_type": "markdown",
   "id": "fd01b375",
   "metadata": {},
   "source": [
    "# 현재 페이지(요청페이지)가 속한 page 그룹의 (page_range)에서의 시작 index와 끝 index를 조회"
   ]
  },
  {
   "cell_type": "code",
   "execution_count": 63,
   "id": "e5fd034b",
   "metadata": {},
   "outputs": [
    {
     "name": "stdout",
     "output_type": "stream",
     "text": [
      "<a href='/board/list?page=1'>1</a>\n",
      "<a href='/board/list?page=2'>2</a>\n",
      "<a href='/board/list?page=3'>3</a>\n",
      "<a href='/board/list?page=4'>4</a>\n",
      "<a href='/board/list?page=5'>5</a>\n",
      "<a href='/board/list?page=6'>6</a>\n",
      "<a href='/board/list?page=7'>7</a>\n"
     ]
    }
   ],
   "source": [
    "for page_no in pn.page_range:\n",
    "    print(f\"<a href='/board/list?page={page_no}'>{page_no}</a>\")"
   ]
  },
  {
   "cell_type": "code",
   "execution_count": 64,
   "id": "aa2a82f8",
   "metadata": {},
   "outputs": [
    {
     "data": {
      "text/plain": [
       "range(8, 8)"
      ]
     },
     "execution_count": 64,
     "metadata": {},
     "output_type": "execute_result"
    }
   ],
   "source": [
    "#page그룹당 10 페이지 번호를 묶는다\n",
    "# 1page : 1~10\n",
    "pn.page_range[0:10]\n",
    "\n",
    "# 2page : 11~20\n",
    "pn.page_range[11:20]"
   ]
  },
  {
   "cell_type": "code",
   "execution_count": 46,
   "id": "3ecd008f",
   "metadata": {},
   "outputs": [
    {
     "data": {
      "text/plain": [
       "range(1, 8)"
      ]
     },
     "execution_count": 46,
     "metadata": {},
     "output_type": "execute_result"
    }
   ],
   "source": [
    "pn.page_range"
   ]
  },
  {
   "cell_type": "code",
   "execution_count": 69,
   "id": "6361430b",
   "metadata": {},
   "outputs": [
    {
     "name": "stdout",
     "output_type": "stream",
     "text": [
      "3 6\n",
      "page\n",
      "range(4, 7)\n"
     ]
    }
   ],
   "source": [
    "pn = Paginator(data_list,3)\n",
    "current_page=4\n",
    "page_group_count= 3\n",
    "\n",
    "#현재페이지가 속한 페이지그룹의 시작 페이지의 index\n",
    "start_index = int((current_page-1)/page_group_count)*page_group_count\n",
    "#현재 페이지가 속한 페이지그룹의 마지막 페이지 index\n",
    "end_index = start_index + page_group_count\n",
    "\n",
    "print(start_index, end_index)\n",
    "print(\"page\")\n",
    "pagegroup_page_range = pn.page_range[start_index:end_index]\n",
    "print(pagegroup_page_range)"
   ]
  },
  {
   "cell_type": "code",
   "execution_count": 68,
   "id": "2f357d20",
   "metadata": {},
   "outputs": [
    {
     "name": "stdout",
     "output_type": "stream",
     "text": [
      "<a href= '/board/list?page=3>'3</a>\n",
      "<a href= '/board/list?page=4>'4</a>\n"
     ]
    }
   ],
   "source": [
    "for page_no in pagegroup_page_range:\n",
    "    print(f\"<a href= '/board/list?page={page_no}>'{page_no}</a>\")"
   ]
  },
  {
   "cell_type": "code",
   "execution_count": null,
   "id": "c58fed73",
   "metadata": {},
   "outputs": [],
   "source": []
  },
  {
   "cell_type": "code",
   "execution_count": null,
   "id": "04ff2f29",
   "metadata": {},
   "outputs": [],
   "source": []
  },
  {
   "cell_type": "code",
   "execution_count": null,
   "id": "6d1a65e9",
   "metadata": {},
   "outputs": [],
   "source": []
  },
  {
   "cell_type": "code",
   "execution_count": null,
   "id": "d291c00c",
   "metadata": {},
   "outputs": [],
   "source": []
  },
  {
   "cell_type": "code",
   "execution_count": null,
   "id": "647c8af8",
   "metadata": {},
   "outputs": [],
   "source": []
  },
  {
   "cell_type": "code",
   "execution_count": null,
   "id": "7e99fd7e",
   "metadata": {},
   "outputs": [],
   "source": []
  },
  {
   "cell_type": "code",
   "execution_count": null,
   "id": "1659cee1",
   "metadata": {},
   "outputs": [],
   "source": []
  },
  {
   "cell_type": "code",
   "execution_count": null,
   "id": "96681903",
   "metadata": {},
   "outputs": [],
   "source": []
  }
 ],
 "metadata": {
  "kernelspec": {
   "display_name": "Python 3 (ipykernel)",
   "language": "python",
   "name": "python3"
  },
  "language_info": {
   "codemirror_mode": {
    "name": "ipython",
    "version": 3
   },
   "file_extension": ".py",
   "mimetype": "text/x-python",
   "name": "python",
   "nbconvert_exporter": "python",
   "pygments_lexer": "ipython3",
   "version": "3.7.11"
  },
  "toc": {
   "base_numbering": 1,
   "nav_menu": {},
   "number_sections": true,
   "sideBar": true,
   "skip_h1_title": false,
   "title_cell": "Table of Contents",
   "title_sidebar": "Contents",
   "toc_cell": false,
   "toc_position": {},
   "toc_section_display": true,
   "toc_window_display": false
  },
  "varInspector": {
   "cols": {
    "lenName": 16,
    "lenType": 16,
    "lenVar": 40
   },
   "kernels_config": {
    "python": {
     "delete_cmd_postfix": "",
     "delete_cmd_prefix": "del ",
     "library": "var_list.py",
     "varRefreshCmd": "print(var_dic_list())"
    },
    "r": {
     "delete_cmd_postfix": ") ",
     "delete_cmd_prefix": "rm(",
     "library": "var_list.r",
     "varRefreshCmd": "cat(var_dic_list()) "
    }
   },
   "types_to_exclude": [
    "module",
    "function",
    "builtin_function_or_method",
    "instance",
    "_Feature"
   ],
   "window_display": false
  }
 },
 "nbformat": 4,
 "nbformat_minor": 5
}
