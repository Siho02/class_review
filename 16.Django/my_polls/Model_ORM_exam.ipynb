{
 "cells": [
  {
   "cell_type": "code",
   "execution_count": 2,
   "id": "3d00fe3c",
   "metadata": {},
   "outputs": [],
   "source": [
    "# django shell 기능을 jupyter notebook을 이용해 작업\n",
    "#    - django 프로젝트 root 디렉토리에서 주피터 노트북을 실행\n",
    "#    - jupyter notebook에서 django shell을 사용하기 위해 환경설정\n",
    "\n",
    "import os\n",
    "os.environ['DJANGO_SETTINGS_MODULE'] = 'config.settings' #root/config/settings.py 경로 지정\n",
    "os.environ['DJANGO_ALLOW_ASYNC_UNSAFE'] = 'true'\n",
    "\n",
    "import django\n",
    "django.setup()"
   ]
  },
  {
   "cell_type": "code",
   "execution_count": 3,
   "id": "13ca3134",
   "metadata": {},
   "outputs": [],
   "source": [
    "from poll.models import Question, Choice"
   ]
  },
  {
   "cell_type": "code",
   "execution_count": 4,
   "id": "2d8eb2d8",
   "metadata": {},
   "outputs": [
    {
     "name": "stdout",
     "output_type": "stream",
     "text": [
      "<class 'django.db.models.manager.Manager'>\n"
     ]
    }
   ],
   "source": [
    "mm = Question.objects\n",
    "print(type(mm))\n"
   ]
  },
  {
   "cell_type": "code",
   "execution_count": 5,
   "id": "123edb53",
   "metadata": {},
   "outputs": [
    {
     "data": {
      "text/plain": [
       "<QuerySet [<Question: 좋아하는 색깔은 무엇입니까?>, <Question: 좋아하는 동물은 무엇입니까?>, <Question: 가고 싶은 나라는 무엇입니까?>, <Question: 좋아하는 음식은 무엇입니까?>, <Question: 휴대폰 기종은 무엇입니까?>, <Question: 좋아하는 음료는 무엇입니까?>]>"
      ]
     },
     "execution_count": 5,
     "metadata": {},
     "output_type": "execute_result"
    }
   ],
   "source": [
    "mm.all()"
   ]
  },
  {
   "cell_type": "markdown",
   "id": "095c2b5f",
   "metadata": {},
   "source": [
    "모델클래스.objects.SQL메소드()[.SQL메소드()...]"
   ]
  },
  {
   "cell_type": "markdown",
   "id": "d98829d1",
   "metadata": {},
   "source": [
    "# 조회(select)\n",
    " - all() : 전체 조회"
   ]
  },
  {
   "cell_type": "code",
   "execution_count": 8,
   "id": "3a2a76ed",
   "metadata": {},
   "outputs": [
    {
     "name": "stdout",
     "output_type": "stream",
     "text": [
      "<class 'django.db.models.query.QuerySet'>\n",
      "SELECT \"poll_question\".\"id\", \"poll_question\".\"question_text\", \"poll_question\".\"pub_date\" FROM \"poll_question\"\n"
     ]
    },
    {
     "data": {
      "text/plain": [
       "<QuerySet [<Question: 좋아하는 색깔은 무엇입니까?>, <Question: 좋아하는 동물은 무엇입니까?>, <Question: 가고 싶은 나라는 무엇입니까?>, <Question: 좋아하는 음식은 무엇입니까?>, <Question: 휴대폰 기종은 무엇입니까?>, <Question: 좋아하는 음료는 무엇입니까?>]>"
      ]
     },
     "execution_count": 8,
     "metadata": {},
     "output_type": "execute_result"
    }
   ],
   "source": [
    "qs = Question.objects.all() #select * from question / 조회 결과 : QuerySet 객체 반환\n",
    "#조회 결과는 QuerySet 객체 반환\n",
    "#QuestSet - 조회결과를 조회, 추가 SQL문을 실행\n",
    "print(type(qs))\n",
    "print(qs.query)\n",
    "qs"
   ]
  },
  {
   "cell_type": "code",
   "execution_count": 10,
   "id": "785c3656",
   "metadata": {},
   "outputs": [
    {
     "name": "stdout",
     "output_type": "stream",
     "text": [
      "<class 'poll.models.Question'> 좋아하는 색깔은 무엇입니까? -- 좋아하는 색깔은 무엇입니까? 2021-10-05 08:17:24.131980+00:00 2 2\n",
      "<class 'poll.models.Question'> 좋아하는 동물은 무엇입니까? -- 좋아하는 동물은 무엇입니까? 2021-10-05 08:17:45.822865+00:00 3 3\n",
      "<class 'poll.models.Question'> 가고 싶은 나라는 무엇입니까? -- 가고 싶은 나라는 무엇입니까? 2021-10-05 08:17:57.079680+00:00 4 4\n",
      "<class 'poll.models.Question'> 좋아하는 음식은 무엇입니까? -- 좋아하는 음식은 무엇입니까? 2021-10-05 08:18:12.759701+00:00 5 5\n",
      "<class 'poll.models.Question'> 휴대폰 기종은 무엇입니까? -- 휴대폰 기종은 무엇입니까? 2021-10-05 08:41:13.631494+00:00 6 6\n",
      "<class 'poll.models.Question'> 좋아하는 음료는 무엇입니까? -- 좋아하는 음료는 무엇입니까? 2021-10-05 08:41:59.704621+00:00 7 7\n"
     ]
    }
   ],
   "source": [
    "for m in qs:\n",
    "    print(type(m), m, \"--\", m.question_text, m.pub_date, m.id, m.pk)"
   ]
  },
  {
   "cell_type": "code",
   "execution_count": 12,
   "id": "93638b3d",
   "metadata": {},
   "outputs": [
    {
     "name": "stdout",
     "output_type": "stream",
     "text": [
      "id :  4 등록 일시 :  2021-10-05 08:17:57.079680+00:00 질문 :  가고 싶은 나라는 무엇입니까?\n"
     ]
    }
   ],
   "source": [
    "#Queryset : iterable - 반복문으로 조회, indexing, slicing\n",
    "qs[2]\n",
    "print(\"id : \", qs[2].pk, \"등록 일시 : \", qs[2].pub_date, \"질문 : \", qs[2].question_text)"
   ]
  },
  {
   "cell_type": "code",
   "execution_count": 13,
   "id": "d18bda3c",
   "metadata": {},
   "outputs": [
    {
     "data": {
      "text/plain": [
       "[<Question: 좋아하는 색깔은 무엇입니까?>,\n",
       " <Question: 가고 싶은 나라는 무엇입니까?>,\n",
       " <Question: 휴대폰 기종은 무엇입니까?>]"
      ]
     },
     "execution_count": 13,
     "metadata": {},
     "output_type": "execute_result"
    }
   ],
   "source": [
    "qs[::2]"
   ]
  },
  {
   "cell_type": "code",
   "execution_count": 14,
   "id": "75b62531",
   "metadata": {},
   "outputs": [
    {
     "data": {
      "text/plain": [
       "[<Question: 가고 싶은 나라는 무엇입니까?>,\n",
       " <Question: 좋아하는 음식은 무엇입니까?>,\n",
       " <Question: 휴대폰 기종은 무엇입니까?>]"
      ]
     },
     "execution_count": 14,
     "metadata": {},
     "output_type": "execute_result"
    }
   ],
   "source": [
    "qs[2:5]"
   ]
  },
  {
   "cell_type": "code",
   "execution_count": 15,
   "id": "98ae5319",
   "metadata": {},
   "outputs": [
    {
     "data": {
      "text/plain": [
       "<Question: 좋아하는 색깔은 무엇입니까?>"
      ]
     },
     "execution_count": 15,
     "metadata": {},
     "output_type": "execute_result"
    }
   ],
   "source": [
    "qs.first()"
   ]
  },
  {
   "cell_type": "code",
   "execution_count": 16,
   "id": "1c73248f",
   "metadata": {},
   "outputs": [
    {
     "data": {
      "text/plain": [
       "<Question: 좋아하는 음료는 무엇입니까?>"
      ]
     },
     "execution_count": 16,
     "metadata": {},
     "output_type": "execute_result"
    }
   ],
   "source": [
    "qs.last()"
   ]
  },
  {
   "cell_type": "markdown",
   "id": "9ac1394f",
   "metadata": {},
   "source": [
    "# wherw절 이용한 조회\n",
    "조회 조건이 있는 조회\n",
    " - filter(조회조건) : 조건을 만족하는 행이 0개 이상일 경우\n",
    " - exclude(조회조건) : filter()반대, 조건을 만족하지 않는 0개 이상의 행들을 조회\n",
    " - get(조회조건) : 조회 조건을 만족하는 1개 행 조회, PK로 조회할 때 사용, 조회결과가 0개, 2개이상인 경우 exception발생\n",
    " - filter() / exclude() 반환 타입 : Queryset\n",
    " - get() : Model 객체 반환"
   ]
  },
  {
   "cell_type": "code",
   "execution_count": 19,
   "id": "461f61a5",
   "metadata": {},
   "outputs": [
    {
     "name": "stdout",
     "output_type": "stream",
     "text": [
      "<QuerySet [<Question: 좋아하는 동물은 무엇입니까?>]>\n"
     ]
    },
    {
     "data": {
      "text/plain": [
       "(3,\n",
       " '좋아하는 동물은 무엇입니까?',\n",
       " datetime.datetime(2021, 10, 5, 8, 17, 45, 822865, tzinfo=<UTC>))"
      ]
     },
     "execution_count": 19,
     "metadata": {},
     "output_type": "execute_result"
    }
   ],
   "source": [
    "# pk(id) = 2 \n",
    "qs = Question.objects.filter(id=3)\n",
    "print(qs)\n",
    "r = qs.first()\n",
    "r.id, r.question_text, r.pub_date"
   ]
  },
  {
   "cell_type": "code",
   "execution_count": 20,
   "id": "65838c58",
   "metadata": {},
   "outputs": [
    {
     "name": "stdout",
     "output_type": "stream",
     "text": [
      "<class 'poll.models.Question'>\n"
     ]
    },
    {
     "data": {
      "text/plain": [
       "(2, '좋아하는 색깔은 무엇입니까?')"
      ]
     },
     "execution_count": 20,
     "metadata": {},
     "output_type": "execute_result"
    }
   ],
   "source": [
    "question = Question.objects.get(pk=2)\n",
    "print(type(question))\n",
    "question.pk, question.question_text"
   ]
  },
  {
   "cell_type": "code",
   "execution_count": 21,
   "id": "55018b1b",
   "metadata": {},
   "outputs": [
    {
     "name": "stdout",
     "output_type": "stream",
     "text": [
      "SELECT \"poll_question\".\"id\", \"poll_question\".\"question_text\", \"poll_question\".\"pub_date\" FROM \"poll_question\" WHERE NOT (\"poll_question\".\"id\" = 2)\n"
     ]
    },
    {
     "data": {
      "text/plain": [
       "<QuerySet [<Question: 좋아하는 동물은 무엇입니까?>, <Question: 가고 싶은 나라는 무엇입니까?>, <Question: 좋아하는 음식은 무엇입니까?>, <Question: 휴대폰 기종은 무엇입니까?>, <Question: 좋아하는 음료는 무엇입니까?>]>"
      ]
     },
     "execution_count": 21,
     "metadata": {},
     "output_type": "execute_result"
    }
   ],
   "source": [
    "qs = Question.objects.exclude(pk=2)\n",
    "print(qs.query)\n",
    "qs"
   ]
  },
  {
   "cell_type": "code",
   "execution_count": 23,
   "id": "dca2da7e",
   "metadata": {},
   "outputs": [
    {
     "name": "stdout",
     "output_type": "stream",
     "text": [
      "id가 100인 질문은 없다\n"
     ]
    }
   ],
   "source": [
    "try:\n",
    "    q = Question.objects.get(pk=100) #없는 것을 조회 # Question matching query does not exist.\n",
    "except:\n",
    "    print(\"id가 100인 질문은 없다\")\n",
    "\n"
   ]
  },
  {
   "cell_type": "code",
   "execution_count": 24,
   "id": "1760830f",
   "metadata": {},
   "outputs": [
    {
     "data": {
      "text/plain": [
       "<QuerySet []>"
      ]
     },
     "execution_count": 24,
     "metadata": {},
     "output_type": "execute_result"
    }
   ],
   "source": [
    "Question.objects.filter(pk=100) #없는 것을 조회 # Question matching query does not exist.\n"
   ]
  },
  {
   "cell_type": "code",
   "execution_count": 25,
   "id": "c0c68ce5",
   "metadata": {},
   "outputs": [
    {
     "ename": "MultipleObjectsReturned",
     "evalue": "get() returned more than one Question -- it returned 6!",
     "output_type": "error",
     "traceback": [
      "\u001b[1;31m---------------------------------------------------------------------------\u001b[0m",
      "\u001b[1;31mMultipleObjectsReturned\u001b[0m                   Traceback (most recent call last)",
      "\u001b[1;32mC:\\Users\\XODLR_~1\\AppData\\Local\\Temp/ipykernel_6640/4161638032.py\u001b[0m in \u001b[0;36m<module>\u001b[1;34m\u001b[0m\n\u001b[1;32m----> 1\u001b[1;33m \u001b[0mq\u001b[0m \u001b[1;33m=\u001b[0m \u001b[0mQuestion\u001b[0m\u001b[1;33m.\u001b[0m\u001b[0mobjects\u001b[0m\u001b[1;33m.\u001b[0m\u001b[0mget\u001b[0m\u001b[1;33m(\u001b[0m\u001b[0mpk__gt\u001b[0m\u001b[1;33m=\u001b[0m\u001b[1;36m1\u001b[0m\u001b[1;33m)\u001b[0m\u001b[1;33m\u001b[0m\u001b[1;33m\u001b[0m\u001b[0m\n\u001b[0m",
      "\u001b[1;32mc:\\users\\xodlr_000\\anaconda3\\envs\\django\\lib\\site-packages\\django\\db\\models\\manager.py\u001b[0m in \u001b[0;36mmanager_method\u001b[1;34m(self, *args, **kwargs)\u001b[0m\n\u001b[0;32m     80\u001b[0m         \u001b[1;32mdef\u001b[0m \u001b[0mcreate_method\u001b[0m\u001b[1;33m(\u001b[0m\u001b[0mname\u001b[0m\u001b[1;33m,\u001b[0m \u001b[0mmethod\u001b[0m\u001b[1;33m)\u001b[0m\u001b[1;33m:\u001b[0m\u001b[1;33m\u001b[0m\u001b[1;33m\u001b[0m\u001b[0m\n\u001b[0;32m     81\u001b[0m             \u001b[1;32mdef\u001b[0m \u001b[0mmanager_method\u001b[0m\u001b[1;33m(\u001b[0m\u001b[0mself\u001b[0m\u001b[1;33m,\u001b[0m \u001b[1;33m*\u001b[0m\u001b[0margs\u001b[0m\u001b[1;33m,\u001b[0m \u001b[1;33m**\u001b[0m\u001b[0mkwargs\u001b[0m\u001b[1;33m)\u001b[0m\u001b[1;33m:\u001b[0m\u001b[1;33m\u001b[0m\u001b[1;33m\u001b[0m\u001b[0m\n\u001b[1;32m---> 82\u001b[1;33m                 \u001b[1;32mreturn\u001b[0m \u001b[0mgetattr\u001b[0m\u001b[1;33m(\u001b[0m\u001b[0mself\u001b[0m\u001b[1;33m.\u001b[0m\u001b[0mget_queryset\u001b[0m\u001b[1;33m(\u001b[0m\u001b[1;33m)\u001b[0m\u001b[1;33m,\u001b[0m \u001b[0mname\u001b[0m\u001b[1;33m)\u001b[0m\u001b[1;33m(\u001b[0m\u001b[1;33m*\u001b[0m\u001b[0margs\u001b[0m\u001b[1;33m,\u001b[0m \u001b[1;33m**\u001b[0m\u001b[0mkwargs\u001b[0m\u001b[1;33m)\u001b[0m\u001b[1;33m\u001b[0m\u001b[1;33m\u001b[0m\u001b[0m\n\u001b[0m\u001b[0;32m     83\u001b[0m             \u001b[0mmanager_method\u001b[0m\u001b[1;33m.\u001b[0m\u001b[0m__name__\u001b[0m \u001b[1;33m=\u001b[0m \u001b[0mmethod\u001b[0m\u001b[1;33m.\u001b[0m\u001b[0m__name__\u001b[0m\u001b[1;33m\u001b[0m\u001b[1;33m\u001b[0m\u001b[0m\n\u001b[0;32m     84\u001b[0m             \u001b[0mmanager_method\u001b[0m\u001b[1;33m.\u001b[0m\u001b[0m__doc__\u001b[0m \u001b[1;33m=\u001b[0m \u001b[0mmethod\u001b[0m\u001b[1;33m.\u001b[0m\u001b[0m__doc__\u001b[0m\u001b[1;33m\u001b[0m\u001b[1;33m\u001b[0m\u001b[0m\n",
      "\u001b[1;32mc:\\users\\xodlr_000\\anaconda3\\envs\\django\\lib\\site-packages\\django\\db\\models\\query.py\u001b[0m in \u001b[0;36mget\u001b[1;34m(self, *args, **kwargs)\u001b[0m\n\u001b[0;32m    410\u001b[0m         raise self.model.MultipleObjectsReturned(\n\u001b[0;32m    411\u001b[0m             \u001b[1;34m\"get() returned more than one %s -- it returned %s!\"\u001b[0m \u001b[1;33m%\u001b[0m\u001b[1;33m\u001b[0m\u001b[1;33m\u001b[0m\u001b[0m\n\u001b[1;32m--> 412\u001b[1;33m             \u001b[1;33m(\u001b[0m\u001b[0mself\u001b[0m\u001b[1;33m.\u001b[0m\u001b[0mmodel\u001b[0m\u001b[1;33m.\u001b[0m\u001b[0m_meta\u001b[0m\u001b[1;33m.\u001b[0m\u001b[0mobject_name\u001b[0m\u001b[1;33m,\u001b[0m \u001b[0mnum\u001b[0m\u001b[1;33m)\u001b[0m\u001b[1;33m\u001b[0m\u001b[1;33m\u001b[0m\u001b[0m\n\u001b[0m\u001b[0;32m    413\u001b[0m         )\n\u001b[0;32m    414\u001b[0m \u001b[1;33m\u001b[0m\u001b[0m\n",
      "\u001b[1;31mMultipleObjectsReturned\u001b[0m: get() returned more than one Question -- it returned 6!"
     ]
    }
   ],
   "source": [
    "q = Question.objects.get(pk__gt=1)  #where pk>1 : 1개 이상이 조회되는 경우 get()- MultipleObjectsReturned Exception 발생"
   ]
  },
  {
   "cell_type": "code",
   "execution_count": 26,
   "id": "c77a53a0",
   "metadata": {},
   "outputs": [
    {
     "name": "stdout",
     "output_type": "stream",
     "text": [
      "2 좋아하는 색깔은 무엇입니까?\n"
     ]
    }
   ],
   "source": [
    "#조회 조건\n",
    "qs = Question.objects.filter(pk__lt=3)\n",
    "\n",
    "for m in qs:\n",
    "    print(m.pk, m.question_text)\n",
    "    "
   ]
  },
  {
   "cell_type": "code",
   "execution_count": 27,
   "id": "e91c6298",
   "metadata": {},
   "outputs": [
    {
     "name": "stdout",
     "output_type": "stream",
     "text": [
      "2 좋아하는 색깔은 무엇입니까?\n",
      "3 좋아하는 동물은 무엇입니까?\n",
      "4 가고 싶은 나라는 무엇입니까?\n",
      "5 좋아하는 음식은 무엇입니까?\n"
     ]
    }
   ],
   "source": [
    "qs = Question.objects.filter(pk__lte=5)\n",
    "\n",
    "for m in qs:\n",
    "    print(m.pk, m.question_text)\n"
   ]
  },
  {
   "cell_type": "code",
   "execution_count": 28,
   "id": "719c9d7b",
   "metadata": {},
   "outputs": [
    {
     "name": "stdout",
     "output_type": "stream",
     "text": [
      "6 휴대폰 기종은 무엇입니까?\n",
      "7 좋아하는 음료는 무엇입니까?\n"
     ]
    }
   ],
   "source": [
    "qs = Question.objects.filter(pk__gt=5)\n",
    "\n",
    "for m in qs:\n",
    "    print(m.pk, m.question_text)\n"
   ]
  },
  {
   "cell_type": "code",
   "execution_count": 30,
   "id": "39b0099b",
   "metadata": {},
   "outputs": [
    {
     "name": "stdout",
     "output_type": "stream",
     "text": [
      "5 좋아하는 음식은 무엇입니까?\n",
      "6 휴대폰 기종은 무엇입니까?\n",
      "7 좋아하는 음료는 무엇입니까?\n"
     ]
    }
   ],
   "source": [
    "qs = Question.objects.filter(pk__gte=5)\n",
    "\n",
    "for m in qs:\n",
    "    print(m.pk, m.question_text)\n"
   ]
  },
  {
   "cell_type": "code",
   "execution_count": 31,
   "id": "6b8a4cd2",
   "metadata": {},
   "outputs": [
    {
     "name": "stdout",
     "output_type": "stream",
     "text": [
      "3 좋아하는 동물은 무엇입니까?\n",
      "4 가고 싶은 나라는 무엇입니까?\n",
      "7 좋아하는 음료는 무엇입니까?\n"
     ]
    }
   ],
   "source": [
    "qs = Question.objects.filter(pk__in=[3,4,7])\n",
    "\n",
    "for m in qs:\n",
    "    print(m.pk, m.question_text)\n"
   ]
  },
  {
   "cell_type": "code",
   "execution_count": 32,
   "id": "8461e9ca",
   "metadata": {},
   "outputs": [
    {
     "name": "stdout",
     "output_type": "stream",
     "text": [
      "2 좋아하는 색깔은 무엇입니까?\n",
      "3 좋아하는 동물은 무엇입니까?\n",
      "4 가고 싶은 나라는 무엇입니까?\n",
      "5 좋아하는 음식은 무엇입니까?\n"
     ]
    }
   ],
   "source": [
    "qs = Question.objects.filter(pk__range=[2,5]) #pk between 2and5\n",
    "\n",
    "for m in qs:\n",
    "    print(m.pk, m.question_text)\n"
   ]
  },
  {
   "cell_type": "code",
   "execution_count": 33,
   "id": "f95a2f78",
   "metadata": {},
   "outputs": [
    {
     "name": "stdout",
     "output_type": "stream",
     "text": [
      "2 좋아하는 색깔은 무엇입니까?\n",
      "3 좋아하는 동물은 무엇입니까?\n",
      "5 좋아하는 음식은 무엇입니까?\n",
      "7 좋아하는 음료는 무엇입니까?\n"
     ]
    }
   ],
   "source": [
    "qs = Question.objects.filter(question_text__startswith = \"좋아하는\") #question_text like '좋아하는%' 좋아하는으로 시작하는\n",
    "for m in qs:\n",
    "    print(m.pk, m.question_text)\n"
   ]
  },
  {
   "cell_type": "code",
   "execution_count": 34,
   "id": "0ddb1823",
   "metadata": {},
   "outputs": [
    {
     "name": "stdout",
     "output_type": "stream",
     "text": [
      "2 좋아하는 색깔은 무엇입니까?\n",
      "3 좋아하는 동물은 무엇입니까?\n",
      "4 가고 싶은 나라는 무엇입니까?\n",
      "5 좋아하는 음식은 무엇입니까?\n",
      "6 휴대폰 기종은 무엇입니까?\n",
      "7 좋아하는 음료는 무엇입니까?\n"
     ]
    }
   ],
   "source": [
    "qs = Question.objects.filter(question_text__endswith = \"무엇입니까?\")\n",
    "\n",
    "for m in qs:\n",
    "    print(m.pk, m.question_text)\n"
   ]
  },
  {
   "cell_type": "code",
   "execution_count": 35,
   "id": "9e5d8f1a",
   "metadata": {},
   "outputs": [
    {
     "name": "stdout",
     "output_type": "stream",
     "text": [
      "3 좋아하는 동물은 무엇입니까?\n"
     ]
    }
   ],
   "source": [
    "qs = Question.objects.filter(question_text__contains = \"동물\")\n",
    "\n",
    "for m in qs:\n",
    "    print(m.pk, m.question_text)\n"
   ]
  },
  {
   "cell_type": "markdown",
   "id": "adbae9bb",
   "metadata": {},
   "source": [
    "## and 조건\n",
    " - 조회함수들의 매개변수에 조건을 나열해준다"
   ]
  },
  {
   "cell_type": "code",
   "execution_count": 37,
   "id": "7f5750b2",
   "metadata": {},
   "outputs": [
    {
     "name": "stdout",
     "output_type": "stream",
     "text": [
      "SELECT \"poll_question\".\"id\", \"poll_question\".\"question_text\", \"poll_question\".\"pub_date\" FROM \"poll_question\" WHERE (\"poll_question\".\"id\" = 2 AND \"poll_question\".\"question_text\" LIKE 좋아하는% ESCAPE '\\')\n",
      "2 좋아하는 색깔은 무엇입니까?\n"
     ]
    }
   ],
   "source": [
    "# pk = 2 and q_text가 \"좋아하는\"으로 시작하는 것\n",
    "qs = Question.objects.filter(pk=2, question_text__startswith = '좋아하는')\n",
    "\n",
    "print(qs.query)\n",
    "for m in qs:\n",
    "    print(m.pk, m.question_text)"
   ]
  },
  {
   "cell_type": "markdown",
   "id": "68a7520d",
   "metadata": {},
   "source": [
    "## or 조건\n",
    " - 개별 조건을 Q에 넣고 `|` 사용"
   ]
  },
  {
   "cell_type": "code",
   "execution_count": 42,
   "id": "af81cc38",
   "metadata": {},
   "outputs": [
    {
     "name": "stdout",
     "output_type": "stream",
     "text": [
      "SELECT \"poll_question\".\"id\", \"poll_question\".\"question_text\", \"poll_question\".\"pub_date\" FROM \"poll_question\" WHERE (\"poll_question\".\"id\" <= 3 OR \"poll_question\".\"question_text\" LIKE 좋아하는% ESCAPE '\\')\n",
      "2 좋아하는 색깔은 무엇입니까?\n",
      "3 좋아하는 동물은 무엇입니까?\n",
      "5 좋아하는 음식은 무엇입니까?\n",
      "7 좋아하는 음료는 무엇입니까?\n"
     ]
    }
   ],
   "source": [
    "#pk<3 or question_text like '%어디인가요?\"\n",
    "\n",
    "from django.db.models import Q\n",
    "\n",
    "qs = Question.objects.filter(Q(pk__lte=3) | Q(question_text__startswith=\"좋아하는\"))\n",
    "\n",
    "print(qs.query)\n",
    "for m in qs:\n",
    "    print(m.pk, m.question_text)"
   ]
  },
  {
   "cell_type": "markdown",
   "id": "6426b4fe",
   "metadata": {},
   "source": [
    "## 컬럼 선택, 정렬\n",
    " - values(조회할컬럼변수나열) : 컬럼 선택\n",
    "     - 조회한 데이터를 dictionary에 넣어서 반환. QuerySet[{}, {}]\n",
    " - order_by(기준컬럼) : 정렬 - ASC(기본), \"-컬럼명\" : DESC"
   ]
  },
  {
   "cell_type": "code",
   "execution_count": 51,
   "id": "cd6bb8c9",
   "metadata": {},
   "outputs": [
    {
     "name": "stdout",
     "output_type": "stream",
     "text": [
      "SELECT \"poll_choice\".\"choice_text\", \"poll_choice\".\"vote\" FROM \"poll_choice\"\n",
      "노랑색\t0\n",
      "초록색\t0\n",
      "빨간색\t0\n",
      "흰색\t0\n",
      "강아지\t0\n",
      "고양이\t0\n",
      "토끼\t0\n",
      "사슴\t0\n",
      "돌고래\t0\n",
      "프랑스\t0\n",
      "미국\t0\n",
      "스위스\t0\n",
      "영국\t0\n",
      "대만\t0\n",
      "러시아\t0\n",
      "브라질\t0\n",
      "한식\t0\n",
      "중식\t0\n",
      "일식\t0\n",
      "양식\t0\n",
      "아이폰\t0\n",
      "갤럭시\t0\n",
      "기타\t0\n",
      "커피\t0\n",
      "물\t0\n",
      "청량음료\t0\n",
      "주류\t0\n",
      "쥬스\t0\n"
     ]
    }
   ],
   "source": [
    "qs = Choice.objects.all().values('choice_text', 'vote') #select choice_text, vote from choice\n",
    "\n",
    "print(qs.query)\n",
    "#print(qs)\n",
    "\n",
    "for m in qs:\n",
    "    #print(m.pk, m.choice_text, m.vote, m.question, type(m.question),sep='\\t')\n",
    "    print(m['choice_text'], m['vote'], sep='\\t')"
   ]
  },
  {
   "cell_type": "code",
   "execution_count": 57,
   "id": "86e730f6",
   "metadata": {},
   "outputs": [
    {
     "name": "stdout",
     "output_type": "stream",
     "text": [
      "SELECT \"poll_choice\".\"id\", \"poll_choice\".\"choice_text\" FROM \"poll_choice\" WHERE \"poll_choice\".\"id\" < 8 ORDER BY \"poll_choice\".\"choice_text\" DESC, \"poll_choice\".\"id\" ASC\n",
      "4\t흰색\n",
      "7\t토끼\n",
      "2\t초록색\n",
      "3\t빨간색\n",
      "1\t노랑색\n",
      "6\t고양이\n",
      "5\t강아지\n"
     ]
    }
   ],
   "source": [
    "#qs = Choice.objects.values('id', 'choice_text').all().order_by('choice_text') #choice_text를 기준으로 오름차순 정렬\n",
    "#qs = Choice.objects.values('id', 'choice_text').all().order_by('-choice_text') #choice_text를 기준으로 내림차순 정렬\n",
    "#qs = Choice.objects.values('id', 'choice_text').all().order_by('-choice_text', 'id') #choice desc, id asc\n",
    "qs = Choice.objects.values('id', 'choice_text').filter(pk__lt=8).order_by('-choice_text', 'id') \n",
    "\n",
    "print(qs.query)\n",
    "\n",
    "for m in qs:\n",
    "    print(m['id'], m['choice_text'], sep='\\t')"
   ]
  },
  {
   "cell_type": "code",
   "execution_count": null,
   "id": "1a58b98f",
   "metadata": {},
   "outputs": [],
   "source": [
    "select 컬럼명 -values()\n",
    "from 테이블명 - 모델클래스명\n",
    "where 조건 - filter, exclude, get 메소드\n",
    "groupby\n",
    "order by 정렬조건, -order_by()메소드\n"
   ]
  },
  {
   "cell_type": "markdown",
   "id": "8ebb9aee",
   "metadata": {},
   "source": [
    "## 집계함수"
   ]
  },
  {
   "cell_type": "code",
   "execution_count": 59,
   "id": "eb62323e",
   "metadata": {},
   "outputs": [
    {
     "name": "stdout",
     "output_type": "stream",
     "text": [
      "28 28\n"
     ]
    }
   ],
   "source": [
    "#조회한 데이터 개수 조회\n",
    "#QuerySet.Count(), Len(QuerySet)\n",
    "qs = Choice.objects.all()\n",
    "print(qs.count(), len(qs))"
   ]
  },
  {
   "cell_type": "code",
   "execution_count": 58,
   "id": "a5904731",
   "metadata": {},
   "outputs": [],
   "source": [
    "#집계함수 import\n",
    "from django.db.models import Count, Sum, Avg, Min, Max, StdDev, Variance"
   ]
  },
  {
   "cell_type": "code",
   "execution_count": 60,
   "id": "95c567de",
   "metadata": {},
   "outputs": [
    {
     "data": {
      "text/plain": [
       "{'vote__count': 28,\n",
       " 'vote__sum': 0,\n",
       " 'vote__avg': 0.0,\n",
       " 'vote__min': 0,\n",
       " 'vote__stddev': 0.0,\n",
       " 'vote__variance': 0.0}"
      ]
     },
     "execution_count": 60,
     "metadata": {},
     "output_type": "execute_result"
    }
   ],
   "source": [
    "#전체 데이터셋 기준 집계\n",
    "#select count(vote)\n",
    "result = Choice.objects.aggregate(Count('vote'), Sum('vote'), Avg('vote'), Min('vote'), StdDev('vote'), Variance('vote'))\n",
    "result"
   ]
  },
  {
   "cell_type": "code",
   "execution_count": 61,
   "id": "2c4df319",
   "metadata": {},
   "outputs": [
    {
     "data": {
      "text/plain": [
       "0.0"
      ]
     },
     "execution_count": 61,
     "metadata": {},
     "output_type": "execute_result"
    }
   ],
   "source": [
    "#결과 key : field이름__집계이름\n",
    "#result.keys()\n",
    "result['vote__avg']\n"
   ]
  },
  {
   "cell_type": "code",
   "execution_count": 62,
   "id": "559c1120",
   "metadata": {},
   "outputs": [
    {
     "data": {
      "text/plain": [
       "{'pub_date__min': datetime.datetime(2021, 10, 5, 8, 17, 24, 131980, tzinfo=<UTC>),\n",
       " 'pub_date__max': datetime.datetime(2021, 10, 5, 8, 41, 59, 704621, tzinfo=<UTC>)}"
      ]
     },
     "execution_count": 62,
     "metadata": {},
     "output_type": "execute_result"
    }
   ],
   "source": [
    "#select min(pub_date)\n",
    "#datetime, date, time 타입 : min-과거, max-최신\n",
    "result2 = Question.objects.aggregate(Min('pub_date'), Max('pub_date'))\n",
    "result2"
   ]
  },
  {
   "cell_type": "code",
   "execution_count": 64,
   "id": "fdb122d5",
   "metadata": {},
   "outputs": [
    {
     "name": "stdout",
     "output_type": "stream",
     "text": [
      "<class 'datetime.datetime'>\n"
     ]
    },
    {
     "data": {
      "text/plain": [
       "(2021, 10, 5, 8, 17, 24)"
      ]
     },
     "execution_count": 64,
     "metadata": {},
     "output_type": "execute_result"
    }
   ],
   "source": [
    "min_date = result2['pub_date__min']\n",
    "print(type(min_date))\n",
    "min_date.year, min_date.month, min_date.day, min_date.hour, min_date.minute, min_date.second"
   ]
  },
  {
   "cell_type": "code",
   "execution_count": 67,
   "id": "4403e91a",
   "metadata": {},
   "outputs": [
    {
     "name": "stdout",
     "output_type": "stream",
     "text": [
      "2021-10-05 08:17:24 <class 'str'>\n"
     ]
    }
   ],
   "source": [
    "#datetime.strftime(\"형식문자\") %Y-연도 , %m-월, %d-일, %H-시간, %M-분, %S-초 >> 원하는 형식의 문자열로 변환\n",
    "r = min_date.strftime(\"%Y-%m-%d %H:%M:%S\")\n",
    "print(r, type(r))\n"
   ]
  },
  {
   "cell_type": "code",
   "execution_count": 72,
   "id": "76349a0c",
   "metadata": {},
   "outputs": [
    {
     "name": "stdout",
     "output_type": "stream",
     "text": [
      "<QuerySet [{'question': 2, 'vote__sum': 0, 'vote__avg': 0.0, 'choice_text__max': '흰색'}, {'question': 3, 'vote__sum': 0, 'vote__avg': 0.0, 'choice_text__max': '토끼'}, {'question': 4, 'vote__sum': 0, 'vote__avg': 0.0, 'choice_text__max': '프랑스'}, {'question': 5, 'vote__sum': 0, 'vote__avg': 0.0, 'choice_text__max': '한식'}, {'question': 6, 'vote__sum': 0, 'vote__avg': 0.0, 'choice_text__max': '아이폰'}, {'question': 7, 'vote__sum': 0, 'vote__avg': 0.0, 'choice_text__max': '커피'}]> \n",
      "\n",
      "{'question': 2, 'vote__sum': 0, 'vote__avg': 0.0, 'choice_text__max': '흰색'}\n",
      "{'question': 3, 'vote__sum': 0, 'vote__avg': 0.0, 'choice_text__max': '토끼'}\n",
      "{'question': 4, 'vote__sum': 0, 'vote__avg': 0.0, 'choice_text__max': '프랑스'}\n",
      "{'question': 5, 'vote__sum': 0, 'vote__avg': 0.0, 'choice_text__max': '한식'}\n",
      "{'question': 6, 'vote__sum': 0, 'vote__avg': 0.0, 'choice_text__max': '아이폰'}\n",
      "{'question': 7, 'vote__sum': 0, 'vote__avg': 0.0, 'choice_text__max': '커피'}\n"
     ]
    }
   ],
   "source": [
    "#groupby\n",
    "#select sum(vote), ... from choice groupby quesition\n",
    "result3 = Choice.objects.values('question').annotate(Sum('vote'), Avg('vote'), Max('choice_text'))\n",
    "print(result3, '\\n')\n",
    "\n",
    "for d in result3:\n",
    "    print(d)"
   ]
  },
  {
   "cell_type": "code",
   "execution_count": 74,
   "id": "078dacf0",
   "metadata": {},
   "outputs": [],
   "source": [
    "#having절 처리 함수는 없음!!!\n",
    "#select sum(vote), ... from choice groupby question having sum(vote) > 50\n",
    "\n",
    "for d in result3:\n",
    "    if d['vote__sum'] > 10:\n",
    "        print(d)\n",
    "        \n",
    "#만족하는 것이 없어서 코드가 떨어지기만 함"
   ]
  },
  {
   "cell_type": "markdown",
   "id": "c84b5a8f",
   "metadata": {},
   "source": [
    "# 테이블간의 관계\n",
    "\n",
    "## join을 이용한 조회\n",
    "\n",
    "### 자식테이블에서 부모 테이블값을 조회\n",
    "\n",
    "- Question : 부모\n",
    "- Choice : 자식"
   ]
  },
  {
   "cell_type": "code",
   "execution_count": 76,
   "id": "738aefbb",
   "metadata": {},
   "outputs": [
    {
     "data": {
      "text/plain": [
       "(poll.models.Choice, <Choice: 초록색>)"
      ]
     },
     "execution_count": 76,
     "metadata": {},
     "output_type": "execute_result"
    }
   ],
   "source": [
    "c = Choice.objects.get(pk=2)\n",
    "type(c), c"
   ]
  },
  {
   "cell_type": "code",
   "execution_count": 77,
   "id": "b780e842",
   "metadata": {},
   "outputs": [
    {
     "data": {
      "text/plain": [
       "(poll.models.Question,\n",
       " 2,\n",
       " '좋아하는 색깔은 무엇입니까?',\n",
       " datetime.datetime(2021, 10, 5, 8, 17, 24, 131980, tzinfo=<UTC>))"
      ]
     },
     "execution_count": 77,
     "metadata": {},
     "output_type": "execute_result"
    }
   ],
   "source": [
    "# pk가 2인 보기의 질문\n",
    "q = c.question\n",
    "type(q), q.pk, q.question_text, q.pub_date"
   ]
  },
  {
   "cell_type": "code",
   "execution_count": 87,
   "id": "dc65aa57",
   "metadata": {},
   "outputs": [
    {
     "name": "stdout",
     "output_type": "stream",
     "text": [
      "빨간색 0 좋아하는 색깔은 무엇입니까?\n"
     ]
    }
   ],
   "source": [
    "try:\n",
    "    id=3\n",
    "    result_choice = Choice.objects.get(pk=id)\n",
    "    print(result_choice.choice_text, result_choice.vote, result_choice.question.question_text)\n",
    "except:\n",
    "    print(\"결과가 존재하지 않습니다. 확인 후 다시 조회해주세요\")"
   ]
  },
  {
   "cell_type": "code",
   "execution_count": 89,
   "id": "004dbc0d",
   "metadata": {},
   "outputs": [
    {
     "name": "stdout",
     "output_type": "stream",
     "text": [
      "2\t초록색\t0\t좋아하는 색깔은 무엇입니까?\n",
      "3\t빨간색\t0\t좋아하는 색깔은 무엇입니까?\n",
      "4\t흰색\t0\t좋아하는 색깔은 무엇입니까?\n",
      "5\t강아지\t0\t좋아하는 동물은 무엇입니까?\n"
     ]
    }
   ],
   "source": [
    "#pk 2 ~ 5인 보기의 text, vote, 질문\n",
    "result = Choice.objects.filter(pk__range=[2,5])\n",
    "for choice in result:\n",
    "    print(choice.pk, choice.choice_text, choice.vote, choice.question.question_text, sep='\\t')"
   ]
  },
  {
   "cell_type": "markdown",
   "id": "6284cca1",
   "metadata": {},
   "source": [
    "### 부모 테이블에서 자식테이블 값 조회"
   ]
  },
  {
   "cell_type": "code",
   "execution_count": 90,
   "id": "b4d7a6e9",
   "metadata": {},
   "outputs": [
    {
     "name": "stdout",
     "output_type": "stream",
     "text": [
      "<class 'poll.models.Question'> 좋아하는 색깔은 무엇입니까?\n",
      "2 좋아하는 색깔은 무엇입니까? 2021-10-05 08:17:24.131980+00:00\n"
     ]
    }
   ],
   "source": [
    "q= Question.objects.get(pk=2)\n",
    "print(type(q), q)\n",
    "print(q.pk, q.question_text, q.pub_date)"
   ]
  },
  {
   "cell_type": "code",
   "execution_count": 92,
   "id": "afdadf09",
   "metadata": {},
   "outputs": [
    {
     "name": "stdout",
     "output_type": "stream",
     "text": [
      "<class 'django.db.models.query.QuerySet'>\n"
     ]
    }
   ],
   "source": [
    "#조회한 Question(부모)의 Choice(자식)들 조회\n",
    "c_qs = q.choice_set.all()\n",
    "print(type(c_qs))"
   ]
  },
  {
   "cell_type": "code",
   "execution_count": 93,
   "id": "181600f6",
   "metadata": {},
   "outputs": [
    {
     "name": "stdout",
     "output_type": "stream",
     "text": [
      "1\t노랑색\t0\n",
      "2\t초록색\t0\n",
      "3\t빨간색\t0\n",
      "4\t흰색\t0\n"
     ]
    }
   ],
   "source": [
    "for c in c_qs:\n",
    "    print(c.pk, c.choice_text, c.vote, sep='\\t')"
   ]
  },
  {
   "cell_type": "code",
   "execution_count": 95,
   "id": "e19c7bac",
   "metadata": {},
   "outputs": [
    {
     "name": "stdout",
     "output_type": "stream",
     "text": [
      "5 좋아하는 음식은 무엇입니까?\n",
      "\t 17 한식 0\n",
      "\t 18 중식 0\n",
      "\t 19 일식 0\n",
      "\t 20 양식 0\n",
      "6 휴대폰 기종은 무엇입니까?\n",
      "\t 21 아이폰 0\n",
      "\t 22 갤럭시 0\n",
      "\t 23 기타 0\n",
      "7 좋아하는 음료는 무엇입니까?\n",
      "\t 24 커피 0\n",
      "\t 25 물 0\n",
      "\t 26 청량음료 0\n",
      "\t 27 주류 0\n",
      "\t 28 쥬스 0\n"
     ]
    }
   ],
   "source": [
    "#pk가 5~7인 질문의 질문id, 질문 내용, 보기의 id, 보기 내용 출력\n",
    "result = Question.objects.filter(pk__range=[5,7])\n",
    "\n",
    "for q in result:\n",
    "    print(q.pk, q.question_text)\n",
    "    choice_qs = q.choice_set.all()\n",
    "    for choice in choice_qs:\n",
    "        print(\"\\t\", choice.pk, choice.choice_text, choice.vote)"
   ]
  },
  {
   "cell_type": "markdown",
   "id": "7f6b3165",
   "metadata": {},
   "source": [
    "# insert / update / delete\n",
    " - insert / update\n",
    "      - 모델 객체.save()\n",
    "      - 모델 객체가 insert/update할 데이터를 가지고 있다.\n",
    " - delete\n",
    "      - 모델 객체.delete()\n",
    "      - 모델 객체가 삭제할 데이터의 pk를 가지고 있다."
   ]
  },
  {
   "cell_type": "code",
   "execution_count": 97,
   "id": "89586dd3",
   "metadata": {},
   "outputs": [
    {
     "name": "stdout",
     "output_type": "stream",
     "text": [
      "2\t좋아하는 색깔은 무엇입니까?\t2021-10-05 08:17:24.131980+00:00\n",
      "3\t좋아하는 동물은 무엇입니까?\t2021-10-05 08:17:45.822865+00:00\n",
      "4\t가고 싶은 나라는 무엇입니까?\t2021-10-05 08:17:57.079680+00:00\n",
      "5\t좋아하는 음식은 무엇입니까?\t2021-10-05 08:18:12.759701+00:00\n",
      "6\t휴대폰 기종은 무엇입니까?\t2021-10-05 08:41:13.631494+00:00\n",
      "7\t좋아하는 음료는 무엇입니까?\t2021-10-05 08:41:59.704621+00:00\n"
     ]
    }
   ],
   "source": [
    "def get_qeustion_list():\n",
    "    qs = Question.objects.all()\n",
    "    for q in qs:\n",
    "        print(q.pk, q.question_text, q.pub_date, sep='\\t')\n",
    "    \n",
    "get_qeustion_list()"
   ]
  },
  {
   "cell_type": "code",
   "execution_count": null,
   "id": "bccaa289",
   "metadata": {},
   "outputs": [],
   "source": []
  },
  {
   "cell_type": "code",
   "execution_count": 100,
   "id": "ac975930",
   "metadata": {},
   "outputs": [],
   "source": [
    "\n",
    "# insert\n",
    "# insert할 데이터를 모델 객체를 생성 객체.save()\n",
    "\n",
    "from datetime import datetime\n",
    "\n",
    "new_q = Question(question_text = \"새로운 질문\", pub_date = datetime.now()) #pk(id)는 자동증가하므로 넣지 않음\n",
    "new_q.pk, new_q.question_text, new_q.pub_date\n",
    "new_q.save()"
   ]
  },
  {
   "cell_type": "code",
   "execution_count": 101,
   "id": "4b90c16d",
   "metadata": {},
   "outputs": [
    {
     "name": "stdout",
     "output_type": "stream",
     "text": [
      "2\t좋아하는 색깔은 무엇입니까?\t2021-10-05 08:17:24.131980+00:00\n",
      "3\t좋아하는 동물은 무엇입니까?\t2021-10-05 08:17:45.822865+00:00\n",
      "4\t가고 싶은 나라는 무엇입니까?\t2021-10-05 08:17:57.079680+00:00\n",
      "5\t좋아하는 음식은 무엇입니까?\t2021-10-05 08:18:12.759701+00:00\n",
      "6\t휴대폰 기종은 무엇입니까?\t2021-10-05 08:41:13.631494+00:00\n",
      "7\t좋아하는 음료는 무엇입니까?\t2021-10-05 08:41:59.704621+00:00\n",
      "8\t새로운 질문\t2021-10-06 07:07:16.050691+00:00\n"
     ]
    }
   ],
   "source": [
    "get_qeustion_list()"
   ]
  },
  {
   "cell_type": "code",
   "execution_count": 104,
   "id": "87f0eef1",
   "metadata": {},
   "outputs": [
    {
     "name": "stdout",
     "output_type": "stream",
     "text": [
      "2\t좋아하는 색깔은 무엇입니까?\t2021-10-05 08:17:24.131980+00:00\n",
      "3\t좋아하는 동물은 무엇입니까?\t2021-10-05 08:17:45.822865+00:00\n",
      "4\t가고 싶은 나라는 무엇입니까?\t2021-10-05 08:17:57.079680+00:00\n",
      "5\t좋아하는 음식은 무엇입니까?\t2021-10-05 08:18:12.759701+00:00\n",
      "6\t휴대폰 기종은 무엇입니까?\t2021-10-05 08:41:13.631494+00:00\n",
      "7\t좋아하는 음료는 무엇입니까?\t2021-10-05 08:41:59.704621+00:00\n",
      "8\t새로운 질문\t2021-10-06 07:07:16.050691+00:00\n"
     ]
    }
   ],
   "source": [
    "# update\n",
    "# update할 데이터를 가진 모델 객체를 생성 객체.save()\n",
    "# pk는 테이블이 가지고 있는 값이어야 한다. 변경되지 않을 값은 원래 값을 그대로 가지고 있어야 한다.\n",
    "update_q = Question(pk=8, question_text = '새로운 질문', pub_date = datetime.now())\n",
    "update_q.save\n",
    "#id가 9인 질문의 pub_date값을 현재시간으로 update\n",
    "# update question set pub_date=sysdate where id=9\n",
    "\n",
    "get_qeustion_list()"
   ]
  },
  {
   "cell_type": "code",
   "execution_count": 105,
   "id": "f6135f84",
   "metadata": {},
   "outputs": [
    {
     "name": "stdout",
     "output_type": "stream",
     "text": [
      "2\t좋아하는 색깔은 무엇입니까?\t2021-10-05 08:17:24.131980+00:00\n",
      "3\t좋아하는 동물은 무엇입니까?\t2021-10-05 08:17:45.822865+00:00\n",
      "4\t가고 싶은 나라는 무엇입니까?\t2021-10-05 08:17:57.079680+00:00\n",
      "5\t좋아하는 음식은 무엇입니까?\t2021-10-05 08:18:12.759701+00:00\n",
      "6\t휴대폰 기종은 무엇입니까?\t2021-10-05 08:41:13.631494+00:00\n",
      "7\t좋아하는 음료는 무엇입니까?\t2021-10-05 08:41:59.704621+00:00\n",
      "8\t좋아하는 커피 브랜드는 무엇입니까?\t2021-10-06 07:07:16.050691+00:00\n"
     ]
    }
   ],
   "source": [
    "q = Question.objects.get(pk=8)\n",
    "q.question_text = '좋아하는 커피 브랜드는 무엇입니까?'\n",
    "q.pk, q.question_text, q.pub_date\n",
    "q.save()\n",
    "\n",
    "get_qeustion_list()"
   ]
  },
  {
   "cell_type": "code",
   "execution_count": 107,
   "id": "6af95ce2",
   "metadata": {},
   "outputs": [
    {
     "name": "stdout",
     "output_type": "stream",
     "text": [
      "8  None\n",
      "2\t좋아하는 색깔은 무엇입니까?\t2021-10-05 08:17:24.131980+00:00\n",
      "3\t좋아하는 동물은 무엇입니까?\t2021-10-05 08:17:45.822865+00:00\n",
      "4\t가고 싶은 나라는 무엇입니까?\t2021-10-05 08:17:57.079680+00:00\n",
      "5\t좋아하는 음식은 무엇입니까?\t2021-10-05 08:18:12.759701+00:00\n",
      "6\t휴대폰 기종은 무엇입니까?\t2021-10-05 08:41:13.631494+00:00\n",
      "7\t좋아하는 음료는 무엇입니까?\t2021-10-05 08:41:59.704621+00:00\n"
     ]
    }
   ],
   "source": [
    "# delete\n",
    "# 삭제할 pk값을 가진 모델을 생성 model.delete()\n",
    "del_q = Question(pk=8)\n",
    "print(del_q.pk, del_q.question_text, del_q.pub_date)\n",
    "del_q.delete()\n",
    "\n",
    "get_qeustion_list()\n"
   ]
  },
  {
   "cell_type": "code",
   "execution_count": 108,
   "id": "181116ae",
   "metadata": {},
   "outputs": [
    {
     "name": "stdout",
     "output_type": "stream",
     "text": [
      "2\t좋아하는 색깔은 무엇입니까?\t2021-10-05 08:17:24.131980+00:00\n",
      "3\t좋아하는 동물은 무엇입니까?\t2021-10-05 08:17:45.822865+00:00\n",
      "4\t가고 싶은 나라는 무엇입니까?\t2021-10-05 08:17:57.079680+00:00\n",
      "5\t좋아하는 음식은 무엇입니까?\t2021-10-05 08:18:12.759701+00:00\n",
      "6\t휴대폰 기종은 무엇입니까?\t2021-10-05 08:41:13.631494+00:00\n",
      "7\t좋아하는 음료는 무엇입니까?\t2021-10-05 08:41:59.704621+00:00\n"
     ]
    }
   ],
   "source": [
    "get_qeustion_list()"
   ]
  },
  {
   "cell_type": "code",
   "execution_count": 109,
   "id": "411dadd0",
   "metadata": {},
   "outputs": [
    {
     "data": {
      "text/plain": [
       "(3,\n",
       " '좋아하는 동물은 무엇입니까?',\n",
       " datetime.datetime(2021, 10, 5, 8, 17, 45, 822865, tzinfo=<UTC>))"
      ]
     },
     "execution_count": 109,
     "metadata": {},
     "output_type": "execute_result"
    }
   ],
   "source": [
    "del_q2 = Question.objects.get(pk=3)\n",
    "del_q2.pk, del_q2.question_text, del_q2.pub_date\n"
   ]
  },
  {
   "cell_type": "code",
   "execution_count": 110,
   "id": "5bc4c20a",
   "metadata": {},
   "outputs": [
    {
     "data": {
      "text/plain": [
       "(6, {'poll.Choice': 5, 'poll.Question': 1})"
      ]
     },
     "execution_count": 110,
     "metadata": {},
     "output_type": "execute_result"
    }
   ],
   "source": [
    "del_q2.delete()"
   ]
  },
  {
   "cell_type": "code",
   "execution_count": 111,
   "id": "000e233c",
   "metadata": {},
   "outputs": [
    {
     "name": "stdout",
     "output_type": "stream",
     "text": [
      "2\t좋아하는 색깔은 무엇입니까?\t2021-10-05 08:17:24.131980+00:00\n",
      "4\t가고 싶은 나라는 무엇입니까?\t2021-10-05 08:17:57.079680+00:00\n",
      "5\t좋아하는 음식은 무엇입니까?\t2021-10-05 08:18:12.759701+00:00\n",
      "6\t휴대폰 기종은 무엇입니까?\t2021-10-05 08:41:13.631494+00:00\n",
      "7\t좋아하는 음료는 무엇입니까?\t2021-10-05 08:41:59.704621+00:00\n"
     ]
    }
   ],
   "source": [
    "get_qeustion_list()"
   ]
  },
  {
   "cell_type": "code",
   "execution_count": 113,
   "id": "68cefecc",
   "metadata": {},
   "outputs": [
    {
     "data": {
      "text/plain": [
       "<QuerySet []>"
      ]
     },
     "execution_count": 113,
     "metadata": {},
     "output_type": "execute_result"
    }
   ],
   "source": [
    "Choice.objects.filter(question=3) #cascade로 인해 답도 모두 다 날아갔음!"
   ]
  },
  {
   "cell_type": "markdown",
   "id": "f5bd7699",
   "metadata": {},
   "source": [
    "# 직접 sql문을 작성해서 실행\n",
    " - 모델.objects.raw(sql)\n",
    " - select문만 가능\n",
    " "
   ]
  },
  {
   "cell_type": "code",
   "execution_count": 114,
   "id": "11dc9653",
   "metadata": {},
   "outputs": [
    {
     "name": "stdout",
     "output_type": "stream",
     "text": [
      "1 노랑색 0\n",
      "2 초록색 0\n",
      "3 빨간색 0\n",
      "4 흰색 0\n",
      "10 프랑스 0\n",
      "11 미국 0\n",
      "12 스위스 0\n",
      "13 영국 0\n",
      "14 대만 0\n",
      "15 러시아 0\n",
      "16 브라질 0\n",
      "17 한식 0\n",
      "18 중식 0\n",
      "19 일식 0\n",
      "20 양식 0\n",
      "21 아이폰 0\n",
      "22 갤럭시 0\n",
      "23 기타 0\n",
      "24 커피 0\n",
      "25 물 0\n",
      "26 청량음료 0\n",
      "27 주류 0\n",
      "28 쥬스 0\n"
     ]
    }
   ],
   "source": [
    "sql = 'SELECT * FROM poll_choice'\n",
    "rq = Choice.objects.raw(sql)\n",
    "\n",
    "for d in rq:\n",
    "    print(d.id, d.choice_text, d.vote)"
   ]
  },
  {
   "cell_type": "code",
   "execution_count": null,
   "id": "64a62fdb",
   "metadata": {},
   "outputs": [],
   "source": []
  }
 ],
 "metadata": {
  "kernelspec": {
   "display_name": "Python 3 (ipykernel)",
   "language": "python",
   "name": "python3"
  },
  "language_info": {
   "codemirror_mode": {
    "name": "ipython",
    "version": 3
   },
   "file_extension": ".py",
   "mimetype": "text/x-python",
   "name": "python",
   "nbconvert_exporter": "python",
   "pygments_lexer": "ipython3",
   "version": "3.7.11"
  },
  "toc": {
   "base_numbering": 1,
   "nav_menu": {},
   "number_sections": true,
   "sideBar": true,
   "skip_h1_title": false,
   "title_cell": "Table of Contents",
   "title_sidebar": "Contents",
   "toc_cell": false,
   "toc_position": {},
   "toc_section_display": true,
   "toc_window_display": false
  }
 },
 "nbformat": 4,
 "nbformat_minor": 5
}
