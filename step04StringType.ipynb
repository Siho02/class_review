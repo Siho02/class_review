{
 "cells": [
  {
   "cell_type": "markdown",
   "metadata": {},
   "source": [
    "<!--NAVIGATION-->\n",
    "\n",
    "\n",
    "[[step03.Slice 학습 page로 이동](step03_2Slice.ipynb) ] | [[step05.List,Tuple등 학습 page로 이동](step05ListTupleDictSet.ipynb) ]"
   ]
  },
  {
   "cell_type": "markdown",
   "metadata": {},
   "source": [
    "### 문자열\n",
    "\n",
    "- 문자들의 순서 있는 집합\n",
    "- 여러줄로 이뤄진 문자열 표현도 가능 - 단일, 쌍따옴표 표현 \n",
    "- print 함수 사용시 특수 기호로 처리 가능 : \\r(문자열 앞단에 선언)\n",
    "- str() : 문자열로 형변환\n",
    "- 문자열 반복\n",
    "- 문자열 출력\n",
    "- 문자열 indexing \n",
    "- 문자열 slice : 문자열의 일부 추출\n",
    "- 문자열의 내장 함수 이해하기\n",
    "- 유니코드 문자열 : 전 세계 언어의 문자를 정의하기 위한 국제 표준 코드\n",
    "- python3 부턴 모든 문자열을 유니코드로 처리\n",
    "- 문자열 앞단에 u를 적용할 경우 유니코드로 구성할 수 있음\n",
    "\n",
    "\n",
    "\n",
    "- 참고1 : strip()\n",
    "\n",
    "    - () : space가 구분자이면서 삭제\n",
    "    - ('표기') : 표기가 구분자\n",
    "    - ('표기1 표기2') : 두가지다 구분자\n",
    "    \n",
    "    \n",
    "- 참고2 <br>\n",
    "seq[ 시작 ]  <br>\n",
    "seq[ 시작 : 끝 ] <br>\n",
    "seq[ 시작 : 끝 : 스텝 ] <br>\n",
    "    "
   ]
  },
  {
   "cell_type": "code",
   "execution_count": 2,
   "metadata": {},
   "outputs": [
    {
     "name": "stdout",
     "output_type": "stream",
     "text": [
      "value 값 playdata\n",
      "value 수식 playdata 값\n"
     ]
    }
   ],
   "source": [
    "# %s : 해당 위치의 값들을 대체하는 기술\n",
    "data = '값'\n",
    "print('value %s playdata' % data)\n",
    "\n",
    "data1 = '값'\n",
    "data2 = '수식'\n",
    "\n",
    "print('value %s playdata %s' % (data2, data1))\n"
   ]
  },
  {
   "cell_type": "code",
   "execution_count": 6,
   "metadata": {},
   "outputs": [
    {
     "name": "stdout",
     "output_type": "stream",
     "text": [
      "4 3 8\n"
     ]
    }
   ],
   "source": [
    "# 문자열에 포함된 철자의 첫번째 index 값 반환\n",
    "data = 'abc Def gHi'\n",
    "print(data.find('D'), data.find(' '), data.find('g'))"
   ]
  },
  {
   "cell_type": "code",
   "execution_count": 10,
   "metadata": {},
   "outputs": [
    {
     "name": "stdout",
     "output_type": "stream",
     "text": [
      " 봄 여름 가을 겨울  12\n",
      "봄 여름 가을 겨울 10\n",
      "봄 여름 가을 겨울  11\n",
      " 봄 여름 가을 겨울 11\n"
     ]
    }
   ],
   "source": [
    "# 문자열 잉여 여백 제거\n",
    "# 문자열 앞 뒤에 있는 잉여 여백\n",
    "# 문자열 데이터 전처리 작업의 일환\n",
    "\n",
    "data = ' 봄 여름 가을 겨울 '\n",
    "print(data, len(data))\n",
    "print(data.strip(), len(data.strip()))     ##잉여 여백 제거\n",
    "print(data.lstrip(),len(data.lstrip()))\n",
    "print(data.rstrip(),len(data.rstrip()))"
   ]
  },
  {
   "cell_type": "markdown",
   "metadata": {},
   "source": [
    "join() <br>\n",
    "\n",
    "리스트 내의 모든 문자열을 하나의 단일 문자열로 결합"
   ]
  },
  {
   "cell_type": "code",
   "execution_count": 14,
   "metadata": {},
   "outputs": [
    {
     "name": "stdout",
     "output_type": "stream",
     "text": [
      "['사과', '귤', '오렌지'] <class 'list'>\n",
      "사과 귤 오렌지 <class 'str'>\n",
      "사과귤오렌지\n"
     ]
    }
   ],
   "source": [
    "#인수로 반영된 데이터를 특정 표현으로 가공하는 함수\n",
    "\n",
    "s3 = ['사과', '귤', '오렌지']\n",
    "\n",
    "print(s3, type(s3))\n",
    "\n",
    "s4 = ' '.join(s3)\n",
    "print(s4, type(s4))\n",
    "s5 = ''.join(s3)\n",
    "print(s5)"
   ]
  },
  {
   "cell_type": "markdown",
   "metadata": {},
   "source": [
    "\"문자열\".split(t, n)\n",
    "\n",
    "문자열에서 t를 기준으롤 정수 n만큼 분리한 문자열 리스트 반환\n"
   ]
  },
  {
   "cell_type": "code",
   "execution_count": 17,
   "metadata": {},
   "outputs": [
    {
     "name": "stdout",
     "output_type": "stream",
     "text": [
      "['사과', '귤', '오렌지', '포도']\n",
      "['사과', '귤*오렌지*포도']\n",
      "['사과', '귤', '오렌지*포도']\n"
     ]
    },
    {
     "data": {
      "text/plain": [
       "list"
      ]
     },
     "execution_count": 17,
     "metadata": {},
     "output_type": "execute_result"
    }
   ],
   "source": [
    "s3 = '사과*귤*오렌지*포도'\n",
    "print(s3.split('*'))\n",
    "print(s3.split('*',1))\n",
    "print(s3.split('*',2))\n",
    "\n",
    "type(s3.split('*'))"
   ]
  },
  {
   "cell_type": "markdown",
   "metadata": {},
   "source": [
    "strip(B)\n",
    "\n",
    "\n",
    "문자열 앞뒤의 B 문자열 제거"
   ]
  },
  {
   "cell_type": "code",
   "execution_count": 27,
   "metadata": {},
   "outputs": [
    {
     "data": {
      "text/plain": [
       "'로미오&줄리엣2'"
      ]
     },
     "execution_count": 27,
     "metadata": {},
     "output_type": "execute_result"
    }
   ],
   "source": [
    "actors = '로미오&줄리엣2010'\n",
    "\n",
    "actors.strip('10')"
   ]
  },
  {
   "cell_type": "code",
   "execution_count": null,
   "metadata": {},
   "outputs": [],
   "source": []
  },
  {
   "cell_type": "markdown",
   "metadata": {},
   "source": [
    "format() : 문자열을 추가하거나 형식화 하는데 사용\n",
    "\n",
    "- python3.1 부터 변수명 or index 생략 가능\n",
    "\n",
    "- %d : 정수 표현\n",
    "- %s : 문자 표현\n",
    "- %f : 부동 소수 표현"
   ]
  },
  {
   "cell_type": "code",
   "execution_count": 16,
   "metadata": {},
   "outputs": [
    {
     "data": {
      "text/plain": [
       "'A B C'"
      ]
     },
     "execution_count": 16,
     "metadata": {},
     "output_type": "execute_result"
    }
   ],
   "source": [
    "\"{} {} {}\".format('A', 'B', 'C')"
   ]
  },
  {
   "cell_type": "code",
   "execution_count": 28,
   "metadata": {},
   "outputs": [],
   "source": [
    "# test data\n",
    "intValue = 30\n",
    "floatValue = 20.67566"
   ]
  },
  {
   "cell_type": "code",
   "execution_count": 31,
   "metadata": {},
   "outputs": [
    {
     "name": "stdout",
     "output_type": "stream",
     "text": [
      "30 playdata 20.675660\n",
      "20 playdata 30.000000\n"
     ]
    }
   ],
   "source": [
    "print('%d %s %f' % (intValue, 'playdata', floatValue))\n",
    "\n",
    "#형식과 일치되지 않는 데이터 적용시엔 데이터 손실 야기\n",
    "print('%d %s %f' % (floatValue, 'playdata', intValue))"
   ]
  },
  {
   "cell_type": "markdown",
   "metadata": {},
   "source": [
    "f-strings\n",
    "\n",
    "\n",
    "파이썬 3.6부터 사용 가능 <br>\n",
    "접두사 f를 붙이면 사용 가능, 기존 %나 .format 방식에 비해 간결하고 직관적이며 속도도 빠름\n",
    "\n",
    "f'..{변수명}...'"
   ]
  },
  {
   "cell_type": "code",
   "execution_count": 34,
   "metadata": {},
   "outputs": [
    {
     "name": "stdout",
     "output_type": "stream",
     "text": [
      "data야 abcd-13\n"
     ]
    }
   ],
   "source": [
    "v = 'abcd'\n",
    "num = 13\n",
    "print( f'data야 {v}-{num}')"
   ]
  },
  {
   "cell_type": "code",
   "execution_count": 42,
   "metadata": {},
   "outputs": [
    {
     "name": "stdout",
     "output_type": "stream",
     "text": [
      "abcd\n",
      "abcd\n",
      "dcba\n",
      "<reversed object at 0x0000003C7DE665E0>\n",
      "dcba\n",
      "abcd\n"
     ]
    },
    {
     "data": {
      "text/plain": [
       "<reversed at 0x3c7de66700>"
      ]
     },
     "execution_count": 42,
     "metadata": {},
     "output_type": "execute_result"
    }
   ],
   "source": [
    "print(v)\n",
    "print(v[:])\n",
    "print(v[::-1])\n",
    "print(reversed(v))            ##역으로 변환된 객체가 저장된 주소값 출력\n",
    "print(''.join(reversed(v)))   ##join을 이용하여 역으로 변환한 객체의 내용을 출력\n",
    "print(v)\n",
    "reversed(v)"
   ]
  },
  {
   "cell_type": "markdown",
   "metadata": {},
   "source": [
    "**미션 : 문자열 전체 반전하기**"
   ]
  },
  {
   "cell_type": "code",
   "execution_count": 49,
   "metadata": {},
   "outputs": [
    {
     "name": "stdout",
     "output_type": "stream",
     "text": [
      "안녕 세상!\n",
      "!상세 녕안\n"
     ]
    }
   ],
   "source": [
    "def revert(string):\n",
    "    \n",
    "    return string[::-1]\n",
    "    \n",
    "str1 = \"안녕 세상!\"\n",
    "str3 = revert(str1)\n",
    "print(str1)\n",
    "print(str3)\n"
   ]
  },
  {
   "cell_type": "markdown",
   "metadata": {},
   "source": [
    "**미션 : 문자열 단어 단위로 반전하기**"
   ]
  },
  {
   "cell_type": "code",
   "execution_count": 60,
   "metadata": {},
   "outputs": [
    {
     "name": "stdout",
     "output_type": "stream",
     "text": [
      "함수 안 :  openpose 플레이데이터 엔코아\n",
      "함수 안 :  고양이입니다 살려주신 번에 지난 안녕하세요\n",
      "openpose 플레이데이터 엔코아\n",
      "고양이입니다 살려주신 번에 지난 안녕하세요\n",
      "openpose 플레이데이터 엔코아\n",
      "고양이입니다 살려주신 번에 지난 안녕하세요\n"
     ]
    }
   ],
   "source": [
    "# 문자열을 공백으로 구분해서 리스트를 생성한 다음 슬라이스 사용 \n",
    "def reversing_words_slice(word):\n",
    "    word_ls = list()\n",
    "    word_ls = word.split(' ')\n",
    "    print(\"함수 안 : \", end=' ')\n",
    "    print(' '.join(reversed(word.split(' '))))\n",
    "    return ' '.join(word_ls[::-1])\n",
    "\n",
    "def reversing_words_slice2(word) :\n",
    "    new_words = []\n",
    "    words = word.split(' ')\n",
    "    for w in words[::-1] :\n",
    "        new_words.append(w)\n",
    "        \n",
    "    return ' '.join(new_words)\n",
    "    \n",
    "str1 = \"엔코아 플레이데이터 openpose\"\n",
    "str2 = \"안녕하세요 지난 번에 살려주신 고양이입니다\"\n",
    "str3 = reversing_words_slice(str1)\n",
    "str4 = reversing_words_slice(str2)\n",
    "str5 = reversing_words_slice2(str1)\n",
    "str6 = reversing_words_slice2(str2)\n",
    "print(str3)\n",
    "print(str4)\n",
    "print(str5)\n",
    "print(str6)\n",
    "\n"
   ]
  },
  {
   "cell_type": "code",
   "execution_count": 6,
   "metadata": {},
   "outputs": [
    {
     "name": "stdout",
     "output_type": "stream",
     "text": [
      "openpose 플레이데이터 엔코아\n",
      "openpose 플레이데이터 엔코아\n"
     ]
    }
   ],
   "source": [
    "# 반복문 없이 리스트와 문자열 메소드만으로 해결\n",
    "\n",
    "def reversing_words(str1):\n",
    "    print(str1)\n",
    "    print(str1.split(' '))\n",
    "    print(reversed(str1.split(' ')))\n",
    "    print(' '.reversed(str1.split(' ')))\n",
    "\n",
    "    return ' '.reversed(str1.split(' '))\n",
    "\n",
    "def reversing_words2(str1):\n",
    "   \n",
    "\n",
    "\n",
    "str1 = \"엔코아 플레이데이터 openpose\"\n",
    "str2 = reversing_words(str1)\n",
    "str3 = reversing_words2(str1)\n",
    "print(str2)\n",
    "print(str3)\n"
   ]
  },
  {
   "cell_type": "code",
   "execution_count": null,
   "metadata": {},
   "outputs": [],
   "source": []
  }
 ],
 "metadata": {
  "kernelspec": {
   "display_name": "Python 3",
   "language": "python",
   "name": "python3"
  },
  "language_info": {
   "codemirror_mode": {
    "name": "ipython",
    "version": 3
   },
   "file_extension": ".py",
   "mimetype": "text/x-python",
   "name": "python",
   "nbconvert_exporter": "python",
   "pygments_lexer": "ipython3",
   "version": "3.8.3"
  }
 },
 "nbformat": 4,
 "nbformat_minor": 2
}
