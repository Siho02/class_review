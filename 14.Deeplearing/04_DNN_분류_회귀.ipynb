{
 "cells": [
  {
   "cell_type": "markdown",
   "metadata": {},
   "source": [
    "# tf.data 모듈\n",
    "- 데이터 입력 파이프라인을 위한 모듈\n",
    "    - 모델 학습/평가을 위한 대용량 데이터셋을 제공(feeding)하기 위한 모듈\n",
    "    - raw dataset 에서 입력을 위한 전처리, 제공을 위한 배치, shuffling등을 한번에 처리할 수 있게 한다.\n",
    "- tf.data.Dataset 추상클래스에서 상속된 여러가지 클래스들을 제공\n",
    "    - 입력 소스의 제공 형태에 따라 다양한 방식을 제공\n",
    "\n",
    "\n",
    "## 데이터셋 API 사용\n",
    "1. <span style='font-size:1.2em;font-weight:bolder'>Dataset 생성</span>\n",
    "    - raw dataset을 지정\n",
    "    - from_tensor_slices(), from_generator() 클래스 메소드, tf.data.TFRecordDataset 클래스등를 사용해 메모리나 파일에 있는 데이터를 Dataset으로 만든다.\n",
    "    - from_tensor_slices(): 리스트 넘파이배열, 텐서플로 자료형에서 데이터를 생성한다.\n",
    "2. <span style='font-size:1.2em;font-weight:bolder'>제공 데이터 전처리</span>\n",
    "    - map(함수) : 하나 하나의 데이터를 변환\n",
    "        - 함수: 값을 변환할 함수로 입력데이터셋의 개수만큼 매개변수 선언\n",
    "    - filter(함수): 특정 조건의 데이터만 제공하도록 처리.\n",
    "        - - 함수: 제공할 값의 조건을 정의한 함수로 입력데이터셋의 개수만큼 매개변수 선언하고 bool 값을 반환.\n",
    "3. <span style='font-size:1.2em;font-weight:bolder'>Dataset을 사용해 데이터 제공</span>\n",
    "    - batch(), shuffle()을 이용해 제공 방식 지정\n",
    "        - batch(size): 학습/평가시 한번에 제공할 batch size 지정\n",
    "            - size: int. batch size 지정\n",
    "            - drop_remainder: bool. True일 경우 마지막 제공시 남은 데이터수가 batch size보다 작으면 제공하지 않는다.\n",
    "    -  shuffle(buffer 크기): dataset의 원소들의 순서를 섞는다. \n",
    "        - buffer 크기: int. buffer 크기는 섞는 공간의 크기로  **데이터보다 크거나 같으면** 완전셔플, **적으면 일부만 가져와서 섞어** 완전셔플이 안된다.\n",
    "        - 데이터 사이즈가 너무 커서 메모리가 부족할 경우 버퍼크기를 적게 준다.\n",
    "        - 메모리가 충분하다면 데이터의 개수와 동일하게 주면된다.\n",
    "    - repeat(count): 전체 데이터를 한번 다 제공한 뒤 다시 데이터를 제공한다.\n",
    "        - count: 몇번 제공할지 반복 횟수\n",
    "        - shuffle이 적용된 Dataset의 경우 다음 반복 제공마다 shuffle을 진행한다.\n",
    "        \n",
    "### Dataset 메소드\n",
    "- take(개수): 지정한 개수만큼의 데이터만 제공한다.\n"
   ]
  },
  {
   "cell_type": "code",
   "execution_count": 46,
   "metadata": {},
   "outputs": [],
   "source": [
    "import tensorflow as tf\n",
    "import numpy as np"
   ]
  },
  {
   "cell_type": "code",
   "execution_count": 47,
   "metadata": {},
   "outputs": [
    {
     "data": {
      "text/plain": [
       "array([0, 1, 2, 3, 4, 5, 6, 7, 8, 9])"
      ]
     },
     "execution_count": 47,
     "metadata": {},
     "output_type": "execute_result"
    }
   ],
   "source": [
    "new_data = np.arange(10)\n",
    "new_data"
   ]
  },
  {
   "cell_type": "code",
   "execution_count": 48,
   "metadata": {},
   "outputs": [
    {
     "name": "stdout",
     "output_type": "stream",
     "text": [
      "<class 'tensorflow.python.data.ops.dataset_ops.TensorSliceDataset'>\n"
     ]
    }
   ],
   "source": [
    "dataset = tf.data.Dataset.from_tensor_slices(new_data)\n",
    "print(type(dataset))"
   ]
  },
  {
   "cell_type": "code",
   "execution_count": 49,
   "metadata": {},
   "outputs": [
    {
     "name": "stdout",
     "output_type": "stream",
     "text": [
      "tf.Tensor(0, shape=(), dtype=int32)\n",
      "tf.Tensor(1, shape=(), dtype=int32)\n",
      "tf.Tensor(2, shape=(), dtype=int32)\n",
      "tf.Tensor(3, shape=(), dtype=int32)\n",
      "tf.Tensor(4, shape=(), dtype=int32)\n",
      "tf.Tensor(5, shape=(), dtype=int32)\n",
      "tf.Tensor(6, shape=(), dtype=int32)\n",
      "tf.Tensor(7, shape=(), dtype=int32)\n",
      "tf.Tensor(8, shape=(), dtype=int32)\n",
      "tf.Tensor(9, shape=(), dtype=int32)\n"
     ]
    }
   ],
   "source": [
    "#datast 으로 부터 값 조회\n",
    "#take() 함수 사용 (원하는 갯수만큼만 가능 ) / or / 반복문 (dataset>>Iterable타입) - 전체 조회\n",
    "\n",
    "for data in dataset:\n",
    "    print(data)"
   ]
  },
  {
   "cell_type": "code",
   "execution_count": 50,
   "metadata": {},
   "outputs": [
    {
     "data": {
      "text/plain": [
       "array([10, 11, 12, 13, 14, 15, 16, 17, 18, 19])"
      ]
     },
     "execution_count": 50,
     "metadata": {},
     "output_type": "execute_result"
    }
   ],
   "source": [
    "new_data2 = np.arange(10,20)\n",
    "new_data2"
   ]
  },
  {
   "cell_type": "code",
   "execution_count": 51,
   "metadata": {},
   "outputs": [
    {
     "name": "stdout",
     "output_type": "stream",
     "text": [
      "<class 'tuple'>\n",
      "(<tf.Tensor: shape=(), dtype=int32, numpy=0>, <tf.Tensor: shape=(), dtype=int32, numpy=10>)\n"
     ]
    }
   ],
   "source": [
    "dataset2 = tf.data.Dataset.from_tensor_slices((new_data, new_data2)) #데이터 셋 두개를 튜플로 묶음\n",
    "\n",
    "for data in dataset2:\n",
    "    print(type(data))\n",
    "    print(data)\n",
    "    break"
   ]
  },
  {
   "cell_type": "code",
   "execution_count": 52,
   "metadata": {},
   "outputs": [
    {
     "name": "stdout",
     "output_type": "stream",
     "text": [
      "tf.Tensor(0, shape=(), dtype=int32) tf.Tensor(10, shape=(), dtype=int32)\n",
      "tf.Tensor(1, shape=(), dtype=int32) tf.Tensor(11, shape=(), dtype=int32)\n",
      "tf.Tensor(2, shape=(), dtype=int32) tf.Tensor(12, shape=(), dtype=int32)\n",
      "tf.Tensor(3, shape=(), dtype=int32) tf.Tensor(13, shape=(), dtype=int32)\n",
      "tf.Tensor(4, shape=(), dtype=int32) tf.Tensor(14, shape=(), dtype=int32)\n",
      "tf.Tensor(5, shape=(), dtype=int32) tf.Tensor(15, shape=(), dtype=int32)\n",
      "tf.Tensor(6, shape=(), dtype=int32) tf.Tensor(16, shape=(), dtype=int32)\n",
      "tf.Tensor(7, shape=(), dtype=int32) tf.Tensor(17, shape=(), dtype=int32)\n",
      "tf.Tensor(8, shape=(), dtype=int32) tf.Tensor(18, shape=(), dtype=int32)\n",
      "tf.Tensor(9, shape=(), dtype=int32) tf.Tensor(19, shape=(), dtype=int32)\n"
     ]
    }
   ],
   "source": [
    "#학습 - model.fit(X, y)\n",
    "#raw_data : X_train, new_data2 : y_train\n",
    "for X, y in dataset2:\n",
    "    print(X, y)"
   ]
  },
  {
   "cell_type": "code",
   "execution_count": 53,
   "metadata": {},
   "outputs": [
    {
     "name": "stdout",
     "output_type": "stream",
     "text": [
      "<class 'tensorflow.python.data.ops.dataset_ops.TakeDataset'>\n",
      "tf.Tensor(0, shape=(), dtype=int32)\n",
      "tf.Tensor(1, shape=(), dtype=int32)\n",
      "tf.Tensor(2, shape=(), dtype=int32)\n"
     ]
    }
   ],
   "source": [
    "#datset.take(갯수) : 지정한 갯수만큼 조회\n",
    "dataset3 = dataset.take(3) #dataset으로부터 3개\n",
    "print(type(dataset3))\n",
    "\n",
    "for data in dataset3:\n",
    "    print(data)"
   ]
  },
  {
   "cell_type": "code",
   "execution_count": 54,
   "metadata": {},
   "outputs": [
    {
     "name": "stdout",
     "output_type": "stream",
     "text": [
      "<class 'tensorflow.python.data.ops.dataset_ops.ShuffleDataset'>\n",
      "tf.Tensor(7, shape=(), dtype=int32)\n",
      "tf.Tensor(9, shape=(), dtype=int32)\n",
      "tf.Tensor(1, shape=(), dtype=int32)\n",
      "tf.Tensor(0, shape=(), dtype=int32)\n",
      "tf.Tensor(6, shape=(), dtype=int32)\n",
      "tf.Tensor(3, shape=(), dtype=int32)\n",
      "tf.Tensor(2, shape=(), dtype=int32)\n",
      "tf.Tensor(8, shape=(), dtype=int32)\n",
      "tf.Tensor(5, shape=(), dtype=int32)\n",
      "tf.Tensor(4, shape=(), dtype=int32)\n"
     ]
    }
   ],
   "source": [
    "# datset.shuffle(buffer_size:정수) : dataset의 원소들을 섞어준다\n",
    "dataset4 = dataset.shuffle(10)\n",
    "print(type(dataset4))\n",
    "\n",
    "for data in dataset4:\n",
    "    print(data)"
   ]
  },
  {
   "cell_type": "code",
   "execution_count": 55,
   "metadata": {},
   "outputs": [
    {
     "name": "stdout",
     "output_type": "stream",
     "text": [
      "<class 'tensorflow.python.data.ops.dataset_ops.BatchDataset'>\n",
      "tf.Tensor([0 1 2], shape=(3,), dtype=int32)\n",
      "tf.Tensor([3 4 5], shape=(3,), dtype=int32)\n",
      "tf.Tensor([6 7 8], shape=(3,), dtype=int32)\n",
      "tf.Tensor([9], shape=(1,), dtype=int32)\n"
     ]
    }
   ],
   "source": [
    "#dataset.batch(batch_size) : 한번에 제공하는 데이터의 개수\n",
    "dataset5 = dataset.batch(3)\n",
    "print(type(dataset5))\n",
    "\n",
    "for data in dataset5:\n",
    "    print(data)"
   ]
  },
  {
   "cell_type": "code",
   "execution_count": 56,
   "metadata": {},
   "outputs": [
    {
     "name": "stdout",
     "output_type": "stream",
     "text": [
      "tf.Tensor([7 9 2], shape=(3,), dtype=int32)\n",
      "tf.Tensor([3 5 0], shape=(3,), dtype=int32)\n",
      "tf.Tensor([1 6 8], shape=(3,), dtype=int32)\n",
      "tf.Tensor([4], shape=(1,), dtype=int32)\n",
      "--------------------------------------------------\n",
      "tf.Tensor([2 1 5], shape=(3,), dtype=int32)\n",
      "tf.Tensor([4 9 3], shape=(3,), dtype=int32)\n",
      "tf.Tensor([6 0 7], shape=(3,), dtype=int32)\n",
      "tf.Tensor([8], shape=(1,), dtype=int32)\n"
     ]
    }
   ],
   "source": [
    "# 기본 dataset + shuffle + batch\n",
    "a = dataset.shuffle(10)\n",
    "b = a.batch(3)\n",
    "for data in b:\n",
    "    print(data)\n",
    "\n",
    "print('-'*50)\n",
    "dataset6 = dataset.shuffle(10).batch(3)\n",
    "for data in dataset6:\n",
    "    print(data)"
   ]
  },
  {
   "cell_type": "code",
   "execution_count": 57,
   "metadata": {},
   "outputs": [
    {
     "name": "stdout",
     "output_type": "stream",
     "text": [
      "<class 'tensorflow.python.data.ops.dataset_ops.RepeatDataset'>\n",
      "tf.Tensor(0, shape=(), dtype=int32)\n",
      "tf.Tensor(1, shape=(), dtype=int32)\n",
      "tf.Tensor(2, shape=(), dtype=int32)\n",
      "tf.Tensor(3, shape=(), dtype=int32)\n",
      "tf.Tensor(4, shape=(), dtype=int32)\n",
      "tf.Tensor(5, shape=(), dtype=int32)\n",
      "tf.Tensor(6, shape=(), dtype=int32)\n",
      "tf.Tensor(7, shape=(), dtype=int32)\n",
      "tf.Tensor(8, shape=(), dtype=int32)\n",
      "tf.Tensor(9, shape=(), dtype=int32)\n",
      "tf.Tensor(0, shape=(), dtype=int32)\n",
      "tf.Tensor(1, shape=(), dtype=int32)\n",
      "tf.Tensor(2, shape=(), dtype=int32)\n",
      "tf.Tensor(3, shape=(), dtype=int32)\n",
      "tf.Tensor(4, shape=(), dtype=int32)\n",
      "tf.Tensor(5, shape=(), dtype=int32)\n",
      "tf.Tensor(6, shape=(), dtype=int32)\n",
      "tf.Tensor(7, shape=(), dtype=int32)\n",
      "tf.Tensor(8, shape=(), dtype=int32)\n",
      "tf.Tensor(9, shape=(), dtype=int32)\n"
     ]
    }
   ],
   "source": [
    "# dataset.repeat(count) : 전체 데이터셋을 count만큼 반복해서 제공, count생략시 무한 제공\n",
    "dataset7 = dataset.repeat(2)\n",
    "\n",
    "print(type(dataset7))\n",
    "\n",
    "for data in dataset7:\n",
    "    print(data)"
   ]
  },
  {
   "cell_type": "code",
   "execution_count": 58,
   "metadata": {},
   "outputs": [
    {
     "name": "stdout",
     "output_type": "stream",
     "text": [
      "tf.Tensor([6 0 3 1 4], shape=(5,), dtype=int32)\n",
      "tf.Tensor([2 5 8 7 9], shape=(5,), dtype=int32)\n",
      "tf.Tensor([5 3 9 7 1], shape=(5,), dtype=int32)\n",
      "tf.Tensor([8 2 0 6 4], shape=(5,), dtype=int32)\n",
      "tf.Tensor([8 4 3 6 2], shape=(5,), dtype=int32)\n",
      "tf.Tensor([7 5 9 0 1], shape=(5,), dtype=int32)\n"
     ]
    }
   ],
   "source": [
    "dataset8 = dataset.shuffle(10).batch(5).repeat(3)\n",
    "\n",
    "for data in dataset8:\n",
    "    print(data)"
   ]
  },
  {
   "cell_type": "code",
   "execution_count": 59,
   "metadata": {},
   "outputs": [
    {
     "name": "stdout",
     "output_type": "stream",
     "text": [
      "<class 'tensorflow.python.data.ops.dataset_ops.MapDataset'>\n",
      "tf.Tensor(0, shape=(), dtype=int32)\n",
      "tf.Tensor(1, shape=(), dtype=int32)\n",
      "tf.Tensor(4, shape=(), dtype=int32)\n",
      "tf.Tensor(9, shape=(), dtype=int32)\n",
      "tf.Tensor(16, shape=(), dtype=int32)\n",
      "tf.Tensor(25, shape=(), dtype=int32)\n",
      "tf.Tensor(36, shape=(), dtype=int32)\n",
      "tf.Tensor(49, shape=(), dtype=int32)\n",
      "tf.Tensor(64, shape=(), dtype=int32)\n",
      "tf.Tensor(81, shape=(), dtype=int32)\n"
     ]
    }
   ],
   "source": [
    "#dataset.map(함수) : 원소들의 값을 변환해서 제공, 함수 : 어떻게 변환할지 \n",
    "#- 매개변수 : dataset이 제공하는 값을 받는 변수, 반환값 : dataset이 제공하는 값\n",
    "\n",
    "def mapping(x):\n",
    "    return x**2\n",
    "\n",
    "dataset9 = dataset.map(mapping)\n",
    "print(type(dataset9))\n",
    "for data in dataset9:\n",
    "    print(data)"
   ]
  },
  {
   "cell_type": "code",
   "execution_count": 60,
   "metadata": {},
   "outputs": [
    {
     "data": {
      "text/plain": [
       "(array([0, 1, 2, 3, 4, 5, 6, 7, 8, 9]),\n",
       " array([10, 11, 12, 13, 14, 15, 16, 17, 18, 19]))"
      ]
     },
     "execution_count": 60,
     "metadata": {},
     "output_type": "execute_result"
    }
   ],
   "source": [
    "new_data, new_data2"
   ]
  },
  {
   "cell_type": "code",
   "execution_count": 61,
   "metadata": {},
   "outputs": [
    {
     "data": {
      "text/plain": [
       "<TensorSliceDataset shapes: ((), ()), types: (tf.int32, tf.int32)>"
      ]
     },
     "execution_count": 61,
     "metadata": {},
     "output_type": "execute_result"
    }
   ],
   "source": [
    "dataset2 = tf.data.Dataset.from_tensor_slices((new_data, new_data2))\n",
    "dataset2"
   ]
  },
  {
   "cell_type": "code",
   "execution_count": 62,
   "metadata": {},
   "outputs": [
    {
     "name": "stdout",
     "output_type": "stream",
     "text": [
      "(<tf.Tensor: shape=(), dtype=int32, numpy=0>, <tf.Tensor: shape=(), dtype=int32, numpy=10>)\n",
      "(<tf.Tensor: shape=(), dtype=int32, numpy=1>, <tf.Tensor: shape=(), dtype=int32, numpy=11>)\n",
      "(<tf.Tensor: shape=(), dtype=int32, numpy=2>, <tf.Tensor: shape=(), dtype=int32, numpy=12>)\n",
      "(<tf.Tensor: shape=(), dtype=int32, numpy=3>, <tf.Tensor: shape=(), dtype=int32, numpy=13>)\n",
      "(<tf.Tensor: shape=(), dtype=int32, numpy=4>, <tf.Tensor: shape=(), dtype=int32, numpy=14>)\n",
      "(<tf.Tensor: shape=(), dtype=int32, numpy=5>, <tf.Tensor: shape=(), dtype=int32, numpy=15>)\n",
      "(<tf.Tensor: shape=(), dtype=int32, numpy=6>, <tf.Tensor: shape=(), dtype=int32, numpy=16>)\n",
      "(<tf.Tensor: shape=(), dtype=int32, numpy=7>, <tf.Tensor: shape=(), dtype=int32, numpy=17>)\n",
      "(<tf.Tensor: shape=(), dtype=int32, numpy=8>, <tf.Tensor: shape=(), dtype=int32, numpy=18>)\n",
      "(<tf.Tensor: shape=(), dtype=int32, numpy=9>, <tf.Tensor: shape=(), dtype=int32, numpy=19>)\n"
     ]
    }
   ],
   "source": [
    "for data in dataset2:\n",
    "    print(data)\n",
    "    \n",
    "# dataset2는 두개가 들어있으니까 맵핑함수도 두개의 변수를 받아야 한다\n",
    "def mapping_func(x, y):\n",
    "    return x**3, y**2\n"
   ]
  },
  {
   "cell_type": "code",
   "execution_count": 63,
   "metadata": {},
   "outputs": [
    {
     "name": "stdout",
     "output_type": "stream",
     "text": [
      "(<tf.Tensor: shape=(), dtype=int32, numpy=0>, <tf.Tensor: shape=(), dtype=int32, numpy=100>)\n",
      "(<tf.Tensor: shape=(), dtype=int32, numpy=1>, <tf.Tensor: shape=(), dtype=int32, numpy=121>)\n",
      "(<tf.Tensor: shape=(), dtype=int32, numpy=8>, <tf.Tensor: shape=(), dtype=int32, numpy=144>)\n",
      "(<tf.Tensor: shape=(), dtype=int32, numpy=27>, <tf.Tensor: shape=(), dtype=int32, numpy=169>)\n",
      "(<tf.Tensor: shape=(), dtype=int32, numpy=64>, <tf.Tensor: shape=(), dtype=int32, numpy=196>)\n",
      "(<tf.Tensor: shape=(), dtype=int32, numpy=125>, <tf.Tensor: shape=(), dtype=int32, numpy=225>)\n",
      "(<tf.Tensor: shape=(), dtype=int32, numpy=216>, <tf.Tensor: shape=(), dtype=int32, numpy=256>)\n",
      "(<tf.Tensor: shape=(), dtype=int32, numpy=343>, <tf.Tensor: shape=(), dtype=int32, numpy=289>)\n",
      "(<tf.Tensor: shape=(), dtype=int32, numpy=512>, <tf.Tensor: shape=(), dtype=int32, numpy=324>)\n",
      "(<tf.Tensor: shape=(), dtype=int32, numpy=729>, <tf.Tensor: shape=(), dtype=int32, numpy=361>)\n"
     ]
    }
   ],
   "source": [
    "dataset10 = dataset2.map(mapping_func)\n",
    "\n",
    "for data in dataset10:\n",
    "    print(data)"
   ]
  },
  {
   "cell_type": "code",
   "execution_count": 64,
   "metadata": {},
   "outputs": [
    {
     "name": "stdout",
     "output_type": "stream",
     "text": [
      "(<tf.Tensor: shape=(), dtype=int32, numpy=0>, <tf.Tensor: shape=(), dtype=int32, numpy=100>)\n",
      "(<tf.Tensor: shape=(), dtype=int32, numpy=1>, <tf.Tensor: shape=(), dtype=int32, numpy=121>)\n",
      "(<tf.Tensor: shape=(), dtype=int32, numpy=8>, <tf.Tensor: shape=(), dtype=int32, numpy=144>)\n",
      "(<tf.Tensor: shape=(), dtype=int32, numpy=27>, <tf.Tensor: shape=(), dtype=int32, numpy=169>)\n",
      "(<tf.Tensor: shape=(), dtype=int32, numpy=64>, <tf.Tensor: shape=(), dtype=int32, numpy=196>)\n",
      "(<tf.Tensor: shape=(), dtype=int32, numpy=125>, <tf.Tensor: shape=(), dtype=int32, numpy=225>)\n",
      "(<tf.Tensor: shape=(), dtype=int32, numpy=216>, <tf.Tensor: shape=(), dtype=int32, numpy=256>)\n",
      "(<tf.Tensor: shape=(), dtype=int32, numpy=343>, <tf.Tensor: shape=(), dtype=int32, numpy=289>)\n",
      "(<tf.Tensor: shape=(), dtype=int32, numpy=512>, <tf.Tensor: shape=(), dtype=int32, numpy=324>)\n",
      "(<tf.Tensor: shape=(), dtype=int32, numpy=729>, <tf.Tensor: shape=(), dtype=int32, numpy=361>)\n"
     ]
    }
   ],
   "source": [
    "#람다표현식으로 해보기\n",
    "dataset12 = dataset2.map(lambda x, y : (x**3, y**2))\n",
    "for data in dataset12:\n",
    "    print(data)"
   ]
  },
  {
   "cell_type": "code",
   "execution_count": null,
   "metadata": {},
   "outputs": [],
   "source": []
  },
  {
   "cell_type": "code",
   "execution_count": 65,
   "metadata": {},
   "outputs": [
    {
     "name": "stdout",
     "output_type": "stream",
     "text": [
      "tf.Tensor(6, shape=(), dtype=int32)\n",
      "tf.Tensor(7, shape=(), dtype=int32)\n",
      "tf.Tensor(8, shape=(), dtype=int32)\n",
      "tf.Tensor(9, shape=(), dtype=int32)\n"
     ]
    }
   ],
   "source": [
    "dataset14 = dataset.filter(lambda x : x > 5)\n",
    "for data in dataset14:\n",
    "    print(data)"
   ]
  },
  {
   "cell_type": "code",
   "execution_count": 66,
   "metadata": {},
   "outputs": [],
   "source": [
    "raw_data = np.arange(-10,11)\n",
    "dataset_final = tf.data.Dataset.from_tensor_slices(raw_data).filter(lambda x : x>0).map(lambda y:y+10).shuffle(raw_data.size).batch(4).repeat(2)\n"
   ]
  },
  {
   "cell_type": "code",
   "execution_count": 67,
   "metadata": {},
   "outputs": [
    {
     "name": "stdout",
     "output_type": "stream",
     "text": [
      "tf.Tensor([14 13 18 15], shape=(4,), dtype=int32)\n",
      "tf.Tensor([17 11 20 16], shape=(4,), dtype=int32)\n",
      "tf.Tensor([19 12], shape=(2,), dtype=int32)\n",
      "tf.Tensor([15 20 12 19], shape=(4,), dtype=int32)\n",
      "tf.Tensor([17 11 16 14], shape=(4,), dtype=int32)\n",
      "tf.Tensor([18 13], shape=(2,), dtype=int32)\n"
     ]
    }
   ],
   "source": [
    "for data in dataset_final:\n",
    "    print(data)"
   ]
  },
  {
   "cell_type": "markdown",
   "metadata": {},
   "source": [
    "# 1. 회귀 - Boston Housing Dataset\n",
    "보스턴 주택가격 dataset은 다음과 같은 속성을 바탕으로 해당 타운 주택 가격의 중앙값을 예측하는 문제.\n",
    "- CRIM: 범죄율\n",
    "- ZN: 25,000 평방피트당 주거지역 비율\n",
    "- INDUS: 비소매 상업지구 비율\n",
    "- CHAS: 찰스강에 인접해 있는지 여부(인접:1, 아니면:0)\n",
    "- NOX: 일산화질소 농도(단위: 0.1ppm)\n",
    "- RM: 주택당 방의 수\n",
    "- AGE: 1940년 이전에 건설된 주택의 비율\n",
    "- DIS: 5개의 보스턴 직업고용센터와의 거리(가중 평균)\n",
    "- RAD: 고속도로 접근성\n",
    "- TAX: 재산세율\n",
    "- PTRATIO: 학생/교사 비율\n",
    "- B: 흑인 비율\n",
    "- LSTAT: 하위 계층 비율\n",
    "\n",
    "예측해야하는 것\n",
    "- MEDV: 타운의 주택가격 중앙값(단위: 1,000달러)"
   ]
  },
  {
   "cell_type": "code",
   "execution_count": 68,
   "metadata": {},
   "outputs": [],
   "source": [
    "import numpy as np \n",
    "import tensorflow as tf\n",
    "from tensorflow import keras\n",
    "from tensorflow.keras import layers, models \n",
    "    #layers : Deeplearning 모델의 layer를 정의하는 클래스들을 가진 모듈"
   ]
  },
  {
   "cell_type": "code",
   "execution_count": 69,
   "metadata": {},
   "outputs": [],
   "source": [
    "# 랜덤값들의 씨드값 지정\n",
    "np.random.seed(0)\n",
    "tf.random.set_seed(0)"
   ]
  },
  {
   "cell_type": "code",
   "execution_count": 70,
   "metadata": {},
   "outputs": [
    {
     "name": "stdout",
     "output_type": "stream",
     "text": [
      "(404, 13) (102, 13)\n",
      "(404,) (102,)\n"
     ]
    }
   ],
   "source": [
    "# 데이터 로딩\n",
    "(train_X, train_y), (test_X, test_y) = keras.datasets.boston_housing.load_data()\n",
    "print(train_X.shape, test_X.shape)\n",
    "print(train_y.shape, test_y.shape)"
   ]
  },
  {
   "cell_type": "code",
   "execution_count": 71,
   "metadata": {},
   "outputs": [
    {
     "data": {
      "text/plain": [
       "array([15.2, 42.3, 50. ])"
      ]
     },
     "execution_count": 71,
     "metadata": {},
     "output_type": "execute_result"
    }
   ],
   "source": [
    "train_y[:3]"
   ]
  },
  {
   "cell_type": "markdown",
   "metadata": {},
   "source": [
    "#### 하이퍼 파라미터, 변수 정의"
   ]
  },
  {
   "cell_type": "code",
   "execution_count": 72,
   "metadata": {},
   "outputs": [],
   "source": [
    "# 하이퍼 파라미터\n",
    "LEARNING_RATE = 0.001   #학습률\n",
    "N_EPOCHS = 200    #epoch수\n",
    "N_BATCHS = 32     #배치 사이즈\n",
    "\n",
    "# 변수 지정\n",
    "N_TRAIN = train_X.shape[0]  #train 데이터셋의 데이터 수\n",
    "N_TEST = test_X.shape[0]    #test 데이터셋의 데이터 수"
   ]
  },
  {
   "cell_type": "markdown",
   "metadata": {},
   "source": [
    "#### X, y 전처리 및 dataset 생성"
   ]
  },
  {
   "cell_type": "code",
   "execution_count": 73,
   "metadata": {},
   "outputs": [],
   "source": [
    "# X 전처리 - scaling / y : 전처리 안해도 됨\n",
    "from sklearn.preprocessing import StandardScaler\n",
    "scaler = StandardScaler()\n",
    "X_train = scaler.fit_transform(train_X)\n",
    "X_test = scaler.transform(test_X)\n"
   ]
  },
  {
   "cell_type": "code",
   "execution_count": 74,
   "metadata": {},
   "outputs": [
    {
     "data": {
      "text/plain": [
       "(404, 13)"
      ]
     },
     "execution_count": 74,
     "metadata": {},
     "output_type": "execute_result"
    }
   ],
   "source": [
    "X_train.shape"
   ]
  },
  {
   "cell_type": "code",
   "execution_count": 77,
   "metadata": {},
   "outputs": [],
   "source": [
    "# dataset 구현\n",
    "# drop_remainder=True : 마지막 배치 원소의 수가 설정해둔 배치사이즈보다 작으면 제공받지 않겠다\n",
    "train_dataset = tf.data.Dataset.from_tensor_slices((X_train, train_y)).shuffle(N_TRAIN).batch(N_BATCHS, drop_remainder=True)\n",
    "test_dataset = tf.data.Dataset.from_tensor_slices((X_test, test_y)).batch(N_BATCHS)"
   ]
  },
  {
   "cell_type": "markdown",
   "metadata": {},
   "source": [
    "#### 모델 구현"
   ]
  },
  {
   "cell_type": "code",
   "execution_count": 78,
   "metadata": {},
   "outputs": [],
   "source": [
    "# 모델(네트워크)를 정의하는 함수\n",
    "def create_housing_model():\n",
    "    #모델 생성\n",
    "    model = keras.Sequential()\n",
    "        #model = keras.models.Sequential() : 예전 코드(이것으로 해도 상관 없다)\n",
    "    \n",
    "    #모델에 layer추가 (X_train의 shape중 뒤의 숫자가 입력층의 형식)\n",
    "    #model.add(layers.InputLayer((13,))) #1차원이므로 굳이 flatten을 할 필요x\n",
    "    #model.add(layers.Dense(units=32, activation='relu'))\n",
    "    \n",
    "    # 8,9의 code를 한방에 처리도 가능\n",
    "    model.add(layers.Dense(units=32, activation='relu', input_shape=(13,))) #첫번째 hidden layer에 input_shape을 지정할 수 있따.\n",
    "    \n",
    "    #DenseLayer : unit개수는 관례적으로 2의 배수를 사용 / 갯수는 줄여 나간다\n",
    "    model.add(layers.Dense(units=16, activation='relu'))\n",
    "    model.add(layers.Dense(units=8, activation='relu'))\n",
    "    \n",
    "    #output layer \n",
    "    #휘귀 문제일 경우 >> units=1로 지정(추론할 값이 하나이므로) / activation은 지정하지 않는다\n",
    "    model.add(layers.Dense(units=1))\n",
    "    \n",
    "    return model"
   ]
  },
  {
   "cell_type": "code",
   "execution_count": 79,
   "metadata": {},
   "outputs": [
    {
     "name": "stdout",
     "output_type": "stream",
     "text": [
      "<tensorflow.python.keras.engine.sequential.Sequential object at 0x000000363A90C2E0>\n"
     ]
    }
   ],
   "source": [
    "model = create_housing_model()\n",
    "print(model)"
   ]
  },
  {
   "cell_type": "code",
   "execution_count": 80,
   "metadata": {},
   "outputs": [
    {
     "name": "stdout",
     "output_type": "stream",
     "text": [
      "Model: \"sequential_1\"\n",
      "_________________________________________________________________\n",
      "Layer (type)                 Output Shape              Param #   \n",
      "=================================================================\n",
      "dense_4 (Dense)              (None, 32)                448       \n",
      "_________________________________________________________________\n",
      "dense_5 (Dense)              (None, 16)                528       \n",
      "_________________________________________________________________\n",
      "dense_6 (Dense)              (None, 8)                 136       \n",
      "_________________________________________________________________\n",
      "dense_7 (Dense)              (None, 1)                 9         \n",
      "=================================================================\n",
      "Total params: 1,121\n",
      "Trainable params: 1,121\n",
      "Non-trainable params: 0\n",
      "_________________________________________________________________\n"
     ]
    }
   ],
   "source": [
    "model.summary()\n",
    "\n",
    "#output shape의 None은 데이터의 갯수를 의미 >> batch_size에 의해 결정됨\n"
   ]
  },
  {
   "cell_type": "code",
   "execution_count": 81,
   "metadata": {},
   "outputs": [
    {
     "data": {
      "image/png": "[encoded data removed]",
      "text/plain": [
       "<IPython.core.display.Image object>"
      ]
     },
     "execution_count": 81,
     "metadata": {},
     "output_type": "execute_result"
    }
   ],
   "source": [
    "# 모델 구조를 그래프로 확인 >> grapgviz 설치가 되어 있어야 함\n",
    "keras.utils.plot_model(model, show_shapes=True, to_file = 'housing.png') #파일경로(절대, 상대)를 지정, 생략시 model.png로 저장"
   ]
  },
  {
   "cell_type": "markdown",
   "metadata": {},
   "source": [
    "#### 컴파일\n",
    " - 모델이 학습할 때 필요한 설정을 해주는 작업\n",
    " "
   ]
  },
  {
   "cell_type": "code",
   "execution_count": 82,
   "metadata": {},
   "outputs": [],
   "source": [
    "# 회귀 - Loss : mean squared error - \"mse\"\n",
    "model.compile(loss='mse',\n",
    "              optimizer=keras.optimizers.Adam(learning_rate = LEARNING_RATE)) #optimizer를 문자열 지정 : 기본설정을 사용\n"
   ]
  },
  {
   "cell_type": "markdown",
   "metadata": {},
   "source": [
    "#### 학습(train)"
   ]
  },
  {
   "cell_type": "code",
   "execution_count": 84,
   "metadata": {},
   "outputs": [
    {
     "name": "stdout",
     "output_type": "stream",
     "text": [
      "Epoch 1/200\n",
      "12/12 [==============================] - 1s 23ms/step - loss: 573.9138 - val_loss: 598.6295\n",
      "Epoch 2/200\n",
      "12/12 [==============================] - 0s 4ms/step - loss: 559.8445 - val_loss: 578.4251\n",
      "Epoch 3/200\n",
      "12/12 [==============================] - 0s 4ms/step - loss: 538.8327 - val_loss: 551.9249\n",
      "Epoch 4/200\n",
      "12/12 [==============================] - 0s 3ms/step - loss: 513.8990 - val_loss: 516.7065\n",
      "Epoch 5/200\n",
      "12/12 [==============================] - 0s 5ms/step - loss: 464.4741 - val_loss: 471.9203\n",
      "Epoch 6/200\n",
      "12/12 [==============================] - 0s 4ms/step - loss: 422.2019 - val_loss: 417.3783\n",
      "Epoch 7/200\n",
      "12/12 [==============================] - 0s 4ms/step - loss: 364.0688 - val_loss: 350.9067\n",
      "Epoch 8/200\n",
      "12/12 [==============================] - 0s 4ms/step - loss: 297.9700 - val_loss: 276.8508\n",
      "Epoch 9/200\n",
      "12/12 [==============================] - 0s 3ms/step - loss: 223.9802 - val_loss: 201.6526\n",
      "Epoch 10/200\n",
      "12/12 [==============================] - 0s 3ms/step - loss: 157.5021 - val_loss: 139.0789\n",
      "Epoch 11/200\n",
      "12/12 [==============================] - 0s 3ms/step - loss: 106.5239 - val_loss: 98.8039\n",
      "Epoch 12/200\n",
      "12/12 [==============================] - 0s 3ms/step - loss: 78.8640 - val_loss: 75.0836\n",
      "Epoch 13/200\n",
      "12/12 [==============================] - 0s 3ms/step - loss: 59.7202 - val_loss: 61.6208\n",
      "Epoch 14/200\n",
      "12/12 [==============================] - 0s 5ms/step - loss: 49.2132 - val_loss: 51.4232\n",
      "Epoch 15/200\n",
      "12/12 [==============================] - 0s 3ms/step - loss: 38.0576 - val_loss: 44.0031\n",
      "Epoch 16/200\n",
      "12/12 [==============================] - 0s 4ms/step - loss: 33.6834 - val_loss: 39.2054\n",
      "Epoch 17/200\n",
      "12/12 [==============================] - 0s 4ms/step - loss: 29.9293 - val_loss: 35.7191\n",
      "Epoch 18/200\n",
      "12/12 [==============================] - 0s 4ms/step - loss: 27.6370 - val_loss: 33.6152\n",
      "Epoch 19/200\n",
      "12/12 [==============================] - 0s 3ms/step - loss: 25.6794 - val_loss: 31.8154\n",
      "Epoch 20/200\n",
      "12/12 [==============================] - 0s 3ms/step - loss: 24.2956 - val_loss: 30.6013\n",
      "Epoch 21/200\n",
      "12/12 [==============================] - 0s 4ms/step - loss: 22.8747 - val_loss: 29.4143\n",
      "Epoch 22/200\n",
      "12/12 [==============================] - 0s 3ms/step - loss: 22.2558 - val_loss: 28.6653\n",
      "Epoch 23/200\n",
      "12/12 [==============================] - 0s 3ms/step - loss: 19.8073 - val_loss: 27.7785\n",
      "Epoch 24/200\n",
      "12/12 [==============================] - 0s 4ms/step - loss: 20.5505 - val_loss: 27.0560\n",
      "Epoch 25/200\n",
      "12/12 [==============================] - 0s 4ms/step - loss: 19.6055 - val_loss: 26.7301\n",
      "Epoch 26/200\n",
      "12/12 [==============================] - 0s 4ms/step - loss: 19.4009 - val_loss: 26.1876\n",
      "Epoch 27/200\n",
      "12/12 [==============================] - 0s 3ms/step - loss: 18.6211 - val_loss: 25.5475\n",
      "Epoch 28/200\n",
      "12/12 [==============================] - 0s 5ms/step - loss: 17.5829 - val_loss: 25.1968\n",
      "Epoch 29/200\n",
      "12/12 [==============================] - 0s 4ms/step - loss: 17.6330 - val_loss: 24.7360\n",
      "Epoch 30/200\n",
      "12/12 [==============================] - 0s 4ms/step - loss: 16.8934 - val_loss: 24.4163\n",
      "Epoch 31/200\n",
      "12/12 [==============================] - 0s 3ms/step - loss: 14.3997 - val_loss: 24.3679\n",
      "Epoch 32/200\n",
      "12/12 [==============================] - 0s 3ms/step - loss: 15.8865 - val_loss: 24.2714\n",
      "Epoch 33/200\n",
      "12/12 [==============================] - 0s 3ms/step - loss: 15.5262 - val_loss: 23.8676\n",
      "Epoch 34/200\n",
      "12/12 [==============================] - 0s 4ms/step - loss: 13.0657 - val_loss: 23.7879\n",
      "Epoch 35/200\n",
      "12/12 [==============================] - 0s 3ms/step - loss: 13.4848 - val_loss: 23.5203\n",
      "Epoch 36/200\n",
      "12/12 [==============================] - 0s 3ms/step - loss: 14.2912 - val_loss: 23.4206\n",
      "Epoch 37/200\n",
      "12/12 [==============================] - 0s 4ms/step - loss: 13.5983 - val_loss: 23.3276\n",
      "Epoch 38/200\n",
      "12/12 [==============================] - 0s 5ms/step - loss: 12.2633 - val_loss: 23.2132\n",
      "Epoch 39/200\n",
      "12/12 [==============================] - 0s 4ms/step - loss: 12.1229 - val_loss: 23.2109\n",
      "Epoch 40/200\n",
      "12/12 [==============================] - 0s 4ms/step - loss: 13.1246 - val_loss: 23.3339\n",
      "Epoch 41/200\n",
      "12/12 [==============================] - 0s 4ms/step - loss: 12.8390 - val_loss: 23.2602\n",
      "Epoch 42/200\n",
      "12/12 [==============================] - 0s 4ms/step - loss: 12.6506 - val_loss: 23.0916\n",
      "Epoch 43/200\n",
      "12/12 [==============================] - 0s 3ms/step - loss: 12.0918 - val_loss: 23.9382\n",
      "Epoch 44/200\n",
      "12/12 [==============================] - 0s 3ms/step - loss: 11.9146 - val_loss: 23.6399\n",
      "Epoch 45/200\n",
      "12/12 [==============================] - 0s 4ms/step - loss: 11.5537 - val_loss: 23.5385\n",
      "Epoch 46/200\n",
      "12/12 [==============================] - 0s 3ms/step - loss: 11.6945 - val_loss: 23.4266\n",
      "Epoch 47/200\n",
      "12/12 [==============================] - 0s 4ms/step - loss: 11.3234 - val_loss: 23.7457\n",
      "Epoch 48/200\n",
      "12/12 [==============================] - 0s 5ms/step - loss: 11.0522 - val_loss: 23.7466\n",
      "Epoch 49/200\n",
      "12/12 [==============================] - 0s 3ms/step - loss: 11.1841 - val_loss: 23.8455\n",
      "Epoch 50/200\n",
      "12/12 [==============================] - 0s 3ms/step - loss: 10.9108 - val_loss: 23.9911\n",
      "Epoch 51/200\n",
      "12/12 [==============================] - 0s 3ms/step - loss: 10.8326 - val_loss: 23.6129\n",
      "Epoch 52/200\n",
      "12/12 [==============================] - 0s 4ms/step - loss: 10.5294 - val_loss: 24.0329\n",
      "Epoch 53/200\n",
      "12/12 [==============================] - 0s 3ms/step - loss: 10.5822 - val_loss: 23.8510\n",
      "Epoch 54/200\n",
      "12/12 [==============================] - 0s 3ms/step - loss: 10.1538 - val_loss: 23.6760\n",
      "Epoch 55/200\n",
      "12/12 [==============================] - 0s 3ms/step - loss: 9.7339 - val_loss: 24.1236\n",
      "Epoch 56/200\n",
      "12/12 [==============================] - 0s 4ms/step - loss: 10.0226 - val_loss: 24.3783\n",
      "Epoch 57/200\n",
      "12/12 [==============================] - 0s 3ms/step - loss: 9.7436 - val_loss: 24.1526\n",
      "Epoch 58/200\n",
      "12/12 [==============================] - 0s 4ms/step - loss: 9.6705 - val_loss: 24.0214\n",
      "Epoch 59/200\n",
      "12/12 [==============================] - 0s 4ms/step - loss: 9.8477 - val_loss: 23.9368\n",
      "Epoch 60/200\n",
      "12/12 [==============================] - 0s 4ms/step - loss: 9.8607 - val_loss: 24.2287\n",
      "Epoch 61/200\n",
      "12/12 [==============================] - 0s 5ms/step - loss: 8.9979 - val_loss: 23.9865\n",
      "Epoch 62/200\n",
      "12/12 [==============================] - 0s 3ms/step - loss: 9.6493 - val_loss: 24.0757\n",
      "Epoch 63/200\n",
      "12/12 [==============================] - 0s 4ms/step - loss: 9.1082 - val_loss: 23.7830\n",
      "Epoch 64/200\n",
      "12/12 [==============================] - 0s 4ms/step - loss: 9.5739 - val_loss: 23.5796\n",
      "Epoch 65/200\n",
      "12/12 [==============================] - 0s 4ms/step - loss: 9.4376 - val_loss: 24.2738\n",
      "Epoch 66/200\n",
      "12/12 [==============================] - 0s 5ms/step - loss: 9.2158 - val_loss: 23.7186\n",
      "Epoch 67/200\n",
      "12/12 [==============================] - 0s 3ms/step - loss: 9.0089 - val_loss: 23.8976\n",
      "Epoch 68/200\n",
      "12/12 [==============================] - 0s 4ms/step - loss: 9.1186 - val_loss: 24.0118\n",
      "Epoch 69/200\n",
      "12/12 [==============================] - 0s 3ms/step - loss: 8.9348 - val_loss: 23.9740\n",
      "Epoch 70/200\n",
      "12/12 [==============================] - 0s 4ms/step - loss: 8.8114 - val_loss: 23.7866\n",
      "Epoch 71/200\n",
      "12/12 [==============================] - 0s 3ms/step - loss: 8.8166 - val_loss: 24.4419\n",
      "Epoch 72/200\n",
      "12/12 [==============================] - 0s 3ms/step - loss: 8.8761 - val_loss: 23.8021\n",
      "Epoch 73/200\n",
      "12/12 [==============================] - 0s 3ms/step - loss: 8.9066 - val_loss: 24.6674\n",
      "Epoch 74/200\n",
      "12/12 [==============================] - 0s 3ms/step - loss: 8.5063 - val_loss: 24.2335\n",
      "Epoch 75/200\n",
      "12/12 [==============================] - 0s 3ms/step - loss: 8.6160 - val_loss: 24.1594\n",
      "Epoch 76/200\n",
      "12/12 [==============================] - 0s 3ms/step - loss: 8.1486 - val_loss: 23.4394\n",
      "Epoch 77/200\n",
      "12/12 [==============================] - 0s 3ms/step - loss: 8.6400 - val_loss: 23.6995\n",
      "Epoch 78/200\n",
      "12/12 [==============================] - 0s 5ms/step - loss: 8.5977 - val_loss: 23.7448\n",
      "Epoch 79/200\n",
      "12/12 [==============================] - 0s 4ms/step - loss: 8.0940 - val_loss: 23.9850\n",
      "Epoch 80/200\n",
      "12/12 [==============================] - 0s 4ms/step - loss: 8.3665 - val_loss: 23.8052\n",
      "Epoch 81/200\n"
     ]
    },
    {
     "name": "stdout",
     "output_type": "stream",
     "text": [
      "12/12 [==============================] - 0s 3ms/step - loss: 8.2750 - val_loss: 23.9662\n",
      "Epoch 82/200\n",
      "12/12 [==============================] - 0s 4ms/step - loss: 8.3393 - val_loss: 23.6360\n",
      "Epoch 83/200\n",
      "12/12 [==============================] - 0s 3ms/step - loss: 8.1612 - val_loss: 23.4314\n",
      "Epoch 84/200\n",
      "12/12 [==============================] - 0s 3ms/step - loss: 7.6961 - val_loss: 24.2199\n",
      "Epoch 85/200\n",
      "12/12 [==============================] - 0s 4ms/step - loss: 8.1631 - val_loss: 23.4614\n",
      "Epoch 86/200\n",
      "12/12 [==============================] - 0s 3ms/step - loss: 8.0778 - val_loss: 23.7805\n",
      "Epoch 87/200\n",
      "12/12 [==============================] - 0s 3ms/step - loss: 8.0187 - val_loss: 23.8761\n",
      "Epoch 88/200\n",
      "12/12 [==============================] - 0s 3ms/step - loss: 7.2070 - val_loss: 22.6163\n",
      "Epoch 89/200\n",
      "12/12 [==============================] - 0s 3ms/step - loss: 8.0658 - val_loss: 24.2829\n",
      "Epoch 90/200\n",
      "12/12 [==============================] - 0s 3ms/step - loss: 7.6281 - val_loss: 23.6449\n",
      "Epoch 91/200\n",
      "12/12 [==============================] - 0s 3ms/step - loss: 7.8594 - val_loss: 23.3166\n",
      "Epoch 92/200\n",
      "12/12 [==============================] - 0s 3ms/step - loss: 7.7141 - val_loss: 23.3589\n",
      "Epoch 93/200\n",
      "12/12 [==============================] - 0s 3ms/step - loss: 7.7297 - val_loss: 23.5927\n",
      "Epoch 94/200\n",
      "12/12 [==============================] - 0s 3ms/step - loss: 7.7325 - val_loss: 22.9546\n",
      "Epoch 95/200\n",
      "12/12 [==============================] - 0s 4ms/step - loss: 7.0285 - val_loss: 23.3717\n",
      "Epoch 96/200\n",
      "12/12 [==============================] - 0s 4ms/step - loss: 7.1077 - val_loss: 23.2135\n",
      "Epoch 97/200\n",
      "12/12 [==============================] - 0s 4ms/step - loss: 7.3597 - val_loss: 23.4439\n",
      "Epoch 98/200\n",
      "12/12 [==============================] - 0s 3ms/step - loss: 6.8676 - val_loss: 23.4151\n",
      "Epoch 99/200\n",
      "12/12 [==============================] - 0s 3ms/step - loss: 7.4860 - val_loss: 22.6200\n",
      "Epoch 100/200\n",
      "12/12 [==============================] - 0s 2ms/step - loss: 7.0805 - val_loss: 23.1631\n",
      "Epoch 101/200\n",
      "12/12 [==============================] - 0s 3ms/step - loss: 7.5738 - val_loss: 22.2375\n",
      "Epoch 102/200\n",
      "12/12 [==============================] - 0s 2ms/step - loss: 7.5139 - val_loss: 23.8513\n",
      "Epoch 103/200\n",
      "12/12 [==============================] - 0s 2ms/step - loss: 7.2809 - val_loss: 22.2703\n",
      "Epoch 104/200\n",
      "12/12 [==============================] - 0s 2ms/step - loss: 7.2449 - val_loss: 22.7818\n",
      "Epoch 105/200\n",
      "12/12 [==============================] - 0s 3ms/step - loss: 6.9240 - val_loss: 22.9626\n",
      "Epoch 106/200\n",
      "12/12 [==============================] - 0s 2ms/step - loss: 7.1732 - val_loss: 23.5420\n",
      "Epoch 107/200\n",
      "12/12 [==============================] - 0s 3ms/step - loss: 6.8415 - val_loss: 23.2795\n",
      "Epoch 108/200\n",
      "12/12 [==============================] - 0s 3ms/step - loss: 6.8919 - val_loss: 22.6494\n",
      "Epoch 109/200\n",
      "12/12 [==============================] - 0s 3ms/step - loss: 7.0095 - val_loss: 22.9831\n",
      "Epoch 110/200\n",
      "12/12 [==============================] - 0s 2ms/step - loss: 7.0137 - val_loss: 22.8942\n",
      "Epoch 111/200\n",
      "12/12 [==============================] - 0s 3ms/step - loss: 6.7094 - val_loss: 22.6375\n",
      "Epoch 112/200\n",
      "12/12 [==============================] - 0s 3ms/step - loss: 6.5785 - val_loss: 22.9819\n",
      "Epoch 113/200\n",
      "12/12 [==============================] - 0s 3ms/step - loss: 6.7754 - val_loss: 22.3680\n",
      "Epoch 114/200\n",
      "12/12 [==============================] - 0s 2ms/step - loss: 6.4450 - val_loss: 23.2381\n",
      "Epoch 115/200\n",
      "12/12 [==============================] - 0s 3ms/step - loss: 6.7098 - val_loss: 22.1201\n",
      "Epoch 116/200\n",
      "12/12 [==============================] - 0s 3ms/step - loss: 6.7702 - val_loss: 21.7788\n",
      "Epoch 117/200\n",
      "12/12 [==============================] - 0s 2ms/step - loss: 6.5593 - val_loss: 22.5259\n",
      "Epoch 118/200\n",
      "12/12 [==============================] - 0s 2ms/step - loss: 6.4044 - val_loss: 22.6562\n",
      "Epoch 119/200\n",
      "12/12 [==============================] - 0s 3ms/step - loss: 6.4238 - val_loss: 22.1164\n",
      "Epoch 120/200\n",
      "12/12 [==============================] - 0s 2ms/step - loss: 6.4772 - val_loss: 21.3741\n",
      "Epoch 121/200\n",
      "12/12 [==============================] - 0s 4ms/step - loss: 6.4167 - val_loss: 22.8567\n",
      "Epoch 122/200\n",
      "12/12 [==============================] - 0s 4ms/step - loss: 6.5632 - val_loss: 21.7913\n",
      "Epoch 123/200\n",
      "12/12 [==============================] - 0s 4ms/step - loss: 6.4301 - val_loss: 22.0769\n",
      "Epoch 124/200\n",
      "12/12 [==============================] - 0s 3ms/step - loss: 6.2688 - val_loss: 22.2854\n",
      "Epoch 125/200\n",
      "12/12 [==============================] - 0s 3ms/step - loss: 6.3984 - val_loss: 22.1292\n",
      "Epoch 126/200\n",
      "12/12 [==============================] - 0s 3ms/step - loss: 6.3749 - val_loss: 21.7239\n",
      "Epoch 127/200\n",
      "12/12 [==============================] - 0s 3ms/step - loss: 6.2612 - val_loss: 22.6188\n",
      "Epoch 128/200\n",
      "12/12 [==============================] - 0s 3ms/step - loss: 6.1603 - val_loss: 21.5088\n",
      "Epoch 129/200\n",
      "12/12 [==============================] - 0s 2ms/step - loss: 6.2384 - val_loss: 21.6588\n",
      "Epoch 130/200\n",
      "12/12 [==============================] - 0s 3ms/step - loss: 5.8004 - val_loss: 22.0198\n",
      "Epoch 131/200\n",
      "12/12 [==============================] - 0s 2ms/step - loss: 6.1398 - val_loss: 22.3512\n",
      "Epoch 132/200\n",
      "12/12 [==============================] - 0s 2ms/step - loss: 5.7992 - val_loss: 20.9077\n",
      "Epoch 133/200\n",
      "12/12 [==============================] - 0s 2ms/step - loss: 6.1424 - val_loss: 21.7159\n",
      "Epoch 134/200\n",
      "12/12 [==============================] - 0s 2ms/step - loss: 5.9447 - val_loss: 21.2886\n",
      "Epoch 135/200\n",
      "12/12 [==============================] - 0s 3ms/step - loss: 6.0467 - val_loss: 21.5110\n",
      "Epoch 136/200\n",
      "12/12 [==============================] - 0s 2ms/step - loss: 5.7942 - val_loss: 21.7818\n",
      "Epoch 137/200\n",
      "12/12 [==============================] - 0s 3ms/step - loss: 5.1966 - val_loss: 21.1772\n",
      "Epoch 138/200\n",
      "12/12 [==============================] - 0s 2ms/step - loss: 5.9301 - val_loss: 21.1532\n",
      "Epoch 139/200\n",
      "12/12 [==============================] - 0s 2ms/step - loss: 5.8723 - val_loss: 21.5757\n",
      "Epoch 140/200\n",
      "12/12 [==============================] - 0s 4ms/step - loss: 5.8266 - val_loss: 21.1675\n",
      "Epoch 141/200\n",
      "12/12 [==============================] - 0s 3ms/step - loss: 5.7715 - val_loss: 20.5900\n",
      "Epoch 142/200\n",
      "12/12 [==============================] - 0s 3ms/step - loss: 5.8232 - val_loss: 21.0245\n",
      "Epoch 143/200\n",
      "12/12 [==============================] - 0s 3ms/step - loss: 4.8069 - val_loss: 20.4657\n",
      "Epoch 144/200\n",
      "12/12 [==============================] - 0s 3ms/step - loss: 5.8630 - val_loss: 20.9529\n",
      "Epoch 145/200\n",
      "12/12 [==============================] - 0s 4ms/step - loss: 5.7715 - val_loss: 21.7941\n",
      "Epoch 146/200\n",
      "12/12 [==============================] - 0s 4ms/step - loss: 5.5008 - val_loss: 20.5299\n",
      "Epoch 147/200\n",
      "12/12 [==============================] - 0s 3ms/step - loss: 5.5919 - val_loss: 21.1081\n",
      "Epoch 148/200\n",
      "12/12 [==============================] - 0s 2ms/step - loss: 5.3946 - val_loss: 20.1858\n",
      "Epoch 149/200\n",
      "12/12 [==============================] - 0s 3ms/step - loss: 5.6617 - val_loss: 20.1352\n",
      "Epoch 150/200\n",
      "12/12 [==============================] - 0s 2ms/step - loss: 5.0922 - val_loss: 20.2593\n",
      "Epoch 151/200\n",
      "12/12 [==============================] - 0s 4ms/step - loss: 5.5266 - val_loss: 20.2500\n",
      "Epoch 152/200\n",
      "12/12 [==============================] - 0s 3ms/step - loss: 4.6975 - val_loss: 20.6519\n",
      "Epoch 153/200\n",
      "12/12 [==============================] - 0s 3ms/step - loss: 5.2771 - val_loss: 20.5316\n",
      "Epoch 154/200\n",
      "12/12 [==============================] - 0s 2ms/step - loss: 4.5564 - val_loss: 19.9830\n",
      "Epoch 155/200\n",
      "12/12 [==============================] - 0s 3ms/step - loss: 5.4697 - val_loss: 20.1811\n",
      "Epoch 156/200\n",
      "12/12 [==============================] - 0s 3ms/step - loss: 4.9719 - val_loss: 19.8255\n",
      "Epoch 157/200\n",
      "12/12 [==============================] - 0s 4ms/step - loss: 5.3602 - val_loss: 19.8836\n",
      "Epoch 158/200\n",
      "12/12 [==============================] - 0s 2ms/step - loss: 5.3086 - val_loss: 20.5619\n",
      "Epoch 159/200\n",
      "12/12 [==============================] - 0s 3ms/step - loss: 4.8626 - val_loss: 19.8300\n",
      "Epoch 160/200\n",
      "12/12 [==============================] - 0s 4ms/step - loss: 5.3058 - val_loss: 20.0247\n",
      "Epoch 161/200\n"
     ]
    },
    {
     "name": "stdout",
     "output_type": "stream",
     "text": [
      "12/12 [==============================] - 0s 2ms/step - loss: 5.0123 - val_loss: 20.2723\n",
      "Epoch 162/200\n",
      "12/12 [==============================] - 0s 3ms/step - loss: 5.0788 - val_loss: 19.8148\n",
      "Epoch 163/200\n",
      "12/12 [==============================] - 0s 2ms/step - loss: 5.0956 - val_loss: 20.2545\n",
      "Epoch 164/200\n",
      "12/12 [==============================] - 0s 4ms/step - loss: 4.9213 - val_loss: 20.0707\n",
      "Epoch 165/200\n",
      "12/12 [==============================] - 0s 3ms/step - loss: 4.8453 - val_loss: 19.3628\n",
      "Epoch 166/200\n",
      "12/12 [==============================] - 0s 3ms/step - loss: 4.9300 - val_loss: 19.4192\n",
      "Epoch 167/200\n",
      "12/12 [==============================] - 0s 2ms/step - loss: 4.9222 - val_loss: 20.0664\n",
      "Epoch 168/200\n",
      "12/12 [==============================] - 0s 2ms/step - loss: 4.8237 - val_loss: 19.6366\n",
      "Epoch 169/200\n",
      "12/12 [==============================] - 0s 4ms/step - loss: 4.9407 - val_loss: 19.5858\n",
      "Epoch 170/200\n",
      "12/12 [==============================] - 0s 3ms/step - loss: 4.8170 - val_loss: 19.7646\n",
      "Epoch 171/200\n",
      "12/12 [==============================] - 0s 3ms/step - loss: 4.9387 - val_loss: 19.4921\n",
      "Epoch 172/200\n",
      "12/12 [==============================] - 0s 2ms/step - loss: 4.8964 - val_loss: 19.0933\n",
      "Epoch 173/200\n",
      "12/12 [==============================] - 0s 2ms/step - loss: 4.7407 - val_loss: 20.3296\n",
      "Epoch 174/200\n",
      "12/12 [==============================] - 0s 4ms/step - loss: 4.7497 - val_loss: 18.9323\n",
      "Epoch 175/200\n",
      "12/12 [==============================] - 0s 2ms/step - loss: 4.6908 - val_loss: 19.7714\n",
      "Epoch 176/200\n",
      "12/12 [==============================] - 0s 3ms/step - loss: 4.7775 - val_loss: 19.2840\n",
      "Epoch 177/200\n",
      "12/12 [==============================] - 0s 3ms/step - loss: 4.6295 - val_loss: 19.2788\n",
      "Epoch 178/200\n",
      "12/12 [==============================] - 0s 3ms/step - loss: 4.6797 - val_loss: 19.0574\n",
      "Epoch 179/200\n",
      "12/12 [==============================] - 0s 3ms/step - loss: 4.5137 - val_loss: 19.5297\n",
      "Epoch 180/200\n",
      "12/12 [==============================] - 0s 2ms/step - loss: 4.5605 - val_loss: 19.1632\n",
      "Epoch 181/200\n",
      "12/12 [==============================] - 0s 3ms/step - loss: 4.5797 - val_loss: 19.0484\n",
      "Epoch 182/200\n",
      "12/12 [==============================] - 0s 3ms/step - loss: 4.5578 - val_loss: 18.5095\n",
      "Epoch 183/200\n",
      "12/12 [==============================] - 0s 2ms/step - loss: 4.5957 - val_loss: 19.1748\n",
      "Epoch 184/200\n",
      "12/12 [==============================] - 0s 3ms/step - loss: 4.4943 - val_loss: 18.6519\n",
      "Epoch 185/200\n",
      "12/12 [==============================] - 0s 2ms/step - loss: 4.6206 - val_loss: 18.6404\n",
      "Epoch 186/200\n",
      "12/12 [==============================] - 0s 3ms/step - loss: 4.4970 - val_loss: 18.6679\n",
      "Epoch 187/200\n",
      "12/12 [==============================] - 0s 3ms/step - loss: 4.5405 - val_loss: 18.4972\n",
      "Epoch 188/200\n",
      "12/12 [==============================] - 0s 4ms/step - loss: 4.4609 - val_loss: 18.5710\n",
      "Epoch 189/200\n",
      "12/12 [==============================] - 0s 3ms/step - loss: 4.3412 - val_loss: 18.9413\n",
      "Epoch 190/200\n",
      "12/12 [==============================] - 0s 4ms/step - loss: 4.4377 - val_loss: 18.4943\n",
      "Epoch 191/200\n",
      "12/12 [==============================] - 0s 3ms/step - loss: 4.2202 - val_loss: 17.8681\n",
      "Epoch 192/200\n",
      "12/12 [==============================] - 0s 3ms/step - loss: 4.3265 - val_loss: 18.2528\n",
      "Epoch 193/200\n",
      "12/12 [==============================] - 0s 3ms/step - loss: 4.3766 - val_loss: 18.2809\n",
      "Epoch 194/200\n",
      "12/12 [==============================] - 0s 2ms/step - loss: 4.4569 - val_loss: 18.1339\n",
      "Epoch 195/200\n",
      "12/12 [==============================] - 0s 2ms/step - loss: 4.3760 - val_loss: 18.2488\n",
      "Epoch 196/200\n",
      "12/12 [==============================] - 0s 3ms/step - loss: 3.7809 - val_loss: 17.7301\n",
      "Epoch 197/200\n",
      "12/12 [==============================] - 0s 2ms/step - loss: 4.1565 - val_loss: 17.9543\n",
      "Epoch 198/200\n",
      "12/12 [==============================] - 0s 2ms/step - loss: 4.0667 - val_loss: 18.0090\n",
      "Epoch 199/200\n",
      "12/12 [==============================] - 0s 2ms/step - loss: 4.2458 - val_loss: 18.3351\n",
      "Epoch 200/200\n",
      "12/12 [==============================] - 0s 2ms/step - loss: 4.1977 - val_loss: 18.2120\n"
     ]
    }
   ],
   "source": [
    "#batch_size 는 train_dataset생성시 batch를 지정했기 때문에 학습시 지정하지 않는다\n",
    "hist = model.fit(train_dataset,\n",
    "                 epochs = N_EPOCHS,\n",
    "                 validation_data = test_dataset) #Dataset을 이용할 경우, validataion_split=비율 는 사용할 필요 x\n"
   ]
  },
  {
   "cell_type": "code",
   "execution_count": 85,
   "metadata": {},
   "outputs": [
    {
     "data": {
      "text/plain": [
       "15.2"
      ]
     },
     "execution_count": 85,
     "metadata": {},
     "output_type": "execute_result"
    }
   ],
   "source": [
    "train_y[0]"
   ]
  },
  {
   "cell_type": "code",
   "execution_count": 86,
   "metadata": {},
   "outputs": [
    {
     "data": {
      "text/plain": [
       "4.123105625617661"
      ]
     },
     "execution_count": 86,
     "metadata": {},
     "output_type": "execute_result"
    }
   ],
   "source": [
    "np.sqrt(17)"
   ]
  },
  {
   "cell_type": "markdown",
   "metadata": {},
   "source": [
    "#### 결과 시각화"
   ]
  },
  {
   "cell_type": "code",
   "execution_count": 87,
   "metadata": {},
   "outputs": [],
   "source": [
    "import matplotlib.pyplot as plt"
   ]
  },
  {
   "cell_type": "code",
   "execution_count": 88,
   "metadata": {},
   "outputs": [
    {
     "name": "stdout",
     "output_type": "stream",
     "text": [
      "<class 'dict'>\n"
     ]
    },
    {
     "data": {
      "text/plain": [
       "dict_keys(['loss', 'val_loss'])"
      ]
     },
     "execution_count": 88,
     "metadata": {},
     "output_type": "execute_result"
    }
   ],
   "source": [
    "print(type(hist.history))\n",
    "hist.history.keys()"
   ]
  },
  {
   "cell_type": "code",
   "execution_count": 90,
   "metadata": {},
   "outputs": [
    {
     "data": {
      "text/plain": [
       "[573.913818359375,\n",
       " 559.844482421875,\n",
       " 538.8327026367188,\n",
       " 513.8989868164062,\n",
       " 464.4740905761719,\n",
       " 422.201904296875,\n",
       " 364.0687561035156,\n",
       " 297.97003173828125,\n",
       " 223.98016357421875,\n",
       " 157.50205993652344,\n",
       " 106.52386474609375,\n",
       " 78.864013671875,\n",
       " 59.72021484375,\n",
       " 49.21316909790039,\n",
       " 38.0576057434082,\n",
       " 33.68342971801758,\n",
       " 29.929306030273438,\n",
       " 27.636960983276367,\n",
       " 25.679359436035156,\n",
       " 24.295595169067383,\n",
       " 22.87473487854004,\n",
       " 22.255830764770508,\n",
       " 19.807270050048828,\n",
       " 20.550512313842773,\n",
       " 19.605472564697266,\n",
       " 19.400888442993164,\n",
       " 18.621122360229492,\n",
       " 17.582866668701172,\n",
       " 17.632951736450195,\n",
       " 16.893449783325195,\n",
       " 14.399662017822266,\n",
       " 15.886478424072266,\n",
       " 15.526206016540527,\n",
       " 13.065672874450684,\n",
       " 13.484755516052246,\n",
       " 14.29124927520752,\n",
       " 13.598288536071777,\n",
       " 12.263340950012207,\n",
       " 12.12289810180664,\n",
       " 13.12460708618164,\n",
       " 12.83896255493164,\n",
       " 12.650623321533203,\n",
       " 12.091827392578125,\n",
       " 11.914616584777832,\n",
       " 11.553723335266113,\n",
       " 11.694499969482422,\n",
       " 11.323413848876953,\n",
       " 11.052241325378418,\n",
       " 11.184142112731934,\n",
       " 10.910826683044434,\n",
       " 10.83260440826416,\n",
       " 10.52942180633545,\n",
       " 10.58223819732666,\n",
       " 10.153801918029785,\n",
       " 9.733945846557617,\n",
       " 10.022583961486816,\n",
       " 9.74364948272705,\n",
       " 9.67053508758545,\n",
       " 9.847707748413086,\n",
       " 9.860726356506348,\n",
       " 8.997894287109375,\n",
       " 9.64926815032959,\n",
       " 9.108198165893555,\n",
       " 9.573936462402344,\n",
       " 9.437566757202148,\n",
       " 9.215835571289062,\n",
       " 9.008940696716309,\n",
       " 9.11858081817627,\n",
       " 8.934830665588379,\n",
       " 8.811379432678223,\n",
       " 8.816645622253418,\n",
       " 8.876100540161133,\n",
       " 8.906636238098145,\n",
       " 8.506324768066406,\n",
       " 8.615971565246582,\n",
       " 8.148587226867676,\n",
       " 8.639979362487793,\n",
       " 8.597685813903809,\n",
       " 8.09401798248291,\n",
       " 8.366460800170898,\n",
       " 8.275029182434082,\n",
       " 8.339347839355469,\n",
       " 8.16124153137207,\n",
       " 7.696101665496826,\n",
       " 8.163100242614746,\n",
       " 8.07776165008545,\n",
       " 8.018664360046387,\n",
       " 7.20697546005249,\n",
       " 8.065849304199219,\n",
       " 7.628082275390625,\n",
       " 7.859426975250244,\n",
       " 7.7140679359436035,\n",
       " 7.729740619659424,\n",
       " 7.7325215339660645,\n",
       " 7.02846097946167,\n",
       " 7.107706546783447,\n",
       " 7.359704971313477,\n",
       " 6.867624282836914,\n",
       " 7.486009120941162,\n",
       " 7.080478191375732,\n",
       " 7.573803424835205,\n",
       " 7.513912200927734,\n",
       " 7.280893325805664,\n",
       " 7.244908809661865,\n",
       " 6.924039840698242,\n",
       " 7.173164367675781,\n",
       " 6.841488361358643,\n",
       " 6.891885757446289,\n",
       " 7.009469509124756,\n",
       " 7.013733386993408,\n",
       " 6.7093825340271,\n",
       " 6.578535556793213,\n",
       " 6.775384902954102,\n",
       " 6.444961071014404,\n",
       " 6.709779262542725,\n",
       " 6.770186901092529,\n",
       " 6.559290409088135,\n",
       " 6.404372692108154,\n",
       " 6.423831939697266,\n",
       " 6.4771504402160645,\n",
       " 6.416665554046631,\n",
       " 6.563240051269531,\n",
       " 6.430057525634766,\n",
       " 6.268774032592773,\n",
       " 6.398399829864502,\n",
       " 6.374880313873291,\n",
       " 6.261165142059326,\n",
       " 6.160349369049072,\n",
       " 6.23836088180542,\n",
       " 5.8003764152526855,\n",
       " 6.139772891998291,\n",
       " 5.799168109893799,\n",
       " 6.142408847808838,\n",
       " 5.944715976715088,\n",
       " 6.046745777130127,\n",
       " 5.794216156005859,\n",
       " 5.196574687957764,\n",
       " 5.930073261260986,\n",
       " 5.872276782989502,\n",
       " 5.826639652252197,\n",
       " 5.771539211273193,\n",
       " 5.823193073272705,\n",
       " 4.806908130645752,\n",
       " 5.862997531890869,\n",
       " 5.771451473236084,\n",
       " 5.50084114074707,\n",
       " 5.591922760009766,\n",
       " 5.39463472366333,\n",
       " 5.661680698394775,\n",
       " 5.09219217300415,\n",
       " 5.526612758636475,\n",
       " 4.69754695892334,\n",
       " 5.2770915031433105,\n",
       " 4.5564374923706055,\n",
       " 5.469661235809326,\n",
       " 4.971931457519531,\n",
       " 5.360246658325195,\n",
       " 5.308648586273193,\n",
       " 4.862626552581787,\n",
       " 5.305843353271484,\n",
       " 5.0122904777526855,\n",
       " 5.07877779006958,\n",
       " 5.095613956451416,\n",
       " 4.921278476715088,\n",
       " 4.845341205596924,\n",
       " 4.930003643035889,\n",
       " 4.922234535217285,\n",
       " 4.823690414428711,\n",
       " 4.940675735473633,\n",
       " 4.817040920257568,\n",
       " 4.938718318939209,\n",
       " 4.896365642547607,\n",
       " 4.740738391876221,\n",
       " 4.7496724128723145,\n",
       " 4.690756320953369,\n",
       " 4.7775349617004395,\n",
       " 4.629457950592041,\n",
       " 4.679725170135498,\n",
       " 4.513736248016357,\n",
       " 4.560516357421875,\n",
       " 4.579713344573975,\n",
       " 4.557801723480225,\n",
       " 4.595736980438232,\n",
       " 4.4942545890808105,\n",
       " 4.620556354522705,\n",
       " 4.496964454650879,\n",
       " 4.540478706359863,\n",
       " 4.460920333862305,\n",
       " 4.341221332550049,\n",
       " 4.437743663787842,\n",
       " 4.22020149230957,\n",
       " 4.326503276824951,\n",
       " 4.376560211181641,\n",
       " 4.456855297088623,\n",
       " 4.37595796585083,\n",
       " 3.7809226512908936,\n",
       " 4.156454086303711,\n",
       " 4.0667033195495605,\n",
       " 4.245755672454834,\n",
       " 4.197693824768066]"
      ]
     },
     "execution_count": 90,
     "metadata": {},
     "output_type": "execute_result"
    }
   ],
   "source": [
    "hist.history['loss']"
   ]
  },
  {
   "cell_type": "code",
   "execution_count": 91,
   "metadata": {},
   "outputs": [
    {
     "data": {
      "image/png": "[encoded data removed]",
      "text/plain": [
       "<Figure size 576x432 with 1 Axes>"
      ]
     },
     "metadata": {
      "image/png": {
       "height": 370,
       "width": 500
      },
      "needs_background": "light"
     },
     "output_type": "display_data"
    }
   ],
   "source": [
    "plt.figure(figsize=(8,6))\n",
    "plt.plot(range(1,N_EPOCHS+1), hist.history['loss'], label='Train Loss')\n",
    "plt.plot(range(1,N_EPOCHS+1), hist.history['val_loss'], label='Validation loss')\n",
    "plt.xlabel('Epochs')\n",
    "plt.ylabel('Loss')\n",
    "plt.legend()\n",
    "plt.show()"
   ]
  },
  {
   "cell_type": "code",
   "execution_count": 92,
   "metadata": {},
   "outputs": [
    {
     "data": {
      "image/png": "[encoded data removed]",
      "text/plain": [
       "<Figure size 576x432 with 1 Axes>"
      ]
     },
     "metadata": {
      "image/png": {
       "height": 374,
       "width": 494
      },
      "needs_background": "light"
     },
     "output_type": "display_data"
    }
   ],
   "source": [
    "plt.figure(figsize=(8,6))\n",
    "plt.plot(range(1,N_EPOCHS+1), hist.history['loss'], label='Train Loss')\n",
    "plt.plot(range(1,N_EPOCHS+1), hist.history['val_loss'], label='Validation loss')\n",
    "plt.xlabel('Epochs')\n",
    "plt.ylabel('Loss')\n",
    "plt.ylim(0,50)\n",
    "plt.legend()\n",
    "plt.show()"
   ]
  },
  {
   "cell_type": "markdown",
   "metadata": {},
   "source": [
    "#### 최종 테스트"
   ]
  },
  {
   "cell_type": "code",
   "execution_count": 94,
   "metadata": {},
   "outputs": [
    {
     "name": "stdout",
     "output_type": "stream",
     "text": [
      "4/4 [==============================] - 0s 2ms/step - loss: 18.2120\n",
      "18.21198081970215 4.267549744256316\n"
     ]
    }
   ],
   "source": [
    "loss = model.evaluate(test_dataset)\n",
    "print(loss, np.sqrt(loss))"
   ]
  },
  {
   "cell_type": "markdown",
   "metadata": {},
   "source": [
    "#### 추론"
   ]
  },
  {
   "cell_type": "code",
   "execution_count": 95,
   "metadata": {},
   "outputs": [],
   "source": [
    "new_data = X_test[:5]\n",
    "pred = model.predict(new_data)"
   ]
  },
  {
   "cell_type": "code",
   "execution_count": 97,
   "metadata": {},
   "outputs": [
    {
     "data": {
      "text/plain": [
       "array([ 1.55369355, -0.48361547,  1.0283258 , -0.25683275,  1.03838067,\n",
       "        0.23545815,  1.11048828, -0.93976936,  1.67588577,  1.5652875 ,\n",
       "        0.78447637, -3.48459553,  2.25092074])"
      ]
     },
     "execution_count": 97,
     "metadata": {},
     "output_type": "execute_result"
    }
   ],
   "source": [
    "X_test[0]"
   ]
  },
  {
   "cell_type": "code",
   "execution_count": 96,
   "metadata": {},
   "outputs": [
    {
     "data": {
      "text/plain": [
       "array([[ 9.207173],\n",
       "       [18.673994],\n",
       "       [22.247347],\n",
       "       [36.083614],\n",
       "       [25.442015]], dtype=float32)"
      ]
     },
     "execution_count": 96,
     "metadata": {},
     "output_type": "execute_result"
    }
   ],
   "source": [
    "pred"
   ]
  },
  {
   "cell_type": "code",
   "execution_count": 98,
   "metadata": {},
   "outputs": [
    {
     "data": {
      "text/plain": [
       "array([ 7.2, 18.8, 19. , 27. , 22.2])"
      ]
     },
     "execution_count": 98,
     "metadata": {},
     "output_type": "execute_result"
    }
   ],
   "source": [
    "test_y[:5]"
   ]
  },
  {
   "cell_type": "code",
   "execution_count": null,
   "metadata": {},
   "outputs": [],
   "source": []
  },
  {
   "cell_type": "code",
   "execution_count": null,
   "metadata": {},
   "outputs": [],
   "source": []
  },
  {
   "cell_type": "markdown",
   "metadata": {},
   "source": [
    "## 2. Classification\n",
    "\n",
    "### Fashion MNIST(MNIST) Dataset - 다중분류"
   ]
  },
  {
   "cell_type": "markdown",
   "metadata": {},
   "source": [
    "10개의 범주(category)와 70,000개의 흑백 이미지로 구성된 [패션 MNIST](https://github.com/zalandoresearch/fashion-mnist) 데이터셋. \n",
    "이미지는 해상도(28x28 픽셀)가 낮고 다음처럼 개별 의류 품목을 나타낸다:\n",
    "\n",
    "<table>\n",
    "  <tr><td>\n",
    "    <img src=\"https://tensorflow.org/images/fashion-mnist-sprite.png\"\n",
    "         alt=\"Fashion MNIST sprite\"  width=\"600\">\n",
    "  </td></tr>\n",
    "  <tr><td align=\"center\">\n",
    "    <b>그림</b> <a href=\"https://github.com/zalandoresearch/fashion-mnist\">패션-MNIST 샘플</a> (Zalando, MIT License).<br/>&nbsp;\n",
    "  </td></tr>\n",
    "</table>\n",
    "\n",
    "패션 MNIST와 손글씨 MNIST는  비교적 작기 때문에 알고리즘의 작동 여부를 확인하기 위해 사용되곤 하며 코드를 테스트하고 디버깅하는 용도로 좋다."
   ]
  },
  {
   "cell_type": "markdown",
   "metadata": {},
   "source": [
    "이미지는 28x28 크기의 넘파이 배열이고 픽셀 값은 0과 255 사이이다. *레이블*(label)은 0에서 9까지의 정수 배열이다. 아래 표는 이미지에 있는 의류의 **클래스**(class)를 나낸다.\n",
    "\n",
    "<table>\n",
    "  <tr>\n",
    "    <th>레이블</th>\n",
    "    <th>클래스</th>\n",
    "  </tr>\n",
    "  <tr>\n",
    "    <td>0</td>\n",
    "    <td>T-shirt/top</td>\n",
    "  </tr>\n",
    "  <tr>\n",
    "    <td>1</td>\n",
    "    <td>Trousers</td>\n",
    "  </tr>\n",
    "    <tr>\n",
    "    <td>2</td>\n",
    "    <td>Pullover</td>\n",
    "  </tr>\n",
    "    <tr>\n",
    "    <td>3</td>\n",
    "    <td>Dress</td>\n",
    "  </tr>\n",
    "    <tr>\n",
    "    <td>4</td>\n",
    "    <td>Coat</td>\n",
    "  </tr>\n",
    "    <tr>\n",
    "    <td>5</td>\n",
    "    <td>Sandal</td>\n",
    "  </tr>\n",
    "    <tr>\n",
    "    <td>6</td>\n",
    "    <td>Shirt</td>\n",
    "  </tr>\n",
    "    <tr>\n",
    "    <td>7</td>\n",
    "    <td>Sneaker</td>\n",
    "  </tr>\n",
    "    <tr>\n",
    "    <td>8</td>\n",
    "    <td>Bag</td>\n",
    "  </tr>\n",
    "    <tr>\n",
    "    <td>9</td>\n",
    "    <td>Ankle boot</td>\n",
    "  </tr>\n",
    "</table>\n",
    "\n",
    "각 이미지는 하나의 레이블에 매핑되어 있다. 데이터셋에 클래스 이름이 들어있지 않기 때문에 나중에 이미지를 출력할 때 사용하기 위해 별도의 변수를 만들어 저장한다."
   ]
  },
  {
   "cell_type": "code",
   "execution_count": 130,
   "metadata": {},
   "outputs": [],
   "source": [
    "import numpy as np\n",
    "import tensorflow as tf\n",
    "from tensorflow import keras\n",
    "from tensorflow.keras import layers\n",
    "import matplotlib.pyplot as plt\n",
    "\n",
    "np.random.seed(0)\n",
    "tf.random.set_seed(0)"
   ]
  },
  {
   "cell_type": "code",
   "execution_count": 131,
   "metadata": {
    "ExecuteTime": {
     "end_time": "2021-04-14T09:13:37.059205Z",
     "start_time": "2021-04-14T09:13:37.050854Z"
    }
   },
   "outputs": [],
   "source": [
    "class_names = ['T-shirt/top', 'Trousers', 'Pullover', 'Dress', 'Coat', 'Sandal', 'Shirt', 'Sneaker', 'Bag', 'Ankle boot']"
   ]
  },
  {
   "cell_type": "markdown",
   "metadata": {},
   "source": [
    "#### 데이터 로딩"
   ]
  },
  {
   "cell_type": "code",
   "execution_count": 132,
   "metadata": {},
   "outputs": [],
   "source": [
    "(train_image, train_label), (test_image, test_label) = keras.datasets.fashion_mnist.load_data()"
   ]
  },
  {
   "cell_type": "code",
   "execution_count": 133,
   "metadata": {},
   "outputs": [
    {
     "name": "stdout",
     "output_type": "stream",
     "text": [
      "(60000, 28, 28) (10000, 28, 28)\n",
      "(10000,) (10000,)\n"
     ]
    }
   ],
   "source": [
    "#데이터들의 shape\n",
    "print(train_image.shape, test_image.shape)\n",
    "print(test_label.shape, test_label.shape)"
   ]
  },
  {
   "cell_type": "code",
   "execution_count": 134,
   "metadata": {},
   "outputs": [
    {
     "name": "stdout",
     "output_type": "stream",
     "text": [
      "(array([0, 1, 2, 3, 4, 5, 6, 7, 8, 9], dtype=uint8), array([6000, 6000, 6000, 6000, 6000, 6000, 6000, 6000, 6000, 6000],\n",
      "      dtype=int64))\n",
      "(array([0, 1, 2, 3, 4, 5, 6, 7, 8, 9], dtype=uint8), array([1000, 1000, 1000, 1000, 1000, 1000, 1000, 1000, 1000, 1000],\n",
      "      dtype=int64))\n"
     ]
    }
   ],
   "source": [
    "#class별 데이터 개수\n",
    "#train\n",
    "print(np.unique(train_label, return_counts=True))\n",
    "\n",
    "# test\n",
    "print(np.unique(test_label, return_counts=True))"
   ]
  },
  {
   "cell_type": "code",
   "execution_count": 135,
   "metadata": {},
   "outputs": [],
   "source": [
    "# validation set\n",
    "from sklearn.model_selection import train_test_split\n",
    "train_image, val_image, train_label, val_label = train_test_split(train_image, train_label, test_size = 0.2, stratify=train_label, random_state=0)\n"
   ]
  },
  {
   "cell_type": "code",
   "execution_count": 136,
   "metadata": {},
   "outputs": [
    {
     "name": "stdout",
     "output_type": "stream",
     "text": [
      "(48000, 28, 28) (12000, 28, 28)\n"
     ]
    },
    {
     "data": {
      "text/plain": [
       "(array([0, 1, 2, 3, 4, 5, 6, 7, 8, 9], dtype=uint8),\n",
       " array([4800, 4800, 4800, 4800, 4800, 4800, 4800, 4800, 4800, 4800],\n",
       "       dtype=int64))"
      ]
     },
     "execution_count": 136,
     "metadata": {},
     "output_type": "execute_result"
    }
   ],
   "source": [
    "print(train_image.shape, val_image.shape)\n",
    "np.unique(train_label, return_counts=True)"
   ]
  },
  {
   "cell_type": "code",
   "execution_count": 137,
   "metadata": {},
   "outputs": [],
   "source": [
    "# train_image, val_image, test_image : X\n",
    "# train_label, val_label, test_label : y"
   ]
  },
  {
   "cell_type": "markdown",
   "metadata": {},
   "source": [
    "#### 이미지 확인"
   ]
  },
  {
   "cell_type": "code",
   "execution_count": 138,
   "metadata": {},
   "outputs": [
    {
     "data": {
      "image/png": "[encoded data removed]",
      "text/plain": [
       "<Figure size 1440x504 with 5 Axes>"
      ]
     },
     "metadata": {
      "image/png": {
       "height": 304,
       "width": 1432
      },
      "needs_background": "light"
     },
     "output_type": "display_data"
    }
   ],
   "source": [
    "plt.figure(figsize=(20,7))\n",
    "for i in range(5):\n",
    "    plt.subplot(1, 5, i+1)\n",
    "    plt.imshow(train_image[i], cmap='gray')\n",
    "    plt.title(f'{train_label[i]}. {class_names[train_label[i]]}')\n",
    "    plt.axis('off')\n",
    "    \n",
    "plt.tight_layout()\n",
    "plt.show()"
   ]
  },
  {
   "cell_type": "markdown",
   "metadata": {},
   "source": [
    "#### y값 처리\n",
    " - 다중 분류에서는 label encoding 형식의 label을 onehot encoding 처리"
   ]
  },
  {
   "cell_type": "code",
   "execution_count": 139,
   "metadata": {},
   "outputs": [
    {
     "name": "stdout",
     "output_type": "stream",
     "text": [
      "(48000, 10) (12000, 10) (10000, 10)\n"
     ]
    }
   ],
   "source": [
    "y_train = keras.utils.to_categorical(train_label)\n",
    "y_val = keras.utils.to_categorical(val_label)\n",
    "y_test = keras.utils.to_categorical(test_label)\n",
    "\n",
    "print(y_train.shape, y_val.shape, y_test.shape)"
   ]
  },
  {
   "cell_type": "code",
   "execution_count": 140,
   "metadata": {},
   "outputs": [
    {
     "data": {
      "text/plain": [
       "array([[0., 0., 0., 0., 0., 0., 1., 0., 0., 0.],\n",
       "       [0., 0., 0., 0., 0., 1., 0., 0., 0., 0.],\n",
       "       [1., 0., 0., 0., 0., 0., 0., 0., 0., 0.]], dtype=float32)"
      ]
     },
     "execution_count": 140,
     "metadata": {},
     "output_type": "execute_result"
    }
   ],
   "source": [
    "y_train[:3]"
   ]
  },
  {
   "cell_type": "markdown",
   "metadata": {},
   "source": [
    " - x값(이미지) 처리\n",
    "     - 이미지 데이터 전처리 : 0~1 정규화, X/255.0 >> Dataset 생성에서 처리"
   ]
  },
  {
   "cell_type": "code",
   "execution_count": 141,
   "metadata": {},
   "outputs": [],
   "source": [
    "# X의 타입을 unit8 >> float32\n",
    "X_train = train_image.astype(np.float32)\n",
    "X_val = val_image.astype(np.float32)\n",
    "X_test = test_image.astype(np.float32)\n",
    "\n",
    "#X_train = (train_image/255.0).astype(np.float32)\n",
    "#X_val = (val_image/255.0).astype(np.float32)\n",
    "#X_test = (test_image/255.0).astype(np.float32)\n"
   ]
  },
  {
   "cell_type": "markdown",
   "metadata": {},
   "source": [
    "#### 하이퍼 파라미터, 변수 설정"
   ]
  },
  {
   "cell_type": "code",
   "execution_count": 143,
   "metadata": {},
   "outputs": [],
   "source": [
    "LEARNING_RATE = 0.001\n",
    "N_EPOCHS = 100\n",
    "N_BATCHS = 100\n",
    "\n",
    "N_TRAIN = train_image.shape[0]\n",
    "N_VAL = val_image.shape[0]\n",
    "N_TEST = test_image.shape[0]"
   ]
  },
  {
   "cell_type": "code",
   "execution_count": null,
   "metadata": {},
   "outputs": [],
   "source": []
  },
  {
   "cell_type": "markdown",
   "metadata": {},
   "source": [
    "#### Dataset 생성\n",
    " - 데이터 입력 파이프라인"
   ]
  },
  {
   "cell_type": "code",
   "execution_count": 147,
   "metadata": {},
   "outputs": [
    {
     "data": {
      "text/plain": [
       "(48000, 28, 28)"
      ]
     },
     "execution_count": 147,
     "metadata": {},
     "output_type": "execute_result"
    }
   ],
   "source": [
    "train_dataset = tf.data.Dataset.from_tensor_slices((X_train, y_train))\\\n",
    "                               .map(lambda x, y : (x/255, y)).shuffle(N_TRAIN)\\\n",
    "                               .batch(N_BATCHS, drop_remainder = True)\n",
    "                            \n",
    "val_dataset = tf.data.Dataset.from_tensor_slices((X_val, y_val)).map(lambda x, y : (x/255, y)).batch(N_BATCHS)\n",
    "val_dataset = tf.data.Dataset.from_tensor_slices((X_test, y_test)).map(lambda x, y : (x/255, y)).batch(N_BATCHS)\n",
    "\n",
    "X_train.shape"
   ]
  },
  {
   "cell_type": "code",
   "execution_count": 150,
   "metadata": {},
   "outputs": [],
   "source": [
    "# 모델 생성 함수\n",
    "def create_mnist_model():\n",
    "    model = keras.Sequential()\n",
    "    model.add(layers.Flatten(input_shape=(28,28)))\n",
    "    model.add(layers.Dense(units=256, activation='relu'))\n",
    "    model.add(layers.Dense(units=128, activation='relu'))\n",
    "    model.add(layers.Dense(units=64, activation='relu'))\n",
    "    \n",
    "    #출력 데이터 : 다중분류 - unit개수 : class개수, activation함수 : softmax\n",
    "    model.add(layers.Dense(units=10, activation='softmax'))\n",
    "    \n",
    "    return model"
   ]
  },
  {
   "cell_type": "code",
   "execution_count": 151,
   "metadata": {},
   "outputs": [],
   "source": [
    "#모델 생성 및 컴파일\n",
    "model = create_mnist_model()\n",
    "model.compile(optimizer=keras.optimizers.Adam(learning_rate = LEARNING_RATE),\n",
    "              loss = 'categorical_crossentropy', #다중분류 Loss : categorical_crossentropy\n",
    "              metrics = ['accuracy']) #분류 : metrics(평가지표)로 accuracy를 추가"
   ]
  },
  {
   "cell_type": "code",
   "execution_count": 152,
   "metadata": {},
   "outputs": [
    {
     "name": "stdout",
     "output_type": "stream",
     "text": [
      "Model: \"sequential_3\"\n",
      "_________________________________________________________________\n",
      "Layer (type)                 Output Shape              Param #   \n",
      "=================================================================\n",
      "flatten_1 (Flatten)          (None, 784)               0         \n",
      "_________________________________________________________________\n",
      "dense_11 (Dense)             (None, 256)               200960    \n",
      "_________________________________________________________________\n",
      "dense_12 (Dense)             (None, 128)               32896     \n",
      "_________________________________________________________________\n",
      "dense_13 (Dense)             (None, 64)                8256      \n",
      "_________________________________________________________________\n",
      "dense_14 (Dense)             (None, 10)                650       \n",
      "=================================================================\n",
      "Total params: 242,762\n",
      "Trainable params: 242,762\n",
      "Non-trainable params: 0\n",
      "_________________________________________________________________\n"
     ]
    }
   ],
   "source": [
    "model.summary()"
   ]
  },
  {
   "cell_type": "code",
   "execution_count": 155,
   "metadata": {},
   "outputs": [
    {
     "data": {
      "image/png": "[encoded data removed]",
      "text/plain": [
       "<IPython.core.display.Image object>"
      ]
     },
     "execution_count": 155,
     "metadata": {},
     "output_type": "execute_result"
    }
   ],
   "source": [
    "keras.utils.plot_model(model, show_shapes=True, to_file='fashion_mnist_model.png')"
   ]
  },
  {
   "cell_type": "markdown",
   "metadata": {},
   "source": [
    "#### train"
   ]
  },
  {
   "cell_type": "code",
   "execution_count": 157,
   "metadata": {},
   "outputs": [
    {
     "name": "stdout",
     "output_type": "stream",
     "text": [
      "Epoch 1/100\n",
      "480/480 [==============================] - 5s 7ms/step - loss: 0.5350 - accuracy: 0.8135 - val_loss: 0.4417 - val_accuracy: 0.8412\n",
      "Epoch 2/100\n",
      "480/480 [==============================] - 4s 6ms/step - loss: 0.3826 - accuracy: 0.8628 - val_loss: 0.4027 - val_accuracy: 0.8558\n",
      "Epoch 3/100\n",
      "480/480 [==============================] - 4s 6ms/step - loss: 0.3394 - accuracy: 0.8752 - val_loss: 0.3788 - val_accuracy: 0.8630\n",
      "Epoch 4/100\n",
      "480/480 [==============================] - 4s 6ms/step - loss: 0.3156 - accuracy: 0.8836 - val_loss: 0.3580 - val_accuracy: 0.8733\n",
      "Epoch 5/100\n",
      "480/480 [==============================] - 4s 5ms/step - loss: 0.2986 - accuracy: 0.8888 - val_loss: 0.3516 - val_accuracy: 0.8768\n",
      "Epoch 6/100\n",
      "480/480 [==============================] - 3s 5ms/step - loss: 0.2827 - accuracy: 0.8953 - val_loss: 0.3627 - val_accuracy: 0.8721\n",
      "Epoch 7/100\n",
      "480/480 [==============================] - 3s 5ms/step - loss: 0.2674 - accuracy: 0.8985 - val_loss: 0.3697 - val_accuracy: 0.8708\n",
      "Epoch 8/100\n",
      "480/480 [==============================] - 3s 5ms/step - loss: 0.2554 - accuracy: 0.9040 - val_loss: 0.3446 - val_accuracy: 0.8775\n",
      "Epoch 9/100\n",
      "480/480 [==============================] - 4s 5ms/step - loss: 0.2463 - accuracy: 0.9066 - val_loss: 0.3319 - val_accuracy: 0.8831\n",
      "Epoch 10/100\n",
      "480/480 [==============================] - 4s 5ms/step - loss: 0.2413 - accuracy: 0.9088 - val_loss: 0.3453 - val_accuracy: 0.8803\n",
      "Epoch 11/100\n",
      "480/480 [==============================] - 4s 5ms/step - loss: 0.2272 - accuracy: 0.9150 - val_loss: 0.3348 - val_accuracy: 0.8858\n",
      "Epoch 12/100\n",
      "480/480 [==============================] - 4s 5ms/step - loss: 0.2178 - accuracy: 0.9167 - val_loss: 0.3648 - val_accuracy: 0.8824\n",
      "Epoch 13/100\n",
      "480/480 [==============================] - 3s 5ms/step - loss: 0.2115 - accuracy: 0.9204 - val_loss: 0.3556 - val_accuracy: 0.8824\n",
      "Epoch 14/100\n",
      "480/480 [==============================] - 4s 5ms/step - loss: 0.2038 - accuracy: 0.9223 - val_loss: 0.3601 - val_accuracy: 0.8813\n",
      "Epoch 15/100\n",
      "480/480 [==============================] - 4s 6ms/step - loss: 0.1984 - accuracy: 0.9235 - val_loss: 0.3545 - val_accuracy: 0.8864\n",
      "Epoch 16/100\n",
      "480/480 [==============================] - 4s 6ms/step - loss: 0.1907 - accuracy: 0.9281 - val_loss: 0.3519 - val_accuracy: 0.8909\n",
      "Epoch 17/100\n",
      "480/480 [==============================] - 4s 6ms/step - loss: 0.1833 - accuracy: 0.9301 - val_loss: 0.3627 - val_accuracy: 0.8838\n",
      "Epoch 18/100\n",
      "480/480 [==============================] - 4s 6ms/step - loss: 0.1778 - accuracy: 0.9328 - val_loss: 0.3760 - val_accuracy: 0.8801\n",
      "Epoch 19/100\n",
      "480/480 [==============================] - 4s 6ms/step - loss: 0.1758 - accuracy: 0.9333 - val_loss: 0.4011 - val_accuracy: 0.8819\n",
      "Epoch 20/100\n",
      "480/480 [==============================] - 4s 6ms/step - loss: 0.1694 - accuracy: 0.9353 - val_loss: 0.3646 - val_accuracy: 0.8872\n",
      "Epoch 21/100\n",
      "480/480 [==============================] - 4s 6ms/step - loss: 0.1613 - accuracy: 0.9380 - val_loss: 0.4021 - val_accuracy: 0.8799\n",
      "Epoch 22/100\n",
      "480/480 [==============================] - 4s 6ms/step - loss: 0.1541 - accuracy: 0.9412 - val_loss: 0.3972 - val_accuracy: 0.8870\n",
      "Epoch 23/100\n",
      "480/480 [==============================] - 4s 6ms/step - loss: 0.1563 - accuracy: 0.9407 - val_loss: 0.3926 - val_accuracy: 0.8877\n",
      "Epoch 24/100\n",
      "480/480 [==============================] - 4s 6ms/step - loss: 0.1509 - accuracy: 0.9424 - val_loss: 0.3963 - val_accuracy: 0.8898\n",
      "Epoch 25/100\n",
      "480/480 [==============================] - 4s 6ms/step - loss: 0.1418 - accuracy: 0.9453 - val_loss: 0.4332 - val_accuracy: 0.8791\n",
      "Epoch 26/100\n",
      "480/480 [==============================] - 4s 6ms/step - loss: 0.1408 - accuracy: 0.9456 - val_loss: 0.3867 - val_accuracy: 0.8902\n",
      "Epoch 27/100\n",
      "480/480 [==============================] - 4s 6ms/step - loss: 0.1371 - accuracy: 0.9480 - val_loss: 0.4048 - val_accuracy: 0.8918\n",
      "Epoch 28/100\n",
      "480/480 [==============================] - 4s 6ms/step - loss: 0.1335 - accuracy: 0.9494 - val_loss: 0.4429 - val_accuracy: 0.8859\n",
      "Epoch 29/100\n",
      "480/480 [==============================] - 4s 6ms/step - loss: 0.1280 - accuracy: 0.9506 - val_loss: 0.4385 - val_accuracy: 0.8877\n",
      "Epoch 30/100\n",
      "480/480 [==============================] - 4s 6ms/step - loss: 0.1244 - accuracy: 0.9526 - val_loss: 0.4313 - val_accuracy: 0.8906\n",
      "Epoch 31/100\n",
      "480/480 [==============================] - 4s 6ms/step - loss: 0.1187 - accuracy: 0.9543 - val_loss: 0.4231 - val_accuracy: 0.8891\n",
      "Epoch 32/100\n",
      "480/480 [==============================] - 4s 7ms/step - loss: 0.1162 - accuracy: 0.9560 - val_loss: 0.4589 - val_accuracy: 0.8904\n",
      "Epoch 33/100\n",
      "480/480 [==============================] - 4s 6ms/step - loss: 0.1208 - accuracy: 0.9536 - val_loss: 0.4410 - val_accuracy: 0.8891\n",
      "Epoch 34/100\n",
      "480/480 [==============================] - 4s 6ms/step - loss: 0.1081 - accuracy: 0.9580 - val_loss: 0.4419 - val_accuracy: 0.8958\n",
      "Epoch 35/100\n",
      "480/480 [==============================] - 4s 6ms/step - loss: 0.1067 - accuracy: 0.9595 - val_loss: 0.4673 - val_accuracy: 0.8927\n",
      "Epoch 36/100\n",
      "480/480 [==============================] - 4s 7ms/step - loss: 0.1047 - accuracy: 0.9599 - val_loss: 0.4957 - val_accuracy: 0.8877\n",
      "Epoch 37/100\n",
      "480/480 [==============================] - 4s 6ms/step - loss: 0.1090 - accuracy: 0.9596 - val_loss: 0.5162 - val_accuracy: 0.8841\n",
      "Epoch 38/100\n",
      "480/480 [==============================] - 4s 6ms/step - loss: 0.0968 - accuracy: 0.9622 - val_loss: 0.5271 - val_accuracy: 0.8918\n",
      "Epoch 39/100\n",
      "480/480 [==============================] - 4s 5ms/step - loss: 0.0947 - accuracy: 0.9638 - val_loss: 0.4593 - val_accuracy: 0.8908\n",
      "Epoch 40/100\n",
      "480/480 [==============================] - 4s 6ms/step - loss: 0.0962 - accuracy: 0.9635 - val_loss: 0.4897 - val_accuracy: 0.8967\n",
      "Epoch 41/100\n",
      "480/480 [==============================] - 4s 6ms/step - loss: 0.0903 - accuracy: 0.9650 - val_loss: 0.5077 - val_accuracy: 0.8877\n",
      "Epoch 42/100\n",
      "480/480 [==============================] - 4s 5ms/step - loss: 0.0943 - accuracy: 0.9633 - val_loss: 0.5301 - val_accuracy: 0.8879\n",
      "Epoch 43/100\n",
      "480/480 [==============================] - 4s 5ms/step - loss: 0.0873 - accuracy: 0.9665 - val_loss: 0.5190 - val_accuracy: 0.8930\n",
      "Epoch 44/100\n",
      "480/480 [==============================] - 4s 5ms/step - loss: 0.0845 - accuracy: 0.9674 - val_loss: 0.5304 - val_accuracy: 0.8930\n",
      "Epoch 45/100\n",
      "480/480 [==============================] - 4s 5ms/step - loss: 0.0796 - accuracy: 0.9698 - val_loss: 0.5891 - val_accuracy: 0.8925\n",
      "Epoch 46/100\n",
      "480/480 [==============================] - 4s 5ms/step - loss: 0.0814 - accuracy: 0.9685 - val_loss: 0.5304 - val_accuracy: 0.8884\n",
      "Epoch 47/100\n",
      "480/480 [==============================] - 4s 5ms/step - loss: 0.0776 - accuracy: 0.9698 - val_loss: 0.5232 - val_accuracy: 0.8886\n",
      "Epoch 48/100\n",
      "480/480 [==============================] - 4s 5ms/step - loss: 0.0783 - accuracy: 0.9705 - val_loss: 0.5869 - val_accuracy: 0.8917\n",
      "Epoch 49/100\n",
      "480/480 [==============================] - 4s 5ms/step - loss: 0.0778 - accuracy: 0.9695 - val_loss: 0.5811 - val_accuracy: 0.8881\n",
      "Epoch 50/100\n",
      "480/480 [==============================] - 4s 5ms/step - loss: 0.0727 - accuracy: 0.9715 - val_loss: 0.5859 - val_accuracy: 0.8953\n",
      "Epoch 51/100\n",
      "480/480 [==============================] - 4s 6ms/step - loss: 0.0676 - accuracy: 0.9746 - val_loss: 0.6387 - val_accuracy: 0.8881\n",
      "Epoch 52/100\n",
      "480/480 [==============================] - 4s 6ms/step - loss: 0.0709 - accuracy: 0.9734 - val_loss: 0.6265 - val_accuracy: 0.8911\n",
      "Epoch 53/100\n",
      "480/480 [==============================] - 4s 5ms/step - loss: 0.0722 - accuracy: 0.9728 - val_loss: 0.6399 - val_accuracy: 0.8921\n",
      "Epoch 54/100\n",
      "480/480 [==============================] - 4s 5ms/step - loss: 0.0701 - accuracy: 0.9732 - val_loss: 0.5717 - val_accuracy: 0.8885\n",
      "Epoch 55/100\n",
      "480/480 [==============================] - 4s 5ms/step - loss: 0.0617 - accuracy: 0.9761 - val_loss: 0.6508 - val_accuracy: 0.8882\n",
      "Epoch 56/100\n",
      "480/480 [==============================] - 4s 6ms/step - loss: 0.0650 - accuracy: 0.9755 - val_loss: 0.6463 - val_accuracy: 0.8949\n",
      "Epoch 57/100\n",
      "480/480 [==============================] - 4s 5ms/step - loss: 0.0632 - accuracy: 0.9759 - val_loss: 0.6002 - val_accuracy: 0.8899\n"
     ]
    },
    {
     "name": "stdout",
     "output_type": "stream",
     "text": [
      "Epoch 58/100\n",
      "480/480 [==============================] - 4s 5ms/step - loss: 0.0604 - accuracy: 0.9771 - val_loss: 0.6788 - val_accuracy: 0.8908\n",
      "Epoch 59/100\n",
      "480/480 [==============================] - 4s 6ms/step - loss: 0.0636 - accuracy: 0.9757 - val_loss: 0.6175 - val_accuracy: 0.8908\n",
      "Epoch 60/100\n",
      "480/480 [==============================] - 4s 6ms/step - loss: 0.0605 - accuracy: 0.9769 - val_loss: 0.6273 - val_accuracy: 0.8894\n",
      "Epoch 61/100\n",
      "480/480 [==============================] - 4s 5ms/step - loss: 0.0624 - accuracy: 0.9762 - val_loss: 0.6987 - val_accuracy: 0.8887\n",
      "Epoch 62/100\n",
      "480/480 [==============================] - 4s 6ms/step - loss: 0.0577 - accuracy: 0.9785 - val_loss: 0.6334 - val_accuracy: 0.8915\n",
      "Epoch 63/100\n",
      "480/480 [==============================] - 4s 6ms/step - loss: 0.0619 - accuracy: 0.9767 - val_loss: 0.6111 - val_accuracy: 0.8875\n",
      "Epoch 64/100\n",
      "480/480 [==============================] - 4s 5ms/step - loss: 0.0518 - accuracy: 0.9799 - val_loss: 0.6848 - val_accuracy: 0.8927\n",
      "Epoch 65/100\n",
      "480/480 [==============================] - 4s 5ms/step - loss: 0.0612 - accuracy: 0.9771 - val_loss: 0.6516 - val_accuracy: 0.8907\n",
      "Epoch 66/100\n",
      "480/480 [==============================] - 3s 5ms/step - loss: 0.0549 - accuracy: 0.9787 - val_loss: 0.7031 - val_accuracy: 0.8876\n",
      "Epoch 67/100\n",
      "480/480 [==============================] - 4s 5ms/step - loss: 0.0551 - accuracy: 0.9786 - val_loss: 0.6867 - val_accuracy: 0.8928\n",
      "Epoch 68/100\n",
      "480/480 [==============================] - 4s 5ms/step - loss: 0.0429 - accuracy: 0.9839 - val_loss: 0.7117 - val_accuracy: 0.8922\n",
      "Epoch 69/100\n",
      "480/480 [==============================] - 4s 6ms/step - loss: 0.0510 - accuracy: 0.9806 - val_loss: 0.7500 - val_accuracy: 0.8860\n",
      "Epoch 70/100\n",
      "480/480 [==============================] - 4s 5ms/step - loss: 0.0512 - accuracy: 0.9805 - val_loss: 0.7507 - val_accuracy: 0.8849\n",
      "Epoch 71/100\n",
      "480/480 [==============================] - 4s 5ms/step - loss: 0.0593 - accuracy: 0.9783 - val_loss: 0.6808 - val_accuracy: 0.8839\n",
      "Epoch 72/100\n",
      "480/480 [==============================] - 4s 5ms/step - loss: 0.0504 - accuracy: 0.9816 - val_loss: 0.6863 - val_accuracy: 0.8878\n",
      "Epoch 73/100\n",
      "480/480 [==============================] - 4s 5ms/step - loss: 0.0438 - accuracy: 0.9837 - val_loss: 0.7127 - val_accuracy: 0.8885\n",
      "Epoch 74/100\n",
      "480/480 [==============================] - 4s 6ms/step - loss: 0.0511 - accuracy: 0.9808 - val_loss: 0.7360 - val_accuracy: 0.8893\n",
      "Epoch 75/100\n",
      "480/480 [==============================] - 5s 7ms/step - loss: 0.0530 - accuracy: 0.9812 - val_loss: 0.7085 - val_accuracy: 0.8927\n",
      "Epoch 76/100\n",
      "480/480 [==============================] - 4s 6ms/step - loss: 0.0370 - accuracy: 0.9859 - val_loss: 0.7729 - val_accuracy: 0.8973\n",
      "Epoch 77/100\n",
      "480/480 [==============================] - 4s 6ms/step - loss: 0.0516 - accuracy: 0.9809 - val_loss: 0.7394 - val_accuracy: 0.8854\n",
      "Epoch 78/100\n",
      "480/480 [==============================] - 4s 6ms/step - loss: 0.0453 - accuracy: 0.9833 - val_loss: 0.7477 - val_accuracy: 0.8891\n",
      "Epoch 79/100\n",
      "480/480 [==============================] - 5s 7ms/step - loss: 0.0475 - accuracy: 0.9822 - val_loss: 0.7779 - val_accuracy: 0.8932\n",
      "Epoch 80/100\n",
      "480/480 [==============================] - 4s 6ms/step - loss: 0.0457 - accuracy: 0.9833 - val_loss: 0.7658 - val_accuracy: 0.8867\n",
      "Epoch 81/100\n",
      "480/480 [==============================] - 4s 6ms/step - loss: 0.0423 - accuracy: 0.9836 - val_loss: 0.7907 - val_accuracy: 0.8911\n",
      "Epoch 82/100\n",
      "480/480 [==============================] - 5s 8ms/step - loss: 0.0409 - accuracy: 0.9843 - val_loss: 0.8208 - val_accuracy: 0.8855\n",
      "Epoch 83/100\n",
      "480/480 [==============================] - 5s 7ms/step - loss: 0.0459 - accuracy: 0.9834 - val_loss: 0.7591 - val_accuracy: 0.8877\n",
      "Epoch 84/100\n",
      "480/480 [==============================] - 4s 6ms/step - loss: 0.0435 - accuracy: 0.9843 - val_loss: 0.8372 - val_accuracy: 0.8890\n",
      "Epoch 85/100\n",
      "480/480 [==============================] - 4s 6ms/step - loss: 0.0397 - accuracy: 0.9861 - val_loss: 0.8201 - val_accuracy: 0.8879\n",
      "Epoch 86/100\n",
      "480/480 [==============================] - 4s 6ms/step - loss: 0.0389 - accuracy: 0.9855 - val_loss: 0.8733 - val_accuracy: 0.8863\n",
      "Epoch 87/100\n",
      "480/480 [==============================] - 4s 6ms/step - loss: 0.0482 - accuracy: 0.9825 - val_loss: 0.7878 - val_accuracy: 0.8863\n",
      "Epoch 88/100\n",
      "480/480 [==============================] - 4s 6ms/step - loss: 0.0374 - accuracy: 0.9861 - val_loss: 0.8015 - val_accuracy: 0.8894\n",
      "Epoch 89/100\n",
      "480/480 [==============================] - 4s 6ms/step - loss: 0.0409 - accuracy: 0.9848 - val_loss: 0.8829 - val_accuracy: 0.8891\n",
      "Epoch 90/100\n",
      "480/480 [==============================] - 5s 7ms/step - loss: 0.0387 - accuracy: 0.9856 - val_loss: 0.7672 - val_accuracy: 0.8917\n",
      "Epoch 91/100\n",
      "480/480 [==============================] - 4s 6ms/step - loss: 0.0402 - accuracy: 0.9861 - val_loss: 0.7950 - val_accuracy: 0.8900\n",
      "Epoch 92/100\n",
      "480/480 [==============================] - 5s 8ms/step - loss: 0.0364 - accuracy: 0.9864 - val_loss: 0.8097 - val_accuracy: 0.8888\n",
      "Epoch 93/100\n",
      "480/480 [==============================] - 5s 8ms/step - loss: 0.0388 - accuracy: 0.9865 - val_loss: 0.8297 - val_accuracy: 0.8764\n",
      "Epoch 94/100\n",
      "480/480 [==============================] - 4s 6ms/step - loss: 0.0483 - accuracy: 0.9829 - val_loss: 0.8049 - val_accuracy: 0.8879\n",
      "Epoch 95/100\n",
      "480/480 [==============================] - 5s 8ms/step - loss: 0.0322 - accuracy: 0.9879 - val_loss: 0.7932 - val_accuracy: 0.8880\n",
      "Epoch 96/100\n",
      "480/480 [==============================] - 4s 6ms/step - loss: 0.0386 - accuracy: 0.9864 - val_loss: 0.8249 - val_accuracy: 0.8879\n",
      "Epoch 97/100\n",
      "480/480 [==============================] - 5s 8ms/step - loss: 0.0320 - accuracy: 0.9881 - val_loss: 0.7941 - val_accuracy: 0.8916\n",
      "Epoch 98/100\n",
      "480/480 [==============================] - 5s 8ms/step - loss: 0.0361 - accuracy: 0.9870 - val_loss: 0.8652 - val_accuracy: 0.8883\n",
      "Epoch 99/100\n",
      "480/480 [==============================] - 5s 9ms/step - loss: 0.0325 - accuracy: 0.9882 - val_loss: 0.8527 - val_accuracy: 0.8912\n",
      "Epoch 100/100\n",
      "480/480 [==============================] - 6s 9ms/step - loss: 0.0343 - accuracy: 0.9872 - val_loss: 0.8885 - val_accuracy: 0.8893\n"
     ]
    }
   ],
   "source": [
    "hist = model.fit(train_dataset, epochs=N_EPOCHS, validation_data = val_dataset)"
   ]
  },
  {
   "cell_type": "code",
   "execution_count": 158,
   "metadata": {},
   "outputs": [
    {
     "data": {
      "image/png": "[encoded data removed]",
      "text/plain": [
       "<Figure size 504x432 with 1 Axes>"
      ]
     },
     "metadata": {
      "image/png": {
       "height": 392,
       "width": 441
      },
      "needs_background": "light"
     },
     "output_type": "display_data"
    }
   ],
   "source": [
    "## loss가 낮은 것이 좋다!\n",
    "\n",
    "plt.figure(figsize=(7,6))\n",
    "plt.plot(range(1, N_EPOCHS+1), hist.history['loss'], label='train_loss')\n",
    "plt.plot(range(1, N_EPOCHS+1), hist.history['val_loss'], label='validation_loss')\n",
    "plt.title('LOSS', fontsize=20)\n",
    "plt.xlabel('Ephocs')\n",
    "plt.ylabel('Loss')\n",
    "plt.legend()\n",
    "plt.show()\n",
    "\n",
    "## val_loss가 가장 작아지는 epochs가 가장 좋다 대략 10 근처 어딘가"
   ]
  },
  {
   "cell_type": "code",
   "execution_count": 179,
   "metadata": {},
   "outputs": [
    {
     "data": {
      "image/png": "[encoded data removed]",
      "text/plain": [
       "<Figure size 504x432 with 1 Axes>"
      ]
     },
     "metadata": {
      "image/png": {
       "height": 392,
       "width": 454
      },
      "needs_background": "light"
     },
     "output_type": "display_data"
    }
   ],
   "source": [
    "plt.figure(figsize=(7,6))\n",
    "plt.plot(range(1, N_EPOCHS+1), hist.history['accuracy'], label='train_accuracy')\n",
    "plt.plot(range(1, N_EPOCHS+1), hist.history['val_accuracy'], label='validation_accuracy')\n",
    "plt.title('accuracy', fontsize=20)\n",
    "plt.xlabel('Ephocs')\n",
    "plt.ylabel('accuracy')\n",
    "plt.legend()\n",
    "plt.show()\n"
   ]
  },
  {
   "cell_type": "markdown",
   "metadata": {},
   "source": [
    "#### 최종 평가"
   ]
  },
  {
   "cell_type": "code",
   "execution_count": 180,
   "metadata": {},
   "outputs": [
    {
     "name": "stdout",
     "output_type": "stream",
     "text": [
      "WARNING:tensorflow:Model was constructed with shape (None, 28, 28) for input KerasTensor(type_spec=TensorSpec(shape=(None, 28, 28), dtype=tf.float32, name='flatten_1_input'), name='flatten_1_input', description=\"created by layer 'flatten_1_input'\"), but it was called on an input with incompatible shape (None, 13).\n"
     ]
    },
    {
     "ename": "ValueError",
     "evalue": "in user code:\n\n    C:\\Users\\xodlr_000\\anaconda3\\envs\\tf2\\lib\\site-packages\\tensorflow\\python\\keras\\engine\\training.py:1323 test_function  *\n        return step_function(self, iterator)\n    C:\\Users\\xodlr_000\\anaconda3\\envs\\tf2\\lib\\site-packages\\tensorflow\\python\\keras\\engine\\training.py:1314 step_function  **\n        outputs = model.distribute_strategy.run(run_step, args=(data,))\n    C:\\Users\\xodlr_000\\anaconda3\\envs\\tf2\\lib\\site-packages\\tensorflow\\python\\distribute\\distribute_lib.py:1285 run\n        return self._extended.call_for_each_replica(fn, args=args, kwargs=kwargs)\n    C:\\Users\\xodlr_000\\anaconda3\\envs\\tf2\\lib\\site-packages\\tensorflow\\python\\distribute\\distribute_lib.py:2833 call_for_each_replica\n        return self._call_for_each_replica(fn, args, kwargs)\n    C:\\Users\\xodlr_000\\anaconda3\\envs\\tf2\\lib\\site-packages\\tensorflow\\python\\distribute\\distribute_lib.py:3608 _call_for_each_replica\n        return fn(*args, **kwargs)\n    C:\\Users\\xodlr_000\\anaconda3\\envs\\tf2\\lib\\site-packages\\tensorflow\\python\\keras\\engine\\training.py:1307 run_step  **\n        outputs = model.test_step(data)\n    C:\\Users\\xodlr_000\\anaconda3\\envs\\tf2\\lib\\site-packages\\tensorflow\\python\\keras\\engine\\training.py:1266 test_step\n        y_pred = self(x, training=False)\n    C:\\Users\\xodlr_000\\anaconda3\\envs\\tf2\\lib\\site-packages\\tensorflow\\python\\keras\\engine\\base_layer.py:1030 __call__\n        outputs = call_fn(inputs, *args, **kwargs)\n    C:\\Users\\xodlr_000\\anaconda3\\envs\\tf2\\lib\\site-packages\\tensorflow\\python\\keras\\engine\\sequential.py:380 call\n        return super(Sequential, self).call(inputs, training=training, mask=mask)\n    C:\\Users\\xodlr_000\\anaconda3\\envs\\tf2\\lib\\site-packages\\tensorflow\\python\\keras\\engine\\functional.py:420 call\n        return self._run_internal_graph(\n    C:\\Users\\xodlr_000\\anaconda3\\envs\\tf2\\lib\\site-packages\\tensorflow\\python\\keras\\engine\\functional.py:556 _run_internal_graph\n        outputs = node.layer(*args, **kwargs)\n    C:\\Users\\xodlr_000\\anaconda3\\envs\\tf2\\lib\\site-packages\\tensorflow\\python\\keras\\engine\\base_layer.py:1013 __call__\n        input_spec.assert_input_compatibility(self.input_spec, inputs, self.name)\n    C:\\Users\\xodlr_000\\anaconda3\\envs\\tf2\\lib\\site-packages\\tensorflow\\python\\keras\\engine\\input_spec.py:251 assert_input_compatibility\n        raise ValueError(\n\n    ValueError: Input 0 of layer dense_11 is incompatible with the layer: expected axis -1 of input shape to have value 784 but received input with shape (None, 13)\n",
     "output_type": "error",
     "traceback": [
      "\u001b[1;31m---------------------------------------------------------------------------\u001b[0m",
      "\u001b[1;31mValueError\u001b[0m                                Traceback (most recent call last)",
      "\u001b[1;32mC:\\Users\\XODLR_~1\\AppData\\Local\\Temp/ipykernel_23496/3273155142.py\u001b[0m in \u001b[0;36m<module>\u001b[1;34m\u001b[0m\n\u001b[1;32m----> 1\u001b[1;33m \u001b[0mloss\u001b[0m\u001b[1;33m,\u001b[0m \u001b[0maccuracy\u001b[0m \u001b[1;33m=\u001b[0m \u001b[0mmodel\u001b[0m\u001b[1;33m.\u001b[0m\u001b[0mevaluate\u001b[0m\u001b[1;33m(\u001b[0m\u001b[0mtest_dataset\u001b[0m\u001b[1;33m)\u001b[0m\u001b[1;33m\u001b[0m\u001b[1;33m\u001b[0m\u001b[0m\n\u001b[0m",
      "\u001b[1;32m~\\anaconda3\\envs\\tf2\\lib\\site-packages\\tensorflow\\python\\keras\\engine\\training.py\u001b[0m in \u001b[0;36mevaluate\u001b[1;34m(self, x, y, batch_size, verbose, sample_weight, steps, callbacks, max_queue_size, workers, use_multiprocessing, return_dict, **kwargs)\u001b[0m\n\u001b[0;32m   1487\u001b[0m             \u001b[1;32mwith\u001b[0m \u001b[0mtrace\u001b[0m\u001b[1;33m.\u001b[0m\u001b[0mTrace\u001b[0m\u001b[1;33m(\u001b[0m\u001b[1;34m'test'\u001b[0m\u001b[1;33m,\u001b[0m \u001b[0mstep_num\u001b[0m\u001b[1;33m=\u001b[0m\u001b[0mstep\u001b[0m\u001b[1;33m,\u001b[0m \u001b[0m_r\u001b[0m\u001b[1;33m=\u001b[0m\u001b[1;36m1\u001b[0m\u001b[1;33m)\u001b[0m\u001b[1;33m:\u001b[0m\u001b[1;33m\u001b[0m\u001b[1;33m\u001b[0m\u001b[0m\n\u001b[0;32m   1488\u001b[0m               \u001b[0mcallbacks\u001b[0m\u001b[1;33m.\u001b[0m\u001b[0mon_test_batch_begin\u001b[0m\u001b[1;33m(\u001b[0m\u001b[0mstep\u001b[0m\u001b[1;33m)\u001b[0m\u001b[1;33m\u001b[0m\u001b[1;33m\u001b[0m\u001b[0m\n\u001b[1;32m-> 1489\u001b[1;33m               \u001b[0mtmp_logs\u001b[0m \u001b[1;33m=\u001b[0m \u001b[0mself\u001b[0m\u001b[1;33m.\u001b[0m\u001b[0mtest_function\u001b[0m\u001b[1;33m(\u001b[0m\u001b[0miterator\u001b[0m\u001b[1;33m)\u001b[0m\u001b[1;33m\u001b[0m\u001b[1;33m\u001b[0m\u001b[0m\n\u001b[0m\u001b[0;32m   1490\u001b[0m               \u001b[1;32mif\u001b[0m \u001b[0mdata_handler\u001b[0m\u001b[1;33m.\u001b[0m\u001b[0mshould_sync\u001b[0m\u001b[1;33m:\u001b[0m\u001b[1;33m\u001b[0m\u001b[1;33m\u001b[0m\u001b[0m\n\u001b[0;32m   1491\u001b[0m                 \u001b[0mcontext\u001b[0m\u001b[1;33m.\u001b[0m\u001b[0masync_wait\u001b[0m\u001b[1;33m(\u001b[0m\u001b[1;33m)\u001b[0m\u001b[1;33m\u001b[0m\u001b[1;33m\u001b[0m\u001b[0m\n",
      "\u001b[1;32m~\\anaconda3\\envs\\tf2\\lib\\site-packages\\tensorflow\\python\\eager\\def_function.py\u001b[0m in \u001b[0;36m__call__\u001b[1;34m(self, *args, **kwds)\u001b[0m\n\u001b[0;32m    887\u001b[0m \u001b[1;33m\u001b[0m\u001b[0m\n\u001b[0;32m    888\u001b[0m       \u001b[1;32mwith\u001b[0m \u001b[0mOptionalXlaContext\u001b[0m\u001b[1;33m(\u001b[0m\u001b[0mself\u001b[0m\u001b[1;33m.\u001b[0m\u001b[0m_jit_compile\u001b[0m\u001b[1;33m)\u001b[0m\u001b[1;33m:\u001b[0m\u001b[1;33m\u001b[0m\u001b[1;33m\u001b[0m\u001b[0m\n\u001b[1;32m--> 889\u001b[1;33m         \u001b[0mresult\u001b[0m \u001b[1;33m=\u001b[0m \u001b[0mself\u001b[0m\u001b[1;33m.\u001b[0m\u001b[0m_call\u001b[0m\u001b[1;33m(\u001b[0m\u001b[1;33m*\u001b[0m\u001b[0margs\u001b[0m\u001b[1;33m,\u001b[0m \u001b[1;33m**\u001b[0m\u001b[0mkwds\u001b[0m\u001b[1;33m)\u001b[0m\u001b[1;33m\u001b[0m\u001b[1;33m\u001b[0m\u001b[0m\n\u001b[0m\u001b[0;32m    890\u001b[0m \u001b[1;33m\u001b[0m\u001b[0m\n\u001b[0;32m    891\u001b[0m       \u001b[0mnew_tracing_count\u001b[0m \u001b[1;33m=\u001b[0m \u001b[0mself\u001b[0m\u001b[1;33m.\u001b[0m\u001b[0mexperimental_get_tracing_count\u001b[0m\u001b[1;33m(\u001b[0m\u001b[1;33m)\u001b[0m\u001b[1;33m\u001b[0m\u001b[1;33m\u001b[0m\u001b[0m\n",
      "\u001b[1;32m~\\anaconda3\\envs\\tf2\\lib\\site-packages\\tensorflow\\python\\eager\\def_function.py\u001b[0m in \u001b[0;36m_call\u001b[1;34m(self, *args, **kwds)\u001b[0m\n\u001b[0;32m    922\u001b[0m       \u001b[1;31m# In this case we have not created variables on the first call. So we can\u001b[0m\u001b[1;33m\u001b[0m\u001b[1;33m\u001b[0m\u001b[1;33m\u001b[0m\u001b[0m\n\u001b[0;32m    923\u001b[0m       \u001b[1;31m# run the first trace but we should fail if variables are created.\u001b[0m\u001b[1;33m\u001b[0m\u001b[1;33m\u001b[0m\u001b[1;33m\u001b[0m\u001b[0m\n\u001b[1;32m--> 924\u001b[1;33m       \u001b[0mresults\u001b[0m \u001b[1;33m=\u001b[0m \u001b[0mself\u001b[0m\u001b[1;33m.\u001b[0m\u001b[0m_stateful_fn\u001b[0m\u001b[1;33m(\u001b[0m\u001b[1;33m*\u001b[0m\u001b[0margs\u001b[0m\u001b[1;33m,\u001b[0m \u001b[1;33m**\u001b[0m\u001b[0mkwds\u001b[0m\u001b[1;33m)\u001b[0m\u001b[1;33m\u001b[0m\u001b[1;33m\u001b[0m\u001b[0m\n\u001b[0m\u001b[0;32m    925\u001b[0m       \u001b[1;32mif\u001b[0m \u001b[0mself\u001b[0m\u001b[1;33m.\u001b[0m\u001b[0m_created_variables\u001b[0m\u001b[1;33m:\u001b[0m\u001b[1;33m\u001b[0m\u001b[1;33m\u001b[0m\u001b[0m\n\u001b[0;32m    926\u001b[0m         raise ValueError(\"Creating variables on a non-first call to a function\"\n",
      "\u001b[1;32m~\\anaconda3\\envs\\tf2\\lib\\site-packages\\tensorflow\\python\\eager\\function.py\u001b[0m in \u001b[0;36m__call__\u001b[1;34m(self, *args, **kwargs)\u001b[0m\n\u001b[0;32m   3020\u001b[0m     \u001b[1;32mwith\u001b[0m \u001b[0mself\u001b[0m\u001b[1;33m.\u001b[0m\u001b[0m_lock\u001b[0m\u001b[1;33m:\u001b[0m\u001b[1;33m\u001b[0m\u001b[1;33m\u001b[0m\u001b[0m\n\u001b[0;32m   3021\u001b[0m       (graph_function,\n\u001b[1;32m-> 3022\u001b[1;33m        filtered_flat_args) = self._maybe_define_function(args, kwargs)\n\u001b[0m\u001b[0;32m   3023\u001b[0m     return graph_function._call_flat(\n\u001b[0;32m   3024\u001b[0m         filtered_flat_args, captured_inputs=graph_function.captured_inputs)  # pylint: disable=protected-access\n",
      "\u001b[1;32m~\\anaconda3\\envs\\tf2\\lib\\site-packages\\tensorflow\\python\\eager\\function.py\u001b[0m in \u001b[0;36m_maybe_define_function\u001b[1;34m(self, args, kwargs)\u001b[0m\n\u001b[0;32m   3438\u001b[0m               \u001b[0mself\u001b[0m\u001b[1;33m.\u001b[0m\u001b[0minput_signature\u001b[0m \u001b[1;32mis\u001b[0m \u001b[1;32mNone\u001b[0m \u001b[1;32mand\u001b[0m\u001b[1;33m\u001b[0m\u001b[1;33m\u001b[0m\u001b[0m\n\u001b[0;32m   3439\u001b[0m               call_context_key in self._function_cache.missed):\n\u001b[1;32m-> 3440\u001b[1;33m             return self._define_function_with_shape_relaxation(\n\u001b[0m\u001b[0;32m   3441\u001b[0m                 args, kwargs, flat_args, filtered_flat_args, cache_key_context)\n\u001b[0;32m   3442\u001b[0m \u001b[1;33m\u001b[0m\u001b[0m\n",
      "\u001b[1;32m~\\anaconda3\\envs\\tf2\\lib\\site-packages\\tensorflow\\python\\eager\\function.py\u001b[0m in \u001b[0;36m_define_function_with_shape_relaxation\u001b[1;34m(self, args, kwargs, flat_args, filtered_flat_args, cache_key_context)\u001b[0m\n\u001b[0;32m   3360\u001b[0m           expand_composites=True)\n\u001b[0;32m   3361\u001b[0m \u001b[1;33m\u001b[0m\u001b[0m\n\u001b[1;32m-> 3362\u001b[1;33m     graph_function = self._create_graph_function(\n\u001b[0m\u001b[0;32m   3363\u001b[0m         args, kwargs, override_flat_arg_shapes=relaxed_arg_shapes)\n\u001b[0;32m   3364\u001b[0m     \u001b[0mself\u001b[0m\u001b[1;33m.\u001b[0m\u001b[0m_function_cache\u001b[0m\u001b[1;33m.\u001b[0m\u001b[0marg_relaxed\u001b[0m\u001b[1;33m[\u001b[0m\u001b[0mrank_only_cache_key\u001b[0m\u001b[1;33m]\u001b[0m \u001b[1;33m=\u001b[0m \u001b[0mgraph_function\u001b[0m\u001b[1;33m\u001b[0m\u001b[1;33m\u001b[0m\u001b[0m\n",
      "\u001b[1;32m~\\anaconda3\\envs\\tf2\\lib\\site-packages\\tensorflow\\python\\eager\\function.py\u001b[0m in \u001b[0;36m_create_graph_function\u001b[1;34m(self, args, kwargs, override_flat_arg_shapes)\u001b[0m\n\u001b[0;32m   3277\u001b[0m     \u001b[0marg_names\u001b[0m \u001b[1;33m=\u001b[0m \u001b[0mbase_arg_names\u001b[0m \u001b[1;33m+\u001b[0m \u001b[0mmissing_arg_names\u001b[0m\u001b[1;33m\u001b[0m\u001b[1;33m\u001b[0m\u001b[0m\n\u001b[0;32m   3278\u001b[0m     graph_function = ConcreteFunction(\n\u001b[1;32m-> 3279\u001b[1;33m         func_graph_module.func_graph_from_py_func(\n\u001b[0m\u001b[0;32m   3280\u001b[0m             \u001b[0mself\u001b[0m\u001b[1;33m.\u001b[0m\u001b[0m_name\u001b[0m\u001b[1;33m,\u001b[0m\u001b[1;33m\u001b[0m\u001b[1;33m\u001b[0m\u001b[0m\n\u001b[0;32m   3281\u001b[0m             \u001b[0mself\u001b[0m\u001b[1;33m.\u001b[0m\u001b[0m_python_function\u001b[0m\u001b[1;33m,\u001b[0m\u001b[1;33m\u001b[0m\u001b[1;33m\u001b[0m\u001b[0m\n",
      "\u001b[1;32m~\\anaconda3\\envs\\tf2\\lib\\site-packages\\tensorflow\\python\\framework\\func_graph.py\u001b[0m in \u001b[0;36mfunc_graph_from_py_func\u001b[1;34m(name, python_func, args, kwargs, signature, func_graph, autograph, autograph_options, add_control_dependencies, arg_names, op_return_value, collections, capture_by_value, override_flat_arg_shapes)\u001b[0m\n\u001b[0;32m    997\u001b[0m         \u001b[0m_\u001b[0m\u001b[1;33m,\u001b[0m \u001b[0moriginal_func\u001b[0m \u001b[1;33m=\u001b[0m \u001b[0mtf_decorator\u001b[0m\u001b[1;33m.\u001b[0m\u001b[0munwrap\u001b[0m\u001b[1;33m(\u001b[0m\u001b[0mpython_func\u001b[0m\u001b[1;33m)\u001b[0m\u001b[1;33m\u001b[0m\u001b[1;33m\u001b[0m\u001b[0m\n\u001b[0;32m    998\u001b[0m \u001b[1;33m\u001b[0m\u001b[0m\n\u001b[1;32m--> 999\u001b[1;33m       \u001b[0mfunc_outputs\u001b[0m \u001b[1;33m=\u001b[0m \u001b[0mpython_func\u001b[0m\u001b[1;33m(\u001b[0m\u001b[1;33m*\u001b[0m\u001b[0mfunc_args\u001b[0m\u001b[1;33m,\u001b[0m \u001b[1;33m**\u001b[0m\u001b[0mfunc_kwargs\u001b[0m\u001b[1;33m)\u001b[0m\u001b[1;33m\u001b[0m\u001b[1;33m\u001b[0m\u001b[0m\n\u001b[0m\u001b[0;32m   1000\u001b[0m \u001b[1;33m\u001b[0m\u001b[0m\n\u001b[0;32m   1001\u001b[0m       \u001b[1;31m# invariant: `func_outputs` contains only Tensors, CompositeTensors,\u001b[0m\u001b[1;33m\u001b[0m\u001b[1;33m\u001b[0m\u001b[1;33m\u001b[0m\u001b[0m\n",
      "\u001b[1;32m~\\anaconda3\\envs\\tf2\\lib\\site-packages\\tensorflow\\python\\eager\\def_function.py\u001b[0m in \u001b[0;36mwrapped_fn\u001b[1;34m(*args, **kwds)\u001b[0m\n\u001b[0;32m    670\u001b[0m         \u001b[1;31m# the function a weak reference to itself to avoid a reference cycle.\u001b[0m\u001b[1;33m\u001b[0m\u001b[1;33m\u001b[0m\u001b[1;33m\u001b[0m\u001b[0m\n\u001b[0;32m    671\u001b[0m         \u001b[1;32mwith\u001b[0m \u001b[0mOptionalXlaContext\u001b[0m\u001b[1;33m(\u001b[0m\u001b[0mcompile_with_xla\u001b[0m\u001b[1;33m)\u001b[0m\u001b[1;33m:\u001b[0m\u001b[1;33m\u001b[0m\u001b[1;33m\u001b[0m\u001b[0m\n\u001b[1;32m--> 672\u001b[1;33m           \u001b[0mout\u001b[0m \u001b[1;33m=\u001b[0m \u001b[0mweak_wrapped_fn\u001b[0m\u001b[1;33m(\u001b[0m\u001b[1;33m)\u001b[0m\u001b[1;33m.\u001b[0m\u001b[0m__wrapped__\u001b[0m\u001b[1;33m(\u001b[0m\u001b[1;33m*\u001b[0m\u001b[0margs\u001b[0m\u001b[1;33m,\u001b[0m \u001b[1;33m**\u001b[0m\u001b[0mkwds\u001b[0m\u001b[1;33m)\u001b[0m\u001b[1;33m\u001b[0m\u001b[1;33m\u001b[0m\u001b[0m\n\u001b[0m\u001b[0;32m    673\u001b[0m         \u001b[1;32mreturn\u001b[0m \u001b[0mout\u001b[0m\u001b[1;33m\u001b[0m\u001b[1;33m\u001b[0m\u001b[0m\n\u001b[0;32m    674\u001b[0m \u001b[1;33m\u001b[0m\u001b[0m\n",
      "\u001b[1;32m~\\anaconda3\\envs\\tf2\\lib\\site-packages\\tensorflow\\python\\framework\\func_graph.py\u001b[0m in \u001b[0;36mwrapper\u001b[1;34m(*args, **kwargs)\u001b[0m\n\u001b[0;32m    984\u001b[0m           \u001b[1;32mexcept\u001b[0m \u001b[0mException\u001b[0m \u001b[1;32mas\u001b[0m \u001b[0me\u001b[0m\u001b[1;33m:\u001b[0m  \u001b[1;31m# pylint:disable=broad-except\u001b[0m\u001b[1;33m\u001b[0m\u001b[1;33m\u001b[0m\u001b[0m\n\u001b[0;32m    985\u001b[0m             \u001b[1;32mif\u001b[0m \u001b[0mhasattr\u001b[0m\u001b[1;33m(\u001b[0m\u001b[0me\u001b[0m\u001b[1;33m,\u001b[0m \u001b[1;34m\"ag_error_metadata\"\u001b[0m\u001b[1;33m)\u001b[0m\u001b[1;33m:\u001b[0m\u001b[1;33m\u001b[0m\u001b[1;33m\u001b[0m\u001b[0m\n\u001b[1;32m--> 986\u001b[1;33m               \u001b[1;32mraise\u001b[0m \u001b[0me\u001b[0m\u001b[1;33m.\u001b[0m\u001b[0mag_error_metadata\u001b[0m\u001b[1;33m.\u001b[0m\u001b[0mto_exception\u001b[0m\u001b[1;33m(\u001b[0m\u001b[0me\u001b[0m\u001b[1;33m)\u001b[0m\u001b[1;33m\u001b[0m\u001b[1;33m\u001b[0m\u001b[0m\n\u001b[0m\u001b[0;32m    987\u001b[0m             \u001b[1;32melse\u001b[0m\u001b[1;33m:\u001b[0m\u001b[1;33m\u001b[0m\u001b[1;33m\u001b[0m\u001b[0m\n\u001b[0;32m    988\u001b[0m               \u001b[1;32mraise\u001b[0m\u001b[1;33m\u001b[0m\u001b[1;33m\u001b[0m\u001b[0m\n",
      "\u001b[1;31mValueError\u001b[0m: in user code:\n\n    C:\\Users\\xodlr_000\\anaconda3\\envs\\tf2\\lib\\site-packages\\tensorflow\\python\\keras\\engine\\training.py:1323 test_function  *\n        return step_function(self, iterator)\n    C:\\Users\\xodlr_000\\anaconda3\\envs\\tf2\\lib\\site-packages\\tensorflow\\python\\keras\\engine\\training.py:1314 step_function  **\n        outputs = model.distribute_strategy.run(run_step, args=(data,))\n    C:\\Users\\xodlr_000\\anaconda3\\envs\\tf2\\lib\\site-packages\\tensorflow\\python\\distribute\\distribute_lib.py:1285 run\n        return self._extended.call_for_each_replica(fn, args=args, kwargs=kwargs)\n    C:\\Users\\xodlr_000\\anaconda3\\envs\\tf2\\lib\\site-packages\\tensorflow\\python\\distribute\\distribute_lib.py:2833 call_for_each_replica\n        return self._call_for_each_replica(fn, args, kwargs)\n    C:\\Users\\xodlr_000\\anaconda3\\envs\\tf2\\lib\\site-packages\\tensorflow\\python\\distribute\\distribute_lib.py:3608 _call_for_each_replica\n        return fn(*args, **kwargs)\n    C:\\Users\\xodlr_000\\anaconda3\\envs\\tf2\\lib\\site-packages\\tensorflow\\python\\keras\\engine\\training.py:1307 run_step  **\n        outputs = model.test_step(data)\n    C:\\Users\\xodlr_000\\anaconda3\\envs\\tf2\\lib\\site-packages\\tensorflow\\python\\keras\\engine\\training.py:1266 test_step\n        y_pred = self(x, training=False)\n    C:\\Users\\xodlr_000\\anaconda3\\envs\\tf2\\lib\\site-packages\\tensorflow\\python\\keras\\engine\\base_layer.py:1030 __call__\n        outputs = call_fn(inputs, *args, **kwargs)\n    C:\\Users\\xodlr_000\\anaconda3\\envs\\tf2\\lib\\site-packages\\tensorflow\\python\\keras\\engine\\sequential.py:380 call\n        return super(Sequential, self).call(inputs, training=training, mask=mask)\n    C:\\Users\\xodlr_000\\anaconda3\\envs\\tf2\\lib\\site-packages\\tensorflow\\python\\keras\\engine\\functional.py:420 call\n        return self._run_internal_graph(\n    C:\\Users\\xodlr_000\\anaconda3\\envs\\tf2\\lib\\site-packages\\tensorflow\\python\\keras\\engine\\functional.py:556 _run_internal_graph\n        outputs = node.layer(*args, **kwargs)\n    C:\\Users\\xodlr_000\\anaconda3\\envs\\tf2\\lib\\site-packages\\tensorflow\\python\\keras\\engine\\base_layer.py:1013 __call__\n        input_spec.assert_input_compatibility(self.input_spec, inputs, self.name)\n    C:\\Users\\xodlr_000\\anaconda3\\envs\\tf2\\lib\\site-packages\\tensorflow\\python\\keras\\engine\\input_spec.py:251 assert_input_compatibility\n        raise ValueError(\n\n    ValueError: Input 0 of layer dense_11 is incompatible with the layer: expected axis -1 of input shape to have value 784 but received input with shape (None, 13)\n"
     ]
    }
   ],
   "source": [
    "loss, accuracy = model.evaluate(test_dataset)"
   ]
  },
  {
   "cell_type": "code",
   "execution_count": 181,
   "metadata": {},
   "outputs": [
    {
     "ename": "NameError",
     "evalue": "name 'accuracy' is not defined",
     "output_type": "error",
     "traceback": [
      "\u001b[1;31m---------------------------------------------------------------------------\u001b[0m",
      "\u001b[1;31mNameError\u001b[0m                                 Traceback (most recent call last)",
      "\u001b[1;32mC:\\Users\\XODLR_~1\\AppData\\Local\\Temp/ipykernel_23496/293176952.py\u001b[0m in \u001b[0;36m<module>\u001b[1;34m\u001b[0m\n\u001b[1;32m----> 1\u001b[1;33m \u001b[0mprint\u001b[0m\u001b[1;33m(\u001b[0m\u001b[0mloss\u001b[0m\u001b[1;33m,\u001b[0m \u001b[0maccuracy\u001b[0m\u001b[1;33m)\u001b[0m\u001b[1;33m\u001b[0m\u001b[1;33m\u001b[0m\u001b[0m\n\u001b[0m",
      "\u001b[1;31mNameError\u001b[0m: name 'accuracy' is not defined"
     ]
    }
   ],
   "source": [
    "print(loss, accuracy)"
   ]
  },
  {
   "cell_type": "code",
   "execution_count": 182,
   "metadata": {},
   "outputs": [],
   "source": [
    "#### 새로운 데이터 추론"
   ]
  },
  {
   "cell_type": "code",
   "execution_count": 183,
   "metadata": {},
   "outputs": [],
   "source": [
    "new_input = X_test[:5]\n",
    "new_input = new_input/255 #정규화"
   ]
  },
  {
   "cell_type": "code",
   "execution_count": 184,
   "metadata": {},
   "outputs": [],
   "source": [
    "pred = model.predict(new_input)"
   ]
  },
  {
   "cell_type": "code",
   "execution_count": 185,
   "metadata": {},
   "outputs": [
    {
     "data": {
      "text/plain": [
       "array([9, 2, 1, 1, 6], dtype=int64)"
      ]
     },
     "execution_count": 185,
     "metadata": {},
     "output_type": "execute_result"
    }
   ],
   "source": [
    "pred_class = np.argmax(pred, axis=-1)\n",
    "pred_class"
   ]
  },
  {
   "cell_type": "code",
   "execution_count": 186,
   "metadata": {},
   "outputs": [
    {
     "data": {
      "text/plain": [
       "array(['T-shirt/top', 'Trousers', 'Pullover', 'Dress', 'Coat', 'Sandal',\n",
       "       'Shirt', 'Sneaker', 'Bag', 'Ankle boot'], dtype='<U11')"
      ]
     },
     "execution_count": 186,
     "metadata": {},
     "output_type": "execute_result"
    }
   ],
   "source": [
    "class_names"
   ]
  },
  {
   "cell_type": "code",
   "execution_count": 187,
   "metadata": {},
   "outputs": [
    {
     "data": {
      "text/plain": [
       "array(['Ankle boot', 'Pullover', 'Trousers', 'Trousers', 'Shirt'],\n",
       "      dtype='<U11')"
      ]
     },
     "execution_count": 187,
     "metadata": {},
     "output_type": "execute_result"
    }
   ],
   "source": [
    "class_names = np.array(class_names)\n",
    "class_names[pred_class]"
   ]
  },
  {
   "cell_type": "code",
   "execution_count": null,
   "metadata": {},
   "outputs": [],
   "source": []
  },
  {
   "cell_type": "code",
   "execution_count": null,
   "metadata": {},
   "outputs": [],
   "source": []
  },
  {
   "cell_type": "code",
   "execution_count": null,
   "metadata": {},
   "outputs": [],
   "source": []
  },
  {
   "cell_type": "markdown",
   "metadata": {},
   "source": [
    "### 위스콘신 유방암 데이터셋 - 이진분류 문제\n",
    "- 위스콘신 대학교에서 제공한 종양의 악성/양성여부 분류를 위한 데이터셋\n",
    "- Feature\n",
    "    - 종양에 대한 다양한 측정값들\n",
    "- Target의 class\n",
    "    - 0 - malignant(악성종양)\n",
    "    - 1 - benign(양성종양)"
   ]
  },
  {
   "cell_type": "code",
   "execution_count": 205,
   "metadata": {},
   "outputs": [],
   "source": [
    "import numpy as np\n",
    "import tensorflow as tf\n",
    "from tensorflow import keras\n",
    "from tensorflow.keras import layers\n",
    "from sklearn.datasets import load_breast_cancer\n",
    "from sklearn.preprocessing import StandardScaler\n",
    "from sklearn.model_selection import train_test_split"
   ]
  },
  {
   "cell_type": "code",
   "execution_count": 206,
   "metadata": {},
   "outputs": [],
   "source": [
    "np.random.seed(0)\n",
    "tf.random.set_seed(0)"
   ]
  },
  {
   "cell_type": "code",
   "execution_count": 207,
   "metadata": {},
   "outputs": [
    {
     "data": {
      "text/plain": [
       "((569, 30), (569,))"
      ]
     },
     "execution_count": 207,
     "metadata": {},
     "output_type": "execute_result"
    }
   ],
   "source": [
    "X, y = load_breast_cancer(return_X_y = True)\n",
    "X.shape, y.shape\n"
   ]
  },
  {
   "cell_type": "code",
   "execution_count": 208,
   "metadata": {},
   "outputs": [
    {
     "data": {
      "text/plain": [
       "((364, 30), (91, 30), (114, 30))"
      ]
     },
     "execution_count": 208,
     "metadata": {},
     "output_type": "execute_result"
    }
   ],
   "source": [
    "# test set 분리\n",
    "X_train, X_test, y_train, y_test = train_test_split(X, y, test_size=0.2, stratify=y, random_state=0)\n",
    "# train / val 분리\n",
    "X_train, X_val, y_train, y_val = train_test_split(X_train, y_train, test_size=0.2, stratify=y_train, random_state=0)\n",
    "\n",
    "X_train.shape, X_val.shape, X_test.shape"
   ]
  },
  {
   "cell_type": "code",
   "execution_count": 209,
   "metadata": {},
   "outputs": [
    {
     "data": {
      "text/plain": [
       "array([[1.955e+01, 2.321e+01, 1.289e+02, 1.174e+03, 1.010e-01, 1.318e-01,\n",
       "        1.856e-01, 1.021e-01, 1.989e-01, 5.884e-02, 6.107e-01, 2.836e+00,\n",
       "        5.383e+00, 7.010e+01, 1.124e-02, 4.097e-02, 7.469e-02, 3.441e-02,\n",
       "        2.768e-02, 6.240e-03, 2.082e+01, 3.044e+01, 1.420e+02, 1.313e+03,\n",
       "        1.251e-01, 2.414e-01, 3.829e-01, 1.825e-01, 2.576e-01, 7.602e-02],\n",
       "       [1.378e+01, 1.579e+01, 8.837e+01, 5.859e+02, 8.817e-02, 6.718e-02,\n",
       "        1.055e-02, 9.937e-03, 1.405e-01, 5.848e-02, 3.563e-01, 4.833e-01,\n",
       "        2.235e+00, 2.934e+01, 6.432e-03, 1.156e-02, 7.741e-03, 5.657e-03,\n",
       "        1.227e-02, 2.564e-03, 1.527e+01, 1.750e+01, 9.790e+01, 7.066e+02,\n",
       "        1.072e-01, 1.071e-01, 3.517e-02, 3.312e-02, 1.859e-01, 6.810e-02],\n",
       "       [1.865e+01, 1.760e+01, 1.237e+02, 1.076e+03, 1.099e-01, 1.686e-01,\n",
       "        1.974e-01, 1.009e-01, 1.907e-01, 6.049e-02, 6.289e-01, 6.633e-01,\n",
       "        4.293e+00, 7.156e+01, 6.294e-03, 3.994e-02, 5.554e-02, 1.695e-02,\n",
       "        2.428e-02, 3.535e-03, 2.282e+01, 2.132e+01, 1.506e+02, 1.567e+03,\n",
       "        1.679e-01, 5.090e-01, 7.345e-01, 2.378e-01, 3.799e-01, 9.185e-02]])"
      ]
     },
     "execution_count": 209,
     "metadata": {},
     "output_type": "execute_result"
    }
   ],
   "source": [
    "X_train[:3]"
   ]
  },
  {
   "cell_type": "code",
   "execution_count": 210,
   "metadata": {},
   "outputs": [
    {
     "data": {
      "text/plain": [
       "array([0, 1, 0])"
      ]
     },
     "execution_count": 210,
     "metadata": {},
     "output_type": "execute_result"
    }
   ],
   "source": [
    "y_train[:3]"
   ]
  },
  {
   "cell_type": "markdown",
   "metadata": {},
   "source": [
    "#### 하이퍼 파라미터, 변수 정의"
   ]
  },
  {
   "cell_type": "code",
   "execution_count": 211,
   "metadata": {},
   "outputs": [],
   "source": [
    "LEARNING_RATE = 0.001\n",
    "N_EPOCHS = 150\n",
    "N_BATCHS = 50\n",
    "\n",
    "#각 데이터셋의 데이터 개수\n",
    "N_TRAIN = X_train.shape[0] \n",
    "N_VAL = X_val.shape[0]\n",
    "N_TEST = X_test.shape[0]"
   ]
  },
  {
   "cell_type": "markdown",
   "metadata": {},
   "source": [
    "#### 데이터 전처리\n",
    " - 이진분류 \n",
    "     - 출력 레이어의 unit을 1개, activation 함수를 sigmoid를 사용(1일 확률) >> y:그대로 사용\n",
    "     - 출력 레이어의 unit을 1개, activation 함수를 softmax를 사용(0일 확률, 1일 확률) >> 다중분류와 동일하게 구현 >> y : onehotencoding\n",
    "    \n",
    " - X : 테이블 데이터\n",
    "     - 문자열(범주형) : onehot encoding\n",
    "     - 연속형(수치형) : feature scaling"
   ]
  },
  {
   "cell_type": "code",
   "execution_count": 212,
   "metadata": {},
   "outputs": [],
   "source": [
    "#feature scaling\n",
    "scaler = StandardScaler()\n",
    "X_train_scaled = scaler.fit_transform(X_train)\n",
    "X_val_scaled = scaler.transform(X_val)\n",
    "X_test_scaled = scaler.transform(X_test)"
   ]
  },
  {
   "cell_type": "markdown",
   "metadata": {},
   "source": [
    "#### dataset 생성"
   ]
  },
  {
   "cell_type": "code",
   "execution_count": 219,
   "metadata": {},
   "outputs": [],
   "source": [
    "train_dataset = tf.data.Dataset.from_tensor_slices((X_train_scaled, y_train)).shuffle(N_TRAIN).batch(N_BATCHS, drop_remainder=True)\n",
    "val_dataset = tf.data.Dataset.from_tensor_slices((X_val_scaled, y_val)).batch(N_BATCHS)\n",
    "test_dataset = tf.data.Dataset.from_tensor_slices((X_test_scaled, y_test)).batch(N_BATCHS)"
   ]
  },
  {
   "cell_type": "markdown",
   "metadata": {},
   "source": [
    "#### model 생성 및 컴파일"
   ]
  },
  {
   "cell_type": "code",
   "execution_count": 220,
   "metadata": {},
   "outputs": [],
   "source": [
    "def create_cancer_model():\n",
    "    model = keras.Sequential()\n",
    "    #유방함 데이터는 1차원이어서 flatten 불필요\n",
    "    model.add(layers.Dense(units=32, activation='relu', input_shape=(30,)))\n",
    "    model.add(layers.Dense(units=16, activation='relu'))\n",
    "    model.add(layers.Dense(units=8, activation='relu'))\n",
    "    \n",
    "    #출력 : 1일 확률 - unit:1, activation:sigmoid \n",
    "    model.add(layers.Dense(units=1, activation='sigmoid', name='ouput_layer'))\n",
    "    \n",
    "    return model"
   ]
  },
  {
   "cell_type": "code",
   "execution_count": 221,
   "metadata": {},
   "outputs": [],
   "source": [
    "model = create_cancer_model()\n",
    "model.compile(optimizer=keras.optimizers.Adam(learning_rate=LEARNING_RATE),\n",
    "             loss='binary_crossentropy', #1일 확률 : binary_crossentropy (0일확률,1일확률) : categorical_crossentropy\n",
    "             metrics=['accuracy']\n",
    "             )"
   ]
  },
  {
   "cell_type": "code",
   "execution_count": 222,
   "metadata": {},
   "outputs": [
    {
     "name": "stdout",
     "output_type": "stream",
     "text": [
      "Model: \"sequential_7\"\n",
      "_________________________________________________________________\n",
      "Layer (type)                 Output Shape              Param #   \n",
      "=================================================================\n",
      "dense_25 (Dense)             (None, 32)                992       \n",
      "_________________________________________________________________\n",
      "dense_26 (Dense)             (None, 16)                528       \n",
      "_________________________________________________________________\n",
      "dense_27 (Dense)             (None, 8)                 136       \n",
      "_________________________________________________________________\n",
      "ouput_layer (Dense)          (None, 1)                 9         \n",
      "=================================================================\n",
      "Total params: 1,665\n",
      "Trainable params: 1,665\n",
      "Non-trainable params: 0\n",
      "_________________________________________________________________\n"
     ]
    }
   ],
   "source": [
    "model.summary()"
   ]
  },
  {
   "cell_type": "code",
   "execution_count": 223,
   "metadata": {},
   "outputs": [
    {
     "data": {
      "image/png": "[encoded data removed]",
      "text/plain": [
       "<IPython.core.display.Image object>"
      ]
     },
     "execution_count": 223,
     "metadata": {},
     "output_type": "execute_result"
    }
   ],
   "source": [
    "keras.utils.plot_model(model, show_shapes=True, to_file='breast_cancer_model.png')"
   ]
  },
  {
   "cell_type": "markdown",
   "metadata": {},
   "source": [
    "#### 학습(train)"
   ]
  },
  {
   "cell_type": "code",
   "execution_count": 224,
   "metadata": {},
   "outputs": [
    {
     "name": "stdout",
     "output_type": "stream",
     "text": [
      "Epoch 1/150\n",
      "7/7 [==============================] - 1s 38ms/step - loss: 0.6923 - accuracy: 0.5143 - val_loss: 0.6596 - val_accuracy: 0.6593\n",
      "Epoch 2/150\n",
      "7/7 [==============================] - 0s 7ms/step - loss: 0.6397 - accuracy: 0.7000 - val_loss: 0.6057 - val_accuracy: 0.7802\n",
      "Epoch 3/150\n",
      "7/7 [==============================] - 0s 7ms/step - loss: 0.5874 - accuracy: 0.8714 - val_loss: 0.5463 - val_accuracy: 0.8901\n",
      "Epoch 4/150\n",
      "7/7 [==============================] - 0s 5ms/step - loss: 0.5249 - accuracy: 0.9257 - val_loss: 0.4798 - val_accuracy: 0.9341\n",
      "Epoch 5/150\n",
      "7/7 [==============================] - ETA: 0s - loss: 0.4837 - accuracy: 0.90 - 0s 9ms/step - loss: 0.4513 - accuracy: 0.9486 - val_loss: 0.4088 - val_accuracy: 0.9560\n",
      "Epoch 6/150\n",
      "7/7 [==============================] - 0s 15ms/step - loss: 0.3751 - accuracy: 0.9600 - val_loss: 0.3379 - val_accuracy: 0.9560\n",
      "Epoch 7/150\n",
      "7/7 [==============================] - 0s 5ms/step - loss: 0.3134 - accuracy: 0.9629 - val_loss: 0.2764 - val_accuracy: 0.9670\n",
      "Epoch 8/150\n",
      "7/7 [==============================] - 0s 6ms/step - loss: 0.2564 - accuracy: 0.9686 - val_loss: 0.2254 - val_accuracy: 0.9670\n",
      "Epoch 9/150\n",
      "7/7 [==============================] - 0s 6ms/step - loss: 0.2139 - accuracy: 0.9686 - val_loss: 0.1865 - val_accuracy: 0.9670\n",
      "Epoch 10/150\n",
      "7/7 [==============================] - 0s 8ms/step - loss: 0.1762 - accuracy: 0.9686 - val_loss: 0.1567 - val_accuracy: 0.9670\n",
      "Epoch 11/150\n",
      "7/7 [==============================] - 0s 5ms/step - loss: 0.1576 - accuracy: 0.9714 - val_loss: 0.1338 - val_accuracy: 0.9670\n",
      "Epoch 12/150\n",
      "7/7 [==============================] - 0s 5ms/step - loss: 0.1362 - accuracy: 0.9714 - val_loss: 0.1153 - val_accuracy: 0.9670\n",
      "Epoch 13/150\n",
      "7/7 [==============================] - 0s 5ms/step - loss: 0.1227 - accuracy: 0.9714 - val_loss: 0.1017 - val_accuracy: 0.9670\n",
      "Epoch 14/150\n",
      "7/7 [==============================] - 0s 8ms/step - loss: 0.1108 - accuracy: 0.9714 - val_loss: 0.0914 - val_accuracy: 0.9780\n",
      "Epoch 15/150\n",
      "7/7 [==============================] - 0s 5ms/step - loss: 0.0953 - accuracy: 0.9771 - val_loss: 0.0837 - val_accuracy: 0.9780\n",
      "Epoch 16/150\n",
      "7/7 [==============================] - 0s 6ms/step - loss: 0.0874 - accuracy: 0.9771 - val_loss: 0.0769 - val_accuracy: 0.9780\n",
      "Epoch 17/150\n",
      "7/7 [==============================] - 0s 5ms/step - loss: 0.0848 - accuracy: 0.9771 - val_loss: 0.0713 - val_accuracy: 0.9780\n",
      "Epoch 18/150\n",
      "7/7 [==============================] - 0s 6ms/step - loss: 0.0747 - accuracy: 0.9829 - val_loss: 0.0657 - val_accuracy: 0.9890\n",
      "Epoch 19/150\n",
      "7/7 [==============================] - 0s 6ms/step - loss: 0.0647 - accuracy: 0.9829 - val_loss: 0.0606 - val_accuracy: 0.9890\n",
      "Epoch 20/150\n",
      "7/7 [==============================] - 0s 4ms/step - loss: 0.0597 - accuracy: 0.9829 - val_loss: 0.0557 - val_accuracy: 0.9890\n",
      "Epoch 21/150\n",
      "7/7 [==============================] - 0s 6ms/step - loss: 0.0653 - accuracy: 0.9829 - val_loss: 0.0515 - val_accuracy: 0.9890\n",
      "Epoch 22/150\n",
      "7/7 [==============================] - 0s 5ms/step - loss: 0.0579 - accuracy: 0.9886 - val_loss: 0.0488 - val_accuracy: 0.9890\n",
      "Epoch 23/150\n",
      "7/7 [==============================] - 0s 5ms/step - loss: 0.0570 - accuracy: 0.9857 - val_loss: 0.0456 - val_accuracy: 0.9890\n",
      "Epoch 24/150\n",
      "7/7 [==============================] - 0s 5ms/step - loss: 0.0569 - accuracy: 0.9857 - val_loss: 0.0430 - val_accuracy: 0.9890\n",
      "Epoch 25/150\n",
      "7/7 [==============================] - 0s 4ms/step - loss: 0.0531 - accuracy: 0.9857 - val_loss: 0.0410 - val_accuracy: 0.9890\n",
      "Epoch 26/150\n",
      "7/7 [==============================] - 0s 5ms/step - loss: 0.0458 - accuracy: 0.9886 - val_loss: 0.0399 - val_accuracy: 0.9890\n",
      "Epoch 27/150\n",
      "7/7 [==============================] - 0s 4ms/step - loss: 0.0450 - accuracy: 0.9886 - val_loss: 0.0383 - val_accuracy: 0.9890\n",
      "Epoch 28/150\n",
      "7/7 [==============================] - 0s 8ms/step - loss: 0.0477 - accuracy: 0.9857 - val_loss: 0.0370 - val_accuracy: 0.9890\n",
      "Epoch 29/150\n",
      "7/7 [==============================] - 0s 10ms/step - loss: 0.0343 - accuracy: 0.9914 - val_loss: 0.0362 - val_accuracy: 0.9890\n",
      "Epoch 30/150\n",
      "7/7 [==============================] - 0s 5ms/step - loss: 0.0325 - accuracy: 0.9943 - val_loss: 0.0353 - val_accuracy: 0.9890\n",
      "Epoch 31/150\n",
      "7/7 [==============================] - 0s 4ms/step - loss: 0.0318 - accuracy: 0.9943 - val_loss: 0.0330 - val_accuracy: 0.9890\n",
      "Epoch 32/150\n",
      "7/7 [==============================] - 0s 4ms/step - loss: 0.0421 - accuracy: 0.9914 - val_loss: 0.0324 - val_accuracy: 0.9890\n",
      "Epoch 33/150\n",
      "7/7 [==============================] - 0s 4ms/step - loss: 0.0399 - accuracy: 0.9914 - val_loss: 0.0312 - val_accuracy: 0.9890\n",
      "Epoch 34/150\n",
      "7/7 [==============================] - 0s 3ms/step - loss: 0.0395 - accuracy: 0.9914 - val_loss: 0.0315 - val_accuracy: 0.9890\n",
      "Epoch 35/150\n",
      "7/7 [==============================] - 0s 4ms/step - loss: 0.0380 - accuracy: 0.9914 - val_loss: 0.0318 - val_accuracy: 0.9890\n",
      "Epoch 36/150\n",
      "7/7 [==============================] - 0s 4ms/step - loss: 0.0378 - accuracy: 0.9914 - val_loss: 0.0320 - val_accuracy: 0.9890\n",
      "Epoch 37/150\n",
      "7/7 [==============================] - 0s 4ms/step - loss: 0.0367 - accuracy: 0.9914 - val_loss: 0.0321 - val_accuracy: 0.9890\n",
      "Epoch 38/150\n",
      "7/7 [==============================] - 0s 4ms/step - loss: 0.0347 - accuracy: 0.9914 - val_loss: 0.0315 - val_accuracy: 0.9890\n",
      "Epoch 39/150\n",
      "7/7 [==============================] - 0s 4ms/step - loss: 0.0234 - accuracy: 0.9971 - val_loss: 0.0308 - val_accuracy: 0.9890\n",
      "Epoch 40/150\n",
      "7/7 [==============================] - 0s 3ms/step - loss: 0.0339 - accuracy: 0.9914 - val_loss: 0.0301 - val_accuracy: 0.9890\n",
      "Epoch 41/150\n",
      "7/7 [==============================] - 0s 4ms/step - loss: 0.0336 - accuracy: 0.9914 - val_loss: 0.0302 - val_accuracy: 0.9890\n",
      "Epoch 42/150\n",
      "7/7 [==============================] - 0s 5ms/step - loss: 0.0326 - accuracy: 0.9914 - val_loss: 0.0308 - val_accuracy: 0.9890\n",
      "Epoch 43/150\n",
      "7/7 [==============================] - 0s 4ms/step - loss: 0.0320 - accuracy: 0.9914 - val_loss: 0.0313 - val_accuracy: 0.9890\n",
      "Epoch 44/150\n",
      "7/7 [==============================] - 0s 4ms/step - loss: 0.0314 - accuracy: 0.9943 - val_loss: 0.0316 - val_accuracy: 0.9890\n",
      "Epoch 45/150\n",
      "7/7 [==============================] - 0s 4ms/step - loss: 0.0307 - accuracy: 0.9943 - val_loss: 0.0315 - val_accuracy: 0.9890\n",
      "Epoch 46/150\n",
      "7/7 [==============================] - 0s 5ms/step - loss: 0.0298 - accuracy: 0.9943 - val_loss: 0.0312 - val_accuracy: 0.9890\n",
      "Epoch 47/150\n",
      "7/7 [==============================] - 0s 4ms/step - loss: 0.0294 - accuracy: 0.9943 - val_loss: 0.0317 - val_accuracy: 0.9890\n",
      "Epoch 48/150\n",
      "7/7 [==============================] - 0s 4ms/step - loss: 0.0285 - accuracy: 0.9943 - val_loss: 0.0316 - val_accuracy: 0.9780\n",
      "Epoch 49/150\n",
      "7/7 [==============================] - 0s 5ms/step - loss: 0.0279 - accuracy: 0.9943 - val_loss: 0.0315 - val_accuracy: 0.9890\n",
      "Epoch 50/150\n",
      "7/7 [==============================] - 0s 4ms/step - loss: 0.0274 - accuracy: 0.9943 - val_loss: 0.0314 - val_accuracy: 0.9890\n",
      "Epoch 51/150\n",
      "7/7 [==============================] - 0s 4ms/step - loss: 0.0265 - accuracy: 0.9943 - val_loss: 0.0319 - val_accuracy: 0.9780\n",
      "Epoch 52/150\n",
      "7/7 [==============================] - 0s 4ms/step - loss: 0.0262 - accuracy: 0.9943 - val_loss: 0.0314 - val_accuracy: 0.9780\n",
      "Epoch 53/150\n",
      "7/7 [==============================] - 0s 4ms/step - loss: 0.0258 - accuracy: 0.9943 - val_loss: 0.0317 - val_accuracy: 0.9780\n",
      "Epoch 54/150\n",
      "7/7 [==============================] - 0s 4ms/step - loss: 0.0249 - accuracy: 0.9943 - val_loss: 0.0322 - val_accuracy: 0.9780\n",
      "Epoch 55/150\n",
      "7/7 [==============================] - 0s 4ms/step - loss: 0.0243 - accuracy: 0.9943 - val_loss: 0.0326 - val_accuracy: 0.9780\n",
      "Epoch 56/150\n",
      "7/7 [==============================] - 0s 4ms/step - loss: 0.0231 - accuracy: 0.9943 - val_loss: 0.0324 - val_accuracy: 0.9780\n",
      "Epoch 57/150\n",
      "7/7 [==============================] - 0s 4ms/step - loss: 0.0224 - accuracy: 0.9943 - val_loss: 0.0331 - val_accuracy: 0.9780\n",
      "Epoch 58/150\n",
      "7/7 [==============================] - 0s 4ms/step - loss: 0.0220 - accuracy: 0.9943 - val_loss: 0.0337 - val_accuracy: 0.9780\n",
      "Epoch 59/150\n"
     ]
    },
    {
     "name": "stdout",
     "output_type": "stream",
     "text": [
      "7/7 [==============================] - 0s 5ms/step - loss: 0.0200 - accuracy: 0.9943 - val_loss: 0.0339 - val_accuracy: 0.9780\n",
      "Epoch 60/150\n",
      "7/7 [==============================] - 0s 4ms/step - loss: 0.0196 - accuracy: 0.9943 - val_loss: 0.0346 - val_accuracy: 0.9780\n",
      "Epoch 61/150\n",
      "7/7 [==============================] - 0s 4ms/step - loss: 0.0189 - accuracy: 0.9943 - val_loss: 0.0355 - val_accuracy: 0.9780\n",
      "Epoch 62/150\n",
      "7/7 [==============================] - 0s 4ms/step - loss: 0.0182 - accuracy: 0.9971 - val_loss: 0.0366 - val_accuracy: 0.9780\n",
      "Epoch 63/150\n",
      "7/7 [==============================] - 0s 3ms/step - loss: 0.0179 - accuracy: 0.9971 - val_loss: 0.0372 - val_accuracy: 0.9780\n",
      "Epoch 64/150\n",
      "7/7 [==============================] - 0s 3ms/step - loss: 0.0170 - accuracy: 0.9971 - val_loss: 0.0375 - val_accuracy: 0.9780\n",
      "Epoch 65/150\n",
      "7/7 [==============================] - 0s 5ms/step - loss: 0.0162 - accuracy: 0.9971 - val_loss: 0.0382 - val_accuracy: 0.9780\n",
      "Epoch 66/150\n",
      "7/7 [==============================] - 0s 3ms/step - loss: 0.0157 - accuracy: 0.9971 - val_loss: 0.0388 - val_accuracy: 0.9780\n",
      "Epoch 67/150\n",
      "7/7 [==============================] - 0s 3ms/step - loss: 0.0147 - accuracy: 0.9971 - val_loss: 0.0387 - val_accuracy: 0.9780\n",
      "Epoch 68/150\n",
      "7/7 [==============================] - 0s 3ms/step - loss: 0.0137 - accuracy: 0.9971 - val_loss: 0.0397 - val_accuracy: 0.9780\n",
      "Epoch 69/150\n",
      "7/7 [==============================] - 0s 3ms/step - loss: 0.0131 - accuracy: 0.9971 - val_loss: 0.0400 - val_accuracy: 0.9780\n",
      "Epoch 70/150\n",
      "7/7 [==============================] - 0s 4ms/step - loss: 0.0130 - accuracy: 0.9971 - val_loss: 0.0418 - val_accuracy: 0.9780\n",
      "Epoch 71/150\n",
      "7/7 [==============================] - 0s 4ms/step - loss: 0.0121 - accuracy: 0.9971 - val_loss: 0.0418 - val_accuracy: 0.9780\n",
      "Epoch 72/150\n",
      "7/7 [==============================] - 0s 4ms/step - loss: 0.0120 - accuracy: 0.9971 - val_loss: 0.0416 - val_accuracy: 0.9780\n",
      "Epoch 73/150\n",
      "7/7 [==============================] - 0s 4ms/step - loss: 0.0114 - accuracy: 0.9971 - val_loss: 0.0412 - val_accuracy: 0.9780\n",
      "Epoch 74/150\n",
      "7/7 [==============================] - 0s 4ms/step - loss: 0.0112 - accuracy: 0.9971 - val_loss: 0.0407 - val_accuracy: 0.9780\n",
      "Epoch 75/150\n",
      "7/7 [==============================] - 0s 9ms/step - loss: 0.0108 - accuracy: 0.9971 - val_loss: 0.0413 - val_accuracy: 0.9780\n",
      "Epoch 76/150\n",
      "7/7 [==============================] - 0s 4ms/step - loss: 0.0099 - accuracy: 0.9971 - val_loss: 0.0415 - val_accuracy: 0.9780\n",
      "Epoch 77/150\n",
      "7/7 [==============================] - 0s 3ms/step - loss: 0.0101 - accuracy: 0.9971 - val_loss: 0.0415 - val_accuracy: 0.9670\n",
      "Epoch 78/150\n",
      "7/7 [==============================] - 0s 4ms/step - loss: 0.0097 - accuracy: 0.9971 - val_loss: 0.0422 - val_accuracy: 0.9780\n",
      "Epoch 79/150\n",
      "7/7 [==============================] - 0s 3ms/step - loss: 0.0093 - accuracy: 0.9971 - val_loss: 0.0417 - val_accuracy: 0.9780\n",
      "Epoch 80/150\n",
      "7/7 [==============================] - 0s 4ms/step - loss: 0.0090 - accuracy: 0.9971 - val_loss: 0.0415 - val_accuracy: 0.9780\n",
      "Epoch 81/150\n",
      "7/7 [==============================] - 0s 4ms/step - loss: 0.0083 - accuracy: 0.9971 - val_loss: 0.0413 - val_accuracy: 0.9780\n",
      "Epoch 82/150\n",
      "7/7 [==============================] - 0s 3ms/step - loss: 0.0084 - accuracy: 0.9971 - val_loss: 0.0413 - val_accuracy: 0.9780\n",
      "Epoch 83/150\n",
      "7/7 [==============================] - 0s 3ms/step - loss: 0.0081 - accuracy: 0.9971 - val_loss: 0.0413 - val_accuracy: 0.9670\n",
      "Epoch 84/150\n",
      "7/7 [==============================] - 0s 4ms/step - loss: 0.0079 - accuracy: 0.9971 - val_loss: 0.0408 - val_accuracy: 0.9670\n",
      "Epoch 85/150\n",
      "7/7 [==============================] - 0s 3ms/step - loss: 0.0075 - accuracy: 0.9971 - val_loss: 0.0413 - val_accuracy: 0.9670\n",
      "Epoch 86/150\n",
      "7/7 [==============================] - 0s 3ms/step - loss: 0.0073 - accuracy: 0.9971 - val_loss: 0.0419 - val_accuracy: 0.9670\n",
      "Epoch 87/150\n",
      "7/7 [==============================] - 0s 3ms/step - loss: 0.0069 - accuracy: 0.9971 - val_loss: 0.0422 - val_accuracy: 0.9670\n",
      "Epoch 88/150\n",
      "7/7 [==============================] - 0s 5ms/step - loss: 0.0067 - accuracy: 0.9971 - val_loss: 0.0418 - val_accuracy: 0.9670\n",
      "Epoch 89/150\n",
      "7/7 [==============================] - 0s 3ms/step - loss: 0.0066 - accuracy: 0.9971 - val_loss: 0.0420 - val_accuracy: 0.9670\n",
      "Epoch 90/150\n",
      "7/7 [==============================] - 0s 4ms/step - loss: 0.0063 - accuracy: 0.9971 - val_loss: 0.0416 - val_accuracy: 0.9670\n",
      "Epoch 91/150\n",
      "7/7 [==============================] - 0s 5ms/step - loss: 0.0062 - accuracy: 0.9971 - val_loss: 0.0419 - val_accuracy: 0.9670\n",
      "Epoch 92/150\n",
      "7/7 [==============================] - 0s 4ms/step - loss: 0.0058 - accuracy: 0.9971 - val_loss: 0.0427 - val_accuracy: 0.9670\n",
      "Epoch 93/150\n",
      "7/7 [==============================] - 0s 3ms/step - loss: 0.0058 - accuracy: 0.9971 - val_loss: 0.0427 - val_accuracy: 0.9670\n",
      "Epoch 94/150\n",
      "7/7 [==============================] - 0s 3ms/step - loss: 0.0055 - accuracy: 0.9971 - val_loss: 0.0424 - val_accuracy: 0.9670\n",
      "Epoch 95/150\n",
      "7/7 [==============================] - 0s 5ms/step - loss: 0.0053 - accuracy: 0.9971 - val_loss: 0.0431 - val_accuracy: 0.9670\n",
      "Epoch 96/150\n",
      "7/7 [==============================] - 0s 3ms/step - loss: 0.0033 - accuracy: 1.0000 - val_loss: 0.0434 - val_accuracy: 0.9670\n",
      "Epoch 97/150\n",
      "7/7 [==============================] - 0s 3ms/step - loss: 0.0050 - accuracy: 1.0000 - val_loss: 0.0434 - val_accuracy: 0.9670\n",
      "Epoch 98/150\n",
      "7/7 [==============================] - 0s 5ms/step - loss: 0.0048 - accuracy: 1.0000 - val_loss: 0.0445 - val_accuracy: 0.9670\n",
      "Epoch 99/150\n",
      "7/7 [==============================] - 0s 3ms/step - loss: 0.0030 - accuracy: 1.0000 - val_loss: 0.0442 - val_accuracy: 0.9670\n",
      "Epoch 100/150\n",
      "7/7 [==============================] - 0s 3ms/step - loss: 0.0028 - accuracy: 1.0000 - val_loss: 0.0433 - val_accuracy: 0.9670\n",
      "Epoch 101/150\n",
      "7/7 [==============================] - 0s 4ms/step - loss: 0.0042 - accuracy: 1.0000 - val_loss: 0.0438 - val_accuracy: 0.9670\n",
      "Epoch 102/150\n",
      "7/7 [==============================] - 0s 4ms/step - loss: 0.0039 - accuracy: 1.0000 - val_loss: 0.0454 - val_accuracy: 0.9670\n",
      "Epoch 103/150\n",
      "7/7 [==============================] - 0s 5ms/step - loss: 0.0037 - accuracy: 1.0000 - val_loss: 0.0461 - val_accuracy: 0.9670\n",
      "Epoch 104/150\n",
      "7/7 [==============================] - 0s 3ms/step - loss: 0.0033 - accuracy: 1.0000 - val_loss: 0.0459 - val_accuracy: 0.9670\n",
      "Epoch 105/150\n",
      "7/7 [==============================] - 0s 4ms/step - loss: 0.0031 - accuracy: 1.0000 - val_loss: 0.0448 - val_accuracy: 0.9670\n",
      "Epoch 106/150\n",
      "7/7 [==============================] - 0s 4ms/step - loss: 0.0029 - accuracy: 1.0000 - val_loss: 0.0447 - val_accuracy: 0.9670\n",
      "Epoch 107/150\n",
      "7/7 [==============================] - 0s 5ms/step - loss: 0.0028 - accuracy: 1.0000 - val_loss: 0.0443 - val_accuracy: 0.9670\n",
      "Epoch 108/150\n",
      "7/7 [==============================] - 0s 5ms/step - loss: 0.0027 - accuracy: 1.0000 - val_loss: 0.0446 - val_accuracy: 0.9670\n",
      "Epoch 109/150\n",
      "7/7 [==============================] - 0s 3ms/step - loss: 0.0026 - accuracy: 1.0000 - val_loss: 0.0448 - val_accuracy: 0.9670\n",
      "Epoch 110/150\n",
      "7/7 [==============================] - 0s 3ms/step - loss: 0.0025 - accuracy: 1.0000 - val_loss: 0.0439 - val_accuracy: 0.9670\n",
      "Epoch 111/150\n",
      "7/7 [==============================] - 0s 3ms/step - loss: 0.0023 - accuracy: 1.0000 - val_loss: 0.0435 - val_accuracy: 0.9670\n",
      "Epoch 112/150\n",
      "7/7 [==============================] - 0s 5ms/step - loss: 0.0022 - accuracy: 1.0000 - val_loss: 0.0432 - val_accuracy: 0.9670\n",
      "Epoch 113/150\n",
      "7/7 [==============================] - 0s 4ms/step - loss: 0.0017 - accuracy: 1.0000 - val_loss: 0.0429 - val_accuracy: 0.9670\n",
      "Epoch 114/150\n",
      "7/7 [==============================] - 0s 4ms/step - loss: 0.0021 - accuracy: 1.0000 - val_loss: 0.0431 - val_accuracy: 0.9670\n",
      "Epoch 115/150\n",
      "7/7 [==============================] - 0s 4ms/step - loss: 0.0020 - accuracy: 1.0000 - val_loss: 0.0430 - val_accuracy: 0.9670\n",
      "Epoch 116/150\n",
      "7/7 [==============================] - 0s 5ms/step - loss: 0.0020 - accuracy: 1.0000 - val_loss: 0.0434 - val_accuracy: 0.9670\n",
      "Epoch 117/150\n"
     ]
    },
    {
     "name": "stdout",
     "output_type": "stream",
     "text": [
      "7/7 [==============================] - 0s 4ms/step - loss: 0.0019 - accuracy: 1.0000 - val_loss: 0.0436 - val_accuracy: 0.9670\n",
      "Epoch 118/150\n",
      "7/7 [==============================] - 0s 5ms/step - loss: 0.0017 - accuracy: 1.0000 - val_loss: 0.0437 - val_accuracy: 0.9670\n",
      "Epoch 119/150\n",
      "7/7 [==============================] - 0s 4ms/step - loss: 0.0018 - accuracy: 1.0000 - val_loss: 0.0438 - val_accuracy: 0.9670\n",
      "Epoch 120/150\n",
      "7/7 [==============================] - 0s 4ms/step - loss: 0.0017 - accuracy: 1.0000 - val_loss: 0.0436 - val_accuracy: 0.9670\n",
      "Epoch 121/150\n",
      "7/7 [==============================] - 0s 5ms/step - loss: 0.0017 - accuracy: 1.0000 - val_loss: 0.0434 - val_accuracy: 0.9780\n",
      "Epoch 122/150\n",
      "7/7 [==============================] - 0s 4ms/step - loss: 0.0016 - accuracy: 1.0000 - val_loss: 0.0432 - val_accuracy: 0.9780\n",
      "Epoch 123/150\n",
      "7/7 [==============================] - 0s 4ms/step - loss: 0.0016 - accuracy: 1.0000 - val_loss: 0.0432 - val_accuracy: 0.9780\n",
      "Epoch 124/150\n",
      "7/7 [==============================] - 0s 4ms/step - loss: 0.0015 - accuracy: 1.0000 - val_loss: 0.0434 - val_accuracy: 0.9780\n",
      "Epoch 125/150\n",
      "7/7 [==============================] - 0s 3ms/step - loss: 0.0015 - accuracy: 1.0000 - val_loss: 0.0433 - val_accuracy: 0.9780\n",
      "Epoch 126/150\n",
      "7/7 [==============================] - 0s 4ms/step - loss: 0.0014 - accuracy: 1.0000 - val_loss: 0.0435 - val_accuracy: 0.9780\n",
      "Epoch 127/150\n",
      "7/7 [==============================] - 0s 4ms/step - loss: 0.0013 - accuracy: 1.0000 - val_loss: 0.0434 - val_accuracy: 0.9780\n",
      "Epoch 128/150\n",
      "7/7 [==============================] - 0s 4ms/step - loss: 0.0013 - accuracy: 1.0000 - val_loss: 0.0436 - val_accuracy: 0.9780\n",
      "Epoch 129/150\n",
      "7/7 [==============================] - 0s 4ms/step - loss: 0.0013 - accuracy: 1.0000 - val_loss: 0.0436 - val_accuracy: 0.9780\n",
      "Epoch 130/150\n",
      "7/7 [==============================] - 0s 4ms/step - loss: 0.0013 - accuracy: 1.0000 - val_loss: 0.0436 - val_accuracy: 0.9780\n",
      "Epoch 131/150\n",
      "7/7 [==============================] - 0s 4ms/step - loss: 0.0013 - accuracy: 1.0000 - val_loss: 0.0436 - val_accuracy: 0.9780\n",
      "Epoch 132/150\n",
      "7/7 [==============================] - 0s 4ms/step - loss: 0.0012 - accuracy: 1.0000 - val_loss: 0.0437 - val_accuracy: 0.9780\n",
      "Epoch 133/150\n",
      "7/7 [==============================] - 0s 3ms/step - loss: 0.0012 - accuracy: 1.0000 - val_loss: 0.0435 - val_accuracy: 0.9780\n",
      "Epoch 134/150\n",
      "7/7 [==============================] - 0s 4ms/step - loss: 0.0012 - accuracy: 1.0000 - val_loss: 0.0436 - val_accuracy: 0.9780\n",
      "Epoch 135/150\n",
      "7/7 [==============================] - 0s 5ms/step - loss: 0.0011 - accuracy: 1.0000 - val_loss: 0.0436 - val_accuracy: 0.9780\n",
      "Epoch 136/150\n",
      "7/7 [==============================] - 0s 4ms/step - loss: 0.0011 - accuracy: 1.0000 - val_loss: 0.0437 - val_accuracy: 0.9780\n",
      "Epoch 137/150\n",
      "7/7 [==============================] - 0s 4ms/step - loss: 8.8510e-04 - accuracy: 1.0000 - val_loss: 0.0437 - val_accuracy: 0.9780\n",
      "Epoch 138/150\n",
      "7/7 [==============================] - 0s 5ms/step - loss: 0.0010 - accuracy: 1.0000 - val_loss: 0.0437 - val_accuracy: 0.9780\n",
      "Epoch 139/150\n",
      "7/7 [==============================] - 0s 5ms/step - loss: 9.4675e-04 - accuracy: 1.0000 - val_loss: 0.0438 - val_accuracy: 0.9780\n",
      "Epoch 140/150\n",
      "7/7 [==============================] - 0s 4ms/step - loss: 9.9524e-04 - accuracy: 1.0000 - val_loss: 0.0438 - val_accuracy: 0.9780\n",
      "Epoch 141/150\n",
      "7/7 [==============================] - 0s 4ms/step - loss: 8.2782e-04 - accuracy: 1.0000 - val_loss: 0.0439 - val_accuracy: 0.9780\n",
      "Epoch 142/150\n",
      "7/7 [==============================] - 0s 5ms/step - loss: 9.6032e-04 - accuracy: 1.0000 - val_loss: 0.0438 - val_accuracy: 0.9780\n",
      "Epoch 143/150\n",
      "7/7 [==============================] - 0s 4ms/step - loss: 8.8575e-04 - accuracy: 1.0000 - val_loss: 0.0440 - val_accuracy: 0.9780\n",
      "Epoch 144/150\n",
      "7/7 [==============================] - 0s 3ms/step - loss: 8.9431e-04 - accuracy: 1.0000 - val_loss: 0.0441 - val_accuracy: 0.9780\n",
      "Epoch 145/150\n",
      "7/7 [==============================] - 0s 5ms/step - loss: 8.7857e-04 - accuracy: 1.0000 - val_loss: 0.0442 - val_accuracy: 0.9780\n",
      "Epoch 146/150\n",
      "7/7 [==============================] - 0s 4ms/step - loss: 8.1015e-04 - accuracy: 1.0000 - val_loss: 0.0442 - val_accuracy: 0.9780\n",
      "Epoch 147/150\n",
      "7/7 [==============================] - 0s 6ms/step - loss: 8.1453e-04 - accuracy: 1.0000 - val_loss: 0.0440 - val_accuracy: 0.9780\n",
      "Epoch 148/150\n",
      "7/7 [==============================] - 0s 4ms/step - loss: 8.1690e-04 - accuracy: 1.0000 - val_loss: 0.0441 - val_accuracy: 0.9780\n",
      "Epoch 149/150\n",
      "7/7 [==============================] - 0s 4ms/step - loss: 7.7224e-04 - accuracy: 1.0000 - val_loss: 0.0442 - val_accuracy: 0.9780\n",
      "Epoch 150/150\n",
      "7/7 [==============================] - 0s 4ms/step - loss: 7.7126e-04 - accuracy: 1.0000 - val_loss: 0.0442 - val_accuracy: 0.9780\n"
     ]
    }
   ],
   "source": [
    "hist = model.fit(train_dataset, epochs=N_EPOCHS, validation_data=val_dataset)\n"
   ]
  },
  {
   "cell_type": "markdown",
   "metadata": {},
   "source": [
    "#### 결과 plotting"
   ]
  },
  {
   "cell_type": "code",
   "execution_count": 225,
   "metadata": {},
   "outputs": [],
   "source": [
    "import matplotlib.pyplot as plt\n"
   ]
  },
  {
   "cell_type": "code",
   "execution_count": 226,
   "metadata": {},
   "outputs": [
    {
     "data": {
      "image/png": "[encoded data removed]",
      "text/plain": [
       "<Figure size 504x432 with 1 Axes>"
      ]
     },
     "metadata": {
      "image/png": {
       "height": 392,
       "width": 441
      },
      "needs_background": "light"
     },
     "output_type": "display_data"
    }
   ],
   "source": [
    "plt.figure(figsize=(7,6))\n",
    "plt.plot(range(1,N_EPOCHS+1), hist.history['loss'], label='Train Loss')\n",
    "plt.plot(range(1,N_EPOCHS+1), hist.history['val_loss'], label='Validation Loss')\n",
    "plt.title('Loss', fontsize=20)\n",
    "plt.xlabel('Epochs')\n",
    "plt.ylabel('Loss')\n",
    "plt.legend()\n",
    "plt.show()"
   ]
  },
  {
   "cell_type": "code",
   "execution_count": 228,
   "metadata": {},
   "outputs": [
    {
     "data": {
      "image/png": "[encoded data removed]",
      "text/plain": [
       "<Figure size 504x432 with 1 Axes>"
      ]
     },
     "metadata": {
      "image/png": {
       "height": 392,
       "width": 441
      },
      "needs_background": "light"
     },
     "output_type": "display_data"
    }
   ],
   "source": [
    "plt.figure(figsize=(7,6))\n",
    "plt.plot(range(1,N_EPOCHS+1), hist.history['accuracy'], label='accuracy')\n",
    "plt.plot(range(1,N_EPOCHS+1), hist.history['val_accuracy'], label='Validation accuracy')\n",
    "plt.title('Accuracy', fontsize=20)\n",
    "plt.xlabel('Epochs')\n",
    "plt.ylabel('Accuracy')\n",
    "plt.legend()\n",
    "plt.show()"
   ]
  },
  {
   "cell_type": "markdown",
   "metadata": {},
   "source": [
    "#### 최종평가"
   ]
  },
  {
   "cell_type": "code",
   "execution_count": 229,
   "metadata": {},
   "outputs": [
    {
     "name": "stdout",
     "output_type": "stream",
     "text": [
      "3/3 [==============================] - 0s 3ms/step - loss: 0.1820 - accuracy: 0.9561\n"
     ]
    }
   ],
   "source": [
    "loss, acc = model.evaluate(test_dataset)"
   ]
  },
  {
   "cell_type": "code",
   "execution_count": 230,
   "metadata": {},
   "outputs": [
    {
     "name": "stdout",
     "output_type": "stream",
     "text": [
      "0.18197780847549438 0.9561403393745422\n"
     ]
    }
   ],
   "source": [
    "print(loss, acc)"
   ]
  },
  {
   "cell_type": "markdown",
   "metadata": {},
   "source": [
    "#### 새로운 데이터 추론"
   ]
  },
  {
   "cell_type": "code",
   "execution_count": 231,
   "metadata": {},
   "outputs": [
    {
     "data": {
      "text/plain": [
       "array([[3.9028669e-06],\n",
       "       [1.7599783e-27],\n",
       "       [4.4942521e-09],\n",
       "       [9.9998403e-01],\n",
       "       [1.8385435e-09]], dtype=float32)"
      ]
     },
     "execution_count": 231,
     "metadata": {},
     "output_type": "execute_result"
    }
   ],
   "source": [
    "new_data = X_test[:5]\n",
    "new_data_scaled = scaler.transform(new_data)\n",
    "\n",
    "pred = model.predict(new_data_scaled)\n",
    "pred"
   ]
  },
  {
   "cell_type": "code",
   "execution_count": 232,
   "metadata": {},
   "outputs": [
    {
     "data": {
      "text/plain": [
       "array([[0],\n",
       "       [0],\n",
       "       [0],\n",
       "       [1],\n",
       "       [0]], dtype=int8)"
      ]
     },
     "execution_count": 232,
     "metadata": {},
     "output_type": "execute_result"
    }
   ],
   "source": [
    "result = (pred > 0.5).astype(np.int8) #True:1, False:0\n",
    "result"
   ]
  },
  {
   "cell_type": "code",
   "execution_count": 233,
   "metadata": {},
   "outputs": [
    {
     "data": {
      "text/plain": [
       "array([['음성'],\n",
       "       ['음성'],\n",
       "       ['음성'],\n",
       "       ['양성'],\n",
       "       ['음성']], dtype='<U2')"
      ]
     },
     "execution_count": 233,
     "metadata": {},
     "output_type": "execute_result"
    }
   ],
   "source": [
    "result_label = np.where(pred>=0.5, '양성','음성')\n",
    "result_label"
   ]
  },
  {
   "cell_type": "code",
   "execution_count": 234,
   "metadata": {},
   "outputs": [
    {
     "name": "stderr",
     "output_type": "stream",
     "text": [
      "C:\\Users\\xodlr_000\\anaconda3\\envs\\tf2\\lib\\site-packages\\tensorflow\\python\\keras\\engine\\sequential.py:455: UserWarning: `model.predict_classes()` is deprecated and will be removed after 2021-01-01. Please use instead:* `np.argmax(model.predict(x), axis=-1)`,   if your model does multi-class classification   (e.g. if it uses a `softmax` last-layer activation).* `(model.predict(x) > 0.5).astype(\"int32\")`,   if your model does binary classification   (e.g. if it uses a `sigmoid` last-layer activation).\n",
      "  warnings.warn('`model.predict_classes()` is deprecated and '\n"
     ]
    },
    {
     "data": {
      "text/plain": [
       "array([[0],\n",
       "       [0],\n",
       "       [0],\n",
       "       [1],\n",
       "       [0]])"
      ]
     },
     "execution_count": 234,
     "metadata": {},
     "output_type": "execute_result"
    }
   ],
   "source": [
    "result2 = model.predict_classes(new_data_scaled)\n",
    "result2"
   ]
  },
  {
   "cell_type": "markdown",
   "metadata": {},
   "source": [
    "### Tensorflow 2.3 이하 버전에서 Train dataset 구성 및 학습\n",
    " - 위의 코드들은 2.4 이후 버전\n",
    " \n",
    " 1. train_dataset 구성시 repeat 추가\n",
    " 2. 학습시에 train / validation step 횟수를 추가"
   ]
  },
  {
   "cell_type": "code",
   "execution_count": 235,
   "metadata": {},
   "outputs": [],
   "source": [
    "train_dataset2 = tf.data.Dataset.from_tensor_slices((X_train_scaled, y_train)).shuffle(N_TRAIN).batch(N_BATCHS, drop_remainder=True).repeat()\n",
    "val_dataset2 = tf.data.Dataset.from_tensor_slices((X_val_scaled, y_val)).batch(N_BATCHS)\n",
    "test_dataset2 = tf.data.Dataset.from_tensor_slices((X_test_scaled, y_test)).batch(N_BATCHS)"
   ]
  },
  {
   "cell_type": "code",
   "execution_count": 238,
   "metadata": {},
   "outputs": [],
   "source": [
    "#학습시 train/validation 스텝 횟수 계산\n",
    "steps_per_epoch = N_TRAIN // N_BATCHS #train시 한 에폭당 step 횟수 : Train데이터개수 / batch_size (drop_remainder=True인 경우)\n",
    "validataion_steps = int(np.ceil(N_VAL / N_BATCHS))    #한 에폭에서 validation step 수.ceil(val데이터수 / batch_size) - drop_remainder=False인 경우"
   ]
  },
  {
   "cell_type": "code",
   "execution_count": 239,
   "metadata": {},
   "outputs": [
    {
     "name": "stdout",
     "output_type": "stream",
     "text": [
      "7 2\n"
     ]
    }
   ],
   "source": [
    "print(steps_per_epoch, validataion_steps)"
   ]
  },
  {
   "cell_type": "code",
   "execution_count": 242,
   "metadata": {},
   "outputs": [
    {
     "name": "stdout",
     "output_type": "stream",
     "text": [
      "Epoch 1/2\n",
      "7/7 [==============================] - 0s 6ms/step - loss: 7.6108e-04 - accuracy: 1.0000 - val_loss: 0.0442 - val_accuracy: 0.9780\n",
      "Epoch 2/2\n",
      "7/7 [==============================] - 0s 7ms/step - loss: 7.4120e-04 - accuracy: 1.0000 - val_loss: 0.0443 - val_accuracy: 0.9780\n"
     ]
    },
    {
     "data": {
      "text/plain": [
       "<tensorflow.python.keras.callbacks.History at 0x3640ae2760>"
      ]
     },
     "execution_count": 242,
     "metadata": {},
     "output_type": "execute_result"
    }
   ],
   "source": [
    "model.fit(train_dataset2, steps_per_epoch=steps_per_epoch, validation_data = val_dataset2,\n",
    "         validation_steps = validataion_steps, epochs=2)"
   ]
  },
  {
   "cell_type": "code",
   "execution_count": null,
   "metadata": {},
   "outputs": [],
   "source": []
  }
 ],
 "metadata": {
  "kernelspec": {
   "display_name": "Python 3 (ipykernel)",
   "language": "python",
   "name": "python3"
  },
  "language_info": {
   "codemirror_mode": {
    "name": "ipython",
    "version": 3
   },
   "file_extension": ".py",
   "mimetype": "text/x-python",
   "name": "python",
   "nbconvert_exporter": "python",
   "pygments_lexer": "ipython3",
   "version": "3.8.11"
  },
  "toc": {
   "base_numbering": 1,
   "nav_menu": {},
   "number_sections": false,
   "sideBar": true,
   "skip_h1_title": false,
   "title_cell": "Table of Contents",
   "title_sidebar": "Contents",
   "toc_cell": false,
   "toc_position": {},
   "toc_section_display": true,
   "toc_window_display": false
  },
  "varInspector": {
   "cols": {
    "lenName": 16,
    "lenType": 16,
    "lenVar": 40
   },
   "kernels_config": {
    "python": {
     "delete_cmd_postfix": "",
     "delete_cmd_prefix": "del ",
     "library": "var_list.py",
     "varRefreshCmd": "print(var_dic_list())"
    },
    "r": {
     "delete_cmd_postfix": ") ",
     "delete_cmd_prefix": "rm(",
     "library": "var_list.r",
     "varRefreshCmd": "cat(var_dic_list()) "
    }
   },
   "types_to_exclude": [
    "module",
    "function",
    "builtin_function_or_method",
    "instance",
    "_Feature"
   ],
   "window_display": false
  }
 },
 "nbformat": 4,
 "nbformat_minor": 2
}
