{
 "cells": [
  {
   "cell_type": "code",
   "execution_count": 8,
   "metadata": {},
   "outputs": [],
   "source": [
    "class Person:\n",
    "    #initializer (생성자)\n",
    "    # __이름__() : 매직메소드\n",
    "    def __init__(self, name):\n",
    "        self.name = name\n",
    "    \n",
    "    def __str__(self):\n",
    "        return self.name\n",
    "    \n",
    "    #객체를 함수처럼 사용할 수 있도록 하는 매직메소드\n",
    "    #객체()\n",
    "    def __call__(self, age):\n",
    "        print('__call__', self.name, age)\n",
    "        return age + 50"
   ]
  },
  {
   "cell_type": "code",
   "execution_count": 6,
   "metadata": {},
   "outputs": [
    {
     "name": "stdout",
     "output_type": "stream",
     "text": [
      "홍길동\n"
     ]
    }
   ],
   "source": [
    "p = Person('홍길동')\n",
    "print(p.name)"
   ]
  },
  {
   "cell_type": "code",
   "execution_count": 9,
   "metadata": {},
   "outputs": [
    {
     "name": "stdout",
     "output_type": "stream",
     "text": [
      "__call__ 이순신 30\n"
     ]
    },
    {
     "data": {
      "text/plain": [
       "80"
      ]
     },
     "execution_count": 9,
     "metadata": {},
     "output_type": "execute_result"
    }
   ],
   "source": [
    "p = Person('이순신')\n",
    "p(30) #__call__ 매직 메소드 호출"
   ]
  },
  {
   "cell_type": "code",
   "execution_count": 10,
   "metadata": {},
   "outputs": [
    {
     "name": "stdout",
     "output_type": "stream",
     "text": [
      "__call__ 박철우 50\n"
     ]
    },
    {
     "data": {
      "text/plain": [
       "100"
      ]
     },
     "execution_count": 10,
     "metadata": {},
     "output_type": "execute_result"
    }
   ],
   "source": [
    "result = Person('박철우')(50)\n",
    "result"
   ]
  },
  {
   "cell_type": "markdown",
   "metadata": {},
   "source": [
    "# Functional API\n",
    "- Sequential 모델은 각 Layer들의 입력과 출력이 하나라고 가정한다. 그리고 각각의 Layer(입력층, 은닉층, 출력층)들을 차례대로 쌓아 구성한다. 그래서 다양한 구조의 네트워크를 만드는데 한계가 있다.\n",
    "- 함수형 API를 사용하면 **다중입력, 다중출력, 그래프 형태**의 다양한 형태의 모델을 유연하게 구성할 수 있다.\n",
    "\n",
    "- Functional API는 직접 텐서들의 입출력을 다룬다. \n",
    "- 함수호출 처럼 Layer를 이용하여 입력 텐서(Input Tensor)를 입력 받고 그 결과를 출력 텐서(Output Tensor)로 반환하는 형식으로 모델을 구현한다.\n",
    "\n",
    "\n",
    "```\n",
    "input_tensor = Input(shape=(16,))\n",
    "dense = layers.Dense(32, activation='relu')(input_tensor)\n",
    "output_tensor = layers.Dense(32, activation='sigmoid')(dense)\n",
    "\n",
    "model = models.Model(input_tensor, output_tensor)\n",
    "```"
   ]
  },
  {
   "cell_type": "code",
   "execution_count": null,
   "metadata": {},
   "outputs": [],
   "source": []
  },
  {
   "cell_type": "markdown",
   "metadata": {},
   "source": [
    "## Sequential, Functional API "
   ]
  },
  {
   "cell_type": "markdown",
   "metadata": {},
   "source": [
    "### Sequential"
   ]
  },
  {
   "cell_type": "code",
   "execution_count": 11,
   "metadata": {},
   "outputs": [],
   "source": [
    "import tensorflow as tf\n",
    "from tensorflow import keras\n",
    "from tensorflow.keras import models, layers"
   ]
  },
  {
   "cell_type": "code",
   "execution_count": null,
   "metadata": {},
   "outputs": [],
   "source": [
    "출력데이터1 = layers.Conv2D(filters=16, kernel_size=3, padding='same', activation='relu')(입력데이터)"
   ]
  },
  {
   "cell_type": "code",
   "execution_count": null,
   "metadata": {},
   "outputs": [],
   "source": [
    "출력데이터2 = layers.MaxPooling2D"
   ]
  },
  {
   "cell_type": "code",
   "execution_count": null,
   "metadata": {},
   "outputs": [],
   "source": []
  },
  {
   "cell_type": "code",
   "execution_count": null,
   "metadata": {},
   "outputs": [],
   "source": [
    "seq_model = keras.Sequential()\n",
    "seq_model.add(layers.InputLayer(input_shape=(32, 32, 3)))\n",
    "seq_model.add(layers.Conv2D(filters=16, kernel_size=3, padding='same', activation='relu'))\n",
    "seq_model.add(layers.MaxPooling2D(padding='same'))\n",
    "seq_model.add(layers.Flatten())\n",
    "seq_model.add(layers.Dense(units=8, activation='relu'))\n",
    "seq_model.add(layers.Dense(units=1, activation='sigmoid'))"
   ]
  },
  {
   "cell_type": "code",
   "execution_count": null,
   "metadata": {},
   "outputs": [],
   "source": [
    "#seq_model.predict(image_np)"
   ]
  },
  {
   "cell_type": "markdown",
   "metadata": {},
   "source": [
    "### Functional"
   ]
  },
  {
   "cell_type": "code",
   "execution_count": 17,
   "metadata": {},
   "outputs": [],
   "source": [
    "#레이어들의 구조를 만든다\n",
    "input_tensor = layers.Input(shape=(32,32,3)) #input layer는 입력을 지정하지 않는다(model.predict(인풋))\n",
    "\n",
    "conv_tensor = layers.Conv2D(filters = 16, kernel_size=3, padding='same', activation='relu')(input_tensor)\n",
    "\n",
    "mp_tensor = layers.MaxPooling2D(padding='same')(conv_tensor)\n",
    "\n",
    "flatten_tensor = layers.Flatten()(mp_tensor)\n",
    "\n",
    "d1_tensor = layers.Dense(units=8, activation='relu')(flatten_tensor)\n",
    "\n",
    "output_tensor = layers.Dense(units=1, activation='sigmoid')(d1_tensor)\n",
    "\n",
    "#모델을 만들면서 conv, mp, flatten d1 tensor는 우리가 직접 다룰 일이 없음\n",
    "#모델 정의\n",
    "fn_model = models.Model(input_tensor, output_tensor) #입력 텐서, 출력 텐서\n",
    "\n",
    "#모델 컴파일, 모델 학습, 평가ㅡ 추론은 동일"
   ]
  },
  {
   "cell_type": "code",
   "execution_count": 18,
   "metadata": {},
   "outputs": [
    {
     "name": "stdout",
     "output_type": "stream",
     "text": [
      "Model: \"model\"\n",
      "_________________________________________________________________\n",
      "Layer (type)                 Output Shape              Param #   \n",
      "=================================================================\n",
      "input_5 (InputLayer)         [(None, 32, 32, 3)]       0         \n",
      "_________________________________________________________________\n",
      "conv2d_3 (Conv2D)            (None, 32, 32, 16)        448       \n",
      "_________________________________________________________________\n",
      "max_pooling2d_2 (MaxPooling2 (None, 16, 16, 16)        0         \n",
      "_________________________________________________________________\n",
      "flatten_1 (Flatten)          (None, 4096)              0         \n",
      "_________________________________________________________________\n",
      "dense_2 (Dense)              (None, 8)                 32776     \n",
      "_________________________________________________________________\n",
      "dense_3 (Dense)              (None, 1)                 9         \n",
      "=================================================================\n",
      "Total params: 33,233\n",
      "Trainable params: 33,233\n",
      "Non-trainable params: 0\n",
      "_________________________________________________________________\n"
     ]
    }
   ],
   "source": [
    "fn_model.summary()"
   ]
  },
  {
   "cell_type": "code",
   "execution_count": 24,
   "metadata": {},
   "outputs": [],
   "source": [
    "#출력 변수들은 통일, 일반적으로 block단위로 동일한 변수명을 사용\n",
    "input_tensor = layers.Input(shape=(32,32,3)) \n",
    "\n",
    "conv_layer = layers.Conv2D(filters=16, kernel_size=3, padding='same', activation='relu')\n",
    "conv_layer.trainable = False\n",
    "\n",
    "x1 = layers.Conv2D(filters = 16, kernel_size=3, padding='same', activation='relu')(input_tensor)\n",
    "x1 = layers.MaxPooling2D(padding='same')(x1)\n",
    "\n",
    "x2 = layers.Conv2D(filters = 16, kernel_size=3, padding='same', activation='relu')(x1)\n",
    "x2 = layers.MaxPooling2D(padding='same')(x2)\n",
    "\n",
    "x3 = layers.Flatten()(x2)\n",
    "x3 = layers.Dense(units=8, activation='relu')(x3)\n",
    "\n",
    "output_tensor = layers.Dense(units=1, activation='sigmoid')(x3)\n",
    "\n",
    "#모델 정의\n",
    "fn_model = models.Model(input_tensor, output_tensor)"
   ]
  },
  {
   "cell_type": "code",
   "execution_count": 25,
   "metadata": {},
   "outputs": [
    {
     "name": "stdout",
     "output_type": "stream",
     "text": [
      "Model: \"model_3\"\n",
      "_________________________________________________________________\n",
      "Layer (type)                 Output Shape              Param #   \n",
      "=================================================================\n",
      "input_9 (InputLayer)         [(None, 32, 32, 3)]       0         \n",
      "_________________________________________________________________\n",
      "conv2d_12 (Conv2D)           (None, 32, 32, 16)        448       \n",
      "_________________________________________________________________\n",
      "max_pooling2d_7 (MaxPooling2 (None, 16, 16, 16)        0         \n",
      "_________________________________________________________________\n",
      "conv2d_13 (Conv2D)           (None, 16, 16, 16)        2320      \n",
      "_________________________________________________________________\n",
      "max_pooling2d_8 (MaxPooling2 (None, 8, 8, 16)          0         \n",
      "_________________________________________________________________\n",
      "flatten_4 (Flatten)          (None, 1024)              0         \n",
      "_________________________________________________________________\n",
      "dense_8 (Dense)              (None, 8)                 8200      \n",
      "_________________________________________________________________\n",
      "dense_9 (Dense)              (None, 1)                 9         \n",
      "=================================================================\n",
      "Total params: 10,977\n",
      "Trainable params: 10,977\n",
      "Non-trainable params: 0\n",
      "_________________________________________________________________\n"
     ]
    }
   ],
   "source": [
    "fn_model.summary()"
   ]
  },
  {
   "cell_type": "code",
   "execution_count": 26,
   "metadata": {},
   "outputs": [],
   "source": [
    "#transfer Learning\n",
    "from tensorflow.keras.applications import VGG16\n"
   ]
  },
  {
   "cell_type": "code",
   "execution_count": 30,
   "metadata": {},
   "outputs": [],
   "source": [
    "conv_base = VGG16(include_top=False)\n",
    "#conv base를 하나의 layer라고 생각한다\n",
    "conv_base.trainable = False"
   ]
  },
  {
   "cell_type": "code",
   "execution_count": 31,
   "metadata": {},
   "outputs": [
    {
     "name": "stdout",
     "output_type": "stream",
     "text": [
      "Model: \"model_5\"\n",
      "_________________________________________________________________\n",
      "Layer (type)                 Output Shape              Param #   \n",
      "=================================================================\n",
      "input_14 (InputLayer)        [(None, 224, 224, 3)]     0         \n",
      "_________________________________________________________________\n",
      "vgg16 (Functional)           (None, None, None, 512)   14714688  \n",
      "_________________________________________________________________\n",
      "global_average_pooling2d_2 ( (None, 512)               0         \n",
      "_________________________________________________________________\n",
      "dense_11 (Dense)             (None, 1)                 513       \n",
      "=================================================================\n",
      "Total params: 14,715,201\n",
      "Trainable params: 513\n",
      "Non-trainable params: 14,714,688\n",
      "_________________________________________________________________\n"
     ]
    }
   ],
   "source": [
    "\n",
    "input_tensor = layers.Input(shape = (224, 224, 3))\n",
    "x = conv_base(input_tensor)\n",
    "x = layers.GlobalAveragePooling2D()(x)\n",
    "output_tensor = layers.Dense(units=1, activation='sigmoid')(x)\n",
    "\n",
    "model = models.Model(input_tensor, output_tensor)\n",
    "model.compile(optimizer='adam', loss = 'binary_crossentropy', metrics=['accuracy'])\n",
    "model.summary()"
   ]
  },
  {
   "cell_type": "code",
   "execution_count": null,
   "metadata": {},
   "outputs": [],
   "source": []
  },
  {
   "cell_type": "code",
   "execution_count": null,
   "metadata": {},
   "outputs": [],
   "source": []
  },
  {
   "cell_type": "code",
   "execution_count": null,
   "metadata": {},
   "outputs": [],
   "source": []
  },
  {
   "cell_type": "code",
   "execution_count": null,
   "metadata": {},
   "outputs": [],
   "source": []
  },
  {
   "cell_type": "markdown",
   "metadata": {},
   "source": [
    "## 레이어를 합치는 함수\n",
    "- concatenate(list, axis=-1)\n",
    "    - 레이어들을 합친다\n",
    "    - list: 합칠 레이어들을 리스트에 묶어 전달\n",
    "    - axis: 합칠 기준축. (기본값: -1 : 마지막 축기준)\n",
    "- add(list), substract(list), multiply(list)\n",
    "    - 같은 index의 값들을 계산해서(더하기, 빼기, 곱하기) 하나의 레이어로 만든다.\n",
    "    - list: 합칠 레이어들을 리스트에 묶어 전달"
   ]
  },
  {
   "cell_type": "code",
   "execution_count": 66,
   "metadata": {},
   "outputs": [],
   "source": [
    "# ResNet의 residual block\n",
    "input_tensor = layers.Input(shape = (32,32,3))\n",
    "\n",
    "x = layers.Conv2D(filters=64, kernel_size=3, padding='same')(input_tensor)\n",
    "# ------ residual block\n",
    "x1 = layers.Conv2D(filters=64, kernel_size=3, padding='same')(x)\n",
    "x1 = layers.BatchNormalization()(x1)\n",
    "x1 = layers.ReLU()(x1)\n",
    "\n",
    "x2 = layers.Conv2D(filters=64, kernel_size=3, padding='same')(x1)\n",
    "x2 = layers.BatchNormalization()(x2)\n",
    "\n",
    "#input_tensor(입력), x2(block의 출력)을 더한다\n",
    "add_result = layers.add([x, x2])\n",
    "\n",
    "output_tensor = layers.ReLU()(add_result)\n",
    "\n",
    "rb_model = models.Model(input_tensor, output_tensor)\n"
   ]
  },
  {
   "cell_type": "code",
   "execution_count": 67,
   "metadata": {},
   "outputs": [
    {
     "name": "stdout",
     "output_type": "stream",
     "text": [
      "Model: \"model_8\"\n",
      "__________________________________________________________________________________________________\n",
      "Layer (type)                    Output Shape         Param #     Connected to                     \n",
      "==================================================================================================\n",
      "input_25 (InputLayer)           [(None, 32, 32, 3)]  0                                            \n",
      "__________________________________________________________________________________________________\n",
      "conv2d_32 (Conv2D)              (None, 32, 32, 64)   1792        input_25[0][0]                   \n",
      "__________________________________________________________________________________________________\n",
      "conv2d_33 (Conv2D)              (None, 32, 32, 64)   36928       conv2d_32[0][0]                  \n",
      "__________________________________________________________________________________________________\n",
      "batch_normalization_14 (BatchNo (None, 32, 32, 64)   256         conv2d_33[0][0]                  \n",
      "__________________________________________________________________________________________________\n",
      "re_lu_7 (ReLU)                  (None, 32, 32, 64)   0           batch_normalization_14[0][0]     \n",
      "__________________________________________________________________________________________________\n",
      "conv2d_34 (Conv2D)              (None, 32, 32, 64)   36928       re_lu_7[0][0]                    \n",
      "__________________________________________________________________________________________________\n",
      "batch_normalization_15 (BatchNo (None, 32, 32, 64)   256         conv2d_34[0][0]                  \n",
      "__________________________________________________________________________________________________\n",
      "add_7 (Add)                     (None, 32, 32, 64)   0           conv2d_32[0][0]                  \n",
      "                                                                 batch_normalization_15[0][0]     \n",
      "__________________________________________________________________________________________________\n",
      "re_lu_8 (ReLU)                  (None, 32, 32, 64)   0           add_7[0][0]                      \n",
      "==================================================================================================\n",
      "Total params: 76,160\n",
      "Trainable params: 75,904\n",
      "Non-trainable params: 256\n",
      "__________________________________________________________________________________________________\n"
     ]
    }
   ],
   "source": [
    "rb_model.summary()"
   ]
  },
  {
   "cell_type": "code",
   "execution_count": null,
   "metadata": {},
   "outputs": [],
   "source": [
    "keras.utils.plot_model(rb_model, show_shapes=True)"
   ]
  },
  {
   "cell_type": "code",
   "execution_count": null,
   "metadata": {},
   "outputs": [],
   "source": []
  },
  {
   "cell_type": "markdown",
   "metadata": {},
   "source": [
    "### 다중 출력 모델\n",
    "- 가정\n",
    "    - iris 데이터셋에서 꽃받침의 너비와 높이로 꽃입의 너비, 높이, 꽃 종류를 예측하는 모델\n",
    "    - 출력결과가 3개가 나와야 한다.\n",
    "- X: 꽃받침 너비, 높이\n",
    "- y: 꽃잎 너비, 높이, 꽃 종류"
   ]
  },
  {
   "cell_type": "code",
   "execution_count": 39,
   "metadata": {},
   "outputs": [
    {
     "data": {
      "text/plain": [
       "((150, 4), (150,))"
      ]
     },
     "execution_count": 39,
     "metadata": {},
     "output_type": "execute_result"
    }
   ],
   "source": [
    "from sklearn.datasets import load_iris\n",
    "\n",
    "X, y = load_iris(return_X_y = True)\n",
    "X.shape, y.shape"
   ]
  },
  {
   "cell_type": "code",
   "execution_count": 40,
   "metadata": {},
   "outputs": [
    {
     "data": {
      "text/plain": [
       "((150, 2), (150,), (150,), (150,))"
      ]
     },
     "execution_count": 40,
     "metadata": {},
     "output_type": "execute_result"
    }
   ],
   "source": [
    "# 꽃잎 너비 : y1, 꽃잎 높이 : y2, 꽃 종류 : y3\n",
    "# X : [꽃받침 너비, 높이]\n",
    "\n",
    "y1 = X[:,2]\n",
    "y2 = X[:,3]\n",
    "y3 = y\n",
    "\n",
    "X = X[:,[0,1]]\n",
    "X.shape, y1.shape, y2.shape, y3.shape"
   ]
  },
  {
   "cell_type": "code",
   "execution_count": 41,
   "metadata": {},
   "outputs": [],
   "source": [
    "#모델 정의 - 입력 : X, 출력 : y1, y2, y3(다중 출력)\n",
    "input_tensor = layers.Input(shape = (2,))\n",
    "#hidden\n",
    "x = layers.Dense(units=16, activation='relu')(input_tensor)\n",
    "x = layers.Dense(units=8, activation='relu')(x)\n",
    "\n",
    "#출력\n",
    "output_1 = layers.Dense(units=1, name='petal_width_output')(x) #곷잎의 너비 = 연속형 >> 회귀문제 >> units=1, activation=None\n",
    "output_2 = layers.Dense(units=1, name='petal_length_output')(x) #꽃잎의 너비 = 연속형 >> 회귀문제\n",
    "output_3 = layers.Dense(units=3, activation='softmax', name = 'species')(x) #꽃을 종류 = 다중 분류 범주형 >> units = 클래스의개수 , activation = 'softmax'\n",
    "\n",
    "#o = layers.concatenate([o1, o2, o3])\n",
    "#layers.Dense(...)(o)\n",
    "\n",
    "#모델\n",
    "model = models.Model(input_tensor, [output_1, output_2, output_3]) #input/output이 여러개일 경우 list로 묶어서 전달\n"
   ]
  },
  {
   "cell_type": "code",
   "execution_count": 42,
   "metadata": {},
   "outputs": [
    {
     "name": "stdout",
     "output_type": "stream",
     "text": [
      "Model: \"model_6\"\n",
      "__________________________________________________________________________________________________\n",
      "Layer (type)                    Output Shape         Param #     Connected to                     \n",
      "==================================================================================================\n",
      "input_22 (InputLayer)           [(None, 2)]          0                                            \n",
      "__________________________________________________________________________________________________\n",
      "dense_12 (Dense)                (None, 16)           48          input_22[0][0]                   \n",
      "__________________________________________________________________________________________________\n",
      "dense_13 (Dense)                (None, 8)            136         dense_12[0][0]                   \n",
      "__________________________________________________________________________________________________\n",
      "petal_width_output (Dense)      (None, 1)            9           dense_13[0][0]                   \n",
      "__________________________________________________________________________________________________\n",
      "petal_length_output (Dense)     (None, 1)            9           dense_13[0][0]                   \n",
      "__________________________________________________________________________________________________\n",
      "species (Dense)                 (None, 3)            27          dense_13[0][0]                   \n",
      "==================================================================================================\n",
      "Total params: 229\n",
      "Trainable params: 229\n",
      "Non-trainable params: 0\n",
      "__________________________________________________________________________________________________\n"
     ]
    }
   ],
   "source": [
    "model.summary()"
   ]
  },
  {
   "cell_type": "code",
   "execution_count": 43,
   "metadata": {},
   "outputs": [
    {
     "data": {
      "image/png": "[encoded data removed]",
      "text/plain": [
       "<IPython.core.display.Image object>"
      ]
     },
     "execution_count": 43,
     "metadata": {},
     "output_type": "execute_result"
    }
   ],
   "source": [
    "keras.utils.plot_model(model, show_shapes=True)"
   ]
  },
  {
   "cell_type": "code",
   "execution_count": 44,
   "metadata": {},
   "outputs": [],
   "source": [
    "#컴파일\n",
    "model.compile(optimizer='adam',\n",
    "              loss=['mse', 'mse', 'sparse_categorical_crossentropy']) \n",
    "#예측결과가 3개에 대한 각각의 loss함수를 순서대로 리스트로 묶어서 전달\n",
    "#sparse가 왜 붙어있냐 >> y(정답)를  내부적으로 onehotencoding을 처리 후 오차계산을 해준다"
   ]
  },
  {
   "cell_type": "code",
   "execution_count": 45,
   "metadata": {
    "scrolled": false
   },
   "outputs": [
    {
     "name": "stdout",
     "output_type": "stream",
     "text": [
      "Epoch 1/100\n",
      "5/5 [==============================] - 6s 104ms/step - loss: 27.9916 - petal_width_output_loss: 24.5220 - petal_length_output_loss: 1.9191 - species_loss: 1.5504 - val_loss: 43.9661 - val_petal_width_output_loss: 40.3625 - val_petal_length_output_loss: 0.1290 - val_species_loss: 3.4746\n",
      "Epoch 2/100\n",
      "5/5 [==============================] - 0s 13ms/step - loss: 25.8318 - petal_width_output_loss: 22.7344 - petal_length_output_loss: 1.6349 - species_loss: 1.4626 - val_loss: 41.6427 - val_petal_width_output_loss: 38.3492 - val_petal_length_output_loss: 0.0706 - val_species_loss: 3.2229\n",
      "Epoch 3/100\n",
      "5/5 [==============================] - 0s 9ms/step - loss: 24.2130 - petal_width_output_loss: 21.4494 - petal_length_output_loss: 1.3628 - species_loss: 1.4007 - val_loss: 39.6165 - val_petal_width_output_loss: 36.5932 - val_petal_length_output_loss: 0.0368 - val_species_loss: 2.9865\n",
      "Epoch 4/100\n",
      "5/5 [==============================] - 0s 8ms/step - loss: 22.8507 - petal_width_output_loss: 20.3760 - petal_length_output_loss: 1.1313 - species_loss: 1.3434 - val_loss: 38.0323 - val_petal_width_output_loss: 35.2151 - val_petal_length_output_loss: 0.0350 - val_species_loss: 2.7822\n",
      "Epoch 5/100\n",
      "5/5 [==============================] - 0s 9ms/step - loss: 21.7321 - petal_width_output_loss: 19.4990 - petal_length_output_loss: 0.9356 - species_loss: 1.2975 - val_loss: 36.6078 - val_petal_width_output_loss: 33.9513 - val_petal_length_output_loss: 0.0653 - val_species_loss: 2.5911\n",
      "Epoch 6/100\n",
      "5/5 [==============================] - 0s 9ms/step - loss: 20.7546 - petal_width_output_loss: 18.7155 - petal_length_output_loss: 0.7765 - species_loss: 1.2626 - val_loss: 35.3408 - val_petal_width_output_loss: 32.7961 - val_petal_length_output_loss: 0.1198 - val_species_loss: 2.4250\n",
      "Epoch 7/100\n",
      "5/5 [==============================] - 0s 8ms/step - loss: 19.9781 - petal_width_output_loss: 18.1001 - petal_length_output_loss: 0.6548 - species_loss: 1.2232 - val_loss: 34.6303 - val_petal_width_output_loss: 32.1185 - val_petal_length_output_loss: 0.2018 - val_species_loss: 2.3100\n",
      "Epoch 8/100\n",
      "5/5 [==============================] - 0s 10ms/step - loss: 19.4222 - petal_width_output_loss: 17.6671 - petal_length_output_loss: 0.5506 - species_loss: 1.2045 - val_loss: 33.9704 - val_petal_width_output_loss: 31.4644 - val_petal_length_output_loss: 0.3077 - val_species_loss: 2.1984\n",
      "Epoch 9/100\n",
      "5/5 [==============================] - 0s 8ms/step - loss: 18.9183 - petal_width_output_loss: 17.2555 - petal_length_output_loss: 0.4746 - species_loss: 1.1882 - val_loss: 33.3640 - val_petal_width_output_loss: 30.8375 - val_petal_length_output_loss: 0.4314 - val_species_loss: 2.0950\n",
      "Epoch 10/100\n",
      "5/5 [==============================] - 0s 7ms/step - loss: 18.4601 - petal_width_output_loss: 16.8634 - petal_length_output_loss: 0.4215 - species_loss: 1.1753 - val_loss: 32.8027 - val_petal_width_output_loss: 30.2384 - val_petal_length_output_loss: 0.5647 - val_species_loss: 1.9995\n",
      "Epoch 11/100\n",
      "5/5 [==============================] - 0s 8ms/step - loss: 18.0432 - petal_width_output_loss: 16.4877 - petal_length_output_loss: 0.3935 - species_loss: 1.1621 - val_loss: 32.2955 - val_petal_width_output_loss: 29.6790 - val_petal_length_output_loss: 0.7013 - val_species_loss: 1.9153\n",
      "Epoch 12/100\n",
      "5/5 [==============================] - 0s 8ms/step - loss: 17.6822 - petal_width_output_loss: 16.1488 - petal_length_output_loss: 0.3782 - species_loss: 1.1552 - val_loss: 31.8543 - val_petal_width_output_loss: 29.1798 - val_petal_length_output_loss: 0.8330 - val_species_loss: 1.8415\n",
      "Epoch 13/100\n",
      "5/5 [==============================] - 0s 8ms/step - loss: 17.3723 - petal_width_output_loss: 15.8429 - petal_length_output_loss: 0.3792 - species_loss: 1.1502 - val_loss: 31.4339 - val_petal_width_output_loss: 28.7077 - val_petal_length_output_loss: 0.9476 - val_species_loss: 1.7786\n",
      "Epoch 14/100\n",
      "5/5 [==============================] - 0s 8ms/step - loss: 17.0747 - petal_width_output_loss: 15.5459 - petal_length_output_loss: 0.3855 - species_loss: 1.1433 - val_loss: 31.0439 - val_petal_width_output_loss: 28.2686 - val_petal_length_output_loss: 1.0484 - val_species_loss: 1.7270\n",
      "Epoch 15/100\n",
      "5/5 [==============================] - 0s 8ms/step - loss: 16.8088 - petal_width_output_loss: 15.2744 - petal_length_output_loss: 0.3939 - species_loss: 1.1405 - val_loss: 30.6611 - val_petal_width_output_loss: 27.8420 - val_petal_length_output_loss: 1.1383 - val_species_loss: 1.6808\n",
      "Epoch 16/100\n",
      "5/5 [==============================] - 0s 9ms/step - loss: 16.5756 - petal_width_output_loss: 15.0297 - petal_length_output_loss: 0.4131 - species_loss: 1.1328 - val_loss: 30.3267 - val_petal_width_output_loss: 27.4778 - val_petal_length_output_loss: 1.2039 - val_species_loss: 1.6449\n",
      "Epoch 17/100\n",
      "5/5 [==============================] - 0s 8ms/step - loss: 16.4047 - petal_width_output_loss: 14.8536 - petal_length_output_loss: 0.4271 - species_loss: 1.1240 - val_loss: 30.1407 - val_petal_width_output_loss: 27.3119 - val_petal_length_output_loss: 1.1910 - val_species_loss: 1.6378\n",
      "Epoch 18/100\n",
      "5/5 [==============================] - 0s 8ms/step - loss: 16.3044 - petal_width_output_loss: 14.7566 - petal_length_output_loss: 0.4253 - species_loss: 1.1225 - val_loss: 29.9519 - val_petal_width_output_loss: 27.1645 - val_petal_length_output_loss: 1.1484 - val_species_loss: 1.6390\n",
      "Epoch 19/100\n",
      "5/5 [==============================] - 0s 9ms/step - loss: 16.2042 - petal_width_output_loss: 14.6620 - petal_length_output_loss: 0.4200 - species_loss: 1.1223 - val_loss: 29.7566 - val_petal_width_output_loss: 27.0133 - val_petal_length_output_loss: 1.1020 - val_species_loss: 1.6413\n",
      "Epoch 20/100\n",
      "5/5 [==============================] - 0s 8ms/step - loss: 16.0996 - petal_width_output_loss: 14.5638 - petal_length_output_loss: 0.4136 - species_loss: 1.1223 - val_loss: 29.5565 - val_petal_width_output_loss: 26.8574 - val_petal_length_output_loss: 1.0535 - val_species_loss: 1.6456\n",
      "Epoch 21/100\n",
      "5/5 [==============================] - 0s 8ms/step - loss: 15.9940 - petal_width_output_loss: 14.4631 - petal_length_output_loss: 0.4086 - species_loss: 1.1223 - val_loss: 29.3402 - val_petal_width_output_loss: 26.6915 - val_petal_length_output_loss: 0.9983 - val_species_loss: 1.6505\n",
      "Epoch 22/100\n",
      "5/5 [==============================] - 0s 8ms/step - loss: 15.8862 - petal_width_output_loss: 14.3589 - petal_length_output_loss: 0.4049 - species_loss: 1.1225 - val_loss: 29.1219 - val_petal_width_output_loss: 26.5215 - val_petal_length_output_loss: 0.9445 - val_species_loss: 1.6559\n",
      "Epoch 23/100\n",
      "5/5 [==============================] - 0s 10ms/step - loss: 15.7737 - petal_width_output_loss: 14.2498 - petal_length_output_loss: 0.4010 - species_loss: 1.1229 - val_loss: 28.8991 - val_petal_width_output_loss: 26.3453 - val_petal_length_output_loss: 0.8917 - val_species_loss: 1.6622\n",
      "Epoch 24/100\n",
      "5/5 [==============================] - 0s 8ms/step - loss: 15.6640 - petal_width_output_loss: 14.1402 - petal_length_output_loss: 0.4009 - species_loss: 1.1229 - val_loss: 28.6642 - val_petal_width_output_loss: 26.1596 - val_petal_length_output_loss: 0.8374 - val_species_loss: 1.6672\n",
      "Epoch 25/100\n",
      "5/5 [==============================] - 0s 8ms/step - loss: 15.5454 - petal_width_output_loss: 14.0214 - petal_length_output_loss: 0.4006 - species_loss: 1.1233 - val_loss: 28.4235 - val_petal_width_output_loss: 25.9655 - val_petal_length_output_loss: 0.7834 - val_species_loss: 1.6747\n",
      "Epoch 26/100\n",
      "5/5 [==============================] - 0s 8ms/step - loss: 15.4287 - petal_width_output_loss: 13.9006 - petal_length_output_loss: 0.4041 - species_loss: 1.1240 - val_loss: 28.1687 - val_petal_width_output_loss: 25.7586 - val_petal_length_output_loss: 0.7274 - val_species_loss: 1.6827\n",
      "Epoch 27/100\n",
      "5/5 [==============================] - 0s 8ms/step - loss: 15.3037 - petal_width_output_loss: 13.7715 - petal_length_output_loss: 0.4077 - species_loss: 1.1245 - val_loss: 27.9105 - val_petal_width_output_loss: 25.5464 - val_petal_length_output_loss: 0.6768 - val_species_loss: 1.6874\n",
      "Epoch 28/100\n"
     ]
    },
    {
     "name": "stdout",
     "output_type": "stream",
     "text": [
      "5/5 [==============================] - 0s 10ms/step - loss: 15.1744 - petal_width_output_loss: 13.6377 - petal_length_output_loss: 0.4121 - species_loss: 1.1246 - val_loss: 27.6526 - val_petal_width_output_loss: 25.3309 - val_petal_length_output_loss: 0.6322 - val_species_loss: 1.6896\n",
      "Epoch 29/100\n",
      "5/5 [==============================] - 0s 8ms/step - loss: 15.0413 - petal_width_output_loss: 13.5000 - petal_length_output_loss: 0.4167 - species_loss: 1.1246 - val_loss: 27.3881 - val_petal_width_output_loss: 25.1063 - val_petal_length_output_loss: 0.5900 - val_species_loss: 1.6918\n",
      "Epoch 30/100\n",
      "5/5 [==============================] - 0s 8ms/step - loss: 14.9106 - petal_width_output_loss: 13.3605 - petal_length_output_loss: 0.4257 - species_loss: 1.1244 - val_loss: 27.1091 - val_petal_width_output_loss: 24.8689 - val_petal_length_output_loss: 0.5464 - val_species_loss: 1.6938\n",
      "Epoch 31/100\n",
      "5/5 [==============================] - 0s 8ms/step - loss: 14.7758 - petal_width_output_loss: 13.2148 - petal_length_output_loss: 0.4367 - species_loss: 1.1242 - val_loss: 26.8186 - val_petal_width_output_loss: 24.6200 - val_petal_length_output_loss: 0.5039 - val_species_loss: 1.6947\n",
      "Epoch 32/100\n",
      "5/5 [==============================] - 0s 8ms/step - loss: 14.6291 - petal_width_output_loss: 13.0603 - petal_length_output_loss: 0.4446 - species_loss: 1.1242 - val_loss: 26.5435 - val_petal_width_output_loss: 24.3758 - val_petal_length_output_loss: 0.4712 - val_species_loss: 1.6965\n",
      "Epoch 33/100\n",
      "5/5 [==============================] - 0s 8ms/step - loss: 14.4908 - petal_width_output_loss: 12.9111 - petal_length_output_loss: 0.4557 - species_loss: 1.1240 - val_loss: 26.2570 - val_petal_width_output_loss: 24.1193 - val_petal_length_output_loss: 0.4389 - val_species_loss: 1.6988\n",
      "Epoch 34/100\n",
      "5/5 [==============================] - 0s 7ms/step - loss: 14.3427 - petal_width_output_loss: 12.7525 - petal_length_output_loss: 0.4662 - species_loss: 1.1240 - val_loss: 25.9694 - val_petal_width_output_loss: 23.8571 - val_petal_length_output_loss: 0.4093 - val_species_loss: 1.7030\n",
      "Epoch 35/100\n",
      "5/5 [==============================] - 0s 7ms/step - loss: 14.1904 - petal_width_output_loss: 12.5880 - petal_length_output_loss: 0.4781 - species_loss: 1.1243 - val_loss: 25.6681 - val_petal_width_output_loss: 23.5824 - val_petal_length_output_loss: 0.3793 - val_species_loss: 1.7065\n",
      "Epoch 36/100\n",
      "5/5 [==============================] - 0s 7ms/step - loss: 14.0369 - petal_width_output_loss: 12.4205 - petal_length_output_loss: 0.4918 - species_loss: 1.1246 - val_loss: 25.3607 - val_petal_width_output_loss: 23.2985 - val_petal_length_output_loss: 0.3521 - val_species_loss: 1.7101\n",
      "Epoch 37/100\n",
      "5/5 [==============================] - 0s 10ms/step - loss: 13.8746 - petal_width_output_loss: 12.2462 - petal_length_output_loss: 0.5036 - species_loss: 1.1248 - val_loss: 25.0527 - val_petal_width_output_loss: 23.0115 - val_petal_length_output_loss: 0.3300 - val_species_loss: 1.7112\n",
      "Epoch 38/100\n",
      "5/5 [==============================] - 0s 8ms/step - loss: 13.7188 - petal_width_output_loss: 12.0748 - petal_length_output_loss: 0.5194 - species_loss: 1.1246 - val_loss: 24.7267 - val_petal_width_output_loss: 22.7067 - val_petal_length_output_loss: 0.3063 - val_species_loss: 1.7138\n",
      "Epoch 39/100\n",
      "5/5 [==============================] - 0s 9ms/step - loss: 13.5464 - petal_width_output_loss: 11.8896 - petal_length_output_loss: 0.5320 - species_loss: 1.1248 - val_loss: 24.4059 - val_petal_width_output_loss: 22.4015 - val_petal_length_output_loss: 0.2882 - val_species_loss: 1.7162\n",
      "Epoch 40/100\n",
      "5/5 [==============================] - 0s 7ms/step - loss: 13.3738 - petal_width_output_loss: 11.7073 - petal_length_output_loss: 0.5418 - species_loss: 1.1247 - val_loss: 24.0902 - val_petal_width_output_loss: 22.0986 - val_petal_length_output_loss: 0.2757 - val_species_loss: 1.7159\n",
      "Epoch 41/100\n",
      "5/5 [==============================] - 0s 10ms/step - loss: 13.1987 - petal_width_output_loss: 11.5231 - petal_length_output_loss: 0.5515 - species_loss: 1.1241 - val_loss: 23.7587 - val_petal_width_output_loss: 21.7807 - val_petal_length_output_loss: 0.2620 - val_species_loss: 1.7159\n",
      "Epoch 42/100\n",
      "5/5 [==============================] - 0s 8ms/step - loss: 13.0164 - petal_width_output_loss: 11.3303 - petal_length_output_loss: 0.5626 - species_loss: 1.1235 - val_loss: 23.4015 - val_petal_width_output_loss: 21.4420 - val_petal_length_output_loss: 0.2461 - val_species_loss: 1.7133\n",
      "Epoch 43/100\n",
      "5/5 [==============================] - 0s 7ms/step - loss: 12.8305 - petal_width_output_loss: 11.1310 - petal_length_output_loss: 0.5765 - species_loss: 1.1229 - val_loss: 23.0402 - val_petal_width_output_loss: 21.0974 - val_petal_length_output_loss: 0.2322 - val_species_loss: 1.7106\n",
      "Epoch 44/100\n",
      "5/5 [==============================] - 0s 8ms/step - loss: 12.6282 - petal_width_output_loss: 10.9198 - petal_length_output_loss: 0.5857 - species_loss: 1.1226 - val_loss: 22.6805 - val_petal_width_output_loss: 20.7460 - val_petal_length_output_loss: 0.2207 - val_species_loss: 1.7138\n",
      "Epoch 45/100\n",
      "5/5 [==============================] - 0s 9ms/step - loss: 12.4287 - petal_width_output_loss: 10.7088 - petal_length_output_loss: 0.5973 - species_loss: 1.1226 - val_loss: 22.2926 - val_petal_width_output_loss: 20.3722 - val_petal_length_output_loss: 0.2073 - val_species_loss: 1.7131\n",
      "Epoch 46/100\n",
      "5/5 [==============================] - 0s 7ms/step - loss: 12.2225 - petal_width_output_loss: 10.4882 - petal_length_output_loss: 0.6123 - species_loss: 1.1220 - val_loss: 21.8755 - val_petal_width_output_loss: 19.9745 - val_petal_length_output_loss: 0.1927 - val_species_loss: 1.7083\n",
      "Epoch 47/100\n",
      "5/5 [==============================] - 0s 8ms/step - loss: 12.0024 - petal_width_output_loss: 10.2540 - petal_length_output_loss: 0.6269 - species_loss: 1.1215 - val_loss: 21.4504 - val_petal_width_output_loss: 19.5665 - val_petal_length_output_loss: 0.1797 - val_species_loss: 1.7041\n",
      "Epoch 48/100\n",
      "5/5 [==============================] - 0s 8ms/step - loss: 11.7692 - petal_width_output_loss: 10.0069 - petal_length_output_loss: 0.6416 - species_loss: 1.1207 - val_loss: 21.0057 - val_petal_width_output_loss: 19.1399 - val_petal_length_output_loss: 0.1662 - val_species_loss: 1.6995\n",
      "Epoch 49/100\n",
      "5/5 [==============================] - 0s 8ms/step - loss: 11.5386 - petal_width_output_loss: 9.7609 - petal_length_output_loss: 0.6578 - species_loss: 1.1198 - val_loss: 20.5451 - val_petal_width_output_loss: 18.6981 - val_petal_length_output_loss: 0.1550 - val_species_loss: 1.6920\n",
      "Epoch 50/100\n",
      "5/5 [==============================] - 0s 8ms/step - loss: 11.2994 - petal_width_output_loss: 9.5076 - petal_length_output_loss: 0.6729 - species_loss: 1.1189 - val_loss: 20.0704 - val_petal_width_output_loss: 18.2415 - val_petal_length_output_loss: 0.1454 - val_species_loss: 1.6835\n",
      "Epoch 51/100\n",
      "5/5 [==============================] - 0s 9ms/step - loss: 11.0597 - petal_width_output_loss: 9.2539 - petal_length_output_loss: 0.6876 - species_loss: 1.1181 - val_loss: 19.5956 - val_petal_width_output_loss: 17.7812 - val_petal_length_output_loss: 0.1379 - val_species_loss: 1.6765\n",
      "Epoch 52/100\n",
      "5/5 [==============================] - 0s 9ms/step - loss: 10.8006 - petal_width_output_loss: 8.9879 - petal_length_output_loss: 0.6955 - species_loss: 1.1172 - val_loss: 19.1316 - val_petal_width_output_loss: 17.3253 - val_petal_length_output_loss: 0.1340 - val_species_loss: 1.6723\n",
      "Epoch 53/100\n",
      "5/5 [==============================] - 0s 8ms/step - loss: 10.5461 - petal_width_output_loss: 8.7257 - petal_length_output_loss: 0.7036 - species_loss: 1.1167 - val_loss: 18.6374 - val_petal_width_output_loss: 16.8397 - val_petal_length_output_loss: 0.1282 - val_species_loss: 1.6694\n",
      "Epoch 54/100\n",
      "5/5 [==============================] - 0s 9ms/step - loss: 10.2791 - petal_width_output_loss: 8.4504 - petal_length_output_loss: 0.7120 - species_loss: 1.1166 - val_loss: 18.1436 - val_petal_width_output_loss: 16.3477 - val_petal_length_output_loss: 0.1241 - val_species_loss: 1.6719\n",
      "Epoch 55/100\n"
     ]
    },
    {
     "name": "stdout",
     "output_type": "stream",
     "text": [
      "5/5 [==============================] - 0s 8ms/step - loss: 10.0069 - petal_width_output_loss: 8.1735 - petal_length_output_loss: 0.7166 - species_loss: 1.1168 - val_loss: 17.6537 - val_petal_width_output_loss: 15.8602 - val_petal_length_output_loss: 0.1227 - val_species_loss: 1.6707\n",
      "Epoch 56/100\n",
      "5/5 [==============================] - 0s 8ms/step - loss: 9.7420 - petal_width_output_loss: 7.9033 - petal_length_output_loss: 0.7227 - species_loss: 1.1161 - val_loss: 17.0996 - val_petal_width_output_loss: 15.3224 - val_petal_length_output_loss: 0.1173 - val_species_loss: 1.6599\n",
      "Epoch 57/100\n",
      "5/5 [==============================] - 0s 9ms/step - loss: 9.4526 - petal_width_output_loss: 7.6056 - petal_length_output_loss: 0.7318 - species_loss: 1.1151 - val_loss: 16.5319 - val_petal_width_output_loss: 14.7708 - val_petal_length_output_loss: 0.1127 - val_species_loss: 1.6484\n",
      "Epoch 58/100\n",
      "5/5 [==============================] - 0s 13ms/step - loss: 9.1639 - petal_width_output_loss: 7.3092 - petal_length_output_loss: 0.7405 - species_loss: 1.1141 - val_loss: 15.9527 - val_petal_width_output_loss: 14.2040 - val_petal_length_output_loss: 0.1089 - val_species_loss: 1.6397\n",
      "Epoch 59/100\n",
      "5/5 [==============================] - 0s 10ms/step - loss: 8.8623 - petal_width_output_loss: 7.0021 - petal_length_output_loss: 0.7470 - species_loss: 1.1132 - val_loss: 15.3606 - val_petal_width_output_loss: 13.6297 - val_petal_length_output_loss: 0.1063 - val_species_loss: 1.6247\n",
      "Epoch 60/100\n",
      "5/5 [==============================] - 0s 12ms/step - loss: 8.5674 - petal_width_output_loss: 6.7037 - petal_length_output_loss: 0.7519 - species_loss: 1.1118 - val_loss: 14.7621 - val_petal_width_output_loss: 13.0527 - val_petal_length_output_loss: 0.1053 - val_species_loss: 1.6042\n",
      "Epoch 61/100\n",
      "5/5 [==============================] - 0s 10ms/step - loss: 8.2699 - petal_width_output_loss: 6.4074 - petal_length_output_loss: 0.7527 - species_loss: 1.1097 - val_loss: 14.1842 - val_petal_width_output_loss: 12.4901 - val_petal_length_output_loss: 0.1074 - val_species_loss: 1.5867\n",
      "Epoch 62/100\n",
      "5/5 [==============================] - 0s 13ms/step - loss: 7.9787 - petal_width_output_loss: 6.1253 - petal_length_output_loss: 0.7454 - species_loss: 1.1081 - val_loss: 13.6336 - val_petal_width_output_loss: 11.9525 - val_petal_length_output_loss: 0.1139 - val_species_loss: 1.5673\n",
      "Epoch 63/100\n",
      "5/5 [==============================] - 0s 9ms/step - loss: 7.6986 - petal_width_output_loss: 5.8567 - petal_length_output_loss: 0.7346 - species_loss: 1.1073 - val_loss: 13.0511 - val_petal_width_output_loss: 11.3887 - val_petal_length_output_loss: 0.1187 - val_species_loss: 1.5437\n",
      "Epoch 64/100\n",
      "5/5 [==============================] - 0s 10ms/step - loss: 7.4005 - petal_width_output_loss: 5.5688 - petal_length_output_loss: 0.7266 - species_loss: 1.1051 - val_loss: 12.4702 - val_petal_width_output_loss: 10.8174 - val_petal_length_output_loss: 0.1234 - val_species_loss: 1.5294\n",
      "Epoch 65/100\n",
      "5/5 [==============================] - 0s 9ms/step - loss: 7.1179 - petal_width_output_loss: 5.2957 - petal_length_output_loss: 0.7183 - species_loss: 1.1040 - val_loss: 11.8819 - val_petal_width_output_loss: 10.2416 - val_petal_length_output_loss: 0.1286 - val_species_loss: 1.5117\n",
      "Epoch 66/100\n",
      "5/5 [==============================] - 0s 9ms/step - loss: 6.8353 - petal_width_output_loss: 5.0222 - petal_length_output_loss: 0.7104 - species_loss: 1.1028 - val_loss: 11.2839 - val_petal_width_output_loss: 9.6555 - val_petal_length_output_loss: 0.1333 - val_species_loss: 1.4951\n",
      "Epoch 67/100\n",
      "5/5 [==============================] - 0s 10ms/step - loss: 6.5592 - petal_width_output_loss: 4.7521 - petal_length_output_loss: 0.7051 - species_loss: 1.1020 - val_loss: 10.6626 - val_petal_width_output_loss: 9.0559 - val_petal_length_output_loss: 0.1364 - val_species_loss: 1.4704\n",
      "Epoch 68/100\n",
      "5/5 [==============================] - 0s 9ms/step - loss: 6.2798 - petal_width_output_loss: 4.4827 - petal_length_output_loss: 0.6966 - species_loss: 1.1005 - val_loss: 10.1103 - val_petal_width_output_loss: 8.5087 - val_petal_length_output_loss: 0.1469 - val_species_loss: 1.4547\n",
      "Epoch 69/100\n",
      "5/5 [==============================] - 0s 9ms/step - loss: 6.0370 - petal_width_output_loss: 4.2559 - petal_length_output_loss: 0.6809 - species_loss: 1.1003 - val_loss: 9.5786 - val_petal_width_output_loss: 7.9763 - val_petal_length_output_loss: 0.1593 - val_species_loss: 1.4430\n",
      "Epoch 70/100\n",
      "5/5 [==============================] - 0s 9ms/step - loss: 5.8043 - petal_width_output_loss: 4.0434 - petal_length_output_loss: 0.6610 - species_loss: 1.0999 - val_loss: 9.1118 - val_petal_width_output_loss: 7.4937 - val_petal_length_output_loss: 0.1796 - val_species_loss: 1.4384\n",
      "Epoch 71/100\n",
      "5/5 [==============================] - 0s 9ms/step - loss: 5.5770 - petal_width_output_loss: 3.8416 - petal_length_output_loss: 0.6358 - species_loss: 1.0995 - val_loss: 8.6729 - val_petal_width_output_loss: 7.0384 - val_petal_length_output_loss: 0.2039 - val_species_loss: 1.4306\n",
      "Epoch 72/100\n",
      "5/5 [==============================] - 0s 10ms/step - loss: 5.3755 - petal_width_output_loss: 3.6642 - petal_length_output_loss: 0.6125 - species_loss: 1.0988 - val_loss: 8.1991 - val_petal_width_output_loss: 6.5654 - val_petal_length_output_loss: 0.2241 - val_species_loss: 1.4095\n",
      "Epoch 73/100\n",
      "5/5 [==============================] - 0s 11ms/step - loss: 5.1769 - petal_width_output_loss: 3.4864 - petal_length_output_loss: 0.5925 - species_loss: 1.0980 - val_loss: 7.7756 - val_petal_width_output_loss: 6.1329 - val_petal_length_output_loss: 0.2497 - val_species_loss: 1.3930\n",
      "Epoch 74/100\n",
      "5/5 [==============================] - 0s 9ms/step - loss: 5.0016 - petal_width_output_loss: 3.3321 - petal_length_output_loss: 0.5717 - species_loss: 1.0978 - val_loss: 7.3589 - val_petal_width_output_loss: 5.7088 - val_petal_length_output_loss: 0.2740 - val_species_loss: 1.3760\n",
      "Epoch 75/100\n",
      "5/5 [==============================] - 0s 13ms/step - loss: 4.8354 - petal_width_output_loss: 3.1837 - petal_length_output_loss: 0.5545 - species_loss: 1.0972 - val_loss: 6.9530 - val_petal_width_output_loss: 5.2924 - val_petal_length_output_loss: 0.2969 - val_species_loss: 1.3636\n",
      "Epoch 76/100\n",
      "5/5 [==============================] - 0s 15ms/step - loss: 4.6953 - petal_width_output_loss: 3.0584 - petal_length_output_loss: 0.5395 - species_loss: 1.0974 - val_loss: 6.5697 - val_petal_width_output_loss: 4.8945 - val_petal_length_output_loss: 0.3211 - val_species_loss: 1.3541\n",
      "Epoch 77/100\n",
      "5/5 [==============================] - 0s 12ms/step - loss: 4.5583 - petal_width_output_loss: 2.9387 - petal_length_output_loss: 0.5223 - species_loss: 1.0972 - val_loss: 6.3087 - val_petal_width_output_loss: 4.5887 - val_petal_length_output_loss: 0.3604 - val_species_loss: 1.3596\n",
      "Epoch 78/100\n",
      "5/5 [==============================] - 0s 12ms/step - loss: 4.4508 - petal_width_output_loss: 2.8507 - petal_length_output_loss: 0.5030 - species_loss: 1.0972 - val_loss: 6.0420 - val_petal_width_output_loss: 4.2883 - val_petal_length_output_loss: 0.3954 - val_species_loss: 1.3583\n",
      "Epoch 79/100\n",
      "5/5 [==============================] - 0s 15ms/step - loss: 4.3632 - petal_width_output_loss: 2.7787 - petal_length_output_loss: 0.4873 - species_loss: 1.0972 - val_loss: 5.7883 - val_petal_width_output_loss: 4.0011 - val_petal_length_output_loss: 0.4287 - val_species_loss: 1.3585\n",
      "Epoch 80/100\n",
      "5/5 [==============================] - 0s 12ms/step - loss: 4.2773 - petal_width_output_loss: 2.7065 - petal_length_output_loss: 0.4736 - species_loss: 1.0971 - val_loss: 5.5974 - val_petal_width_output_loss: 3.7713 - val_petal_length_output_loss: 0.4704 - val_species_loss: 1.3558\n",
      "Epoch 81/100\n",
      "5/5 [==============================] - 0s 9ms/step - loss: 4.2092 - petal_width_output_loss: 2.6507 - petal_length_output_loss: 0.4613 - species_loss: 1.0971 - val_loss: 5.4073 - val_petal_width_output_loss: 3.5422 - val_petal_length_output_loss: 0.5051 - val_species_loss: 1.3600\n",
      "Epoch 82/100\n",
      "5/5 [==============================] - 0s 9ms/step - loss: 4.1562 - petal_width_output_loss: 2.6073 - petal_length_output_loss: 0.4516 - species_loss: 1.0972 - val_loss: 5.2008 - val_petal_width_output_loss: 3.3205 - val_petal_length_output_loss: 0.5333 - val_species_loss: 1.3470\n"
     ]
    },
    {
     "name": "stdout",
     "output_type": "stream",
     "text": [
      "Epoch 83/100\n",
      "5/5 [==============================] - 0s 10ms/step - loss: 4.1022 - petal_width_output_loss: 2.5610 - petal_length_output_loss: 0.4444 - species_loss: 1.0969 - val_loss: 5.0713 - val_petal_width_output_loss: 3.1638 - val_petal_length_output_loss: 0.5725 - val_species_loss: 1.3350\n",
      "Epoch 84/100\n",
      "5/5 [==============================] - 0s 12ms/step - loss: 4.0664 - petal_width_output_loss: 2.5346 - petal_length_output_loss: 0.4358 - species_loss: 1.0961 - val_loss: 4.9588 - val_petal_width_output_loss: 3.0263 - val_petal_length_output_loss: 0.6087 - val_species_loss: 1.3238\n",
      "Epoch 85/100\n",
      "5/5 [==============================] - 0s 9ms/step - loss: 4.0355 - petal_width_output_loss: 2.5092 - petal_length_output_loss: 0.4301 - species_loss: 1.0962 - val_loss: 4.8307 - val_petal_width_output_loss: 2.8881 - val_petal_length_output_loss: 0.6362 - val_species_loss: 1.3065\n",
      "Epoch 86/100\n",
      "5/5 [==============================] - 0s 11ms/step - loss: 4.0100 - petal_width_output_loss: 2.4879 - petal_length_output_loss: 0.4259 - species_loss: 1.0962 - val_loss: 4.7122 - val_petal_width_output_loss: 2.7572 - val_petal_length_output_loss: 0.6570 - val_species_loss: 1.2979\n",
      "Epoch 87/100\n",
      "5/5 [==============================] - 0s 11ms/step - loss: 3.9927 - petal_width_output_loss: 2.4731 - petal_length_output_loss: 0.4230 - species_loss: 1.0965 - val_loss: 4.6016 - val_petal_width_output_loss: 2.6360 - val_petal_length_output_loss: 0.6738 - val_species_loss: 1.2918\n",
      "Epoch 88/100\n",
      "5/5 [==============================] - 0s 9ms/step - loss: 3.9702 - petal_width_output_loss: 2.4535 - petal_length_output_loss: 0.4206 - species_loss: 1.0961 - val_loss: 4.5416 - val_petal_width_output_loss: 2.5562 - val_petal_length_output_loss: 0.6976 - val_species_loss: 1.2878\n",
      "Epoch 89/100\n",
      "5/5 [==============================] - 0s 10ms/step - loss: 3.9560 - petal_width_output_loss: 2.4416 - petal_length_output_loss: 0.4184 - species_loss: 1.0960 - val_loss: 4.4504 - val_petal_width_output_loss: 2.4667 - val_petal_length_output_loss: 0.7102 - val_species_loss: 1.2735\n",
      "Epoch 90/100\n",
      "5/5 [==============================] - 0s 8ms/step - loss: 3.9431 - petal_width_output_loss: 2.4299 - petal_length_output_loss: 0.4167 - species_loss: 1.0964 - val_loss: 4.3398 - val_petal_width_output_loss: 2.3722 - val_petal_length_output_loss: 0.7116 - val_species_loss: 1.2560\n",
      "Epoch 91/100\n",
      "5/5 [==============================] - 0s 11ms/step - loss: 3.9330 - petal_width_output_loss: 2.4205 - petal_length_output_loss: 0.4162 - species_loss: 1.0963 - val_loss: 4.2175 - val_petal_width_output_loss: 2.2694 - val_petal_length_output_loss: 0.7031 - val_species_loss: 1.2450\n",
      "Epoch 92/100\n",
      "5/5 [==============================] - 0s 16ms/step - loss: 3.9237 - petal_width_output_loss: 2.4113 - petal_length_output_loss: 0.4159 - species_loss: 1.0965 - val_loss: 4.1670 - val_petal_width_output_loss: 2.2122 - val_petal_length_output_loss: 0.7083 - val_species_loss: 1.2465\n",
      "Epoch 93/100\n",
      "5/5 [==============================] - 0s 12ms/step - loss: 3.9182 - petal_width_output_loss: 2.4070 - petal_length_output_loss: 0.4145 - species_loss: 1.0966 - val_loss: 4.1287 - val_petal_width_output_loss: 2.1636 - val_petal_length_output_loss: 0.7137 - val_species_loss: 1.2514\n",
      "Epoch 94/100\n",
      "5/5 [==============================] - 0s 15ms/step - loss: 3.9093 - petal_width_output_loss: 2.3998 - petal_length_output_loss: 0.4129 - species_loss: 1.0966 - val_loss: 4.1210 - val_petal_width_output_loss: 2.1454 - val_petal_length_output_loss: 0.7277 - val_species_loss: 1.2480\n",
      "Epoch 95/100\n",
      "5/5 [==============================] - 0s 12ms/step - loss: 3.9021 - petal_width_output_loss: 2.3941 - petal_length_output_loss: 0.4117 - species_loss: 1.0963 - val_loss: 4.1647 - val_petal_width_output_loss: 2.1519 - val_petal_length_output_loss: 0.7523 - val_species_loss: 1.2605\n",
      "Epoch 96/100\n",
      "5/5 [==============================] - 0s 13ms/step - loss: 3.8938 - petal_width_output_loss: 2.3880 - petal_length_output_loss: 0.4097 - species_loss: 1.0961 - val_loss: 4.1737 - val_petal_width_output_loss: 2.1421 - val_petal_length_output_loss: 0.7635 - val_species_loss: 1.2681\n",
      "Epoch 97/100\n",
      "5/5 [==============================] - 0s 13ms/step - loss: 3.8869 - petal_width_output_loss: 2.3824 - petal_length_output_loss: 0.4085 - species_loss: 1.0961 - val_loss: 4.1374 - val_petal_width_output_loss: 2.1026 - val_petal_length_output_loss: 0.7576 - val_species_loss: 1.2772\n",
      "Epoch 98/100\n",
      "5/5 [==============================] - 0s 15ms/step - loss: 3.8796 - petal_width_output_loss: 2.3760 - petal_length_output_loss: 0.4075 - species_loss: 1.0961 - val_loss: 4.1415 - val_petal_width_output_loss: 2.0874 - val_petal_length_output_loss: 0.7635 - val_species_loss: 1.2906\n",
      "Epoch 99/100\n",
      "5/5 [==============================] - 0s 12ms/step - loss: 3.8728 - petal_width_output_loss: 2.3703 - petal_length_output_loss: 0.4064 - species_loss: 1.0961 - val_loss: 4.1166 - val_petal_width_output_loss: 2.0590 - val_petal_length_output_loss: 0.7643 - val_species_loss: 1.2932\n",
      "Epoch 100/100\n",
      "5/5 [==============================] - 0s 12ms/step - loss: 3.8673 - petal_width_output_loss: 2.3653 - petal_length_output_loss: 0.4055 - species_loss: 1.0964 - val_loss: 4.0918 - val_petal_width_output_loss: 2.0339 - val_petal_length_output_loss: 0.7648 - val_species_loss: 1.2931\n"
     ]
    }
   ],
   "source": [
    "# 학습\n",
    "hist =model.fit(x=X, y=[y1, y2, y3],\n",
    "                 epochs=100, \n",
    "                 validation_split=0.1)"
   ]
  },
  {
   "cell_type": "code",
   "execution_count": 48,
   "metadata": {},
   "outputs": [
    {
     "data": {
      "text/plain": [
       "<TensorSliceDataset shapes: ((2,), ((), (), ())), types: (tf.float64, (tf.float64, tf.float64, tf.int32))>"
      ]
     },
     "execution_count": 48,
     "metadata": {},
     "output_type": "execute_result"
    }
   ],
   "source": [
    "tf.data.Dataset.from_tensor_slices((X, (y1,y2,y3)))"
   ]
  },
  {
   "cell_type": "code",
   "execution_count": 50,
   "metadata": {},
   "outputs": [
    {
     "data": {
      "text/plain": [
       "array([[5.1, 3.5]])"
      ]
     },
     "execution_count": 50,
     "metadata": {},
     "output_type": "execute_result"
    }
   ],
   "source": [
    "# 추론\n",
    "import numpy as np\n",
    "new_data = X[0]\n",
    "new_data = new_data[np.newaxis, ...]\n",
    "new_data"
   ]
  },
  {
   "cell_type": "code",
   "execution_count": 52,
   "metadata": {},
   "outputs": [
    {
     "data": {
      "text/plain": [
       "[array([[3.4864905]], dtype=float32),\n",
       " array([[1.0742191]], dtype=float32),\n",
       " array([[0.3329714 , 0.3790229 , 0.28800574]], dtype=float32)]"
      ]
     },
     "execution_count": 52,
     "metadata": {},
     "output_type": "execute_result"
    }
   ],
   "source": [
    "pred = model.predict(new_data)\n",
    "pred"
   ]
  },
  {
   "cell_type": "code",
   "execution_count": 53,
   "metadata": {},
   "outputs": [
    {
     "name": "stdout",
     "output_type": "stream",
     "text": [
      "1.4 0.2 0\n"
     ]
    }
   ],
   "source": [
    "print(y1[0], y2[0], y3[0])"
   ]
  },
  {
   "cell_type": "code",
   "execution_count": null,
   "metadata": {},
   "outputs": [],
   "source": [
    "#엌ㅋㅋㅋ 다틀림ㅋㅋㅋㅋ loss가 높았기 때문에 그럴 수 있음\n",
    "#오히려 좋아(?)"
   ]
  },
  {
   "cell_type": "markdown",
   "metadata": {},
   "source": [
    "## 다중 입력 모델\n",
    "- 가정 \n",
    "    - IRIS 꽃 데이터 + 꽃의 사진을 입력해서 꽃의 종류를 예측한다.\n",
    "- X: 꽃 데이터, 꽃 사진\n",
    "- y: 꽃 종류"
   ]
  },
  {
   "cell_type": "code",
   "execution_count": 55,
   "metadata": {},
   "outputs": [],
   "source": [
    "X, y = load_iris(return_X_y = True)\n"
   ]
  },
  {
   "cell_type": "code",
   "execution_count": 59,
   "metadata": {},
   "outputs": [
    {
     "data": {
      "text/plain": [
       "((60000, 28, 28), (150, 28, 28))"
      ]
     },
     "execution_count": 59,
     "metadata": {},
     "output_type": "execute_result"
    }
   ],
   "source": [
    "#iris 사진 대신 mnist 사진을 사용\n",
    "(X_train, _), (_, _) = keras.datasets.mnist.load_data() \n",
    "\n",
    "X_img = X_train[:150]\n",
    "X_train.shape, X_img.shape"
   ]
  },
  {
   "cell_type": "code",
   "execution_count": 60,
   "metadata": {},
   "outputs": [],
   "source": [
    "# input을 2개 받는 모델 구현\n",
    "iris_info_tensor = layers.Input(shape = (4,)) #꽃정보 input\n",
    "x1 = layers.Dense(units=32, activation='relu')(iris_info_tensor)\n",
    "x1 = layers.Dense(units=16, activation='relu')(x1)\n",
    "\n",
    "iris_img_tensor = layers.Input(shape = (28,28,1))\n",
    "x2 = layers.Conv2D(filters=32, kernel_size=3, padding='same', activation='relu')(iris_img_tensor)\n",
    "x2 = layers.Conv2D(filters=32, kernel_size=3, padding='same', activation='relu')(x2)\n",
    "x2 = layers.MaxPooling2D(padding='same')(x2)\n",
    "\n",
    "x3 = layers.Conv2D(filters=64, kernel_size=3, padding='same', activation='relu')(x2)\n",
    "x3 = layers.Conv2D(filters=64, kernel_size=3, padding='same', activation='relu')(x3)\n",
    "x3 = layers.MaxPooling2D(padding='same')(x3)\n",
    "x3 = layers.GlobalAveragePooling2D()(x3)\n",
    "\n",
    "# x1, x3를 합치기 - info, img 두개 정보를 합치는 것\n",
    "x4 = layers.concatenate([x1, x3])\n",
    "\n",
    "output_tensor = layers.Dense(units=3, activation='softmax')(x4)\n",
    "\n",
    "model = models.Model([iris_info_tensor, iris_img_tensor], output_tensor)\n"
   ]
  },
  {
   "cell_type": "code",
   "execution_count": 61,
   "metadata": {},
   "outputs": [
    {
     "name": "stdout",
     "output_type": "stream",
     "text": [
      "Model: \"model_7\"\n",
      "__________________________________________________________________________________________________\n",
      "Layer (type)                    Output Shape         Param #     Connected to                     \n",
      "==================================================================================================\n",
      "input_24 (InputLayer)           [(None, 28, 28, 1)]  0                                            \n",
      "__________________________________________________________________________________________________\n",
      "conv2d_28 (Conv2D)              (None, 28, 28, 32)   320         input_24[0][0]                   \n",
      "__________________________________________________________________________________________________\n",
      "conv2d_29 (Conv2D)              (None, 28, 28, 32)   9248        conv2d_28[0][0]                  \n",
      "__________________________________________________________________________________________________\n",
      "max_pooling2d_9 (MaxPooling2D)  (None, 14, 14, 32)   0           conv2d_29[0][0]                  \n",
      "__________________________________________________________________________________________________\n",
      "conv2d_30 (Conv2D)              (None, 14, 14, 64)   18496       max_pooling2d_9[0][0]            \n",
      "__________________________________________________________________________________________________\n",
      "input_23 (InputLayer)           [(None, 4)]          0                                            \n",
      "__________________________________________________________________________________________________\n",
      "conv2d_31 (Conv2D)              (None, 14, 14, 64)   36928       conv2d_30[0][0]                  \n",
      "__________________________________________________________________________________________________\n",
      "dense_14 (Dense)                (None, 32)           160         input_23[0][0]                   \n",
      "__________________________________________________________________________________________________\n",
      "max_pooling2d_10 (MaxPooling2D) (None, 7, 7, 64)     0           conv2d_31[0][0]                  \n",
      "__________________________________________________________________________________________________\n",
      "dense_15 (Dense)                (None, 16)           528         dense_14[0][0]                   \n",
      "__________________________________________________________________________________________________\n",
      "global_average_pooling2d_3 (Glo (None, 64)           0           max_pooling2d_10[0][0]           \n",
      "__________________________________________________________________________________________________\n",
      "concatenate (Concatenate)       (None, 80)           0           dense_15[0][0]                   \n",
      "                                                                 global_average_pooling2d_3[0][0] \n",
      "__________________________________________________________________________________________________\n",
      "dense_16 (Dense)                (None, 3)            243         concatenate[0][0]                \n",
      "==================================================================================================\n",
      "Total params: 65,923\n",
      "Trainable params: 65,923\n",
      "Non-trainable params: 0\n",
      "__________________________________________________________________________________________________\n"
     ]
    }
   ],
   "source": [
    "model.summary()"
   ]
  },
  {
   "cell_type": "code",
   "execution_count": 62,
   "metadata": {},
   "outputs": [
    {
     "data": {
      "image/png": "[encoded data removed]",
      "text/plain": [
       "<IPython.core.display.Image object>"
      ]
     },
     "execution_count": 62,
     "metadata": {},
     "output_type": "execute_result"
    }
   ],
   "source": [
    "keras.utils.plot_model(model, show_shapes=True)"
   ]
  },
  {
   "cell_type": "code",
   "execution_count": 63,
   "metadata": {},
   "outputs": [],
   "source": [
    "model.compile(optimizer='adam', loss = 'sparse_categorical_crossentropy', metrics=['accuracy'])\n"
   ]
  },
  {
   "cell_type": "code",
   "execution_count": 65,
   "metadata": {},
   "outputs": [
    {
     "data": {
      "text/plain": [
       "<TensorSliceDataset shapes: (((4,), (28, 28)), ()), types: ((tf.float64, tf.uint8), tf.int32)>"
      ]
     },
     "execution_count": 65,
     "metadata": {},
     "output_type": "execute_result"
    }
   ],
   "source": [
    "tf.data.Dataset.from_tensor_slices(((X, X_img), y))"
   ]
  },
  {
   "cell_type": "code",
   "execution_count": null,
   "metadata": {},
   "outputs": [],
   "source": []
  }
 ],
 "metadata": {
  "kernelspec": {
   "display_name": "Python 3 (ipykernel)",
   "language": "python",
   "name": "python3"
  },
  "language_info": {
   "codemirror_mode": {
    "name": "ipython",
    "version": 3
   },
   "file_extension": ".py",
   "mimetype": "text/x-python",
   "name": "python",
   "nbconvert_exporter": "python",
   "pygments_lexer": "ipython3",
   "version": "3.8.11"
  },
  "toc": {
   "base_numbering": 1,
   "nav_menu": {},
   "number_sections": true,
   "sideBar": true,
   "skip_h1_title": false,
   "title_cell": "Table of Contents",
   "title_sidebar": "Contents",
   "toc_cell": false,
   "toc_position": {},
   "toc_section_display": true,
   "toc_window_display": false
  },
  "varInspector": {
   "cols": {
    "lenName": 16,
    "lenType": 16,
    "lenVar": 40
   },
   "kernels_config": {
    "python": {
     "delete_cmd_postfix": "",
     "delete_cmd_prefix": "del ",
     "library": "var_list.py",
     "varRefreshCmd": "print(var_dic_list())"
    },
    "r": {
     "delete_cmd_postfix": ") ",
     "delete_cmd_prefix": "rm(",
     "library": "var_list.r",
     "varRefreshCmd": "cat(var_dic_list()) "
    }
   },
   "types_to_exclude": [
    "module",
    "function",
    "builtin_function_or_method",
    "instance",
    "_Feature"
   ],
   "window_display": false
  }
 },
 "nbformat": 4,
 "nbformat_minor": 4
}
